{
 "cells": [
  {
   "cell_type": "markdown",
   "metadata": {
    "id": "o5Dr14gaiaOp"
   },
   "source": [
    "# IEOR 4157 Fall 2020 Final Report\n",
    "- Hu, Bo (uni: bh2569)\n",
    "- Qin, Rui (uni: rq217)\n",
    "- Yuan, Shuibenyang (uni: sy2938)"
   ]
  },
  {
   "cell_type": "markdown",
   "metadata": {
    "id": "PmfR3rJJjDLf"
   },
   "source": [
    "## The Environments\n",
    "\n",
    "Enviroment setup"
   ]
  },
  {
   "cell_type": "code",
   "execution_count": 1,
   "metadata": {
    "colab": {
     "base_uri": "https://localhost:8080/"
    },
    "id": "2k-RS4U2TDML",
    "outputId": "ab9ff1cb-8f10-4bce-9fb9-160ce38da32a"
   },
   "outputs": [],
   "source": [
    "import os\n",
    "repo_name = 'final-project-qrdecomposition_final'\n",
    "data_path = '../downloads'\n",
    "\n",
    "if not os.path.isdir(data_path):\n",
    "    os.mkdir(data_path)"
   ]
  },
  {
   "cell_type": "markdown",
   "metadata": {
    "id": "kY2BaAjx45ot"
   },
   "source": [
    "### Download Movielens-latest"
   ]
  },
  {
   "cell_type": "code",
   "execution_count": 3,
   "metadata": {
    "id": "S9zxt9I94YHy"
   },
   "outputs": [],
   "source": [
    "# import requests, zipfile, io\n",
    "# url = \"http://files.grouplens.org/datasets/movielens/ml-latest.zip\"\n",
    "# r = requests.get(url)\n",
    "# with zipfile.ZipFile(io.BytesIO(r.content)) as zf:\n",
    "#     for zip_info in zf.infolist():\n",
    "#         if zip_info.filename[-1] == '/':\n",
    "#             continue\n",
    "#         zip_info.filename = os.path.basename(zip_info.filename)\n",
    "#         zf.extract(zip_info, data_path)"
   ]
  },
  {
   "cell_type": "code",
   "execution_count": 4,
   "metadata": {},
   "outputs": [],
   "source": [
    "movie_info_path = '../data/movies.csv'\n",
    "!cp $movie_info_path $data_path"
   ]
  },
  {
   "cell_type": "code",
   "execution_count": 5,
   "metadata": {
    "colab": {
     "base_uri": "https://localhost:8080/"
    },
    "id": "5wUZE7TP5lo6",
    "outputId": "0ce64539-fa96-4538-8dcc-86d9e117ebb0"
   },
   "outputs": [
    {
     "name": "stdout",
     "output_type": "stream",
     "text": [
      "\u001b[34mmodel_results\u001b[m\u001b[m movies.csv    \u001b[34msamples\u001b[m\u001b[m\r\n"
     ]
    }
   ],
   "source": [
    "#sanity check for downloaded files\n",
    "!ls $data_path"
   ]
  },
  {
   "cell_type": "markdown",
   "metadata": {
    "id": "cMy27vgN3Lub"
   },
   "source": [
    "### Import Libararies"
   ]
  },
  {
   "cell_type": "code",
   "execution_count": 52,
   "metadata": {
    "id": "BmpezFnrTGxg"
   },
   "outputs": [
    {
     "name": "stdout",
     "output_type": "stream",
     "text": [
      "cpu 1.6.0\n"
     ]
    }
   ],
   "source": [
    "###utilities\n",
    "from tqdm import tqdm\n",
    "import time\n",
    "import warnings\n",
    "warnings.filterwarnings(\"ignore\")\n",
    "\n",
    "###pyspark dependencies\n",
    "from pyspark.sql import SparkSession\n",
    "import pyspark.ml as M\n",
    "import pyspark.sql.functions as F\n",
    "import pyspark.sql.window as W\n",
    "import pyspark.sql.types as T\n",
    "from pyspark.ml.recommendation import ALS\n",
    "\n",
    "###numpy,scipy,pandas,sklearn stacks\n",
    "from scipy import sparse\n",
    "import pandas as pd\n",
    "import numpy as np\n",
    "from sklearn.feature_extraction.text import CountVectorizer\n",
    "from sklearn.compose import ColumnTransformer\n",
    "from sklearn.preprocessing import FunctionTransformer\n",
    "from sklearn.pipeline import Pipeline\n",
    "import matplotlib.pyplot as plt\n",
    "#plt env\n",
    "fig_size = plt.rcParams[\"figure.figsize\"]\n",
    "fig_size[0] = 12\n",
    "fig_size[1] = 10\n",
    "plt.rcParams[\"figure.figsize\"] = fig_size\n",
    "\n",
    "###torch stacks\n",
    "import torch\n",
    "from torch import nn\n",
    "from pytorch_widedeep.preprocessing import DensePreprocessor\n",
    "from pytorch_widedeep.callbacks import (\n",
    "    LRHistory,\n",
    "    EarlyStopping,\n",
    "    ModelCheckpoint,\n",
    ")\n",
    "from pytorch_widedeep.optim import RAdam\n",
    "from pytorch_widedeep.initializers import XavierNormal, KaimingNormal\n",
    "from pytorch_widedeep.models import Wide, DeepDense, WideDeep\n",
    "use_cuda = torch.cuda.is_available()\n",
    "device = torch.device(\"cuda\" if use_cuda else \"cpu\")\n",
    "print(device, torch.__version__)"
   ]
  },
  {
   "cell_type": "markdown",
   "metadata": {
    "id": "wwIdrFTI3PtE"
   },
   "source": [
    "### Initiate Spark Session"
   ]
  },
  {
   "cell_type": "code",
   "execution_count": 7,
   "metadata": {
    "id": "Yp9DPFjCqHd8"
   },
   "outputs": [
    {
     "name": "stdout",
     "output_type": "stream",
     "text": [
      "Spark UI address http://127.0.0.1:4040\n"
     ]
    }
   ],
   "source": [
    "# os.environ[\"JAVA_HOME\"] = \"/datasets/home/65/965/yux164/.jdk/jdk-11.0.9.1+1\" #for java path\n",
    "import psutil\n",
    "from pyspark.sql import SparkSession\n",
    "from pyspark import SparkContext, SparkConf\n",
    "NUM_WORKER = psutil.cpu_count(logical = False)\n",
    "NUM_THREAD = psutil.cpu_count(logical = True)\n",
    "def spark_session():\n",
    "    \"\"\"[function for creating spark session]\n",
    "\n",
    "    Returns:\n",
    "        [Spark Session]: [the spark session]\n",
    "    \"\"\"    \n",
    "    conf_spark = SparkConf().set(\"spark.driver.host\", \"127.0.0.1\")\\\n",
    "                            .set(\"spark.executor.instances\", NUM_WORKER)\\\n",
    "                            .set(\"spark.executor.cores\", int(NUM_THREAD / NUM_WORKER))\\\n",
    "                            .set(\"spark.executor.memory\", '4g')\\\n",
    "                            .set(\"spark.sql.shuffle.partitions\", NUM_THREAD)\n",
    "    sc = SparkContext(conf = conf_spark)\n",
    "    sc.setLogLevel('ERROR')\n",
    "    spark = SparkSession(sc)\n",
    "    print('Spark UI address {}'.format(spark.sparkContext.uiWebUrl))\n",
    "    return spark\n",
    "\n",
    "spark = spark_session()"
   ]
  },
  {
   "cell_type": "markdown",
   "metadata": {
    "id": "yIfnVDADoxWj"
   },
   "source": [
    "## The Objective"
   ]
  },
  {
   "cell_type": "markdown",
   "metadata": {
    "id": "twB3Ovyd1KlU"
   },
   "source": [
    "### Objective function\n",
    "\n",
    "Our team's business mainly focuses on how to provide general users movies that they like. There are so many movies come out every year, but people won't watch all of them. Our business goal is to provide personalized movies that just fit for you. Once you think our services fit your taste, we could provide you even more novel movies, shows, or tv series by subscription to our website. We hope our technology could ultimately benefit each individual and push the entertainment industry forward."
   ]
  },
  {
   "cell_type": "markdown",
   "metadata": {
    "id": "z7EAItWk1L3x"
   },
   "source": [
    "### Intended users\n",
    "The recommendation system is created for the general audience so that everyone who enjoys movies benefits from our website."
   ]
  },
  {
   "cell_type": "markdown",
   "metadata": {
    "id": "fc65s6TD1OlN"
   },
   "source": [
    "### Business rules\n",
    "In order to keep the user entertained rather than only focusing on what they already know, one business rule we came up with is to include at least two different genres when recommending k movies even though the predicted rating might be low. We would love our users to explore things that they would really want to try but haven't had chance to try yet. Compare to other recommendation system, the advantage of ours is we aim for not only the accuracy but also the spirit of exploration and curiosity."
   ]
  },
  {
   "cell_type": "markdown",
   "metadata": {
    "id": "m1urqXVZ1UAm"
   },
   "source": [
    "### Performance requirements\n",
    "For performance, we would like to serve the online queries in real time. For model based algorithms, it’s fine to train it offline and then serve the model online. We will update our database regularly so that our model is the most recent one. For this homework, we did not expand our scope on serving in real time. Everything we done was in an offline setting."
   ]
  },
  {
   "cell_type": "markdown",
   "metadata": {
    "id": "Uqvg-vcX1V35"
   },
   "source": [
    "### Interpretability\n",
    "In order to interpret models better and also to serve our subscribed users better (getting to know their behaviours and interests more), we decide to make the matrix factorization algorithm to only produce non-negative matrices. In that case, we would be able to identify some elements that are important for the algorithm to learn users’ behaviours (higher value in the matrices would produce higher ratings). For the more sophisticated model (wide and deep), if possible later on, we want to try to study and understand the users behaviours through the embeddings by the neural network."
   ]
  },
  {
   "cell_type": "markdown",
   "metadata": {
    "id": "Fk_4OlS-pMTC"
   },
   "source": [
    "## The Data\n"
   ]
  },
  {
   "cell_type": "markdown",
   "metadata": {
    "id": "KB-fqhU0re-Q"
   },
   "source": [
    "### Sample\n",
    "\n",
    "We will first test our model on the sample of Movielens-ml-latest in homework2.\n",
    "\n",
    "**sampling methodology**\n",
    "\n",
    "We perform sampling w.r.t Conditional Matrix Sampling, in which, we will sample the matrix of $M$ user indices and $N$ movie indices filtering out users who do not have at least $i$ ratings and movies which do not have at least $j$ ratings. If numbers of users and movies do not meet the minimal requirements $M$ and $N$, we will keep sampling process with increased number of matrix indices for both users and movies until users and movies meet minimal requirements $M$ and $N$.\n",
    "\n",
    "In our case, we choose M = 20000, N = 2000, i = 100, j = 1000. 20000 users, 2000 movies, a user should at least rate 100 movies and a movie should be at least rated 1000 times. We choose a more dense matrix than homework 2 because of we need a ground truth of recommendation when we evaluate our model. That is, the base model selects 50 items to recommend, then in our test set, on average each user should have 50 items or more rated then we can evaluate our model based on the test set. "
   ]
  },
  {
   "cell_type": "code",
   "execution_count": 8,
   "metadata": {
    "id": "q75WRyZSdpRg"
   },
   "outputs": [],
   "source": [
    "#running this cell takes over minutes\n",
    "def sampling(ratings,\n",
    "            num_user, \n",
    "            num_item, \n",
    "            user_threshold, \n",
    "            item_threshold, \n",
    "            random_seed,\n",
    "            userCol='userId', \n",
    "            itemCol='movieId',\n",
    "            timeCol = 'timestamp',\n",
    "            targetCol='rating'):\n",
    "    \"\"\"[method to generating sample from BIG dataset]\n",
    "\n",
    "    Args:\n",
    "        ratings (Pyspark DataFrame): [the BIG dataset]\n",
    "        num_user (int): [the number of users needs to have in the sample]\n",
    "        num_item (int): [the number of items needs to have in the sample]\n",
    "        user_threshold (int): [the number of ratings a user needs to have]\n",
    "        item_threshold (int): [the number of ratings a movie needs to have]\n",
    "        random_seed (int): [random seed of random sample]\n",
    "        userCol (str, optional): [user column name]. Defaults to 'userId'.\n",
    "        itemCol (str, optional): [item column name]. Defaults to 'movieId'.\n",
    "        timeCol (str, optional): [timesampe column name]. Defaults to 'timestamp'.\n",
    "        targetCol (str, optional): [rating/target column name]. Defaults to 'rating'.\n",
    "\n",
    "    Returns:\n",
    "        Pyspark DataFrame: [the sample]\n",
    "    \"\"\"    \n",
    "    n_users, n_items = 0, 0\n",
    "    M, N = num_item, num_user\n",
    "    while n_users < num_user and n_items < num_item:\n",
    "        movieid_filter = ratings.groupby(itemCol)\\\n",
    "            .agg(F.count(userCol)\\\n",
    "            .alias('cnt'))\\\n",
    "            .where(F.col('cnt') >= item_threshold)\\\n",
    "            .select(itemCol)\\\n",
    "            .orderBy(F.rand(seed=random_seed))\\\n",
    "            .limit(M)\n",
    "        sample = ratings.join(movieid_filter,\n",
    "                                ratings[itemCol] == movieid_filter[itemCol])\\\n",
    "                            .select(ratings[userCol], ratings[itemCol], ratings[timeCol], ratings[targetCol])\n",
    "        userid_filter = sample.groupby(userCol)\\\n",
    "                        .agg(F.count(itemCol)\\\n",
    "                        .alias('cnt'))\\\n",
    "                        .where(F.col('cnt') >= user_threshold)\\\n",
    "                        .select(userCol)\\\n",
    "                        .orderBy(F.rand(seed=random_seed))\\\n",
    "                        .limit(N)\n",
    "        sample = sample.join(userid_filter,\n",
    "                                ratings[userCol] == userid_filter[userCol])\\\n",
    "                            .select(ratings[userCol], ratings[itemCol], ratings[timeCol], ratings[targetCol]).persist()\n",
    "        n_users, n_items = sample.select(userCol).distinct().count(), sample.select(itemCol).distinct().count()\n",
    "        print(f'sample has {n_users} users and {n_items} items')\n",
    "        M += 100\n",
    "        N += 100\n",
    "    return sample\n"
   ]
  },
  {
   "cell_type": "markdown",
   "metadata": {},
   "source": [
    "how we generate our sample\n",
    "\n",
    "```python\n",
    "num_user = 20000\n",
    "num_movie = 2000\n",
    "user_threshold = 100\n",
    "item_threshold = 1000\n",
    "random_seed = 0\n",
    "ratings = spark.read.csv(os.path.join(data_path,'ratings.csv'), header=True)\n",
    "sample = sampling(ratings,num_user, num_movie, user_threshold, item_threshold, random_seed)\n",
    "# save sample data to '/data/sample.csv'\n",
    "sample = sample.persist()\n",
    "sample.toPandas().to_csv(os.path.join(data_path, 'sample.csv'), index = False)\n",
    "```"
   ]
  },
  {
   "cell_type": "code",
   "execution_count": 9,
   "metadata": {},
   "outputs": [
    {
     "name": "stdout",
     "output_type": "stream",
     "text": [
      "x samples/\n",
      "x samples/sample_train.csv\n",
      "x samples/sample.csv\n",
      "x samples/sample_test.csv\n",
      "\u001b[34mmodel_results\u001b[m\u001b[m movies.csv    \u001b[34msamples\u001b[m\u001b[m\n"
     ]
    }
   ],
   "source": [
    "#load sample from local path\n",
    "compressed_sample_path = '../data/sample.tar.gz'\n",
    "!tar -xzvf $compressed_sample_path -C $data_path\n",
    "!ls $data_path\n",
    "\n",
    "sample_path = os.path.join(data_path, 'samples', 'sample.csv')\n",
    "sample = spark.read.csv(sample_path, header=True).select('userId', 'movieId', 'rating').persist()\n",
    "sample_df = pd.read_csv(sample_path).drop('timestamp', axis = 1)"
   ]
  },
  {
   "cell_type": "code",
   "execution_count": 10,
   "metadata": {
    "id": "X72p-AB4DUtW"
   },
   "outputs": [
    {
     "name": "stdout",
     "output_type": "stream",
     "text": [
      "+------+-------+------+\n",
      "|userId|movieId|rating|\n",
      "+------+-------+------+\n",
      "|     4|      1|   4.0|\n",
      "|     4|      5|   2.0|\n",
      "|     4|      6|   4.5|\n",
      "|     4|     10|   4.0|\n",
      "|     4|     11|   3.5|\n",
      "|     4|     20|   2.5|\n",
      "|     4|     23|   3.0|\n",
      "|     4|     31|   3.0|\n",
      "|     4|     32|   4.5|\n",
      "|     4|     44|   1.0|\n",
      "+------+-------+------+\n",
      "only showing top 10 rows\n",
      "\n"
     ]
    }
   ],
   "source": [
    "#sanity check for sample\n",
    "sample.show(10)"
   ]
  },
  {
   "cell_type": "markdown",
   "metadata": {
    "id": "1FtoZYiJraho"
   },
   "source": [
    "### sample overview\n",
    "\n"
   ]
  },
  {
   "cell_type": "code",
   "execution_count": 11,
   "metadata": {
    "colab": {
     "base_uri": "https://localhost:8080/"
    },
    "id": "j-24Vb_rq3X7",
    "outputId": "8d91de43-c282-4ab1-8bda-91f1c8623f31"
   },
   "outputs": [
    {
     "name": "stdout",
     "output_type": "stream",
     "text": [
      "\n",
      "number of data points in the sample: 4340404,\n",
      "number of unique users in the sample: 20000,\n",
      "number of unique movies in the sample: 2000,\n",
      "average number of movies a user rated:217.02,\n",
      "average number of ratings a movie received: 2170.20,\n",
      "average rating: 3.46,\n",
      "standard deviation of rating: 1.04,\n",
      "average rating by user: 3.53,\n",
      "standard deviation of rating by user mean: 0.44,\n",
      "average rating by movie: 3.31,\n",
      "standard deviation of rating by movie mean: 0.50\n",
      "        \n"
     ]
    }
   ],
   "source": [
    "print(f'''\n",
    "number of data points in the sample: {sample.count()},\n",
    "number of unique users in the sample: {sample.select('userId').distinct().count()},\n",
    "number of unique movies in the sample: {sample.select('movieId').distinct().count()},\n",
    "average number of movies a user rated:{sample.groupby('userId').agg(F.count('movieId').alias('cnt')).select(F.mean('cnt')).collect()[0][0]:.2f},\n",
    "average number of ratings a movie received: {sample.groupby('movieId').agg(F.count('userId').alias('cnt')).select(F.mean('cnt')).collect()[0][0]:.2f},\n",
    "average rating: {sample.select(F.mean('rating')).collect()[0][0]:.2f},\n",
    "standard deviation of rating: {sample.select(F.stddev('rating')).collect()[0][0]:.2f},\n",
    "average rating by user: {sample.groupby('userId').agg(F.mean('rating').alias('rating')).select(F.mean('rating')).collect()[0][0]:.2f},\n",
    "standard deviation of rating by user mean: {sample.groupby('userId').agg(F.mean('rating').alias('rating')).select(F.stddev('rating')).collect()[0][0]:.2f},\n",
    "average rating by movie: {sample.groupby('movieId').agg(F.mean('rating').alias('rating')).select(F.mean('rating')).collect()[0][0]:.2f},\n",
    "standard deviation of rating by movie mean: {sample.groupby('movieId').agg(F.mean('rating').alias('rating')).select(F.stddev('rating')).collect()[0][0]:.2f}\n",
    "        ''')"
   ]
  },
  {
   "cell_type": "markdown",
   "metadata": {
    "id": "L8UBpsFnjQq4"
   },
   "source": [
    "## The Evaluation"
   ]
  },
  {
   "cell_type": "markdown",
   "metadata": {
    "id": "7Rm4PyxhlEsn"
   },
   "source": [
    "### Metrics\n"
   ]
  },
  {
   "cell_type": "markdown",
   "metadata": {
    "id": "W2eD8HHPm4wN"
   },
   "source": [
    "#### Root Mean Square Error (RMSE)\n",
    "$RMSE = \\sqrt{\\frac{(\\hat{y}-y)^2}{n}}$.\n",
    "RMSE explains on average how far is our predictions of ratings from the real ratings. One of our strategies is we trained our models to reduce this distance as much as possible using a loss very similar to RMSE which is called Mean Squared Error. RMSE is better for presentation purposes because it has the same unit as our original target."
   ]
  },
  {
   "cell_type": "code",
   "execution_count": 12,
   "metadata": {
    "id": "XKdCE47JnVV4"
   },
   "outputs": [],
   "source": [
    "def rmse(with_pred_df, rating_col_name = \"rating\", pred_col_name = \"prediction\"):\n",
    "    \"\"\"[calculate rmse of the prediction]\n",
    "    Args:\n",
    "        with_pred_df (Pyspark DataFrame): [Pyspark DataFrame with target and prediction columns]\n",
    "        rating_col_name (str, optional): [column of true values]. Defaults to \"rating\".\n",
    "        pred_col_name (str, optional): [column of prediction values]. Defaults to \"prediction\".\n",
    "    Returns:\n",
    "        flaot: [rmse]\n",
    "    \"\"\"\n",
    "    return with_pred_df.select(F.sqrt(F.sum((F.col(rating_col_name) - \\\n",
    "                        F.col(pred_col_name))**2)/F.count(rating_col_name))).collect()[0][0]\n",
    "\n",
    "from sklearn.metrics import mean_squared_error\n",
    "def rmse_numpy(true, pred):\n",
    "    return np.sqrt(mean_squared_error(true, pred))"
   ]
  },
  {
   "cell_type": "markdown",
   "metadata": {
    "id": "8VenF4GrnBf4"
   },
   "source": [
    "#### Accuracy \n",
    "We define user rates a movie with scoring larger or equal to 3 as good and smaller to 3 as bad. Accuracy explains the percentage of ratings that our model generated are agreed with what the true ratings users gave."
   ]
  },
  {
   "cell_type": "code",
   "execution_count": 13,
   "metadata": {
    "id": "ftFnkjfSnWUG"
   },
   "outputs": [],
   "source": [
    "def acc(with_pred_df, rating_col_name = \"rating\", pred_col_name = \"prediction\"):\n",
    "    \"\"\"[calculate rmse of the prediction]\n",
    "    Args:\n",
    "        with_pred_df (Pyspark DataFrame): [Pyspark DataFrame with target and prediction columns]\n",
    "        rating_col_name (str, optional): [column of true values]. Defaults to \"rating\".\n",
    "        pred_col_name (str, optional): [column of prediction values]. Defaults to \"prediction\".\n",
    "    Returns:\n",
    "        float: [accuracy]\n",
    "    \"\"\"\n",
    "    TP = ((F.col(rating_col_name) >= 3) & (F.col(pred_col_name) >= 3))\n",
    "    TN = ((F.col(rating_col_name) < 3) & (F.col(pred_col_name) < 3))\n",
    "    correct = with_pred_df.filter(TP | TN)\n",
    "    return correct.count() / with_pred_df.count()\n",
    "\n",
    "from sklearn.metrics import accuracy_score\n",
    "\n",
    "def acc_numpy(true, pred):\n",
    "    return accuracy_score((true >=3), (pred >= 3))\n"
   ]
  },
  {
   "cell_type": "markdown",
   "metadata": {
    "id": "BlL2PgC23ocb"
   },
   "source": [
    "#### Recall\n",
    "\n",
    "We will adopt `Recall` as a metric when we choose our base model. This is another strategies that differentiate our system from others' and this metric also serves the purpose of our business goals. We optimize this metric because we would like to give users better experience by letting the model make more correct receommendations that the users truly like.\n",
    "\n",
    "The recall is the ratio `tp / (tp + fn)` where `tp` is the number of true positives and `fn` the number of false negatives. The recall is intuitively the ability of the classifier to find all the positive samples. In our case, we set the ratings larger or equal to 3 as positive instances and ratings smaller than 3 as negative instances. "
   ]
  },
  {
   "cell_type": "code",
   "execution_count": 14,
   "metadata": {
    "id": "q0Wt5WbL4JdP"
   },
   "outputs": [],
   "source": [
    "def recall(with_pred_df, rating_col_name = \"rating\", pred_col_name = \"prediction\"):\n",
    "    TP = with_pred_df.filter((F.col(rating_col_name) >= 3) & (F.col(pred_col_name) >= 3)).count()\n",
    "    FN = with_pred_df.filter((F.col(rating_col_name) >= 3) & (F.col(pred_col_name) < 3)).count()\n",
    "    return TP / (TP + FN)\n",
    "\n",
    "from sklearn.metrics import recall_score\n",
    "\n",
    "def recall_numpy(true, pred):\n",
    "    return recall_score((true >=3), (pred >= 3))"
   ]
  },
  {
   "cell_type": "markdown",
   "metadata": {
    "id": "rCtwRTT4nMGL"
   },
   "source": [
    "#### AUC and ROC curve\n",
    "ROC examines the True positive rate vs. False positive rate. This measure gives us some understanding about the model on the recall as well. Beside recall, this measure also indicates how's our recall and false alarm (in this case, recommending bad movies but the model thinks is good to users) moves interactively.\n",
    "\n",
    "AUC calculates the area under the ROC curve, which provide us a single scalar value to quantify."
   ]
  },
  {
   "cell_type": "code",
   "execution_count": 15,
   "metadata": {
    "id": "vn6o8FWenafu"
   },
   "outputs": [],
   "source": [
    "import matplotlib.pyplot as plt\n",
    "from sklearn.metrics import roc_curve, auc\n",
    "from seaborn import set_style,set_palette\n",
    "\n",
    "def ROC(pred,truth):\n",
    "    \"\"\"\n",
    "    given prediction and groundtruth labels, computes false positive\n",
    "    rate and true positive rate\n",
    "    \"\"\"\n",
    "    fpr, tpr, threshold = roc_curve(truth, pred)\n",
    "    if auc(fpr,tpr)<0.5:\n",
    "        fpr, tpr, threshold = roc_curve(truth, pred)\n",
    "\n",
    "    return fpr,tpr\n",
    "\n",
    "def _plot_ROC(auc_dict:dict):\n",
    "    \"\"\"\n",
    "    plot ROC curves for the models in the provided dictionary\n",
    "    @param auc_dict: a dictionary containing names of the models and their\n",
    "    corresponding false positive rates and true positive rates\n",
    "    @param display: whether to display the image or to save file, default to False and save to file\n",
    "    @param fn: if display is False, fn will be used as the name to save the plot\n",
    "    \"\"\"\n",
    "    \n",
    "    # style setup to match with the rest of the report\n",
    "    set_style(\"darkgrid\")\n",
    "    set_palette(\"deep\")\n",
    "\n",
    "    for k in auc_dict.keys():\n",
    "        fpr,tpr=auc_dict[k]\n",
    "        plt.plot(fpr,tpr,lw=2.5,label=\"{}, AUC= {:.1f}%\".format(k,auc(fpr,tpr)*100))\n",
    "    plt.ylim(0,1)\n",
    "    plt.xlim(0,1)\n",
    "    plt.grid(True)\n",
    "    plt.legend(loc='upper left')\n",
    "    plt.plot([0,1],[0.001,1],'r--')\n",
    "    plt.tight_layout()\n",
    "\n",
    "\n",
    "def plot_ROC_numpy(true, preds, model_names):\n",
    "    plt.figure()\n",
    "    true_binary = true >= 3\n",
    "    for pred, model_name in zip(preds, model_names):\n",
    "        _plot_ROC({model_name: ROC(pred, true_binary)})\n",
    "    plt.show()"
   ]
  },
  {
   "cell_type": "markdown",
   "metadata": {
    "id": "BpK2J6uInPld"
   },
   "source": [
    "#### NDCG\n",
    "\n",
    "Normalized Discounted Cumulative Gain can be calculated as following: $NDCG = \\frac{DCG}{IDCG}$, where $DCG = \\frac{1}{m}\\sum{u=1}^{m} \\sum_{j \\in Iu}^{} \\frac{2^{rel{uj}} - 1}{log_2(v_j+1)}$ and $IDCG$ is the ideal DCG.\n",
    "\n",
    "In short explanation, NDCG would measure the quality of our recommended k movies for a user as a whole. It's a ranking quality measure. Compare to other metrics, this measure gives us a better understanding not only on individual movies but also how these movies are located on users perferences. If recommended movies are on user's top movies list, then we say the recommendation is good."
   ]
  },
  {
   "cell_type": "code",
   "execution_count": 16,
   "metadata": {
    "id": "SfGhCuI8nbmf"
   },
   "outputs": [],
   "source": [
    "from sklearn.metrics import ndcg_score\n",
    "\n",
    "def NDCG(rec,test):\n",
    "    \"\"\"\n",
    "    if ratings are equal, we choose dense rank.\n",
    "    \n",
    "    Args:\n",
    "        rec(pd.DataFrame): the model recommended movies and predictions for users in testset\n",
    "        sample(pd.DataFrame): the testset with user and ratings for movies\n",
    "    Return:\n",
    "        NDCG of this serie of recommendations on the users in test\n",
    "    \"\"\"\n",
    "    test_copy = test.copy(deep=True)\n",
    "    rec_copy = rec.copy(deep=True)\n",
    "    k = rec_copy.groupby('userId')['movieId'].count().unique()\n",
    "    if len(k) > 1:\n",
    "        print(\"not all users have same number of recommendations!\")\n",
    "        return -1\n",
    "    k = k[0]\n",
    "    # generate rank for each users of movies in test\n",
    "    test_copy['Rank'] = test_copy[['userId','rating']].groupby(\"userId\").rank(method='dense').squeeze()\n",
    "    test_copy = test_copy[[\"userId\",'movieId','Rank']]\n",
    "    # this would filter out any irrelavent movies using inner join with the testset\n",
    "    combine = pd.merge(left=test_copy,right=rec_copy,on=[\"userId\",\"movieId\"],how='inner')\n",
    "    combine = combine[['userId','Rank']]\n",
    "    combine['Rank/log2'] = combine.Rank.apply(lambda x:1/np.log2(x+1))\n",
    "    DCG = combine['Rank/log2'].sum() / combine.userId.nunique()\n",
    "    IDCG = sum([1/np.log2(i+1) for i in range(1,k+1)])\n",
    "    return DCG/IDCG\n"
   ]
  },
  {
   "cell_type": "markdown",
   "metadata": {
    "id": "82wOrRgqoBoX"
   },
   "source": [
    "### Train Test Split\n",
    "\n",
    "We perform train test split following splits based on every user's activities:\n",
    "- train, test : $75\\%, 25\\%$\n",
    "\n",
    "\n",
    "We only choose 75, 25 splits since scalibility of base models has already shown in hw2 and scalibility of deep learning model can be easility demonstrated (scaling through batch size)."
   ]
  },
  {
   "cell_type": "code",
   "execution_count": 17,
   "metadata": {
    "id": "GqHSeADIf02_"
   },
   "outputs": [],
   "source": [
    "def train_test_split(ratings, split, usercol='userId', itemcol='movieId', timecol='timestamp', targetcol='rating'):\n",
    "    \"\"\"[function to make train test split with respect to user activities]\n",
    "    Args:\n",
    "        ratings (Pyspark DataFrame): [the rating DataFrame to be splitted]\n",
    "        split (float): [proportion of training set]\n",
    "        usercol (str, optional): [user column name]. Defaults to 'userId'.\n",
    "        itemcol (str, optional): [item column name]. Defaults to 'movieId'.\n",
    "        timecol (str, optional): [timestamp column name]. Defaults to 'timestamp'.\n",
    "        targetcol (str, optional): [rating/target column name]. Defaults to 'rating'.\n",
    "    Returns:\n",
    "        [Pyspark DataFrame, PysparkDataFrame]: [description]\n",
    "    \"\"\"    \n",
    "    window = W.Window.partitionBy(ratings[usercol]).orderBy(ratings[timecol].desc())\n",
    "    ranked = ratings.select('*', F.rank().over(window).alias('rank'))\n",
    "    rating_count = ratings.groupby(usercol).agg(F.count(itemcol).alias('cnt'))\n",
    "    ranked = ranked.join(rating_count, ranked.userId == rating_count.userId)\\\n",
    "        .select(ranked[usercol], ranked[itemcol], ranked[targetcol], ranked.rank, rating_count.cnt)\n",
    "    ranked = ranked.withColumn('position', 1 - F.col('rank')/F.col('cnt'))\\\n",
    "        .select(usercol, itemcol,targetcol, 'position')\n",
    "    train = ranked.where(ranked.position < split).select(usercol, itemcol, targetcol)\n",
    "    test = ranked.where(ranked.position >= split).select(usercol, itemcol, targetcol)\n",
    "    return train, test\n"
   ]
  },
  {
   "cell_type": "markdown",
   "metadata": {},
   "source": [
    "how we split the data\n",
    "\n",
    "``` python\n",
    "\n",
    "sample_train, sample_test = train_test_split(sample, .75)\n",
    "sample_train, sample_test = sample_train.persist(), sample_test.persist()\n",
    "# save to 'data/'\n",
    "sample_train.toPandas().to_csv(os.path.join('../data', 'sample_train.csv'), index = False)\n",
    "sample_test.toPandas().to_csv(os.path.join('../data', 'sample_test.csv'), index = False)\n",
    "\n",
    "```"
   ]
  },
  {
   "cell_type": "code",
   "execution_count": 18,
   "metadata": {},
   "outputs": [],
   "source": [
    "# load from local files\n",
    "sample_train_path = os.path.join(data_path, 'samples', 'sample_train.csv')\n",
    "sample_test_path = os.path.join(data_path, 'samples', 'sample_test.csv')\n",
    "movie_path =  os.path.join(data_path, 'movies.csv')\n",
    "\n",
    "sample_train = spark.read.csv(sample_train_path, header=True)\n",
    "sample_test = spark.read.csv(sample_test_path, header=True)\n",
    "sample_train_df = pd.read_csv(sample_train_path)\n",
    "sample_test_df = pd.read_csv(sample_test_path)\n",
    "\n",
    "movies = spark.read.csv(movie_path, header=True)\n",
    "movies_df = pd.read_csv(movie_path)\n",
    "\n",
    "sample_df = sample_df.merge(movies_df)\n",
    "sample_train_df, sample_test_df = sample_train_df.merge(movies_df), sample_test_df.merge(movies_df)"
   ]
  },
  {
   "cell_type": "code",
   "execution_count": 19,
   "metadata": {
    "colab": {
     "base_uri": "https://localhost:8080/"
    },
    "id": "w9yRMzjaFRw3",
    "outputId": "792d685b-03a6-4d03-e149-0ea8d09ed28b"
   },
   "outputs": [
    {
     "name": "stdout",
     "output_type": "stream",
     "text": [
      "4340404 3255932 1084472\n",
      "(4340404, 5) (3255932, 5) (1084472, 5)\n"
     ]
    }
   ],
   "source": [
    "print(sample.count(), sample_train.count(), sample_test.count())\n",
    "\n",
    "print(sample_df.shape, sample_train_df.shape, sample_test_df.shape)"
   ]
  },
  {
   "cell_type": "markdown",
   "metadata": {
    "id": "_iGjEqpPsaHV"
   },
   "source": [
    "## The Model\n",
    "\n",
    "In our project, we choose Architechture A. The folloing image indicates our detailed pipeline of Model."
   ]
  },
  {
   "cell_type": "markdown",
   "metadata": {
    "id": "XyjT2GQ_S4QU"
   },
   "source": [
    "### Model Pipeline\n",
    "\n",
    "The model pipeline combines the models w.r.t graph below."
   ]
  },
  {
   "cell_type": "markdown",
   "metadata": {
    "id": "jEPdF6obxuKj"
   },
   "source": [
    "![pipeline.png](data:image/png;base64,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)"
   ]
  },
  {
   "cell_type": "code",
   "execution_count": 20,
   "metadata": {},
   "outputs": [],
   "source": [
    "def base_recommend(spark, \n",
    "                   base_model, \n",
    "                   cold_start_model, \n",
    "                   user_ids, \n",
    "                   movies, \n",
    "                   n,\n",
    "                   extra_features,\n",
    "                   user_id, \n",
    "                   item_id):\n",
    "    \n",
    "    userset = list(set(user_ids))\n",
    "    users = spark.createDataFrame(pd.DataFrame({base_model.userCol: userset}))\n",
    "    base_recommend = base_model.recommend(users, n).toPandas()\n",
    "    base_recommend = base_recommend.merge(movies, how='left')\n",
    "    base_recommend = base_recommend[[user_id, item_id] + extra_features]\n",
    "    base_recommend = base_recommend.astype({user_id: np.int64,\n",
    "                                            item_id: np.int64})\n",
    "    cold_start_users = set(user_ids) - set(base_recommend[user_id].tolist())\n",
    "    for user in cold_start_users:\n",
    "        cold_recommend = cold_start_model.recommend().toPandas().values.reshape(-1,)\n",
    "        user_lst = [user for _ in range(n)]\n",
    "        cold_recommendation = pd.DataFrame({user_id: user_lst, item_id: cold_recommend})\n",
    "        cold_recommendation = cold_recommendation.astype({user_id: np.int64,\n",
    "                                                        item_id: np.int64})\n",
    "        cold_recommendation = cold_recommendation.merge(movies, how='left')\n",
    "        cold_recommendation = cold_recommendation[[user_id, item_id] + extra_features]\n",
    "        base_recommend = base_recommend.append(cold_recommendation, ignore_index=True)\n",
    "    return base_recommend\n",
    "def advanced_recommend(advanced_recommender,\n",
    "                       base_recommend, \n",
    "                       k, \n",
    "                       user_id, \n",
    "                       item_id):\n",
    "    df = base_recommend.copy()\n",
    "    prediction = advanced_model.predict(df)\n",
    "    df['prediction'] = prediction\n",
    "    df = df.set_index(item_id).groupby(user_id).prediction\\\n",
    "        .apply(lambda x: x.sort_values(ascending=False)[:k]).reset_index()\n",
    "    return df\n",
    "\n",
    "def final_recommender(spark, \n",
    "                base_model, \n",
    "                cold_start_model, \n",
    "                advanced_recommender,\n",
    "                users,\n",
    "                movies,\n",
    "                n = 50,\n",
    "                k = 5,\n",
    "                user_id = 'userId',\n",
    "                item_id = 'movieId',\n",
    "                extra_features = ['genres']\n",
    "               ):\n",
    "    base_recommend_items  = base_recommend(spark, base_model, cold_start_model, users, movies, n, extra_features, user_id, item_id)\n",
    "    return advanced_recommend(advanced_recommender, base_recommend_items, k, user_id, item_id)"
   ]
  },
  {
   "cell_type": "markdown",
   "metadata": {
    "id": "uVfRGlivsjVp"
   },
   "source": [
    "### Base Algorithms\n",
    "\n",
    "We will choose a base algorithm from user based, item based, and model based (ALS) CF for our pipeline with consideration of the performance of their Recall and Inference Time (time to recommend). "
   ]
  },
  {
   "cell_type": "markdown",
   "metadata": {
    "id": "uHoV_1hsx1K9"
   },
   "source": [
    "#### Memory Based Collaborative Filtering\n",
    "\n",
    "**implementation details**\n",
    "\n",
    "The data first transformed into sparse matrix representation, (user by item) if user based and (item by user) if item based.\n",
    "\n",
    "The the prediction matrix $R$ is trained with following formula:\n",
    "\n",
    "$R$ is defined as $R_{i, j} = \\mu_i + \\frac{\\sum_{v\\in P_i(j)}S(i, v)\\cdot (r_{vj} - \\mu_v)}{\\sum_{v\\in P_i(j)}|S(i, v)|}$\n",
    "\n",
    "where $S$ is the Pearson Similarity Matrix\n",
    "\n",
    "$S$ is defined as $S_{u,v} = \\frac{\\sum_{k\\in I_u \\cap I_v}(r_{uk} - \\mu_u)(r_{vk} - \\mu_v)}{\\sqrt{\\sum_{k\\in I_u \\cap I_v}(r_{uk} - \\mu_u)^2}\\sqrt{\\sum_{k \\in I_u \\cap I_v}(r_{vk} - \\mu_v)^2}}$\n",
    "\n",
    "The algorithm is implemented with numpy array (for prediction) and scipy csr sparse matrix (for training). \n",
    "\n",
    "Every operation uses numpy matrix operations (aka. dot product, norm, etc) which optimizes the computational speed by trading off extra memories (for loop takes $\\approx 10$ minutes to train and matrix operations takes $\\approx 1$ minutes to train for our experimental sample in user based CF).\n",
    "\n",
    "**user based collabrative filtering** (todo, edit R)\n",
    "\n",
    "When R is (user by item) and S is (user by user), it is User Based Collabrative Filtering\n",
    "\n",
    "**item based collabrative filtering** (todo, edit R)\n",
    "\n",
    "When R is (item by user) and S is (item by item), it is Item Based Collabrative Filtering"
   ]
  },
  {
   "cell_type": "code",
   "execution_count": 21,
   "metadata": {
    "id": "aJQ5sCu7b-vQ"
   },
   "outputs": [],
   "source": [
    "class Memory_based_CF():\n",
    "    def __init__(self, spark, base, usercol='userId', itemcol='movieId', ratingcol='rating'):\n",
    "        \"\"\"[the memory based collabritive filtering model]\n",
    "        Args:\n",
    "            spark (Spark Session): [the current spark session]\n",
    "            base (str): [user base or item base]\n",
    "            usercol (str, optional): [user column name]. Defaults to 'userId'.\n",
    "            itemcol (str, optional): [item column name]. Defaults to 'movieId'.\n",
    "            ratingcol (str, optional): [rating/target column name]. Defaults to 'rating'.\n",
    "        \"\"\"        \n",
    "        self.base = base\n",
    "        self.usercol = usercol\n",
    "        self.itemcol = itemcol\n",
    "        self.ratingcol = ratingcol\n",
    "        self.spark = spark\n",
    "        self.X = None\n",
    "        self.idxer = None\n",
    "        self.similarity_matrix = None\n",
    "        self.prediction_matrix = None\n",
    "    def fit(self, _X):\n",
    "        \"\"\"[to train the model]\n",
    "        Args:\n",
    "            _X (Pyspark DataFrame): [the training set]\n",
    "        \"\"\"\n",
    "        X = self._preprocess(_X, True)\n",
    "        self.X = X\n",
    "        self.similarity_matrix = self._pearson_corr(X)\n",
    "        self.prediction_matrix = self._get_predict()\n",
    "        \n",
    "    def predict(self, _X):\n",
    "        \"\"\"[to predict based on trained model]\n",
    "        Args:\n",
    "            _X (Pyspark DataFrame): [the DataFrame needed to make prediction]\n",
    "        Returns:\n",
    "            [Pyspark DataFrame]: [the DataFrame with prediction column]\n",
    "        \"\"\"        \n",
    "        rows, cols = self._preprocess(_X, False)\n",
    "        preds = []\n",
    "        for i,j in zip(rows,cols):   \n",
    "            preds.append(self.prediction_matrix[i, j])\n",
    "        df = self.idxer.transform(_X).select(self.usercol, self.itemcol, self.ratingcol).toPandas()\n",
    "        df['prediction'] = preds\n",
    "        return self.spark.createDataFrame(df)\n",
    "\n",
    "    def recommend(self, X, numItem):\n",
    "        idices = self.idxer.u_indxer.transform(X).toPandas()['userId_idx'].values.astype(int)\n",
    "        items = np.asarray(np.argsort(self.prediction_matrix.T[idices, :])[:, -numItem:])\n",
    "        result = np.zeros((1, 3))\n",
    "        inverse_imat = pd.Series(self.idxer.i_indxer.labels)\n",
    "        inverse_umat = pd.Series(self.idxer.u_indxer.labels)\n",
    "        for u, i in zip(idices, items):\n",
    "            result = np.vstack((result, np.hstack((inverse_umat.iloc[np.array([u for _ in range(len(i))])].values.reshape(-1, 1),\n",
    "                                inverse_imat.iloc[i.reshape(-numItem,)].values.reshape(-1, 1), \n",
    "                                np.asarray(self.prediction_matrix.T[np.array([u for _ in range(len(i))]), i]).reshape(-1, 1)))))\n",
    "        df = pd.DataFrame(result[1:], columns = ['userId', 'movieId', 'prediction'])\n",
    "        return self.spark.createDataFrame(df)\n",
    "\n",
    "\n",
    "    def _preprocess(self, X, fit):\n",
    "        \"\"\"[preprocessing function before training and predicting]\n",
    "        Args:\n",
    "            X (Pyspark DataFrame): [training/predicting set]\n",
    "            fit (bool): [if it is on training stage or not]\n",
    "        Raises:\n",
    "            NotImplementedError: [if not User base or Item base]\n",
    "        Returns:\n",
    "            sparse.csr_matrix: [if on training stage],\n",
    "            numpy.array: [row and columns in np.array if on prediction stage]\n",
    "        \"\"\"        \n",
    "        if fit:\n",
    "            self.idxer = indexTransformer(self.usercol, self.itemcol)\n",
    "            self.idxer.fit(X)\n",
    "            _X = self.idxer.transform(X)\\\n",
    "                            .select(F.col(self.usercol+'_idx').alias(self.usercol), \n",
    "                                    F.col(self.itemcol+'_idx').alias(self.itemcol), \n",
    "                                    F.col(self.ratingcol))\n",
    "            _X = _X.toPandas().values\n",
    "            if self.base == 'user':\n",
    "                row = _X[:, 0].astype(int)\n",
    "                col = _X[:, 1].astype(int)\n",
    "                data = _X[:, 2].astype(float)\n",
    "            elif self.base == 'item':\n",
    "                row = _X[:, 1].astype(int)\n",
    "                col = _X[:, 0].astype(int)\n",
    "                data = _X[:, 2].astype(float)\n",
    "            else:\n",
    "                raise NotImplementedError\n",
    "            return sparse.csr_matrix((data, (row, col)))\n",
    "        else:\n",
    "            _X = self.idxer.transform(X).select(self.usercol+'_idx', self.itemcol+'_idx').toPandas().values\n",
    "            if self.base == 'user':\n",
    "                row = _X[:, 0].astype(int)\n",
    "                col = _X[:, 1].astype(int)\n",
    "            elif self.base == 'item':\n",
    "                row = _X[:, 1].astype(int)\n",
    "                col = _X[:, 0].astype(int)\n",
    "            else:\n",
    "                raise NotImplementedError\n",
    "            return row, col\n",
    "\n",
    "    def _pearson_corr(self, A):\n",
    "        \"\"\"[generating pearson corretion matrix for the model when training]\n",
    "        Args:\n",
    "            A (sparse.csr_matrix): [the training set in sparse matrix form with entries of ratings]\n",
    "        Returns:\n",
    "            sparse.csr_matrix: [the pearson correlation matrix in sparse form]\n",
    "        \"\"\"        \n",
    "        n = A.shape[1]\n",
    "        \n",
    "        rowsum = A.sum(1)\n",
    "        centering = rowsum.dot(rowsum.T) / n\n",
    "        C = (A.dot(A.T) - centering) / (n - 1)\n",
    "        \n",
    "        d = np.diag(C)\n",
    "        coeffs = C / np.sqrt(np.outer(d, d))\n",
    "        return np.array(np.nan_to_num(coeffs)) - np.eye(A.shape[0])\n",
    "    def _get_predict(self):\n",
    "        \"\"\"[generating prediction matrix]\n",
    "        Returns:\n",
    "            sparse.csr_matrix: [the prediction matrix in sparse form]\n",
    "        \"\"\"        \n",
    "        mu_iarray = np.array(np.nan_to_num(self.X.sum(1) / (self.X != 0).sum(1))).reshape(-1)\n",
    "        mu_imat = np.vstack([mu_iarray for _ in range(self.X.shape[1])]).T\n",
    "        x = self.X.copy()\n",
    "        x[x==0] = np.NaN\n",
    "        diff = np.nan_to_num(x-mu_imat)\n",
    "        sim_norm_mat = abs(self.similarity_matrix).dot((diff!=0).astype(int))\n",
    "        w = self.similarity_matrix.dot(diff) / sim_norm_mat\n",
    "        w = np.nan_to_num(w)\n",
    "        return mu_imat + w\n",
    "class indexTransformer():\n",
    "    \"\"\"[helper class for memory based model]\n",
    "    \"\"\"    \n",
    "    def __init__(self, usercol='userId', itemcol='movieId', ratingcol='rating'):\n",
    "        \"\"\"[the index transformer for matrix purpose]\n",
    "        Args:\n",
    "            usercol (str, optional): [user column name]. Defaults to 'userId'.\n",
    "            itemcol (str, optional): [item column name]. Defaults to 'movieId'.\n",
    "        \"\"\"        \n",
    "        self.usercol = usercol\n",
    "        self.itemcol = itemcol\n",
    "        self.ratingcol = ratingcol\n",
    "        self.u_indxer =  M.feature.StringIndexer(inputCol=usercol, \n",
    "                                                outputCol=usercol+'_idx', \n",
    "                                                handleInvalid = 'skip')\n",
    "        self.i_indxer = M.feature.StringIndexer(inputCol=itemcol, \n",
    "                                                outputCol=itemcol+'_idx', \n",
    "                                                handleInvalid = 'skip')\n",
    "        self.X = None\n",
    "    def fit(self, X):\n",
    "        \"\"\"[to train the transformer]\n",
    "        Args:\n",
    "            X (Pyspark DataFrame): [the DataFrame for training]\n",
    "        \"\"\"        \n",
    "        self.X = X\n",
    "        self.u_indxer = self.u_indxer.fit(self.X)\n",
    "        self.i_indxer = self.i_indxer.fit(self.X)\n",
    "        return\n",
    "    def transform(self, X):\n",
    "        \"\"\"[to transform the DataFrame]\n",
    "        Args:\n",
    "            X (Pyspark DataFrame): [the DataFrame needs to be transformed]\n",
    "        Returns:\n",
    "            Pyspark DataFrame: [the transformed DataFrame with index]\n",
    "        \"\"\"        \n",
    "        X_ = self.u_indxer.transform(X)\n",
    "        X_ = self.i_indxer.transform(X_)\n",
    "        return X_.orderBy([self.usercol+'_idx', self.itemcol+'_idx'])\n",
    "    \n",
    "    def fit_transform(self, X):\n",
    "        \"\"\"[combining fit and transform]\n",
    "        Args:\n",
    "            X (Pyspark DataFrame): [the DataFrame needs to be trained and transformed]\n",
    "        Returns:\n",
    "            Pyspark DataFrame: [the transformed DataFrame with index]\n",
    "        \"\"\"        \n",
    "        self.fit(X)\n",
    "        return self.transform(X)"
   ]
  },
  {
   "cell_type": "markdown",
   "metadata": {
    "id": "e7gR1eXJyD6D"
   },
   "source": [
    "#### Model Based Collaborative Filtering\n",
    "\n",
    "\n",
    "**implementation details**\n",
    "\n",
    "The data first casted userId and movieId into integers and then fit into `pyspark.ml.recommendation.ALS`.\n",
    "\n",
    "Our implementation takes advantages of model based collaborative filtering algorithm implemented in `spark.ml`, in which users and products are described by a small set of latent factors that can be used to predict missing entries `spark.ml` uses the alternating least squares (ALS) algorithm to learn these latent factors.\n",
    "\n",
    "Since there are many parameters in ALS of `spark.ml`, we will fix `nonnegative = True` in order to increase interpertability, and we will only select `regParam`(scale of regulization term) and `rank`(number of hidden factors) to be tuned. (We also tried to tune `maxIter` parameter, but when `maxIter > 20` will blow up memory in our machine with large `rank`, and it takes much longer with nearly the same results, so we will keep `maxIter` with default `=10`.)"
   ]
  },
  {
   "cell_type": "code",
   "execution_count": 22,
   "metadata": {
    "id": "_kPnocHEf3Uh"
   },
   "outputs": [],
   "source": [
    "class Als():\n",
    "    \"\"\"[the predictor for Pyspark ALS]\n",
    "    \"\"\"\n",
    "    def __init__(self, userCol, itemCol, ratingCol, regParam, seed, rank):\n",
    "        self.userCol = userCol\n",
    "        self.itemCol = itemCol\n",
    "        self.ratingCol = ratingCol\n",
    "        self.model =None\n",
    "        self.als = ALS(userCol=userCol,\n",
    "                itemCol=itemCol,\n",
    "                ratingCol=ratingCol,\n",
    "                coldStartStrategy=\"drop\",\n",
    "                nonnegative=True,\n",
    "                regParam=regParam,\n",
    "                seed=seed,\n",
    "                rank=rank)\n",
    "    def fit(self, _X):\n",
    "        \"\"\"[function to train parameter of predictor]\n",
    "        Args:\n",
    "            _X (Pyspark DataFrame): [training set]\n",
    "        \"\"\"\n",
    "        X = self._preprocess(_X)\n",
    "        self.model = self.als.fit(X)\n",
    "\n",
    "    def predict(self, _X):\n",
    "        \"\"\"[function to make predict over test set]\n",
    "        Args:\n",
    "            _X (Pyspark DataFrame): [test set]\n",
    "        Returns:\n",
    "            Pyspark DataFrame: [DataFrame with 'prediction' column which has the predicting value]\n",
    "        \"\"\"        \n",
    "        X = self._preprocess(_X)\n",
    "        return self.model.transform(X)\n",
    "\n",
    "    def recommend(self, X, numItems):\n",
    "        return self.model.recommendForUserSubset(X, numItems)\\\n",
    "                .select(self.userCol, F.explode('recommendations').alias('recommendations'))\\\n",
    "                .select(self.userCol, 'recommendations.*')\\\n",
    "                .select(self.userCol, self.itemCol, F.col(self.ratingCol).alias('prediction'))\n",
    "    def _preprocess(self, _X):\n",
    "        \"\"\"[preprocess the input dataset]\n",
    "        Args:\n",
    "            _X (Pyspark DataFrame): [the training or test set]\n",
    "        Returns:\n",
    "            Pyspark DataFrame: [the preprocessed DataFrame]\n",
    "        \"\"\"\n",
    "        cast_int = lambda df: df.select([F.col(c).cast('int') for c in [self.userCol, self.itemCol]] + \\\n",
    "                                [F.col(self.ratingCol).cast('float')])\n",
    "        return cast_int(_X)"
   ]
  },
  {
   "cell_type": "markdown",
   "metadata": {},
   "source": [
    "#### Cold Start Model\n",
    "\n",
    "If a new user comes to the system, we will generate 50 popular movies based on movie genre"
   ]
  },
  {
   "cell_type": "code",
   "execution_count": 23,
   "metadata": {},
   "outputs": [],
   "source": [
    "class code_start():\n",
    "    def __init__(self, movie):\n",
    "        movie_copy = movie.withColumn(\"year\",F.regexp_extract(movie.title,r\"(\\d{4})\",0).cast(T.IntegerType()))\n",
    "        movie_copy = movie_copy.withColumn(\"genre\",F.explode(F.split(movie.genres,pattern=\"\\|\")))\n",
    "        movie_copy = movie_copy.select(\"movieId\",\"title\",\"genre\",\"year\")\n",
    "        genres = movie_copy.select(\"genre\").distinct().toPandas()['genre'].tolist()\n",
    "\n",
    "        sample_copy = sample.select(\"userId\",\"movieId\")\n",
    "\n",
    "        total = sample_copy.join(movie_copy,[\"movieId\"],'left')\n",
    "        popular = total.groupby(\"movieId\").count().sort(\"count\",ascending=False)\n",
    "        \n",
    "        self.movie = movie\n",
    "        self.popular = popular\n",
    "        \n",
    "    def recommend(self):\n",
    "        return self.popular.select(\"movieId\").limit(50).select('movieId')"
   ]
  },
  {
   "cell_type": "markdown",
   "metadata": {
    "id": "a042EivvzocO"
   },
   "source": [
    "### Advanced Algorithms\n",
    "\n",
    "Our advanced algorithm is wide and deep algorithm"
   ]
  },
  {
   "cell_type": "markdown",
   "metadata": {
    "id": "Arsp_CaDz1Dc"
   },
   "source": [
    "#### Wide and Deep\n",
    "\n",
    "Wide and Deep requires different kinds of feature engineering. We have tried out different kinds of features including `timestamp`, `genres` of movie, and `tags` of movie. By transforming `timestamp` to `year`, `month`, `day`, transforming `tags` into TF-IDF vectors, and transforming `genres` into one-hot vectors. But, the results were not very well. We end up with only using `genres` as wide feature, `user` and `movie` embedding as deep feature to create our wide and deep neural networks. "
   ]
  },
  {
   "cell_type": "markdown",
   "metadata": {},
   "source": [
    "The architechture of wide and deep is shown below"
   ]
  },
  {
   "cell_type": "markdown",
   "metadata": {},
   "source": [
    "![wide_deep.png](data:image/png;base64,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)"
   ]
  },
  {
   "cell_type": "code",
   "execution_count": 24,
   "metadata": {
    "id": "HXE8nv9p0FmW"
   },
   "outputs": [],
   "source": [
    "class wide_deep():\n",
    "    def __init__(self,wide_cols='genres',\n",
    "                    deep_cols=['userId', 'movieId'],\n",
    "                    target_col = 'rating',\n",
    "                    deep_embs=[64, 64],\n",
    "                    deep_hidden=[64,32,16],\n",
    "                    deep_dropout=[0.1, 0.1, .1],\n",
    "                    deep_bachnorm=True):\n",
    "        self.wide = None\n",
    "        self.deep = None\n",
    "        self.deep_hidden = deep_hidden\n",
    "        self.deep_dropout = deep_dropout\n",
    "        self.deep_bachnorm = deep_bachnorm\n",
    "        self.model = None\n",
    "        self.wide_cols = wide_cols\n",
    "        self.deep_cols = deep_cols\n",
    "        self.embs = [(col, dim) for col, dim in zip(deep_cols, deep_embs)]\n",
    "        self.wide_preprocessor = self._genre_preprocessor(wide_cols)\n",
    "        self.deep_preprocessor = DensePreprocessor(embed_cols=self.embs)\n",
    "        self.target_col = target_col\n",
    "\n",
    "\n",
    "    def fit(self, train, n_epochs=10, batch_size=128, val_split=.1, verbose = True):\n",
    "        X, y = train.drop(self.target_col, axis = 1), train[self.target_col].values\n",
    "        wide_feature = self.wide_preprocessor.fit_transform(X)\n",
    "        deep_feature = self.deep_preprocessor.fit_transform(X)\n",
    "        self.wide = Wide(wide_dim=np.unique(wide_feature).shape[0], pred_dim=1)\n",
    "        self.deep = DeepDense(hidden_layers=self.deep_hidden, dropout=self.deep_dropout,\n",
    "                      batchnorm=self.deep_bachnorm,\n",
    "                      deep_column_idx=self.deep_preprocessor.deep_column_idx,\n",
    "                      embed_input=self.deep_preprocessor.embeddings_input)\n",
    "        self.model =  WideDeep(wide=self.wide, deepdense=self.deep)\n",
    "        wide_opt = torch.optim.Adam(self.model.wide.parameters(), lr=0.01)\n",
    "        deep_opt = RAdam(self.model.deepdense.parameters())\n",
    "        wide_sch = torch.optim.lr_scheduler.StepLR(wide_opt, step_size=3)\n",
    "        deep_sch = torch.optim.lr_scheduler.StepLR(deep_opt, step_size=5)\n",
    "        callbacks = [\n",
    "                        LRHistory(n_epochs=n_epochs),\n",
    "                        EarlyStopping(patience=5),\n",
    "                        ModelCheckpoint(filepath=\"model_weights/wd_out\"),\n",
    "                    ]\n",
    "        optimizers = {\"wide\": wide_opt, \"deepdense\": deep_opt}\n",
    "        schedulers = {\"wide\": wide_sch, \"deepdense\": deep_sch}\n",
    "        initializers = {\"wide\": KaimingNormal, \"deepdense\": XavierNormal}\n",
    "        self.model.compile(method='regression',\n",
    "                            optimizers=optimizers,\n",
    "                        lr_schedulers=schedulers,\n",
    "                        initializers=initializers,\n",
    "                        callbacks=callbacks,\n",
    "                        verbose=verbose)\n",
    "        self.model.fit(X_wide=wide_feature, \n",
    "                  X_deep=deep_feature, \n",
    "                  target=y, \n",
    "                  n_epochs=n_epochs, \n",
    "                  batch_size=batch_size, \n",
    "                  val_split=val_split,)\n",
    "    def load_pretrained(self, train, fp, device):\n",
    "        X = train.copy()\n",
    "        if type(self.wide_cols) == str:\n",
    "            wide_feature = self.wide_preprocessor.fit_transform(X[[self.wide_cols]])\n",
    "        else:\n",
    "            wide_feature = self.wide_preprocessor.fit_transform(X[self.wide_cols])\n",
    "        deep_feature = self.deep_preprocessor.fit_transform(X[self.deep_cols])\n",
    "        self.wide = Wide(wide_dim=np.unique(wide_feature).shape[0], pred_dim=1)\n",
    "        self.deep = DeepDense(hidden_layers=self.deep_hidden, dropout=self.deep_dropout,\n",
    "                      batchnorm=self.deep_bachnorm,\n",
    "                      deep_column_idx=self.deep_preprocessor.deep_column_idx,\n",
    "                      embed_input=self.deep_preprocessor.embeddings_input)\n",
    "        self.model =  torch.load(fp,  map_location=torch.device(device))\n",
    "        \n",
    "    def predict(self, test):\n",
    "        X = test.copy()\n",
    "        wide_feature = self.wide_preprocessor.transform(X)\n",
    "        deep_feature = self.deep_preprocessor.transform(X)\n",
    "        return self.model.predict(X_wide=wide_feature, X_deep=deep_feature)\n",
    "\n",
    "    def _genre_preprocessor(self, genre_feat):\n",
    "        dense_layer = lambda X: X.toarray()\n",
    "        genre_transformer = Pipeline(steps=[\n",
    "                ('tokenizer', CountVectorizer()),\n",
    "                ('dense', FunctionTransformer(dense_layer, validate=False))   \n",
    "        ])\n",
    "        preproc = ColumnTransformer(transformers=[('genre', genre_transformer, genre_feat),])\n",
    "        return preproc\n",
    "\n",
    "\n",
    "    def _deep_preprocessor(self,embs):\n",
    "        return DensePreprocessor(embed_cols=embs)"
   ]
  },
  {
   "cell_type": "markdown",
   "metadata": {
    "id": "mD5pOe4e1iSE"
   },
   "source": [
    "## The Experiment"
   ]
  },
  {
   "cell_type": "code",
   "execution_count": 25,
   "metadata": {},
   "outputs": [
    {
     "name": "stdout",
     "output_type": "stream",
     "text": [
      "x model_results/\n",
      "x model_results/final_recommendations.csv\n",
      "x model_results/item_based_recom_50.csv\n",
      "x model_results/item_based_recom_5.csv\n",
      "x model_results/als_recom_50.csv\n",
      "x model_results/model_test_results.csv\n",
      "x model_results/als_recom_5.csv\n",
      "x model_results/base_model_selection.csv\n",
      "\u001b[34mmodel_results\u001b[m\u001b[m movies.csv    \u001b[34msamples\u001b[m\u001b[m\n"
     ]
    }
   ],
   "source": [
    "compressed_sample_path = '../data/model_results.tar.gz'\n",
    "!tar -xzvf $compressed_sample_path -C $data_path\n",
    "!ls $data_path"
   ]
  },
  {
   "cell_type": "markdown",
   "metadata": {
    "id": "HRZdIu-_15_J"
   },
   "source": [
    "### Choice of Base Model"
   ]
  },
  {
   "cell_type": "markdown",
   "metadata": {
    "id": "QHsBSmXVIqBS"
   },
   "source": [
    "Since `user based` CF allocates the memories over 16GB the colab assigned (Session Crashed), we will abandon choice of `user based` CF.\n",
    "\n",
    "Thus, we will choose our base model based on the Recall and Time performance between `item based` CF and `ALS` of Matrix Factorization (Model Based CF) for our sample data. (We will use the tuned parameter for ALS from Homework 2, which is ragParam = .15, rank = 10)\n",
    "\n",
    "We will test a benchmark on recommendation with constraint on test dataset to see how the recall is, and how the time cost of each base model."
   ]
  },
  {
   "cell_type": "markdown",
   "metadata": {},
   "source": [
    "#### Recall in test set\n",
    "\n",
    "todo brief explain"
   ]
  },
  {
   "cell_type": "markdown",
   "metadata": {},
   "source": [
    "how we train and generate our base model selection results\n",
    "``` python\n",
    "## live training and inference for base model\n",
    "# this cell takes over minutes to execute\n",
    "\n",
    "models = {'item_based': Memory_based_CF(spark, base='item', usercol='userId', itemcol='movieId', ratingcol='rating'),\n",
    "  'als': Als(userCol='userId', itemCol='movieId', ratingCol='rating', regParam=.15, seed=0, rank=10)}\n",
    "# this cell takes over minutes to execute\n",
    "def recommend(prediction, k, userCol = 'userId', itemCol = 'movieId',ratingCol = 'rating', predCol = 'prediction'):\n",
    "    window = W.Window.partitionBy(prediction[userCol]).orderBy(prediction['prediction'].desc())\n",
    "    ranked = prediction.select('*', F.rank().over(window).alias('rank'))\n",
    "    recommended = ranked.where(ranked.rank <= k).select(F.col(userCol).cast('string'), \n",
    "                                                        F.col(itemCol).cast('string'),\n",
    "                                                        F.col(ratingCol).cast('double'),\n",
    "                                                        F.col(predCol).cast('double'))\n",
    "    return recommended\n",
    "recalls = []\n",
    "times = []\n",
    "predictions = []\n",
    "for model in models.keys():\n",
    "    #training based model\n",
    "    models[model].fit(sample_train)\n",
    "    start = time.time()\n",
    "    prediction = models[model].predict(sample_test)\n",
    "    recommendation = recommend(prediction, 50)\n",
    "    recalls.append(recall(recommendation))\n",
    "    end = time.time()\n",
    "    times.append(end - start)\n",
    "    predictions.append(prediction)\n",
    "base_model_selection = pd.DataFrame({'recall': recalls, 'recommend time': times}, index=['item_based', 'als'])\n",
    "base_model_selection.to_csv('../model_results/base_model_selection.csv')\n",
    "\n",
    "```"
   ]
  },
  {
   "cell_type": "code",
   "execution_count": 26,
   "metadata": {
    "scrolled": true
   },
   "outputs": [
    {
     "data": {
      "text/html": [
       "<div>\n",
       "<style scoped>\n",
       "    .dataframe tbody tr th:only-of-type {\n",
       "        vertical-align: middle;\n",
       "    }\n",
       "\n",
       "    .dataframe tbody tr th {\n",
       "        vertical-align: top;\n",
       "    }\n",
       "\n",
       "    .dataframe thead th {\n",
       "        text-align: right;\n",
       "    }\n",
       "</style>\n",
       "<table border=\"1\" class=\"dataframe\">\n",
       "  <thead>\n",
       "    <tr style=\"text-align: right;\">\n",
       "      <th></th>\n",
       "      <th>recall</th>\n",
       "      <th>recommend time</th>\n",
       "    </tr>\n",
       "  </thead>\n",
       "  <tbody>\n",
       "    <tr>\n",
       "      <th>item_based</th>\n",
       "      <td>0.917752</td>\n",
       "      <td>64.714004</td>\n",
       "    </tr>\n",
       "    <tr>\n",
       "      <th>als</th>\n",
       "      <td>0.842358</td>\n",
       "      <td>11.985038</td>\n",
       "    </tr>\n",
       "  </tbody>\n",
       "</table>\n",
       "</div>"
      ],
      "text/plain": [
       "              recall  recommend time\n",
       "item_based  0.917752       64.714004\n",
       "als         0.842358       11.985038"
      ]
     },
     "metadata": {},
     "output_type": "display_data"
    }
   ],
   "source": [
    "base_model_selection = pd.read_csv(os.path.join(data_path,'model_results/base_model_selection.csv'), index_col=0)\n",
    "display(base_model_selection)"
   ]
  },
  {
   "cell_type": "markdown",
   "metadata": {},
   "source": [
    "#### Recall@50\n",
    "\n",
    "Since the base mode recommends 50 items, we need a sanity check for Recall @50"
   ]
  },
  {
   "cell_type": "code",
   "execution_count": 38,
   "metadata": {},
   "outputs": [
    {
     "name": "stdout",
     "output_type": "stream",
     "text": [
      "recall@50 for item based CF 1.0\n",
      "recall@50 for ALS 1.0\n"
     ]
    }
   ],
   "source": [
    "item_based_50 = pd.read_csv('../downloads/model_results/item_based_recom_50.csv')\n",
    "als_50 = pd.read_csv('../downloads/model_results/als_recom_50.csv')\n",
    "\n",
    "item_based_50 = item_based_50.merge(sample_df)\n",
    "als_50 = als_50.merge(sample_df)\n",
    "\n",
    "item_based_50['pred_binary'] = item_based_50.prediction >= 3\n",
    "als_50['pred_binary'] = als_50.prediction >= 3\n",
    "\n",
    "item_based_50['true_binary'] = item_based_50.prediction >= 3\n",
    "als_50['true_binary'] = als_50.prediction >= 3\n",
    "\n",
    "print('recall@50 for item based CF {}'.format(recall_score(item_based_50.pred_binary, item_based_50.true_binary)))\n",
    "\n",
    "print('recall@50 for ALS {}'.format(recall_score(als_50.pred_binary, als_50.true_binary)))"
   ]
  },
  {
   "cell_type": "markdown",
   "metadata": {},
   "source": [
    "TODO"
   ]
  },
  {
   "cell_type": "markdown",
   "metadata": {
    "id": "0JzrLISTJPmn"
   },
   "source": [
    "For our sample dataset, from th table above, we observe that item-based CF outperforms als CF, but the running time of making recommendation by item_based dataset is much worser than by the als model. Considering real time scenario that users need instant recommedations, we will choose `ALS` as our base model."
   ]
  },
  {
   "cell_type": "markdown",
   "metadata": {
    "id": "dQl7ewpg2JSt"
   },
   "source": [
    "#### Performance of Each Models on test set"
   ]
  },
  {
   "cell_type": "markdown",
   "metadata": {},
   "source": [
    "how we train wide and deep\n",
    "\n",
    "``` python\n",
    "\n",
    "wd = wide_deep()\n",
    "wd.fit(sample_train_df)\n",
    "test_pred = wd.predict(sample_test_df)\n",
    "\n",
    "```"
   ]
  },
  {
   "cell_type": "markdown",
   "metadata": {},
   "source": [
    "how we generate the results\n",
    "\n",
    "```python\n",
    "\n",
    "#getting prediction of base models\n",
    "base_predictions = [pred.toPandas() for pred in predictions]\n",
    "base_predictions = [pred.astype({'userId': np.int64, 'movieId': np.int64, 'rating': np.float64, 'prediction': np.float64}) \\\n",
    " for pred in base_predictions]\n",
    "for pred, model in zip(base_predictions, models.keys()):\n",
    "    pred.columns = ['userId', 'movieId','rating', model+'_prediction']\n",
    "results = sample_test_df[['userId', 'movieId','rating']].merge(base_predictions[0])\n",
    "results = results.merge(base_predictions[1])\n",
    "\n",
    "results['deep_wide_prediction'] = test_pred\n",
    "\n",
    "results[['rating', 'item_based_prediction', \n",
    "        'als_prediction', 'deep_wide_prediction']].to_csv('../model_results/model_test_results.csv', index=False)\n",
    "\n",
    "```"
   ]
  },
  {
   "cell_type": "code",
   "execution_count": 27,
   "metadata": {},
   "outputs": [],
   "source": [
    "all_preds_test = pd.read_csv(os.path.join(data_path,'model_results/model_test_results.csv'))"
   ]
  },
  {
   "cell_type": "code",
   "execution_count": 28,
   "metadata": {},
   "outputs": [
    {
     "data": {
      "text/html": [
       "<div>\n",
       "<style scoped>\n",
       "    .dataframe tbody tr th:only-of-type {\n",
       "        vertical-align: middle;\n",
       "    }\n",
       "\n",
       "    .dataframe tbody tr th {\n",
       "        vertical-align: top;\n",
       "    }\n",
       "\n",
       "    .dataframe thead th {\n",
       "        text-align: right;\n",
       "    }\n",
       "</style>\n",
       "<table border=\"1\" class=\"dataframe\">\n",
       "  <thead>\n",
       "    <tr style=\"text-align: right;\">\n",
       "      <th></th>\n",
       "      <th>rating</th>\n",
       "      <th>item_based_prediction</th>\n",
       "      <th>als_prediction</th>\n",
       "      <th>deep_wide_prediction</th>\n",
       "    </tr>\n",
       "  </thead>\n",
       "  <tbody>\n",
       "    <tr>\n",
       "      <th>0</th>\n",
       "      <td>2.0</td>\n",
       "      <td>3.134529</td>\n",
       "      <td>2.980006</td>\n",
       "      <td>2.637283</td>\n",
       "    </tr>\n",
       "    <tr>\n",
       "      <th>1</th>\n",
       "      <td>2.0</td>\n",
       "      <td>3.326562</td>\n",
       "      <td>3.043437</td>\n",
       "      <td>3.394947</td>\n",
       "    </tr>\n",
       "    <tr>\n",
       "      <th>2</th>\n",
       "      <td>3.0</td>\n",
       "      <td>2.848008</td>\n",
       "      <td>2.719941</td>\n",
       "      <td>3.399959</td>\n",
       "    </tr>\n",
       "    <tr>\n",
       "      <th>3</th>\n",
       "      <td>2.0</td>\n",
       "      <td>3.003214</td>\n",
       "      <td>2.716263</td>\n",
       "      <td>2.923458</td>\n",
       "    </tr>\n",
       "    <tr>\n",
       "      <th>4</th>\n",
       "      <td>3.5</td>\n",
       "      <td>3.473010</td>\n",
       "      <td>3.243872</td>\n",
       "      <td>3.199457</td>\n",
       "    </tr>\n",
       "  </tbody>\n",
       "</table>\n",
       "</div>"
      ],
      "text/plain": [
       "   rating  item_based_prediction  als_prediction  deep_wide_prediction\n",
       "0     2.0               3.134529        2.980006              2.637283\n",
       "1     2.0               3.326562        3.043437              3.394947\n",
       "2     3.0               2.848008        2.719941              3.399959\n",
       "3     2.0               3.003214        2.716263              2.923458\n",
       "4     3.5               3.473010        3.243872              3.199457"
      ]
     },
     "execution_count": 28,
     "metadata": {},
     "output_type": "execute_result"
    }
   ],
   "source": [
    "all_preds_test.head()"
   ]
  },
  {
   "cell_type": "code",
   "execution_count": 29,
   "metadata": {},
   "outputs": [
    {
     "data": {
      "text/html": [
       "<div>\n",
       "<style scoped>\n",
       "    .dataframe tbody tr th:only-of-type {\n",
       "        vertical-align: middle;\n",
       "    }\n",
       "\n",
       "    .dataframe tbody tr th {\n",
       "        vertical-align: top;\n",
       "    }\n",
       "\n",
       "    .dataframe thead th {\n",
       "        text-align: right;\n",
       "    }\n",
       "</style>\n",
       "<table border=\"1\" class=\"dataframe\">\n",
       "  <thead>\n",
       "    <tr style=\"text-align: right;\">\n",
       "      <th></th>\n",
       "      <th>Item based</th>\n",
       "      <th>ALS</th>\n",
       "      <th>Wide and deep learning</th>\n",
       "    </tr>\n",
       "  </thead>\n",
       "  <tbody>\n",
       "    <tr>\n",
       "      <th>Accuracy</th>\n",
       "      <td>0.806070</td>\n",
       "      <td>0.762328</td>\n",
       "      <td>0.799716</td>\n",
       "    </tr>\n",
       "    <tr>\n",
       "      <th>RMSE</th>\n",
       "      <td>0.824710</td>\n",
       "      <td>0.831761</td>\n",
       "      <td>0.822391</td>\n",
       "    </tr>\n",
       "    <tr>\n",
       "      <th>NDCG</th>\n",
       "      <td>0.992272</td>\n",
       "      <td>0.992360</td>\n",
       "      <td>0.992313</td>\n",
       "    </tr>\n",
       "    <tr>\n",
       "      <th>Recall</th>\n",
       "      <td>0.871939</td>\n",
       "      <td>0.777650</td>\n",
       "      <td>0.853121</td>\n",
       "    </tr>\n",
       "  </tbody>\n",
       "</table>\n",
       "</div>"
      ],
      "text/plain": [
       "          Item based       ALS  Wide and deep learning\n",
       "Accuracy    0.806070  0.762328                0.799716\n",
       "RMSE        0.824710  0.831761                0.822391\n",
       "NDCG        0.992272  0.992360                0.992313\n",
       "Recall      0.871939  0.777650                0.853121"
      ]
     },
     "execution_count": 29,
     "metadata": {},
     "output_type": "execute_result"
    }
   ],
   "source": [
    "# Compute accuracy of each model\n",
    "acc_item = acc_numpy(all_preds_test[\"rating\"], all_preds_test[\"item_based_prediction\"])\n",
    "acc_als = acc_numpy(all_preds_test[\"rating\"], all_preds_test[\"als_prediction\"])\n",
    "acc_deep = acc_numpy(all_preds_test[\"rating\"], all_preds_test[\"deep_wide_prediction\"])\n",
    "accs = pd.DataFrame({\"Item based\": [acc_item], \"ALS\": [acc_als], \n",
    "                      \"Wide and deep learning\": [acc_deep]}, index=[\"Accuracy\"])\n",
    "\n",
    "# Compute RMSE of each model\n",
    "rmse_item = rmse_numpy(all_preds_test[\"rating\"], all_preds_test[\"item_based_prediction\"])\n",
    "rmse_als = rmse_numpy(all_preds_test[\"rating\"], all_preds_test[\"als_prediction\"])\n",
    "rmse_deep = rmse_numpy(all_preds_test[\"rating\"], all_preds_test[\"deep_wide_prediction\"])\n",
    "rmses = pd.DataFrame({\"Item based\": [rmse_item], \"ALS\": [rmse_als], \n",
    "                      \"Wide and deep learning\": [rmse_deep]}, index=[\"RMSE\"])\n",
    "\n",
    "# Compute NDCG score of each model\n",
    "true_rating = all_preds_test[\"rating\"].to_numpy().reshape(1,-1)\n",
    "item_based_prediction = all_preds_test[\"item_based_prediction\"].to_numpy().reshape(1,-1)\n",
    "als_prediction = all_preds_test[\"als_prediction\"].to_numpy().reshape(1,-1)\n",
    "deep_wide_prediction = all_preds_test[\"deep_wide_prediction\"].to_numpy().reshape(1,-1)\n",
    "ndcg_item = ndcg_score(true_rating, item_based_prediction)\n",
    "ndcg_als = ndcg_score(true_rating, als_prediction)\n",
    "ndcg_deep = ndcg_score(true_rating, deep_wide_prediction)\n",
    "ndcgs = pd.DataFrame({\"Item based\": [ndcg_item], \"ALS\": [ndcg_als], \n",
    "                      \"Wide and deep learning\": [ndcg_deep]}, index=[\"NDCG\"])\n",
    "\n",
    "# Compute recall of each model\n",
    "recall_item = recall_numpy(all_preds_test[\"rating\"], all_preds_test[\"item_based_prediction\"])\n",
    "recall_als = recall_numpy(all_preds_test[\"rating\"], all_preds_test[\"als_prediction\"])\n",
    "recall_deep = recall_numpy(all_preds_test[\"rating\"], all_preds_test[\"deep_wide_prediction\"])\n",
    "recalls = pd.DataFrame({\"Item based\": [recall_item], \"ALS\": [recall_als], \n",
    "                      \"Wide and deep learning\": [recall_deep]}, index=[\"Recall\"])\n",
    "\n",
    "pd.concat([accs, rmses, ndcgs, recalls])"
   ]
  },
  {
   "cell_type": "code",
   "execution_count": 53,
   "metadata": {},
   "outputs": [
    {
     "data": {
      "image/png": "[encoded data removed]",
      "text/plain": [
       "<Figure size 864x720 with 1 Axes>"
      ]
     },
     "metadata": {},
     "output_type": "display_data"
    }
   ],
   "source": [
    "plot_ROC_numpy(all_preds_test.rating.values, list(all_preds_test[['item_based_prediction', 'als_prediction', 'deep_wide_prediction']].values.T),\\\n",
    "               ['item_based_prediction', 'als_prediction', 'deep_wide_prediction'])"
   ]
  },
  {
   "cell_type": "markdown",
   "metadata": {},
   "source": [
    "##### Observation (TODO RECALL)\n",
    "\n",
    "According to the table above, from the perspective of accuracy, item based model has the highest accuracy; we find that the RMSE of wide and deep model has the lowest root mean square error; the NDCG scores of all three models are close to 1, that is, each of three models have discounted cumulative gain close to the best possible performance. However, ALS model is slightly closer to 1 than the other two models; and  the ALS model has the highest score of area under curve, which is the best among three models.\n",
    "\n",
    "**performance wise**\n",
    "\n",
    "**memory wise**\n",
    "\n",
    "**time wise**"
   ]
  },
  {
   "cell_type": "markdown",
   "metadata": {},
   "source": [
    "### Experiment of Pipeline"
   ]
  },
  {
   "cell_type": "markdown",
   "metadata": {},
   "source": [
    "How we run our pipeline\n",
    "\n",
    "```python\n",
    "train = sample_train_df.copy()\n",
    "test = sample_test_df.copy()\n",
    "use_cuda = torch.cuda.is_available()\n",
    "device = torch.device(\"cuda\" if use_cuda else \"cpu\")\n",
    "\n",
    "#users to generate recommendation\n",
    "users = test.userId.unique().tolist()\n",
    "\n",
    "#base model has already trained in previous cells\n",
    "## train base model\n",
    "base_model = Als(userCol='userId', itemCol='movieId', ratingCol='rating', regParam=.15, seed=0, rank=10)\n",
    "base_model.fit(sample_train)\n",
    "## load cold start model\n",
    "cold_start_model = code_start(movies)\n",
    "## train wide and deep model\n",
    "advanced_model = wide_deep()\n",
    "### if we want to live train the wide and deep model\n",
    "advanced_model.fit(sample_train_df)\n",
    "### if we want to load pretrained model\n",
    "advanced_model.load_pretrained(train, '../trained_model/wide_deep_sample.t', device)\n",
    "\n",
    "#generate recommendation for users n = how many base model recommends, k = how many advanced model recommends\n",
    "final_recommend_items = final_recommender(spark, \n",
    "                                          base_model, \n",
    "                                          cold_start_model, \n",
    "                                          advanced_model,\n",
    "                                          users, \n",
    "                                          movies_df, n=50, k=5)\n",
    "#save results\n",
    "final_recommend_items.to_csv('../model_results/final_recommendations.csv', index=False)\n",
    "```"
   ]
  },
  {
   "cell_type": "code",
   "execution_count": 34,
   "metadata": {},
   "outputs": [],
   "source": [
    "memory_based_recommend_items = pd.read_csv(os.path.join(data_path,'model_results/item_based_recom_5.csv'))\n",
    "als_recommend_items = pd.read_csv(os.path.join(data_path,'model_results/als_recom_5.csv'))\n",
    "final_recommend_items = pd.read_csv(os.path.join(data_path,'model_results/final_recommendations.csv'))"
   ]
  },
  {
   "cell_type": "markdown",
   "metadata": {},
   "source": [
    "#### Propertion of ground truth\n",
    "\n",
    "maybe related for novelity"
   ]
  },
  {
   "cell_type": "code",
   "execution_count": 76,
   "metadata": {},
   "outputs": [
    {
     "data": {
      "text/plain": [
       "0.010949902359319547"
      ]
     },
     "execution_count": 76,
     "metadata": {},
     "output_type": "execute_result"
    }
   ],
   "source": [
    "memory_based_recommend_items.merge(sample_df).shape[0]/sample_df.shape[0]"
   ]
  },
  {
   "cell_type": "code",
   "execution_count": 77,
   "metadata": {},
   "outputs": [
    {
     "data": {
      "text/plain": [
       "0.014448194223394873"
      ]
     },
     "execution_count": 77,
     "metadata": {},
     "output_type": "execute_result"
    }
   ],
   "source": [
    "als_recommend_items.merge(sample_df).shape[0]/sample_df.shape[0]"
   ]
  },
  {
   "cell_type": "code",
   "execution_count": 78,
   "metadata": {},
   "outputs": [
    {
     "data": {
      "text/plain": [
       "0.01280894589535905"
      ]
     },
     "execution_count": 78,
     "metadata": {},
     "output_type": "execute_result"
    }
   ],
   "source": [
    "final_recommend_items.merge(sample_df).shape[0]/sample_df.shape[0]"
   ]
  },
  {
   "cell_type": "markdown",
   "metadata": {},
   "source": [
    "#### Metrics related\n",
    "\n"
   ]
  },
  {
   "cell_type": "markdown",
   "metadata": {},
   "source": [
    "**RMSE ACC @ 5**"
   ]
  },
  {
   "cell_type": "markdown",
   "metadata": {},
   "source": [
    "**Coverage@5 for each model**"
   ]
  },
  {
   "cell_type": "code",
   "execution_count": 67,
   "metadata": {},
   "outputs": [
    {
     "name": "stderr",
     "output_type": "stream",
     "text": [
      "100%|██████████| 393/393 [00:03<00:00, 117.47it/s]\n"
     ]
    },
    {
     "data": {
      "image/png": "[encoded data removed]",
      "text/plain": [
       "<Figure size 864x720 with 1 Axes>"
      ]
     },
     "metadata": {},
     "output_type": "display_data"
    }
   ],
   "source": [
    "num_users = []\n",
    "memory_res = []\n",
    "als_res = []\n",
    "final_res = []\n",
    "for i in tqdm(range(400, final_recommend_items.userId.nunique()+1, 50)):\n",
    "    memory_res.append(memory_based_recommend_items[memory_based_recommend_items.userId.isin(memory_based_recommend_items.userId.unique()[:i])].movieId.nunique()/2000)\n",
    "    als_res.append(als_recommend_items[als_recommend_items.userId.isin(als_recommend_items.userId.unique()[:i])].movieId.nunique()/2000)\n",
    "    final_res.append(final_recommend_items[final_recommend_items.userId.isin(final_recommend_items.userId.unique()[:i])].movieId.nunique()/2000)\n",
    "    num_users.append(i)\n",
    "pd.DataFrame({'num_users': num_users, \n",
    "              'item_based_CF': memory_res,\n",
    "              'als': als_res,\n",
    "              'final model': final_res}).set_index('num_users').plot()\n",
    "plt.xlabel('number of user recommend')\n",
    "plt.ylabel('coverage@5')\n",
    "plt.title('Coverage@5 for each model as number of user been recommended')\n",
    "plt.show()"
   ]
  },
  {
   "cell_type": "markdown",
   "metadata": {},
   "source": [
    "**Precision@5 for each model**\n",
    "\n",
    "**Recall@5 for each model**\n",
    "\n",
    "**NDCG@5**\n",
    "\n",
    "**AUC_ROC@5**"
   ]
  },
  {
   "cell_type": "code",
   "execution_count": 36,
   "metadata": {},
   "outputs": [
    {
     "name": "stdout",
     "output_type": "stream",
     "text": [
      "0.1802260306890021\n",
      "0.18555086163545528\n",
      "0.17409776016642112\n"
     ]
    }
   ],
   "source": [
    "print(NDCG(memory_based_recommend_items,sample_test_df))\n",
    "print(NDCG(als_recommend_items,sample_test_df))\n",
    "print(NDCG(final_recommend_items,sample_test_df))"
   ]
  },
  {
   "cell_type": "code",
   "execution_count": 55,
   "metadata": {
    "scrolled": false
   },
   "outputs": [
    {
     "name": "stdout",
     "output_type": "stream",
     "text": [
      "0.005676495105452238\n",
      "0.9602014294996751\n",
      "0.7594804863416431\n"
     ]
    },
    {
     "data": {
      "image/png": "[encoded data removed]",
      "text/plain": [
       "<Figure size 864x720 with 1 Axes>"
      ]
     },
     "metadata": {},
     "output_type": "display_data"
    }
   ],
   "source": [
    "test_known_pred = sample_test_df[['userId', 'movieId', 'rating']].merge(final_recommend_items)\n",
    "print(test_known_pred.shape[0] / sample_test_df.shape[0])\n",
    "print(acc_numpy(test_known_pred.rating, test_known_pred.prediction))\n",
    "print(rmse_numpy(test_known_pred.rating, test_known_pred.prediction))\n",
    "plot_ROC_numpy(test_known_pred.rating, [test_known_pred.prediction], 'final_model')"
   ]
  },
  {
   "cell_type": "markdown",
   "metadata": {},
   "source": [
    "#### Genre related\n",
    "\n",
    "how many genre covered for each user"
   ]
  },
  {
   "cell_type": "code",
   "execution_count": 79,
   "metadata": {},
   "outputs": [],
   "source": [
    "## in train a user watched how many genre\n",
    "\n",
    "# in pred a user recommended how many genre"
   ]
  },
  {
   "cell_type": "markdown",
   "metadata": {
    "id": "x71ERwTi2ajW"
   },
   "source": [
    "### Conclusion\n",
    "\n",
    "TODO"
   ]
  },
  {
   "cell_type": "code",
   "execution_count": null,
   "metadata": {
    "id": "NMd-Z6xP2hjZ"
   },
   "outputs": [],
   "source": []
  }
 ],
 "metadata": {
  "accelerator": "GPU",
  "colab": {
   "authorship_tag": "ABX9TyOzSOn9mfqJ75wSXydl16ve",
   "collapsed_sections": [],
   "include_colab_link": true,
   "machine_shape": "hm",
   "name": "final_report_dec15",
   "provenance": [],
   "toc_visible": true
  },
  "kernelspec": {
   "display_name": "personalization",
   "language": "python",
   "name": "personalization"
  },
  "language_info": {
   "codemirror_mode": {
    "name": "ipython",
    "version": 3
   },
   "file_extension": ".py",
   "mimetype": "text/x-python",
   "name": "python",
   "nbconvert_exporter": "python",
   "pygments_lexer": "ipython3",
   "version": "3.8.5"
  },
  "latex_envs": {
   "LaTeX_envs_menu_present": true,
   "autoclose": false,
   "autocomplete": true,
   "bibliofile": "biblio.bib",
   "cite_by": "apalike",
   "current_citInitial": 1,
   "eqLabelWithNumbers": true,
   "eqNumInitial": 1,
   "hotkeys": {
    "equation": "Ctrl-E",
    "itemize": "Ctrl-I"
   },
   "labels_anchors": false,
   "latex_user_defs": false,
   "report_style_numbering": false,
   "user_envs_cfg": false
  },
  "toc": {
   "base_numbering": 1,
   "nav_menu": {
    "height": "557px",
    "width": "243px"
   },
   "number_sections": true,
   "sideBar": true,
   "skip_h1_title": false,
   "title_cell": "Table of Contents",
   "title_sidebar": "Contents",
   "toc_cell": false,
   "toc_position": {},
   "toc_section_display": true,
   "toc_window_display": false
  },
  "varInspector": {
   "cols": {
    "lenName": 16,
    "lenType": 16,
    "lenVar": 40
   },
   "kernels_config": {
    "python": {
     "delete_cmd_postfix": "",
     "delete_cmd_prefix": "del ",
     "library": "var_list.py",
     "varRefreshCmd": "print(var_dic_list())"
    },
    "r": {
     "delete_cmd_postfix": ") ",
     "delete_cmd_prefix": "rm(",
     "library": "var_list.r",
     "varRefreshCmd": "cat(var_dic_list()) "
    }
   },
   "types_to_exclude": [
    "module",
    "function",
    "builtin_function_or_method",
    "instance",
    "_Feature"
   ],
   "window_display": false
  }
 },
 "nbformat": 4,
 "nbformat_minor": 1
}
