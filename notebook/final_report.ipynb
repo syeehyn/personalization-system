{
 "cells": [
  {
   "cell_type": "markdown",
   "metadata": {
    "id": "k-pNcRs-VSo5"
   },
   "source": [
    "# The Objective\n",
    "\n",
    "**Objective Function**\n",
    "\n",
    "Our team's business mainly focuses on how to provide general users movies that they like. There are so many movies come out every year, but people won't watch all of them. Our business goal is to provide personalized movies that just fit for you. Once you think our services fit your taste, we could provide you even more novel movies, shows, or tv series by subscription to our website. We hope our technology could ultimately benefit individuals and push the entertainment industry forward. **Our main strategy is to recommend 5 movies to each user on the platform by first recommending 50 movies then sorting them by a deep learning model with genre preference of user to get top 5.**\n",
    "\n",
    "**Intended Users**\n",
    "The recommendation system is created for the general audience so that everyone who enjoys movies benefits from our website.\n",
    "\n",
    "**Business Rules**\n",
    "\n",
    "In order to keep the user entertained rather than only focusing on what they already know, one business rule we came up with is to include at least two different genres when recommending k movies even though the predicted rating might be low. We would love our users to explore things that they would really want to try but haven't had chance to try yet. Compare to other recommendation system, the advantage of ours is we aim for not only the accuracy but also the spirit of exploration and curiosity.\n",
    "\n",
    "**Performance Requirements**\n",
    "\n",
    "For performance, we would like to serve the online queries in real time. For model based algorithms, it’s fine to train it offline and then serve the model online. We will update our database regularly so that our model is the most recent one. For this homework, we did not expand our scope on serving in real time. Everything we done was in an offline setting.\n",
    "\n",
    "**Interpretability**\n",
    "\n",
    "In order to interpret models and to serve our subscribed users better (getting to know their behaviours and interests more), we decide to make the **matrix factorization** algorithm to only produce non-negative matrices. In that case, we would be able to identify some elements that are important for the algorithm to learn users’ behaviours (higher value in the matrices would produce higher ratings). For the more sophisticated model (**wide and deep**), if possible later on, we want to try to study and understand the users behaviours through the embeddings by the neural network."
   ]
  },
  {
   "cell_type": "markdown",
   "metadata": {
    "id": "PmfR3rJJjDLf"
   },
   "source": [
    "# The Environments\n",
    "\n",
    "Enviroment setup"
   ]
  },
  {
   "cell_type": "code",
   "execution_count": 1,
   "metadata": {
    "id": "2k-RS4U2TDML"
   },
   "outputs": [],
   "source": [
    "import os\n",
    "repo_name = 'final-project-qrdecomposition_final'\n",
    "data_path = '../downloads'\n",
    "\n",
    "if not os.path.isdir(data_path):\n",
    "    os.mkdir(data_path)"
   ]
  },
  {
   "cell_type": "markdown",
   "metadata": {
    "id": "kY2BaAjx45ot"
   },
   "source": [
    "## Download Movielens-latest"
   ]
  },
  {
   "cell_type": "code",
   "execution_count": 2,
   "metadata": {
    "id": "S9zxt9I94YHy"
   },
   "outputs": [],
   "source": [
    "# import requests, zipfile, io\n",
    "# url = \"http://files.grouplens.org/datasets/movielens/ml-latest.zip\"\n",
    "# r = requests.get(url)\n",
    "# with zipfile.ZipFile(io.BytesIO(r.content)) as zf:\n",
    "#     for zip_info in zf.infolist():\n",
    "#         if zip_info.filename[-1] == '/':\n",
    "#             continue\n",
    "#         zip_info.filename = os.path.basename(zip_info.filename)\n",
    "#         zf.extract(zip_info, data_path)"
   ]
  },
  {
   "cell_type": "code",
   "execution_count": 3,
   "metadata": {
    "id": "ZkoY9UWEQ7uQ"
   },
   "outputs": [],
   "source": [
    "movie_info_path = '../data/movies.csv'\n",
    "!cp $movie_info_path $data_path"
   ]
  },
  {
   "cell_type": "code",
   "execution_count": 4,
   "metadata": {
    "colab": {
     "base_uri": "https://localhost:8080/"
    },
    "id": "5wUZE7TP5lo6",
    "outputId": "26935bc3-3863-40ea-c156-66174368adee"
   },
   "outputs": [
    {
     "name": "stdout",
     "output_type": "stream",
     "text": [
      "\u001b[34mmodel_results\u001b[m\u001b[m movies.csv    \u001b[34msamples\u001b[m\u001b[m\r\n"
     ]
    }
   ],
   "source": [
    "#sanity check for downloaded files\n",
    "!ls $data_path"
   ]
  },
  {
   "cell_type": "markdown",
   "metadata": {
    "id": "cMy27vgN3Lub"
   },
   "source": [
    "## Import Libararies"
   ]
  },
  {
   "cell_type": "code",
   "execution_count": 5,
   "metadata": {
    "colab": {
     "base_uri": "https://localhost:8080/"
    },
    "id": "BmpezFnrTGxg",
    "outputId": "56ab36c5-c7ec-41c1-c8e0-54e8baf46604"
   },
   "outputs": [
    {
     "name": "stdout",
     "output_type": "stream",
     "text": [
      "cpu 1.6.0\n"
     ]
    }
   ],
   "source": [
    "###utilities\n",
    "from tqdm import tqdm\n",
    "import time\n",
    "import warnings\n",
    "warnings.filterwarnings(\"ignore\")\n",
    "\n",
    "###pyspark dependencies\n",
    "from pyspark.sql import SparkSession\n",
    "import pyspark.ml as M\n",
    "import pyspark.sql.functions as F\n",
    "import pyspark.sql.window as W\n",
    "import pyspark.sql.types as T\n",
    "from pyspark.ml.recommendation import ALS\n",
    "\n",
    "###numpy,scipy,pandas,sklearn stacks\n",
    "from scipy import sparse\n",
    "import pandas as pd\n",
    "import numpy as np\n",
    "from sklearn.feature_extraction.text import CountVectorizer\n",
    "from sklearn.compose import ColumnTransformer\n",
    "from sklearn.preprocessing import FunctionTransformer\n",
    "from sklearn.pipeline import Pipeline\n",
    "import matplotlib.pyplot as plt\n",
    "#plt env\n",
    "fig_size = plt.rcParams[\"figure.figsize\"]\n",
    "fig_size[0] = 12\n",
    "fig_size[1] = 10\n",
    "plt.rcParams[\"figure.figsize\"] = fig_size\n",
    "\n",
    "###torch stacks\n",
    "import torch\n",
    "from torch import nn\n",
    "from pytorch_widedeep.preprocessing import DensePreprocessor\n",
    "from pytorch_widedeep.callbacks import (\n",
    "    LRHistory,\n",
    "    EarlyStopping,\n",
    "    ModelCheckpoint,\n",
    ")\n",
    "from pytorch_widedeep.optim import RAdam\n",
    "from pytorch_widedeep.initializers import XavierNormal, KaimingNormal\n",
    "from pytorch_widedeep.models import Wide, DeepDense, WideDeep\n",
    "use_cuda = torch.cuda.is_available()\n",
    "device = torch.device(\"cuda\" if use_cuda else \"cpu\")\n",
    "print(device, torch.__version__)"
   ]
  },
  {
   "cell_type": "markdown",
   "metadata": {
    "id": "wwIdrFTI3PtE"
   },
   "source": [
    "## Initiate Spark Session"
   ]
  },
  {
   "cell_type": "code",
   "execution_count": 6,
   "metadata": {
    "colab": {
     "base_uri": "https://localhost:8080/"
    },
    "id": "Yp9DPFjCqHd8",
    "outputId": "b978fc23-777e-4890-c92b-c21f772e199e"
   },
   "outputs": [
    {
     "name": "stdout",
     "output_type": "stream",
     "text": [
      "Spark UI address http://127.0.0.1:4040\n"
     ]
    }
   ],
   "source": [
    "# os.environ[\"JAVA_HOME\"] = \"/datasets/home/65/965/yux164/.jdk/jdk-11.0.9.1+1\" #for java path\n",
    "import psutil\n",
    "from pyspark.sql import SparkSession\n",
    "from pyspark import SparkContext, SparkConf\n",
    "NUM_WORKER = psutil.cpu_count(logical = False)\n",
    "NUM_THREAD = psutil.cpu_count(logical = True)\n",
    "def spark_session():\n",
    "    \"\"\"[function for creating spark session]\n",
    "\n",
    "    Returns:\n",
    "        [Spark Session]: [the spark session]\n",
    "    \"\"\"    \n",
    "    conf_spark = SparkConf().set(\"spark.driver.host\", \"127.0.0.1\")\\\n",
    "                            .set(\"spark.executor.instances\", NUM_WORKER)\\\n",
    "                            .set(\"spark.executor.cores\", int(NUM_THREAD / NUM_WORKER))\\\n",
    "                            .set(\"spark.executor.memory\", '4g')\\\n",
    "                            .set(\"spark.sql.shuffle.partitions\", NUM_THREAD)\n",
    "    sc = SparkContext(conf = conf_spark)\n",
    "    sc.setLogLevel('ERROR')\n",
    "    spark = SparkSession(sc)\n",
    "    print('Spark UI address {}'.format(spark.sparkContext.uiWebUrl))\n",
    "    return spark\n",
    "\n",
    "spark = spark_session()"
   ]
  },
  {
   "cell_type": "markdown",
   "metadata": {
    "id": "Fk_4OlS-pMTC"
   },
   "source": [
    "# The Data\n"
   ]
  },
  {
   "cell_type": "markdown",
   "metadata": {
    "id": "KB-fqhU0re-Q"
   },
   "source": [
    "## Sample\n",
    "\n",
    "We will first test our model on the sample of Movielens-ml-latest in homework2.\n",
    "\n",
    "**sampling methodology**\n",
    "\n",
    "We perform sampling w.r.t Conditional Matrix Sampling, in which, we will sample the matrix of $M$ user indices and $N$ movie indices filtering out users who do not have at least $i$ ratings and movies which do not have at least $j$ ratings. If numbers of users and movies do not meet the minimal requirements $M$ and $N$, we will keep sampling process with increased number of matrix indices for both users and movies until users and movies meet minimal requirements $M$ and $N$.\n",
    "\n",
    "In our case, we choose M = 20000, N = 2000, i = 100, j = 1000. 20000 users, 2000 movies, a user should at least rate 100 movies and a movie should be at least rated 1000 times. We choose a denser matrix than homework 2's sample because of we need more ground truth of recommendation when we evaluate our model. That is, the base model selects 50 items to recommend, then in our test set, on average each user should have 50 items or more rated then we can evaluate our model based on the test set. "
   ]
  },
  {
   "cell_type": "code",
   "execution_count": 7,
   "metadata": {
    "id": "q75WRyZSdpRg"
   },
   "outputs": [],
   "source": [
    "#running this cell takes over minutes\n",
    "def sampling(ratings,\n",
    "            num_user, \n",
    "            num_item, \n",
    "            user_threshold, \n",
    "            item_threshold, \n",
    "            random_seed,\n",
    "            userCol='userId', \n",
    "            itemCol='movieId',\n",
    "            timeCol = 'timestamp',\n",
    "            targetCol='rating'):\n",
    "    \"\"\"[method to generating sample from BIG dataset]\n",
    "\n",
    "    Args:\n",
    "        ratings (Pyspark DataFrame): [the BIG dataset]\n",
    "        num_user (int): [the number of users needs to have in the sample]\n",
    "        num_item (int): [the number of items needs to have in the sample]\n",
    "        user_threshold (int): [the number of ratings a user needs to have]\n",
    "        item_threshold (int): [the number of ratings a movie needs to have]\n",
    "        random_seed (int): [random seed of random sample]\n",
    "        userCol (str, optional): [user column name]. Defaults to 'userId'.\n",
    "        itemCol (str, optional): [item column name]. Defaults to 'movieId'.\n",
    "        timeCol (str, optional): [timesampe column name]. Defaults to 'timestamp'.\n",
    "        targetCol (str, optional): [rating/target column name]. Defaults to 'rating'.\n",
    "\n",
    "    Returns:\n",
    "        Pyspark DataFrame: [the sample]\n",
    "    \"\"\"    \n",
    "    n_users, n_items = 0, 0\n",
    "    M, N = num_item, num_user\n",
    "    while n_users < num_user and n_items < num_item:\n",
    "        movieid_filter = ratings.groupby(itemCol)\\\n",
    "            .agg(F.count(userCol)\\\n",
    "            .alias('cnt'))\\\n",
    "            .where(F.col('cnt') >= item_threshold)\\\n",
    "            .select(itemCol)\\\n",
    "            .orderBy(F.rand(seed=random_seed))\\\n",
    "            .limit(M)\n",
    "        sample = ratings.join(movieid_filter,\n",
    "                                ratings[itemCol] == movieid_filter[itemCol])\\\n",
    "                            .select(ratings[userCol], ratings[itemCol], ratings[timeCol], ratings[targetCol])\n",
    "        userid_filter = sample.groupby(userCol)\\\n",
    "                        .agg(F.count(itemCol)\\\n",
    "                        .alias('cnt'))\\\n",
    "                        .where(F.col('cnt') >= user_threshold)\\\n",
    "                        .select(userCol)\\\n",
    "                        .orderBy(F.rand(seed=random_seed))\\\n",
    "                        .limit(N)\n",
    "        sample = sample.join(userid_filter,\n",
    "                                ratings[userCol] == userid_filter[userCol])\\\n",
    "                            .select(ratings[userCol], ratings[itemCol], ratings[timeCol], ratings[targetCol]).persist()\n",
    "        n_users, n_items = sample.select(userCol).distinct().count(), sample.select(itemCol).distinct().count()\n",
    "        print(f'sample has {n_users} users and {n_items} items')\n",
    "        M += 100\n",
    "        N += 100\n",
    "    return sample\n"
   ]
  },
  {
   "cell_type": "markdown",
   "metadata": {
    "id": "MUByJHEnQ7uU"
   },
   "source": [
    "how we generate our sample\n",
    "\n",
    "```python\n",
    "num_user = 20000\n",
    "num_movie = 2000\n",
    "user_threshold = 100\n",
    "item_threshold = 1000\n",
    "random_seed = 0\n",
    "ratings = spark.read.csv(os.path.join(data_path,'ratings.csv'), header=True)\n",
    "sample = sampling(ratings,num_user, num_movie, user_threshold, item_threshold, random_seed)\n",
    "# save sample data to '/data/sample.csv'\n",
    "sample = sample.persist()\n",
    "sample.toPandas().to_csv(os.path.join(data_path, 'sample.csv'), index = False)\n",
    "```"
   ]
  },
  {
   "cell_type": "code",
   "execution_count": 8,
   "metadata": {
    "colab": {
     "base_uri": "https://localhost:8080/"
    },
    "id": "w0S6Irg7Q7uU",
    "outputId": "fe0cc8a9-14cf-4cbc-af3f-fff123bff738"
   },
   "outputs": [
    {
     "name": "stdout",
     "output_type": "stream",
     "text": [
      "x samples/\n",
      "x samples/sample_train.csv\n",
      "x samples/sample.csv\n",
      "x samples/sample_test.csv\n",
      "\u001b[34mmodel_results\u001b[m\u001b[m movies.csv    \u001b[34msamples\u001b[m\u001b[m\n"
     ]
    }
   ],
   "source": [
    "#load sample from local path\n",
    "compressed_sample_path = '../data/sample.tar.gz'\n",
    "!tar -xzvf $compressed_sample_path -C $data_path\n",
    "!ls $data_path\n",
    "\n",
    "sample_path = os.path.join(data_path, 'samples', 'sample.csv')\n",
    "sample = spark.read.csv(sample_path, header=True).select('userId', 'movieId', 'rating').persist()\n",
    "sample_df = pd.read_csv(sample_path).drop('timestamp', axis = 1)"
   ]
  },
  {
   "cell_type": "code",
   "execution_count": 9,
   "metadata": {
    "colab": {
     "base_uri": "https://localhost:8080/"
    },
    "id": "X72p-AB4DUtW",
    "outputId": "e091298f-9b4c-4361-d09a-4ef5c22b6fc7"
   },
   "outputs": [
    {
     "name": "stdout",
     "output_type": "stream",
     "text": [
      "+------+-------+------+\n",
      "|userId|movieId|rating|\n",
      "+------+-------+------+\n",
      "|     4|      1|   4.0|\n",
      "|     4|      5|   2.0|\n",
      "|     4|      6|   4.5|\n",
      "|     4|     10|   4.0|\n",
      "|     4|     11|   3.5|\n",
      "|     4|     20|   2.5|\n",
      "|     4|     23|   3.0|\n",
      "|     4|     31|   3.0|\n",
      "|     4|     32|   4.5|\n",
      "|     4|     44|   1.0|\n",
      "+------+-------+------+\n",
      "only showing top 10 rows\n",
      "\n"
     ]
    }
   ],
   "source": [
    "#sanity check for sample\n",
    "sample.show(10)"
   ]
  },
  {
   "cell_type": "markdown",
   "metadata": {
    "id": "1FtoZYiJraho"
   },
   "source": [
    "## sample overview\n",
    "\n"
   ]
  },
  {
   "cell_type": "code",
   "execution_count": 10,
   "metadata": {
    "colab": {
     "base_uri": "https://localhost:8080/"
    },
    "id": "j-24Vb_rq3X7",
    "outputId": "208400e9-ef2a-4ee2-877b-987f0beb8b2f"
   },
   "outputs": [
    {
     "name": "stdout",
     "output_type": "stream",
     "text": [
      "\n",
      "number of data points in the sample: 4340404,\n",
      "number of unique users in the sample: 20000,\n",
      "number of unique movies in the sample: 2000,\n",
      "average number of movies a user rated:217.02,\n",
      "average number of ratings a movie received: 2170.20,\n",
      "average rating: 3.46,\n",
      "standard deviation of rating: 1.04,\n",
      "average rating by user: 3.53,\n",
      "standard deviation of rating by user mean: 0.44,\n",
      "average rating by movie: 3.31,\n",
      "standard deviation of rating by movie mean: 0.50\n",
      "        \n"
     ]
    }
   ],
   "source": [
    "print(f'''\n",
    "number of data points in the sample: {sample.count()},\n",
    "number of unique users in the sample: {sample.select('userId').distinct().count()},\n",
    "number of unique movies in the sample: {sample.select('movieId').distinct().count()},\n",
    "average number of movies a user rated:{sample.groupby('userId').agg(F.count('movieId').alias('cnt')).select(F.mean('cnt')).collect()[0][0]:.2f},\n",
    "average number of ratings a movie received: {sample.groupby('movieId').agg(F.count('userId').alias('cnt')).select(F.mean('cnt')).collect()[0][0]:.2f},\n",
    "average rating: {sample.select(F.mean('rating')).collect()[0][0]:.2f},\n",
    "standard deviation of rating: {sample.select(F.stddev('rating')).collect()[0][0]:.2f},\n",
    "average rating by user: {sample.groupby('userId').agg(F.mean('rating').alias('rating')).select(F.mean('rating')).collect()[0][0]:.2f},\n",
    "standard deviation of rating by user mean: {sample.groupby('userId').agg(F.mean('rating').alias('rating')).select(F.stddev('rating')).collect()[0][0]:.2f},\n",
    "average rating by movie: {sample.groupby('movieId').agg(F.mean('rating').alias('rating')).select(F.mean('rating')).collect()[0][0]:.2f},\n",
    "standard deviation of rating by movie mean: {sample.groupby('movieId').agg(F.mean('rating').alias('rating')).select(F.stddev('rating')).collect()[0][0]:.2f}\n",
    "        ''')"
   ]
  },
  {
   "cell_type": "markdown",
   "metadata": {
    "id": "L8UBpsFnjQq4"
   },
   "source": [
    "## The Evaluation"
   ]
  },
  {
   "cell_type": "markdown",
   "metadata": {
    "id": "7Rm4PyxhlEsn"
   },
   "source": [
    "## Metrics\n"
   ]
  },
  {
   "cell_type": "markdown",
   "metadata": {
    "id": "W2eD8HHPm4wN"
   },
   "source": [
    "### Root Mean Square Error (RMSE)\n",
    "$RMSE = \\sqrt{\\frac{(\\hat{y}-y)^2}{n}}$.\n",
    "RMSE explains on average how far is our predictions of ratings from the real ratings. One of our strategies is we trained our models to reduce this distance as much as possible using a loss very similar to RMSE which is called Mean Squared Error. RMSE is better for presentation purposes because it has the same unit as our original target."
   ]
  },
  {
   "cell_type": "code",
   "execution_count": 11,
   "metadata": {
    "id": "XKdCE47JnVV4"
   },
   "outputs": [],
   "source": [
    "def rmse(with_pred_df, rating_col_name = \"rating\", pred_col_name = \"prediction\"):\n",
    "    \"\"\"[calculate rmse of the prediction]\n",
    "    Args:\n",
    "        with_pred_df (Pyspark DataFrame): [Pyspark DataFrame with target and prediction columns]\n",
    "        rating_col_name (str, optional): [column of true values]. Defaults to \"rating\".\n",
    "        pred_col_name (str, optional): [column of prediction values]. Defaults to \"prediction\".\n",
    "    Returns:\n",
    "        flaot: [rmse]\n",
    "    \"\"\"\n",
    "    return with_pred_df.select(F.sqrt(F.sum((F.col(rating_col_name) - \\\n",
    "                        F.col(pred_col_name))**2)/F.count(rating_col_name))).collect()[0][0]\n",
    "\n",
    "from sklearn.metrics import mean_squared_error\n",
    "def rmse_numpy(true, pred):\n",
    "    return np.sqrt(mean_squared_error(true, pred))"
   ]
  },
  {
   "cell_type": "markdown",
   "metadata": {
    "id": "U_kSyQ59aSwH"
   },
   "source": [
    "### Evaluation for Model Accuracy\n",
    "\n",
    "First step to evaluate our models is just treating the evaluation as normal Regression/Classification problems: by trainig the model with training set, and fitting the prediction in metrics on testing set. \n",
    "\n",
    "\n",
    "**we define ratings bigger or equal to 3 as `satifaction` or `positive`** \n",
    "\n",
    "**ratings smaller than 3 as `dissatifaction` or `negative`**"
   ]
  },
  {
   "cell_type": "markdown",
   "metadata": {
    "id": "8VenF4GrnBf4"
   },
   "source": [
    "#### Accuracy \n",
    "We define user rates a movie with scoring larger or equal to 3 as good and smaller to 3 as bad. Accuracy explains the percentage of ratings that our model generated are agreed with what the true ratings users gave."
   ]
  },
  {
   "cell_type": "code",
   "execution_count": 12,
   "metadata": {
    "id": "ftFnkjfSnWUG"
   },
   "outputs": [],
   "source": [
    "def acc(with_pred_df, rating_col_name = \"rating\", pred_col_name = \"prediction\"):\n",
    "    \"\"\"[calculate rmse of the prediction]\n",
    "    Args:\n",
    "        with_pred_df (Pyspark DataFrame): [Pyspark DataFrame with target and prediction columns]\n",
    "        rating_col_name (str, optional): [column of true values]. Defaults to \"rating\".\n",
    "        pred_col_name (str, optional): [column of prediction values]. Defaults to \"prediction\".\n",
    "    Returns:\n",
    "        float: [accuracy]\n",
    "    \"\"\"\n",
    "    TP = ((F.col(rating_col_name) >= 3) & (F.col(pred_col_name) >= 3))\n",
    "    TN = ((F.col(rating_col_name) < 3) & (F.col(pred_col_name) < 3))\n",
    "    correct = with_pred_df.filter(TP | TN)\n",
    "    return correct.count() / with_pred_df.count()\n",
    "\n",
    "from sklearn.metrics import accuracy_score\n",
    "\n",
    "def acc_numpy(true, pred):\n",
    "    return accuracy_score((true >=3), (pred >= 3))\n"
   ]
  },
  {
   "cell_type": "markdown",
   "metadata": {},
   "source": [
    "#### Precision\n",
    "\n"
   ]
  },
  {
   "cell_type": "markdown",
   "metadata": {},
   "source": [
    "We will adopt `precision` as a metric when we evaluate our recommendation system.\n",
    "\n",
    "The precision is the ratio `tp / (tp + fp)` where `tp` is the number of true positives and `fp` is the number of false positives. The precision is intuitively the ability of the classifier not to label as positive a sample that is negative."
   ]
  },
  {
   "cell_type": "code",
   "execution_count": 13,
   "metadata": {},
   "outputs": [],
   "source": [
    "from sklearn.metrics import precision_score"
   ]
  },
  {
   "cell_type": "markdown",
   "metadata": {
    "id": "BlL2PgC23ocb"
   },
   "source": [
    "#### Recall\n",
    "\n",
    "We will adopt `Recall` as a metric when we choose our base model. This is another strategies that differentiate our system from others' and this metric also serves the purpose of our business goals. We optimize this metric because we would like to give users better experience by letting the model make more correct receommendations that the users truly like.\n",
    "\n",
    "The recall is the ratio `tp / (tp + fn)` where `tp` is the number of true positives and `fn` the number of false negatives. The recall is intuitively the ability of the classifier to find all the positive samples. In our case, we set the ratings larger or equal to 3 as positive instances and ratings smaller than 3 as negative instances. "
   ]
  },
  {
   "cell_type": "code",
   "execution_count": 14,
   "metadata": {
    "id": "q0Wt5WbL4JdP"
   },
   "outputs": [],
   "source": [
    "def recall(with_pred_df, rating_col_name = \"rating\", pred_col_name = \"prediction\"):\n",
    "    TP = with_pred_df.filter((F.col(rating_col_name) >= 3) & (F.col(pred_col_name) >= 3)).count()\n",
    "    FN = with_pred_df.filter((F.col(rating_col_name) >= 3) & (F.col(pred_col_name) < 3)).count()\n",
    "    return TP / (TP + FN)\n",
    "\n",
    "from sklearn.metrics import recall_score\n",
    "\n",
    "def recall_numpy(true, pred):\n",
    "    return recall_score((true >=3), (pred >= 3))"
   ]
  },
  {
   "cell_type": "markdown",
   "metadata": {
    "id": "rCtwRTT4nMGL"
   },
   "source": [
    "#### AUC and ROC curve\n",
    "ROC examines the True positive rate vs. False positive rate. This measure gives us some understanding about the model on the recall as well. Beside recall, this measure also indicates how's our recall and false alarm (in this case, recommending bad movies but the model thinks is good to users) moves interactively.\n",
    "\n",
    "AUC calculates the area under the ROC curve, which provide us a single scalar value to quantify."
   ]
  },
  {
   "cell_type": "code",
   "execution_count": 15,
   "metadata": {
    "id": "vn6o8FWenafu"
   },
   "outputs": [],
   "source": [
    "import matplotlib.pyplot as plt\n",
    "from sklearn.metrics import roc_curve, auc\n",
    "from seaborn import set_style,set_palette\n",
    "\n",
    "def ROC(pred,truth):\n",
    "    \"\"\"\n",
    "    given prediction and groundtruth labels, computes false positive\n",
    "    rate and true positive rate\n",
    "    \"\"\"\n",
    "    fpr, tpr, threshold = roc_curve(truth, pred)\n",
    "    if auc(fpr,tpr)<0.5:\n",
    "        fpr, tpr, threshold = roc_curve(truth, pred)\n",
    "\n",
    "    return fpr,tpr\n",
    "\n",
    "def _plot_ROC(auc_dict:dict):\n",
    "    \"\"\"\n",
    "    plot ROC curves for the models in the provided dictionary\n",
    "    @param auc_dict: a dictionary containing names of the models and their\n",
    "    corresponding false positive rates and true positive rates\n",
    "    @param display: whether to display the image or to save file, default to False and save to file\n",
    "    @param fn: if display is False, fn will be used as the name to save the plot\n",
    "    \"\"\"\n",
    "    \n",
    "    # style setup to match with the rest of the report\n",
    "    set_style(\"darkgrid\")\n",
    "    set_palette(\"deep\")\n",
    "\n",
    "    for k in auc_dict.keys():\n",
    "        fpr,tpr=auc_dict[k]\n",
    "        plt.plot(fpr,tpr,lw=2.5,label=\"{}, AUC= {:.1f}%\".format(k,auc(fpr,tpr)*100))\n",
    "    plt.ylim(0,1)\n",
    "    plt.xlim(0,1)\n",
    "    plt.grid(True)\n",
    "    plt.legend(loc='upper left')\n",
    "    plt.plot([0,1],[0.001,1],'r--')\n",
    "    plt.tight_layout()\n",
    "\n",
    "\n",
    "def plot_ROC_numpy(true, preds, model_names):\n",
    "    plt.figure()\n",
    "    true_binary = true >= 3\n",
    "    for pred, model_name in zip(preds, model_names):\n",
    "        _plot_ROC({model_name: ROC(pred, true_binary)})\n",
    "    plt.show() "
   ]
  },
  {
   "cell_type": "markdown",
   "metadata": {
    "id": "BpK2J6uInPld"
   },
   "source": [
    "### NDCG\n",
    "\n",
    "Normalized Discounted Cumulative Gain can be calculated as following: $NDCG = \\frac{DCG}{IDCG}$, where $DCG = \\frac{1}{m}\\sum{u=1}^{m} \\sum_{j \\in Iu}^{} \\frac{2^{rel{uj}} - 1}{log_2(v_j+1)}$ and $IDCG$ is the ideal DCG.\n",
    "\n",
    "In short explanation, NDCG would measure the quality of our recommended k movies for a user as a whole. It's a ranking quality measure. Compare to other metrics, this measure gives us a better understanding not only on individual movies but also how these movies are located on users perferences. If recommended movies are on user's top movies list, then we say the recommendation is good."
   ]
  },
  {
   "cell_type": "code",
   "execution_count": 16,
   "metadata": {
    "id": "SfGhCuI8nbmf"
   },
   "outputs": [],
   "source": [
    "from sklearn.metrics import ndcg_score\n",
    "\n",
    "def NDCG(rec,test):\n",
    "    \"\"\"\n",
    "    if ratings are equal, we choose dense rank.\n",
    "    \n",
    "    Args:\n",
    "        rec(pd.DataFrame): the model recommended movies and predictions for users in testset\n",
    "        sample(pd.DataFrame): the testset with user and ratings for movies\n",
    "    Return:\n",
    "        NDCG of this serie of recommendations on the users in test\n",
    "    \"\"\"\n",
    "    test_copy = test.copy(deep=True)\n",
    "    rec_copy = rec.copy(deep=True)\n",
    "    k = rec_copy.groupby('userId')['movieId'].count().unique()\n",
    "    if len(k) > 1:\n",
    "        print(\"not all users have same number of recommendations!\")\n",
    "        return -1\n",
    "    k = k[0]\n",
    "    # generate rank for each users of movies in test\n",
    "    test_copy['Rank'] = test_copy[['userId','rating']].groupby(\"userId\").rank(method='dense').squeeze()\n",
    "    test_copy = test_copy[[\"userId\",'movieId','Rank']]\n",
    "    # this would filter out any irrelavent movies using inner join with the testset\n",
    "    combine = pd.merge(left=test_copy,right=rec_copy,on=[\"userId\",\"movieId\"],how='inner')\n",
    "    combine = combine[['userId','Rank']]\n",
    "    combine['Rank/log2'] = combine.Rank.apply(lambda x:1/np.log2(x+1))\n",
    "    DCG = combine['Rank/log2'].sum() / combine.userId.nunique()\n",
    "    IDCG = sum([1/np.log2(i+1) for i in range(1,k+1)])\n",
    "    return DCG/IDCG\n"
   ]
  },
  {
   "cell_type": "markdown",
   "metadata": {
    "id": "6ekwdrrUaoS5"
   },
   "source": [
    "### Item Coverage\n",
    "\n",
    "We folloed how Prof. Vintch talked about this metric on piazza. In offline setting, we define coverage as how many movies are recommended over the total number of distinct movies we have in our dataset"
   ]
  },
  {
   "cell_type": "markdown",
   "metadata": {
    "id": "82wOrRgqoBoX"
   },
   "source": [
    "## Train Test Split\n",
    "\n",
    "We perform train test split following splits based on every user's activities:\n",
    "- train, test : $75\\%, 25\\%$\n",
    "\n",
    "\n",
    "We only choose 75, 25 splits since scalibility of base models has already shown in hw2 and scalibility of deep learning model can be also demonstrated through scaling batch size or adopting more cloud computing power."
   ]
  },
  {
   "cell_type": "code",
   "execution_count": 17,
   "metadata": {
    "id": "GqHSeADIf02_"
   },
   "outputs": [],
   "source": [
    "def train_test_split(ratings, split, usercol='userId', itemcol='movieId', timecol='timestamp', targetcol='rating'):\n",
    "    \"\"\"[function to make train test split with respect to user activities]\n",
    "    Args:\n",
    "        ratings (Pyspark DataFrame): [the rating DataFrame to be splitted]\n",
    "        split (float): [proportion of training set]\n",
    "        usercol (str, optional): [user column name]. Defaults to 'userId'.\n",
    "        itemcol (str, optional): [item column name]. Defaults to 'movieId'.\n",
    "        timecol (str, optional): [timestamp column name]. Defaults to 'timestamp'.\n",
    "        targetcol (str, optional): [rating/target column name]. Defaults to 'rating'.\n",
    "    Returns:\n",
    "        [Pyspark DataFrame, PysparkDataFrame]: [description]\n",
    "    \"\"\"    \n",
    "    window = W.Window.partitionBy(ratings[usercol]).orderBy(ratings[timecol].desc())\n",
    "    ranked = ratings.select('*', F.rank().over(window).alias('rank'))\n",
    "    rating_count = ratings.groupby(usercol).agg(F.count(itemcol).alias('cnt'))\n",
    "    ranked = ranked.join(rating_count, ranked.userId == rating_count.userId)\\\n",
    "        .select(ranked[usercol], ranked[itemcol], ranked[targetcol], ranked.rank, rating_count.cnt)\n",
    "    ranked = ranked.withColumn('position', 1 - F.col('rank')/F.col('cnt'))\\\n",
    "        .select(usercol, itemcol,targetcol, 'position')\n",
    "    train = ranked.where(ranked.position < split).select(usercol, itemcol, targetcol)\n",
    "    test = ranked.where(ranked.position >= split).select(usercol, itemcol, targetcol)\n",
    "    return train, test\n"
   ]
  },
  {
   "cell_type": "markdown",
   "metadata": {
    "id": "SFFD7Q-bQ7uY"
   },
   "source": [
    "how we split the data\n",
    "\n",
    "``` python\n",
    "\n",
    "sample_train, sample_test = train_test_split(sample, .75)\n",
    "sample_train, sample_test = sample_train.persist(), sample_test.persist()\n",
    "# save to 'data/'\n",
    "sample_train.toPandas().to_csv(os.path.join('../data', 'sample_train.csv'), index = False)\n",
    "sample_test.toPandas().to_csv(os.path.join('../data', 'sample_test.csv'), index = False)\n",
    "\n",
    "```"
   ]
  },
  {
   "cell_type": "code",
   "execution_count": 18,
   "metadata": {
    "id": "IVBj4C7eQ7uY"
   },
   "outputs": [],
   "source": [
    "# load from local files\n",
    "sample_train_path = os.path.join(data_path, 'samples', 'sample_train.csv')\n",
    "sample_test_path = os.path.join(data_path, 'samples', 'sample_test.csv')\n",
    "movie_path =  os.path.join(data_path, 'movies.csv')\n",
    "\n",
    "sample_train = spark.read.csv(sample_train_path, header=True)\n",
    "sample_test = spark.read.csv(sample_test_path, header=True)\n",
    "sample_train_df = pd.read_csv(sample_train_path)\n",
    "sample_test_df = pd.read_csv(sample_test_path)\n",
    "\n",
    "movies = spark.read.csv(movie_path, header=True)\n",
    "movies_df = pd.read_csv(movie_path)\n",
    "\n",
    "sample_df = sample_df.merge(movies_df)\n",
    "sample_train_df, sample_test_df = sample_train_df.merge(movies_df), sample_test_df.merge(movies_df)"
   ]
  },
  {
   "cell_type": "code",
   "execution_count": 19,
   "metadata": {
    "colab": {
     "base_uri": "https://localhost:8080/"
    },
    "id": "w9yRMzjaFRw3",
    "outputId": "17a4daae-a9c4-4e2f-f929-b4ab5ec32581"
   },
   "outputs": [
    {
     "name": "stdout",
     "output_type": "stream",
     "text": [
      "4340404 3255932 1084472\n",
      "(4340404, 5) (3255932, 5) (1084472, 5)\n"
     ]
    }
   ],
   "source": [
    "print(sample.count(), sample_train.count(), sample_test.count())\n",
    "\n",
    "print(sample_df.shape, sample_train_df.shape, sample_test_df.shape)"
   ]
  },
  {
   "cell_type": "markdown",
   "metadata": {
    "id": "_iGjEqpPsaHV"
   },
   "source": [
    "# The Model\n",
    "\n",
    "The folloing image indicates our detailed pipeline of Model."
   ]
  },
  {
   "cell_type": "markdown",
   "metadata": {
    "id": "XyjT2GQ_S4QU"
   },
   "source": [
    "## Model Pipeline\n",
    "\n",
    "The model pipeline combines the models w.r.t graph below."
   ]
  },
  {
   "cell_type": "markdown",
   "metadata": {},
   "source": [
    "![pipeline.png](data:image/png;base64,iVBORw0KGgoAAAANSUhEUgAAB1gAAANZCAMAAACVxBy9AAAABGdBTUEAALGPC/xhBQAAACBjSFJNAAB6JgAAgIQAAPoAAACA6AAAdTAAAOpgAAA6mAAAF3CculE8AAABs1BMVEX////x8fHZ2dm6urqWlpb4+PheXl5tbW2WiXi6ponGro782af/26nGxsbuzZ96bVyok3fPtI1pX1IzMzO3n3/lxZqah27206NGQj6Le2VXUUjbvZTDqob72Kf8/Pyjo6OIiIjQ0NCzs7Pi4uJ7e3v31aWvr6/q6uptaWXQtpPixJvqy5/Y2NiTk5OOjo6EhISdnZ2lpaWUlJRycnKAgIDKysrMzMywsLCysrKYmJiZmZlRd4pJh6dGjLCWb2m6enHGfXQ6pNs6pt38jn//j4Cnp6eioqKsrKyFhYWNjY1zc3Puh3l6U03PeW6oaF81W243hKs5nM9fX19JSUlpaWk+Pj58fHy3bmTlg3ZGOzqaYVk4i7U3faEzPUObm5uLWlTDdGlpS0c5l8c2bYn7jX45odU3dZU0R1E4kb82ZHxUVFTbfnJXQ0D2i3w0UWA5pNrFxcW4uLjJyclWVlZFRUWQkJC/v7+xsbFBQUFmZmZOTk6Xl5c8PDyMjIxoaGiHh4d1dXWfn5+oqKiBgYGLi4tbW1u9vb3ExMQ4otc3g6k4k8I4ksA4lcRaZGlEkbhAmcY+nM3LsSGWAAAAAWJLR0QAiAUdSAAAAAlwSFlzAAAYmwAAGJsBSXWDlAAAAAd0SU1FB+QMEgQsK+xluxMAAFpiSURBVHja7d2JYxtVvuD7Jovd9960Zft4X1imM90z896je9xpnAa6mVZjxwmBkhyckEgKUIq2ABJgAiQQSEP3nbfNzPuT3/mdKm328ZKyfCTX+X7ubVmWSiVRFvXlVJVKv/gFAAAAAAAAAAAAAAAAAAAAAAAAAAAAAAAAAAAAAAAAAAAAAAAAAAAAAAAAAAAAAAAAAAAAAAAAAAAAAAAAAAAAAAAAAAAAAAAAAAAAAAAAAAAAAAAAAAAAAAAAAAAAAAAAAAAAAAAAAADAcb1w7vwFdJw/98Kw/yIAgDPs4oUx7HHh4rD/KgCAs+rc+LArNorGzw377wIAOJsumq7+8l/+FbF/+aUpK2NWAEASsh34X/7tEnr827/ohXJh2H8ZAMBZ9IJ0ddghGz1SVo5gAgA8v3O6IIxX9/k3vVjYywoAeH6/Ghv75bArNop+OTZ2fth/GwDAGURY7f6FnawAgCQIq92/ElYAQBKE1Y6wAgASIax2hBUAkAhhtSOsAIBECKsdYQUAJEJY7QgrACARwmpHWAEAiRBWO8IKAEiEsNoRVgBAIoTVjrACABIhrHaEFQCQCGG1I6wAgEQIqx1hBQAkQljtCCsAIBHCakdYAQCJEFY7wgoASISw2hFWAEAihNWOsAIAEiGsdoQVAJAIYbUjrACARAirHWEFACRCWO0IKwAgEcJqR1gBAIkQVjvCCgBIhLDaEVYAQCKE1Y6wAgASIax2hBUAkAhhtSOsAIBECKsdYQUAJEJY7QgrACARwmpHWAEAiRBWO8IKAEjkFMM6kclkJnuuTw07ls+DsAIAEhlMWCemJqdVJjMz03fr7JzKdK5Pq+6d83OZzEJm8XilzRhybTLjLs+EFQCQyEDCOqeWZpaXJ5eU6r99phvWS4vdsE4pNbkytdhz52HmZ5VamYiuTc/NuukqYQUAJDOIsM6puVVzZeKQsM50w7qkTCcn5c7VA+o60zMyVaqd08zMJUcIKwAgkQGEVY9XOwmcP0ZYJ+KB7bLsgJ1S1nnO92w4JqwAgLPj5GGdV2ql/4aZxcWZ+d6wLs/NzWR6w7rcnnZ1Sc3MzF5anZ2RH/oRM/qRE3OXFlWmO2bdG9YpPVU0h6k5mUg/eOrS6pT+34q+R0bDEyfeE0tYAQCJnDysK93uRbFTKjOtFqY6YdXxXJiZWerdFKwmo23Hq4t64szUpVl5iNIj2IklNamv6amXOkcU7w2rnmRmQQa6M0tLGbW0LM8zPbegZuYXFmYm5SnnF9RJy0pYAQCJnDysM/2HLM2rBZ26qYWF+XZYM2pxVS57D15SKj4MKXrw7Ip5oJlsbnlmoXeP7N6wLqs5CbB+kNLPMbGg5vW1pZWpxZkVGTovL+rp5hYmCCsAYBgGHtYZtWgSKGU0YZ2N7u8J66WJaZPW1U5YVzv9zMjF/GFhXVHT0S+LMsTVD1iRAa8kfS56apP3E3aVsAIAkhlIWHszFgd0UiJnwjoVHdvUG1ad1rkFZTLYrfJ8N6yXDgvrpWm1OBvNcWV2dlbmG4X10uqCmjxxUQkrAOAkTh5WPSLt3aGZiX4zTe1e7A1rtHt1tTNizejOLhwzrBN6tJuZlZsjnbCabcxzg0krYQUAJHLysK4q2enZE9aZY4VVjmmaaod1Uu7MHBzW+Dim+EM48zNLMkpe6gS9HdZL85ML3c/+EFYAgHsD+BxrRi2ttq/Oytki5JrZARrvY13oD+tsnL5pOU+ECeusqeGBYV1q71Vd6Q5d9f09c+x+XnZ1oftZHsIKAHBuAGGdX1DTcVkXZi9NRRWcluGkCase0U70hzVK34SpqblzJT4guDesk90nmIu3Ba8uyWTm9IZT+v6ZTtDjsC7KPZPyxKsnjithBQAkMohTGk7psk5NXJpfmZYATqvMxGw0yIy2As/JZ2tWlnrCurQyv7ocbcmdUdOzE7NKZVbmevexykkkZtvj4NUlpR+yshidWGJmYXl2Rka7enA6vTI7uzLfDmtmYXl5ZkGPj1en+RwrAGA4BnIS/lU5xldbWJyPjkpS8tHViYz+Oa0LN7kgp4Ewp3IQ84tm6kz0UVN9+6QeZio1uahvks/hmEjqQWym81nU+Tkz+2nT3ClzoJOE00y9NDmvw66W5HnkCZdmJax8jhUAMBwD+z7W2dnZnut77pzfc6jufHeCaFi6/1DefY+wfa/N6qz9GOBVPscKABiOU/yi8zONsAIAEiGsdoQVAJAIYbUjrACARAirHWEFACRCWO0IKwAgEcJqR1gBAIkQVjvCCgBIhLDaEVYAQCKE1Y6wAgASIax2hBUAkMhzh3VWO+mJeI9naqnzDeer8qyrx32gnJuYsAIAhuK5w5qJzrevlmZOfD7eo5+rHVZzun0VnWr/OAgrAGBIEmwKlm+Bm53Rw8lTL2snrPJdc2p2Sj/p0rHGrYQVADAkicIq36w6pXq/i9xFWKMnPdaYlbACAIYkcVh19Rach/XSklokrACAEZY8rItqyfw6MacyUf+WFxeirydfXVzSV/SNE4uZyeW5hcXZSxMrmaWZ1Uurc5nM/OTS9NSl+anFhTmzMXl+ZsHsO53MZCam5paiG2fnlFpY2BfW6EmXM/IF56uXLs1kMjNz0aP11alLExm5bIc1I2Zl8szU6tTS7HH/AQkrAOCYzr2495bEYZ2NNwVn1OLytJq+JNtpFxZXZJA5v6Ayy4tKLeumKZXJyJFH5nJFN1ep6UxGjkOSG2T4uaKWVmbUgs6enk1G93Q6mvvc7Oz03rCumofM6FcwFe1u1Q+ZmdRX5+WF6Je1OmdeXBRWPdXcguwJnlRLC0oRVgDAoI2NvbSnrQnDOq+jtzAR1dT0bVkaKuNX3a85k9wpGVyaHq5Oq4y5nDaP1oGbM9PqSz2GNcPSGTUXb/mdkYOi5qOx6r5NwTMS51UTy1UTUjOFnvNUHFY9RTesK2YWK2buq6szhBUAMGhjoq+ticJqLJpNttEIcVJfzkW7P5fnL8WDQ/kR9XBZwnpp3lyP7ozKJyPS5XiEmml3dLrzsD1hnZrJLEh/p8wjdC07D1mWp94fVrEov0c3PhfCCgA4hrHYy69cjG9J+HGb5XhHq85ZZmZmRqI2LWNDsRp/EGdBD2OjQppsxrlrh3U+DueMWtIzMEPYTGeYOhM9oD+sEvOpdlGlpgvtKWajq3vDujo7a14ZYQUAnJKxrritSfexzig10Q3rzMzUpc5OzHi4aUrXDuvCvrB2G7pkZjDTG9Y5GZnajgqOhqqTnVuiKSaiq3vDOq0yc4QVQI8Xzv0KGKixPtLWxAcvLanp1UvtnF0yN6x0JjDNXehs042raA3rSjT+7Hb0wBFrN6z7R6y2sJr9tjMnCOuw/1pIv3MvDLsznnllfAw4bS//hxMeFTzZOU1EplPI6MijVenr0WGdNUc/7QmrdR9r++pU9Dmfvn2s5upkX1jn5dCok4QVcGD818NujUdevCCL/AIwUHv+nb58/oXkn2OdNHGc7ZwLaUpF22+lY4urcfiODuulhfbDesKqb5xZPSis0XHE8/GhwNHxTivysR05TLlnxKpOOGLl3z+cOvnX8KUXT14MHMtLemmzjQCD1lvVl1+Rd9hzh3ViWanF2XnTt6XlefnMzPTMpJwWQs7aMDeTWZaPvyxNRR/HWZaCrq6oJX05az5do9TKqmRSLuVTOhJkediUPEzfOGFunNAzn8x0T2A4O6Ovt7/fRj9icWbBDJAzamV2OWOOR9Yj1AX5bOykeSY9rb6eWZLf5+fU3HN91uYS+1jhyAu6reeH/SJ88WuWNU5DT1Xjw4KfO6yT5nxGErzl6OdUZml60nRLX1vIyPbY1ZnMQkbOoCRnQspMmIdMyeXif1zUl5Pm5smp+MRIs4vTS3NTq5fmZKqJ+MaJucz01EpGZzoazBrtr6ub0I/IrESD3OnMdCbK7+zi3NT8VPxM+nXIWZ5m9PxWJtuvmLBi9PxmbIytwW5cGHt52C8BaRRV9ULnwzZn/ovOM893PqXjI6xw5MWXx14a9mvwxPjYK8N+CUijsX2nXiKsdoQVrrwyNj7sl+CJsbHfDvslII1e2neyYMJqR1jhym/Hxi6efC44GmGFI2c7rDNLau65D/g9FsIKZ1jfO8KChiNnPKzRKZtOAWGFM6zvHWFBw5GzHdbTQ1jhDOt7R1jQcISw2hFWOMP63hEWNBwhrHaEFc6wvneEBQ1HCKsdYYUzrO8dYUHDEcJqR1jhDOt7R1jQcGQUwro6O9s+DfDIIKxwhvW9IyxoOHKisE71fdpl+dDPvqwcnM75mYXDz/OwOmueSU79T1iROqzvHWFBw5GThXVSqU4SVxeUmjwwrJPd7zO3OPwESisLanpxUr6p5pROs0RYMUys7x1hQcORE24K1mFdbOdPdb8ydb+JpYlDZnNoWKdV/Ngpwoo0Yn3vCAsajpw0rHqYGm+gXVo6LKyHOyysK2qhvRV5mrAihVjfO8KChiMnDeucUtHm3yk10w7rxPLywXtDZ+M4zveOYHVY5w/Yg7q6oOba16fm+3+a+e25OtGe/8kiTFjhDOt7R1jQcOSkYZ1ZVAvm2lJmNgrr/LQMY6fnL03oIWxm6tJERi1MTi5F+1inpvVt8uXlsne2u9s1o/TtakG3Vtd5Qd+cWWjfObt3z+rqjJ7v3MSlVd30lUWllmYvreq5zc8sZeL5y3eaz8j8E4+gCSscYn3vCAsajpw4rDp8ErJlNRuHdUktzs9n1JLcZjYTry7MSB8llHP6cmJBrVyakF9XesK6MjGxaMq6GBV1sWfXbf/xxEt6iDy1oCZkB+/M8nK0k1f3NTOdiea/ZOY/LYNowoozgPW9IyxoOHLisOrQTUsapy9FYZ2KwjgtuV1Sk+aW+Tis8yq6Oq0HlLJ9t7M1ONrHuig3zpppVtVyfNfMnnHnlFpavRQ93tyzYi7NsHZKz39C5rAUz3/56H8AwoqhY33vCAsajpw8rFMStVnd0Sisiyam0Y8pc9zRtDTOhHXWNFimm18w49z+sEoR4xqvLLXv6oR1flbEyVyR2UX3dMOqZyCbpSf2z5+wYoSxvneEBQ1HTh5Wc3RRZulSHNaMWol6mDEHHk3pzs22w7qiYubqUjd9UVhXzWB1RfI63flA7Ep7H+tsZkEtLF6ai2dhC+tU//xXCCvOAtb3jrCg4cjJwyrHIU3I+HB/WPVd05fmzOAzDuv0bDTulDGpMuPXfWHVl8sTqnPc72z7sGOZKiND4UUziwlrWBc685/S8186xj8BYcWwsb53hAUNRwYQ1nmlFmSTbzuspoNzZoutvmt5YaoT1tm+/aWzC50dqe1NwSp66OLkYmeq1c7xwVFYZ7rHEls2Be+Zf/LNwYQVzrC+d4QFDUcGEFY9iDQ/ZuODiTJRBFcumbuWotM7tA9eio9XWpYbZ3rGorPm93hwqxZ6iriior22cVijg5fsYd0z/5X2AwkrRhnre0dY0HBkEGFdjs6NFIV1dWFh5tLqjGr3ND69Q/Rxm4xaMAG8NDO9Kh9wbR8WbMIaf3BHDl9a6H0O3W1zBv/VaTOPBfmMrP7NElY92F1YNveZ+S+q5IcFE1Y4w/reERY0HDnZSfj1gHRSF21Jx3N+clqpRd3ZZV2+pSigJpJmb+nMnFqamb00oadZkMN+9eC09wQRi2o6M93Zmbp3pDm1oCedk4fK7bP6t6Ul3eBl/YDZ+RmdY7mYkwfPy0TTuuV75k9YMcJY3zvCgoYjJwrrhBwopMM5vxp9qWp02ND81MzMcntz7exK9COecnU5vk8/dKbnjEqrszMzK+3xa8+hS+25yNfGLcf3r+pfZuMnnDeX/7H91Oa762zzJ6wYXazvHWFBw5FR+KLzvSZPMNIcFMIKZ1jfO8KChiOjFtZlPdhcOMEZkwaFsMIZ1veOsKDhyKiFNZOZ6X6bzRARVjjD+t4RFjQcGbmwqsziyedycoQVzrC+d4QFDUdGLayjgrDCGdb3jrCg4QhhtSOscIb1vSMsaDhCWO0IK5xhfe8ICxqOEFY7wgpnWN87woKGI4TVjrDCGdb3jrCg4QhhtSOscIb1vSMsaDhCWO0IK5xhfe8ICxqOEFY7wgpnWN87woKGI4TVjrDCGdb3jrCg4QhhtSOscIb1vSMsaDhCWO0IK5xhfe8ICxqOEFY7wgpnWN87woKGI4TVjrDCGdb3jrCg4QhhtSOscIb1vSMsaDhCWO0IK5xhfe8ICxqOEFY7wgpnWN87woKGI4TVjrDCGdb3jrCg4QhhtSOscIb1vSMsaDhCWO0IK5xhfe8ICxqOEFY7wgpnWN87woKGI4TVjrDCGdb3jrCg4QhhtSOscIb1vSMsaDhCWO0IK5xhfe8ICxqOEFY7wgpnWN87woKGI4TVjrDCGdb3jrCg4QhhtSOscIb1vSMsaDhCWO0IK5xhfe8ICxqOEFY7wgpnWN87woKGI4TVjrDCGdb3jrCg4QhhtSOscIb1vSMsaDhCWO0IK5xhfe8ICxqOEFY7wgpnWN87woKGI4TVjrDCGdb3jrCg4QhhtSOscIb1vSMsaDhCWO0IK5xhfe8ICxqOEFY7wgpnWN87woKGI4TVjrDCGdb3jrCg4QhhtSOscIb1vSMsaDhCWO1+OTb2m2H/beAJ1veOsKDhyCtjY/9p2BEbRf9pbOyVYf9t4AnW946woOHIb8fGxv7zsCs2ev7zGP8OwhXea46woOHKZT1k/S/D7tio+S96wHp52H8Z+IL1vSMsaLgiQ9axX/7r/4aOf/3lGANWuMObzREWNJw5PwaL88P+u8AbrO8dYUHDnVfGhx2x0TPOkUtwhvW9IyxoOHTxVy9dHnbJRsnll351cdh/E3iE9b0jLGgA8APre0dY0ADgB9b3jrCgAcAPrO8dYUEDgB9Y3zvCggYAP7C+d4QFDQB+YH3vCAsaAPzA+t4RFjQA+IH1vSMsaADwA+t7R1jQAOAH1veOsKABwA+s7x1hQQOAH1jfO8KCBgA/sL53hAUNAH5gfe8ICxoA/MD63hEWNAD4gfW9IyxoAPAD63tHWNAA4AfW946woAHAD6zvHWFBA4AfWN87woIGAD+wvneEBQ0AfmB97wgLGgD8wPreERY0APiB9b0jLGgA8APre0dY0ADgB9b3jrCgAcAPrO8dYUEDgB9Y3zvCggYAP7C+d4QFDQB+YH3vCAsaAPzA+t4RFjQA+IH1vSMsaADwA+t7R1jQAOAH1veOsKABwA+s7x1hQQOAH1jfO8KCBgA/sL53hAUNAH5gfe8ICxoA/MD63hEWNAD4gfW9IyxoAPAD63tHWNAA4AfW946woAHAD6zvHWFBA4AfWN87woIGAD+wvneEBQ0AfmB97wgLGgD8wPreERY0APiB9b0jLGgA8APre0dY0ADgB9b3jrCgAcAPrO8dYUEDgB9Y3zvCggYAP7C+d4QFDQB+YH3vCAsaAPzA+t4RFjQA+IH1vSMsaADwA+t7R1jQAOAH1veOsKABwA+s7x1hQQOAH1jfO8KCBgA/sL53hAUNAH5gfe8ICxoA/MD63hEWNAD4gfW9IyxoAPAD63tHWNAA4AfW946woAHAD6zvHWFBA4AfWN87woIGAD+wvneEBQ0AfmB97wgLGgD8wPreERY0APiB9b0jLGgA8APre0dY0ADgB9b3jrCgAcAPrO8dYUEDgB9Y3zvCggYAP7C+d4QFDQB+YH3vCAsaAPzA+t4RFjQA+IH1vSMsaADwA+t7R1jQAOAH1veOsKABwA+s7x1hQQOAH1jfO8KCBgA/sL53hAUNAH5gfe8ICxoA/MD63hEWNAD4gfW9IyxoAPAD63tHWNAA4AfW946woAHAD6zvHWFBA4AfWN87woIGAD+wvneEBQ0AfmB97wgLGgD8wPreERY0APiB9b0jLGgA8APre0dY0ADgB9b3jrCgAcAPrO8dYUEDgB9Y3zvCggYAP7C+d4QFDQB+YH3vCAsaAPzA+t4RFjQA+IH1vSMsaADwA+t7R1jQAOAH1veOsKABwA+s7x1hQQOAH1jfO8KCBgA/sL53hAUNAH5gfe8ICxoA/MD63hEWNAD4gfW9IyxoAPAD63tHWNAA4AfW946woAHAD6zvHWFBA4AfWN87woIGAD+wvneEBQ0AfmB97wgLGgD8wPreERY0APiB9b0jLGgA8APre0dY0ADgB9b3jrCgAcAPrO8dYUEDgB9Y3zvCggYAP7C+d4QFDQB+YH3vCAsaAPzA+t4RFjQA+IH1vSMsaADwA+t7R1jQAOAH1veOsKABwA+s7x1hQQOAH1jfO8KCBgA/sL53hAUNAH5gfe8ICxoA/MD63hEWNAD4gfW9IyxoAPAD63tHWNAA4AfW946woAHAD6zvHWFBA4AfWN87woIGAD+wvneEBQ0AfmB97wgLGgD8wPreERY0APiB9b0jLGgA8APre0dY0ADgB9b3jrCgAcAPrO8dYUEDgB9Y3zvCggYAP7C+d4QFDQB+YH3vCAsaAPzA+t4RFjQA+IH1vSMsaADwA+t7R1jQAOAH1veOsKABwA+s7x1hQQOAH1jfO8KCBgA/sL53hAUNAH5gfe8ICxoA/MD63hEWNAD4gfW9IyxoAEi7i78VY2P/u768OOwXk36EFQDS7txY16+H/WLSj7ACQNq92BPWF4f9YtKPsAJA6r3U6erLw34pHiCsAJB63W3Bvxr2S/EAYQWA1HtxvB3WF4b9UjxAWAEg/X4Td3V82C/EB4QVANLv13FYfzPsF+IDwgoAHoi3BZ8b9uvwAWEFAA/E24I5PYQDhBUAPPBbPmzjDGEFAB9clrCeH/ar8AJhBQAfnJewssJ3geUMAD54QcI67BfhB8IKAF64PDb20rBfgx8IKwB44fzY2CvDfg1+IKwA4IWLfNjGEcIKAH54+fKwX4En+C8YAPDDK2n/sM0L585fQMf5c3zjghd43/fhfe+JUXnf/x+vDvsVGKf1vr94YQx7XGDonHq87/fjfZ9+vO/3O433/bnxk7+u9Bnn5NApx/vehvd92vG+txn8+/6iWc6/+/1/Rez3vzNLmv92T7XofX/51TXEXr3M+z79ovf9H678DrErfziV971sF/j9H19Djz/+Xi+UC8P+VwCnSd73r65fRY/1V3nfp52876/86XX0+NOVwb/v5bxSvx92yEaPlJUjOVJM3vevDjtko+dV3vfpJu/7K8MO2ei5MvD3/Tk9R8ar+/xxjK/gTTV53zNe3Wed9326yfue8eo+fxr4+/5XY2O/G3bFRtHv+EajVNPv+8vDrtgousz7PtX0+/4Pw67YKPrDoN/3hNXu9+xsSjXCavcq7/tUI6x2Vwb9viesdv+VFUyqEVa7Nd73qUZY7X5HWN0grOlGWO0Ia7oRVjvC6ghhTTfCakdY042w2hFWRwhruhFWO8KaboTVjrA6QljTjbDaEdZ0I6x2hNURwppuhNWOsKYbYbUjrI4Q1nQjrHaENd0Iqx1hdYSwphthtSOs6UZY7QirI4Q13QirHWFNN8JqR1gdIazpRljtCGu6EVY7wuoIYU03wmpHWNONsNoRVkcIa7oRVjvCmm6E1Y6wOkJY042w2hHWdCOsdoTVEcKaboTVjrCmG2G1I6yOENZ0I6x2hDXdCKsdYXWEsKYbYbUjrOlGWO0IqyOENd0Iqx1hTTfCakdYHSGs6UZY7QhruhFWO8LqCGFNN8JqR1jTjbDaEVZHCGu6EVY7wppuhNWOsDpCWNONsNoR1nQjrHaE1RHCmm6E1Y6wphthtSOsjhDWdCOsdoQ13QirHWF1hLCmG2G1I6zpRljtCKsjhDXdCKsdYU03wmpHWB0hrOlGWO0Ia7oRVjvC6ghhTTfCakdY042w2hFWRwhruhFWO8KaboTVjrA6QljTjbDaEdZ0I6x2hNURwppuhNWOsKYbYbUjrI4Q1nQjrHaENd0Iqx1hdeRMhPWFc+cvjKDz514Y9pI5EmG1OxNh5X2fGGG1I6yOnIGwXrwwNrIuXBz20jkCYbU7A2HlfX8ChNWOsDoy+mE9Nz7stchhxs8Ne/kcjrDajX5Yed+fBGG1I6yOjHxYL5r1yxtv/nnkvPmGWcOM9n+7E1a7kQ9r9L7/y1v/beS89Zez8b4nrBaE1ZGRD6tsD3vzr9mR9Nc3x0Z98RFWu5EPq7zv3/rb2yPpb2+dhfc9YbUgrI6MelhfkK4OO6AHk7KO9JEchNVu1MMq7/u3hh3Qg711Bt73hNWCsDoy6mE9p/8NHtHxqvirfnkjvbeJsNqNeljlfT+i41XxtzPwviesFoTVkVEPq/67vTHseh7mjbGx88NeRkcsP8JqMeph1X+3vwy7nof5y+i/7wmrBWF1hLCezJujv/wIqwVhPZm3Rn/5EVYLwuoIYT2ZP4/+8iOsFoT1ZP7b6C8/wmpBWB0hrITVR4SVsPqIsDpCWAmrjwgrYfURYXWEsBJWHxFWwuojwuoIYSWsPiKshNVHhNURwkpYfURYCauPCKsjhJWw+oiwElYfEVZHCCth9RFhJaw+IqyOEFbC6iPCSlh9RFgdIayE1UeElbD6iLA6QlgJq48IK2H1EWF1hLASVh8RVsLqI8LqCGElrD4irITVR4TVEcJKWH1EWAmrjwirI4SVsPqIsBJWHxFWRwgrYfURYSWsPiKsjhBWwuojwkpYfURYHSGshNVHhJWw+oiwOkJYCauPCCth9RFhdYSwElYfEVbC6iPC6ghhJaw+IqyE1UeE1RHCSlh9RFgJq48IqyOElbD6iLASVh8RVkcIK2H1EWElrD4irI4QVsLqI8JKWH1EWB0hrITVR4SVsPqIsDpCWAmrjwgrYfURYXWEsBLW07axubk57NewF2ElrD4irI4QVk/Dem1LXN/cXD/9iN1Qqn11q8e1Qx6zGU8Tvda1rbWeidevE9ZjeufmzZvvPsf07+npCWuKEVZHUh1WFQtyecK6L6zbSt2SpfP+6Q8nO2HVz7m9rZ91W574sOfdiv90JoJqR0+/1rnvtrpNWCN3zEL6oP/3m+/c7cb0nrrzXCVWirCmGGF1JNVhzRaUyhWLxZJSp1XWMxtWPSg02drcUTsOw7oVRVOu7xwa1ludEet9tb1+9UZPhzd2NuTH9cNGvJ6EVUIYh/PDd8yPj9S7b7+nPu5J7XOF9W3CmmqE1ZF0hzVUKoz6Wias9rBK5taeo0gnDOv9bli3Dw3rdufq+0oedEPd2PvyTzLSTktY3/5YfWh+fqDei0aod6WuDwgrYbUhrI54EdZsWakKYbWHdf2Wej+6Yb1bqs3NjT1X5P7o6rXuSHFjved2mbpnh237xvXNzc1OWM0D4rDK9Y2ew5qudZ+pL6xKrZtXu2dg/X47rD2PW7/W87L8COu7SpmK3lN3ze937/XfT1jRg7A64kdYq6omP4rFYrlsClvXV4vRtUb5JM09+2G9ppQ5GGjjhlK31iRJG9vt3ZtmT+eOHjDe31Hv39jR92/efqhk7KineXj7ltrZ2rwu+00laOtb+vfb165e21a3rr+/E9/4vp6B6oQ1imb71zW5R55945Z6KHteu5XthjV+mRtRX7VtPeur6zfkoVt6HtvR47Z21G39XNv379/QL0P+ie7fOmRHbmrC+kAp2aH64K5Sn+ifn+jLd+/cMftYH7z74c2bn0Zhfefeh909sTLFvXuf6Vtlyg/uxHe9c+/mzZuENdUIqyNehLVSU1X5VQXVphm7VlWj2JC76rVSNVBB8rSe/bDqMF2LRoQb69s6WVc3dnZu3792S0kBb91fv23itKW2t0xCt67rsm7I9LIXVMmlnuK2TuiO7tx1yZ+e8dbadXPj1Ydqe6NnU3BfWNckgNd3ZEu0fqbNjesyh/Y0DzfjwXJ7uNtt5JaEVd98ffPa1Rvq4frGjsR5W93YWtMt1Zc7JsK39D/Xxk7aw/r2h2Zb8LvqrvkpW4LfeU/Job0PPlZ3P7pzU8L6zk117576tJPWmx+/97FS78ge2bvq40+jJt9R6r2P7hDWVCOsjqQ+rOViMSiVii35NZD/qVw2W1L692KYbZVUIZttRNn1MKyb9+MqSpe2TL2uSaHMvTKWjbbcvi8XW2arsVw+lMtNabDuWnR566pu6raZzfU4hfGND6Mo2sJ6y6RyU6bbMg++H019tT1WVjtrB4U1/v2aifx9mcW2/L5hbt2QWG/IjVc3DjjCKT1hjbYFf/zxR+an2RL8gQnrh+reg3hTsO6qRLTzSZr39B3vyU5ZM+U7d+XuT6LwEtZUI6yOpD6szSDQa+hGvX1TUQUS1uj3umqay8DTsJp4bfZ0S1rXOZgpTpr5YcLaexmFtX2p2mWW++LDjeXy/aja1rCuR0Nl08aolVc7m3uNa2s7nbkdENbNqJ7R829e7V5uyWD59sH7WtMTVrMt+DP17mdKffT2O2bsaXL5wAxJTVgfmOY+6G/mHZkoSrBJ7ofR0U+ENdUIqyOpD2uof7SKSkamci0sS0XrqmT2sBZVMwzDnMmrj2E1F9fjbj3c3t7eUZvdnZlx7TaOG9Zb2/IZ1du9YX0Yzd0a1t5ixk+1vecA5TU9hD00rPIRV80aVv26d7YOSmt6wqqLePPt9+4+0D8/1j/fbof1gyiRElZ99QMtPswpyvEH73XDai4/1V0mrGlHWB3xIqxyWLAcvVTVA9iaGZ6W9VCt3NJhLQWGt2HVY8qda1G3rm+K9e4hvHHtzMjywLDe6ob1hpnBRm9Yd8xHZQ4P605vWPtPqiSR746br/W9rjist8yTblrCevW+Du7OxlWrFIX1XaU+ky3A+uc7n97rhPVO9GHWOKw3jXc6o1X18cd7whqfZ4KwphphdcSTsNblSih1LUbbffPlkqq2fzmBMx/W9Z32VtjNTsziGN2PPuHyXJuCuzOONwVvHRjWeBdu74j1VmdUutkJqw7vno/b9G0K7sx5f1j1Uzzc++nXFIb1gc6mieJd/fOTTlg/iT5/E4e17xHvqE8ftIe1nbDejR5LWFONsDriSVj10LSVrckvpqUt09pavI/V67DqfJph4q3OYHGnHaONaILr0dFFR4U1bmN/WDv7Ti1hNUPVvumudfexRnG/LcdN7TtBxL6Dl6xh3dgwc7yV+rC+fU+pT+Of0WdZTSg/0wPZt3v3sXZ9LJ/Q2RvWD6PP5RDWVCOsjvgR1lZNTr2k5OhfE9amLmtLh7Wl5Bhhv8Mqn7fZkI2q7bLq7t3QfVtf1/e8v35181b0eZijwnotelh/WK/pSl+Tu2xh3ZKPum6Y0WXUyve7JwE2Gd0wtW+f0vB+f1i3zcTb7YOv9oV1c2fj6vrWQacVTlNYP1HR7tF3lLrXDevb0SdYzVHBn8anZ4p9KtPtDesd9fEDwpp2hNWRdIdVzhUchoVqSZUq8kkbVW2YfayqWSg2JbNVpcqFejH0MKxyEv735RtmdPxu3ZZPhCq1vXMrOqeDurVza122pMrp7+VDqttqe+vq9c6l7HS9tXXt/g19uXH/Rry/U8lpHuQQX7V1beNG+5MvOzs7vWdNXNu6FT+xPJH8/7q0cmdL3957uqWd92+Zj9vsPQn/un7h+qllG7aefuOhkntvXL12S91Yk3NU3Lgul++vb6od/US3Uv9xm7dlK+6DeCT6SU9Y37mrPn73jsmrTu/Njz640z41/4dKvXfv0z1hlY+93vnoHmFNNcLqSKrD2v52m2bZfLomr8sa1OW8wY0gUNFnW3M1fXc1+Sn6z3BYO1/ddj/6ubF143q0XVVf29oyV+/raxtX4697ix4SXZqvdbtmbt5ci2d07frtLWmp+XWzfePa1tr6Ws93xK31fGfcpp79ZjwI3YqfMh5Or+m77scP2rh+u/u1cdfaD9+8LmdQXNcvUc4XJTeuxfeZ63K6xK0Dv2AuVWG9F49HP4rPaijv+Y/MaSHUh++Zqx98rNSn9z6Jp/9Ml/Wmju29Dz7VU74jX4mj5/Dgw0/Vpx/pez4jrKnlT1g//+KLL74c3tOnOqzH0zrJg89uWEfK1kEHGZ2WVIX1sziFD945ZKIHx54dI9aBW9v9avdRkgc+2t1N9sADnLWwfn5B+7r925fy2xcHTfv1N72/fXHhW/XFa0NDWE+GsA7EVs9WYCdSFdYhONthVb0O69BuNMlu54bHT75LkLPvvle7T54mKuF3T1SyB6YlrD8o9UP7twv6+oFh/fxb9XXfDT8Q1kP/boT1ZMuPsFoQVq/D+vjy06eP1ZMfnz17/FxhXfte/ZggZ8/0o9YSDjx3vQ6rian6PLr65bdKXTh4yitX+n8nrB3jv/n1i/v+boT1ZMvvDIT1tny1zal/K2yv0Qqr/rvtuYWwnnj5HRbWp6Z2ppeHh/XZnhsema4+3X39uZwkjoRVqbiYf1dPDgvrXoS1Y0x76VxvGwjriZffGQjrhpw86drJ53N8oxVW/Wcb3/d3I6wnW36HhNV0MQ7roY3cF9b4ZsLas6BPO6xX1LfRUUhPrvwQh/XLL346+MikL3/6si+s7d/N9a+jn1+cdnNHL6z9bSCsJ15+ZyCs7o1cWPf/3QjryZbfUQcvPWtv4V17tru7fVlf+fHZs6c/bz9eOzCsa8+ePdP3/qy+Mj9f/3l3XP/4Tt/6+s/bcvXRs+2fZUK56dnP8aMeXf5KPX4mc7q8vbv7zEym71zrTPD62vjuz+35bz8ze3G/+3F8d/fxzyasjy5v/9zetWse+vrP0dzXOk+z9tg8sfwTvP708cFbnc9iWL9W6u9y7Sf1dRxWPYr91tz4D6We/KB//FP98z/8oExIv76i77zweSes7d/1Y5/o6dQPurJf/1M28D/H4DclYdVefuVi++9GWE+2/AirxUiGtacNhPXEy++4YX36vdod1//T6dpW3+/uKvW4c4DSnrB+9+NXevz44xOZ7NHrl7//6tkT9VjHTqnv1VdK7X6vf6pxOVjp+2fPvm8Pa8f17U9kkLurvtcP+P6pSfNjpeKZr22r7XH11Y/6pajH23ra180xS2r3sYoe9L3+Zbv9Gn6WGx+Ny+VTHfhxeZq1XfVYz+Gp/BPs6okPHuOexbDqQj6RazqhUVgvqCffvPb3b9VPr732z2gz8YVv2yH9WvJ6xTzA/P6FUl9Hv3+hnvz0hS6xftQz9c1rX/7Ty7C220BYT7z8CKvFqIa13QbCeuLld9ywfqUumzQ9k5v0xXfmhjisX+3u7o7/3H2Q2TD71DxyTalHEsCf5SjjKIXm8iuJn9R1vP9R8oS62JdlgqdK/fj0chxW088fzc3yxErpMa0J9utPduPH6gq3Yx89ubl8LEdSPdqO5/CzzEE/x9OnT1IW1p/MWPQbfRGFNfoczTdSS32XbOd98o92SK8oufpPXc7+37/QYf3BTPTstdcktq99eapbgyWsYyPr5fP/fgbCOuyldMTyI6wWa8P+0xzqpXP/ffTDOsLM8jtmWJ9GH7i5HGVJWvdjz/BQts1+r7a7Q9huWJ+Z9j2Tic0sHpnLNbn82Yw69+RYF9wUWgaU0ZPGc41GmJ1x5vf6ynfRb49+jh/73VedUWhfWLfbc1gzl4/if4KDPxJ0JsOqS6pr+MM/X4vCqgehcsfXpqnfyhbhb1Rn02+0/ddMZ67+s/N7FFZzeUH98/NTfdGElbD6ibAS1iiscQRN6uIs7fls61rvELYb1sfq8VP50M5uHNbeyydqt2eYG4c1Tqf09WnvU8jo9enTOJ2PnsoHV39U3/c/dtcW1u++1y8hesF6Bk9l/s+U/XCrsx3WC0p9/oVsw43D+q25x4xjL8i49dmz19phbX86+cK+33vC+toTpZ6d7uFLbAo+eViHvdSOWH6nEtb1G9vbG0keuLGd8IGDxabgE4d11JffMcMa//iuG9bX9+6kfNYdwvaEdVfJduLd3XFLWB99r8xO0z1h/S765VlfWPV1M5/dR1JK2VH7tHtg1aFh1f3V0z/qnUM6w/q5Uv/4IdptasL6pBtWfdc3n6tvesL69y/E5/t+7w3r51e+NTtb/QvrsA9eKgSl+BvnzmZYT/ngpfUddevWZqKHbj5UyR44UKMa1gEcvPRBzMuwPv/BS71bhDth/W7PlF9Zwrrdbdi+sOqB8JNo++z+EevesJpNuJFxmeWuCWv/Mx4Q1te/u/yVnnKt+4LTGdbXrihzqJJlU7C+69mFKLTxpuC/tx8Zbwpu97M3rK+99uU/4jz7FNaR+LhNcHbDevoft9lS16MvPE1gm7Ae6++WNKwf3mxv/vrw9OI6kmFN9HGbuHE/y8bXKEuPOtV79Nj8eKweW8LaM6rcG9Z4ZNq/Afn1+KxN3X2snUc/bTfzq++iiZ92U7k/rE/aYZVJ9CD3Uc8QO6Vh1S01n2U1Yf0yOnfhN9EWYX3Xk793Q/pMPesLa/f3nrCa1n6rTvMc/aMX1lE5QcRZDauTE0ScJI6E1fZ3G+QJIpR8VdxnH32q1M0HvoT1uU4Q0RtWXaa1djyjLHU7+jQadPacx9AE7pEJoBzZe0BYzWdLL+8NazTfR+r77/rD+ljFJyD+0YxdZWL9otonJd4bVj08/TkO67aMdLf1Y3Y7B0ulNKx64HnhtXZY9U0/fP3aF+2zMP2gVM8JIXRn//G5jm/v71+a33vCqkexX36j/nmaL3u0wjpKpzQ8i2F1dkpDwjrov9ueW04e1rflu8vVe16E9XlPaWiCqnu2FrVIPXu6q75fk6vjr3/3zGQzDuvuz48uP+nuYo0Dt622nz2VT5g+/vFnOeHDvrCqy5cff98ZdEafyZETDe8+GjcfX+0Lq/7lq2fy4Zs1uWL2scqL+urZj5ef7Q/r60+UGh9/Yj7i+v2Pz7bjT+88uWw+vpO2sH5+5Yn6QQf0Jxmw/vTsW/XkyhevfamXjs7pP6JJfoo+yirfZvPsQnQKxH+qJ/t+//Ifcp6In56pJ1+8pheXHgJ/c5IXdrbCav27HRjWSufCaHWuPtfXq7ZsXxtX6Ya19/7KvglHK6zW5Tf4sK7fv6VubG1dlS9U3b59fV1+bq3pWt3vTHH9hqnn+uZ1c4/YuP7+ja37Jqzr97c6cY0fGk0mX6V63Zzb8NrWDfl5Xb569drtlIfV+nc7eVjfvqdUtDW4+xWrPV+2+s7zzHOkw2pdfoeHteerbX7Ua1m1vRY1VuladvaNPtKVUz0H+F4298unX77a1cPKcTnW6Nl3a/L4Z+Y+c/nVox93d3X5nvY+SsK4tq1/PvkxvqVb60e78qxyQqWv1PfPxtX3P8YvSv34yMxVLr962n1R25f14HZ37fLu7lfKvNpHeuqv9BzMlwYcdrb/sxbWL82RR/rK1/K/9mFJr33x9wt//7o9jTnNkvn+1WjKny789PkBv3/5dXTjF1988/fT/bLWMxnWfCMotoq1ohxjpGoFc1uxqd9SpXz0deaqVtcVbATlQkM1C616tVYqt7KtYhDUy6VasZXXUwcmv/ly9I3nclcxiG8sNM2/CmH3fnloJWwowipub++oh9vbV6/eUOrGjrq1ITtdb23tqK04qzd2Hur/qNc3b6qHD1X0zTV62lsP5eq2eihLt/MFrLflxvs35HJz59bWDZnLNf3rQ/X+xtVrt9RtvToirInC+iC69sE99emdB3LDuzfVp+/qut67+eG9u+pm8n2wZz6s/dYO3JD63aFfE/fd836J3EHTrx3ztiP/EY5w1sJ6Zp3JsGZDVSqVVDFbU9WwrGr6lrJqVusyyAyVKleqStXNVEG1oeLLnJ5KqWZZ36cCuWzoG6oqCHMmoTqqxaK+X7qq9KwrTbm1qpqd+0s1RVhj0ebcNfVw4+q6CeOmUtfX3o/DuqUeyp23ZDiqM6vUNemqHoGu39qOH7utdtrz2jThNZc35K61LbnyfnyhA31/ayfBSySsmo7n22/fVB9+cEfd1WPVT9V7ElmdWl3aD967m3xLccrC+vqBYU0ZwurIWQ1rkM3WCwXT1KYqZHOqJFtqS6EOoBS0LveYqfTd0WXThFUnsmj6qMvaylaUysvVcrzlVze0oueiZJOv3FBR0a2N6NdWmbD2hvWhui6/KLUhYdXX1qN7d9T9+Ob16NdNqavctnk7fuz6rc6e1p6wbsdj3qjF12Se5qZ1wposrHqAqiMqTX1PR/RdaerbH6t39W06uG9/ou4S1l6ENcmCJqwWZzisEruiSWQx2zDjz2y+FbUz21Jm8Bp0pg1NTaM7o4GnjEgL3SmC+K5QR7mUjcNaj++vHXgsk9dhVVEcb6m1OKwxHdHNzc2dOJ3X5IOrPfdHj922hXVD7WxdM78o+SK5TlgHz5uw3n37jonoR/ryQ3P7e/oyCqu+O+l+1lSG9em22n76vBt3zxbC6sgZD2stCIKa2SZciA8vkoGoVlL1I8IqpSyqkp5BU0raDWuxPfPu/Yqw2sO6Hv2y1RfWjfbnKPU07+9EV7aiHa1HhPXqbdn5ui5zi2wQ1hOF9WMd0Dvq05s3b8q1m+bap71h/YiwdsVnL0ozwurIGQ9rUBRhXMxOQLNmi/DBYQ074ayZGRR7w9pQ1exB9xPW/rBu2MK6Ht9+Vfa2xtt+zW7Xo8N6dfOGUu/3j28Ja/KwKvXh2/fUx3fEu7qjN821T7phvZPwKVIZVg8QVkfOeFiL8Q01s2c12gZsDuw9fFNwN6xBe5bWEWtu7/2EtTeO0b5Us0V4z6bgOJrX1M56NPH9eHR7VFjNePfaNcI6kLB+otQn8abg/o4SVk8RVkfOdFjL0Z7VaOwaX4tO8WuOSjo6rKEqtfrCGfW4s6k4jDcsE1ZrWG/IeDSqZ19Yt9uRvK92NqKJr+10Pl+zN6wbZoBrwvpQ4vtQXbt6q2dqwpo0rJ/dVR/L3tVP49vf0+PXvrB+qpJ+4Iawnk2E1ZEzHdZQtQeqBaXiI3b1eLOVbVVlgqPDqke6QV84zV0lJZ9sje9vEtYDw3pNdoheNx9f7Qur/uX9tc3NLZng4doNcxTTVvu2fWHVA9+d61vmc6zq4eba7eizOur2/c3NNcJ6grC++7F678Hbbz+4q+5Ft7+j2vtUP4gPaPr4AWH1CmF15EyGtVJUtbBihqyqVg6aobmmgkaznm01ValaU7W81LZWb+X1tPWKvpQP0ihVrFTq+jJfqZvjneolpRqNoJht1fRdLX2XvjFfUqWgZqIt9wdyOopQ3x8S1rhKckSSnBZi45YcYXRd36Kv3OqeH+m+TPBQF3FLX3n/hpn2ujkaaW3joVI75vJhe0fs/Vvq4W0d3q2r23LqCPOtcmbq7bWr2+0bCOtxfXBHmYOU7qq7n5gb3lXq7ocf3rxjzsT06b2bH39gPsf6yT11N/HJlwjr2URYHTmTYQ2jI5a0ejVo5CrxtSAwu1xz5aAhQ868TFUpmGnlMvd/mqvmwQVzKedpKupH6Vnl5K5K58ZGQ6YLO/dX4kOYCOse65vXrLdf24x2qa6v9952wMQHzOE0X3eKw3rnnq7qzfc++qBz9sJ33rt58yPT0E/eu/nhR5+ZE0R8ePPmu0nHq4T1rCKsjpzJsI4Q38N6VqU4rMfxQeeAJsLqFcLqCGElrD4irITVR4TVEcJKWH1EWAmrjwirI4SVsPrI77B+cFPdvZf8q20I65lFWB0hrITVR36H9bMPtM9OMgfCejYRVkcIK2H1kd9hPTnCejYRVkcIK2H1EWElrD4irI4QVsLqI8JKWH1EWB0hrITVR4SVsPqIsDpCWAmrjwgrYfURYXWEsBJWHxFWwuojwuoIYSWsPiKshNVHhNURwkpYfURYCauPCKsjhJWw+oiwElYfEVZHCCth9RFhJaw+IqyOEFbC6iPCSlh9RFgdIayE1UeElbD6iLA6QlgJq48IK2H1EWF1hLASVh8RVsLqI8LqCGElrD4irITVR4TVEcJKWH1EWAmrjwirI4SVsPqIsBJWHxFWRwgrYfURYSWsPiKsjhBWwuojwkpYfURYHSGshNVHhJWw+oiwOkJYCauPCCth9RFhdYSwElYfEVbC6iPC6ghhJaw+IqyE1UeE1RHCSlh9RFgJq48IqyOElbD6iLASVh8RVkcIK2H1EWElrD4irI4QVsLqI8JKWH1EWB0hrITVR4SVsPqIsDpCWAmrjwgrYfURYXWEsBJWHxFWwuojwuoIYT2ZN0d/+RFWC8J6Mm+N/vIjrBaE1RHCejJvjI2dH/YyOmL5EVYLwnoyfxn99z1htSCsjox6WM+NjY39ddj1PNhf9cs7N+xldBjCajfqYZX3/d+GXc+D/e0MvO8JqwVhdWTUw/qC/jf4zWHn82Bv6pf3wrCX0WEIq92oh1Xe928NO58He+sMvO8JqwVhdWTUw/qLC1LWER2z/lW6OtqLj7DajXpYzfv+rREds/7trbPwviesFoTVkZEP68Vx/S/x2BsjSV7Z+MVhL6FDEVa7kQ9r9L7/y0g6G+97wmpBWB0Z+bD+4pxZw4yq8ZHe00RYDzLyYeV9fyKE1Y6wOjL6Yf3FxQvDXosc7MJo/3c7YT3I6IeV9/1JEFY7wurIGQjrL37xwrlfDcy///vg5nVupI/fMAir3RkI62Df94N0Nt73hNWCsDpyJsI6SOdH+uN3A0dY7c5EWJEYYbUjrI54F9aXXx72K3CKsNoR1nQjrHaE1RHfwnpxbGzUdw8NFGG1I6zpRljtCKsjvoX1lbGxV4b9GlwirHaENd0Iqx1hdcS3sL48NvbysF+DS4TVjrCmG2G1I6yOeBbWi/JZAZ+2BRNWO8KaboTVjrA64llYX5Gw+rQtmLDaEdZ0I6x2hNURz8L6soT15WG/CocIqx1hTTfCakdYHfErrC9G5415cdivwx3CakdY042w2hFWR/wK67korCN+ntNBIqx2hDXdCKsdYXXEr7C+FIX1pWG/DncIqx1hTTfCakdYHfEqrC+2zyHuz7ZgwmpHWNONsNoRVke8Cuu5dlj92RZMWO0Ia7oRVjvC6ohXYX2pHVZ/tgUTVjvCmm6E1Y6wOuJTWF/sfp+kN9uCCasdYU03wmpHWB3xKay/7ob118N+La4QVjvCmm6E1Y6wOuJTWH/TDetvhv1aXCGsdoQ13QirHWF1xKewjnfDOj7s1+IKYbUjrOlGWO0IqyM+hdUYGxv2K3CKsNoR1nQjrHaE1RHCmm6E1Y6wphthtSOsjhDWdCOsdoQ13QirHWF1hLCmG2G1I6zpRljtCKsjhDXdCKsdYU03wmpHWB0hrOlGWO0Ia7oRVjvC6ghhTTfCakdY042w2hFWRwhruhFWO8KaboTVjrA6QljTjbDaEdZ0I6x2hNURwppuhNWOsKYbYbUjrI4Q1nQjrHaENd0Iqx1hdYSwphthtSOs6UZY7QirI4Q13QirHWFNN8JqR1gd+b1vKxjCCu1V3973niGsdlcIqxv6v2DOD/tfAqcIK7TLvr3vPUNY7f4w6Pf9ubGxsT8Ou2Kj5496sZwb9r8ETnkWVnnfrw+7YqNn3bv3vWfkff+nYVds9Pxp4O/7F/Qcfz/sjI2e3+vF8sKw/yVwyrOwyvv+1WFnbPS86t373jPyvr8y7IyNniuDf99fkLIyZu3zR+mqZ7uaPAured+/ypi1z/qr/r3vfSPv+yuMWfv86copvO8vjuuZjv0OPWSJjF8c9r8CbvkW1uh9fxk9fHzf+yZ63/8BPU7nfX/OLGn0G/dtT5NvYeV9b+Xd+947vO9tTuN9f/HCsP+pRs8F7/673buw8r638O997x/e9/ud0vv+hXO/Qo9zHh6/4V9Yed/v5eP73ke87/vxvsep8TGsAACcGsIKAMAAEVYAAAaIsAIAMECEFQCAASKsAAAMEGEFAGCACCsAAANEWAEAGCDCCgDAABFWAAAGiLACADBAhBUAgAEirAAADBBhBQBggAgrAAADRFgBABggwgoAwAARVgAABoiwAgAwQIQVAIABIqwAAAwQYQUAYIAIKwAAA0RYAQAYIMIKAMAAEVYAAAaIsAIAMECEFQCAASKsAAAMEGEFAGCACCsAAANEWAEAGCDCCgDAABFWAAAGiLACADBAhBUAgAEirAAADBBhBQBggAgrAAADRFgBABggwgoAwAARVgAABoiwAgAwQIQVAIABIqwAAAwQYQUAYIAIKwAAA0RYAQAYIMIKAMAAEVYAAAaIsAIAMECEFQCAASKsAAAMEGEFAGCACCsAAANEWAEAGCDCCgDAABFWAAAGiLACADBAhBUAgAEirAAADBBhBQBggAgrAAADRFgBABggwgoAwAARVgAABoiwAgAwQIQVAIABIqwAAAwQYQUAYIAIKwAAA0RYAQAYIMIKAMAAEVYAAAaIsAIAUuGFc+cvoOP8uReG/RcBAJxhFy+MYY8LF4f9VwEAnFXnxoddsVE0fm7YfxcAwNl00XT1jTf/jNibb5iyMmYFACQh24Hf/GsWPf76pl4oF4b9lwEAnEUvSFeHHbLRI2XlCCYAwPM7pwvCeHWfv+rFwl5WAMDz+9XY2BvDrtgoemNs7Pyw/zYAgDOIsNq9yU5WAEAShNXuz4QVAJAEYbUjrACARAirHWEFACRCWO0IKwAgEcJqR1gBAIkQVjvCCgBIhLDaEVYAQCLPGdZqEFRP2qxKoxQUXAVSv+CAsAIAnHneEWtBWTtVaOaPO4dWSQXNoquwZvNKEVYAgDPPG9bQHtamOvZAtqgK2ZazEWs2S1gBAA4NKKzPUcpAhe6qmiWsAACnBhTW50BYAQApdtywVnKNIKiGJqxhsRG1sV7Wt8nO1WKxaG5pFfQtZRm9tnJBsdXz8GIQNHJmPjVVLsa7WHPFYiVbb8jN5UY85q1X9ZRyf16uyI11PfN8tVE3s69W9D3FYqGSCwotmbocvZT4+eSu7uvL61cTRGHtvb9SPHp8TVgBAIkcM6z5kio1mqqow1pSzZpSOnPZslJV3S1dqTBQ0sJWU6mgIWPacqlZLJU6+11D/aCq/l8rWwj0j/aBunr6hp5XthKoclXVwmiezbK0sF5SQVHJvFoNpfSzqlpT6YlL0nFlbikFqqRvz5uHyfMV5eCq7uvTk1VzRRPW6PWY+2t6dkcfO0VYAQCJHC+slZKUKm/CGpgDe8uyVbiph491VWpJw6RVUt5sqxZIflvZSk21DxWuKT1arUT17d0UHKhqWG/qLDZM8rLZqgr03BpKHqKDXWnKpZl5TsnjciaZ5kXo1hfNZdXktCVXK9FdFfP66lGqTaXN/fJ6QlWrh0XCCgA4JccLa06ip/sUxvtY6zJwbEQDPxNN075Q6bLp1hX0XVWTzThgYbQ5NppLf1j19VY2epyMPUvKbEcuRs8g8w3a1W6YuxrREwVmdp3LdrLj8EcfCopehAlr9/VE97eyRyGsAIBEjhfWhowA40YG7VKa0WQctWJ00ewEsxyGYbkd1kJ0R9TXfWHNVvRgVNOX+Six7aLGBY/C2nPZfhGdy0Dl9AwanXCay6YUPwqrjIyj13Pcg68IKwAgkeOFtWn2We4Jq4oKWZTtuKZ3jc6HWQNVC0Shr5ItpVq2sOq5mamDfK6TZjPX+ImODquS/bbm+fpuDNthbe65n7ACAE7J8cLa2ajbG9ZaVNtGZ8Ra7UQr6D88KNpoe9iItdWee/uzMcWehxxrxLrn9enLUvT6ohFr/+snrACAU3LcTcHtHPWENa5Vs2dTcMke1riXBXP//rC2x5ZmwvhaIdqr27OP9fCw7g1/0NkHTFgBAA4dL6wFpQr7whqdNrhidoua3umr5fb0pd5zB7dK8WdiyvawBp0twDX5SE78kEq2dzh8aFhznefrubEYzSt6qf33E1YAwCk55udYm0o1cvVirjessucyLJqPu8TVqyrVLJoPszRVqVovFOMjkeRTMsUwUKWK+exq9/QMcVj17Jq5MFeQg5VUrVrPVSsy/C2GzZ7P8hwWVp3h+Pl6b9SPLubMh2J1sPvuJ6wAgFNyzLC2qjWlm9fKyakZ8nKCBilXWU7bkDPfIKPMiRpyMpUMDs1dQa7zsZa6LrNqVExDtXiPaCl+WDav766VZZeozm98f0HOBlFuRaeDKGVV5zIXyuPyctoIFTbil9IoSfpbYa339TVq+uXpq5Xofv16zOs/zlfrEFYAQCLPca7gyrFuqxx0l+3h1rsrx33Ic83/+WZGWAEAyTzvSfh9QVgBAIkQVjvCCgBIhLDaEVYAQCKE1Y6wAgASIax2hBUAkAhhtSOsAIBECKsdYQUAJEJY7QgrACARwmpHWAEAidjD2grD1vPHKE0IKwAgEWtYC6XjnVD3eQWl55htNeh8OWtb/tgPLux/8GGvq7bv1PyEFQCQiC2sFVUrFE8jrHu/p/UIe9tYMF+kk/DBhwoJKwBgMGxhLcu3yzzfOeuPHdbwRGE1XziXP9ZWasIKABgGW1ifL3/uwhrFvlU61jwIKwBgGI4KqxkdthINXyv7r8ucW8d7TOWgNhY7r+7QOcmDj/dUrRZhBQAMyv6wyleNN4OgUg6qrUKtqEsm3ysu3zheCIJCtVYqVyq5hqrV212qBoG5T9pUrykVyJ7QVqGpAj1JvqFnU6wV22EtN/UE5iCkQD9PTbbt5s0Tym2hnq35cnT9CPOF6H0vTD9P1RxY1Qz0wyrVkirrONaDIFetqXLevKhCT1jLJVUzO2ULQdN827l5cCl6ebmaCkyg82XzTIQVADAQ+8NaCZsqF4Z6FFeqyVG8VVUq6JtKLelirSGZbcplqW9wGF1WVK2VLetIVUp6Hk3VlK2spVLnYOBABblCoEpS0VKhrtuoc1dT+WxBhqGBaoRlVarIXl7d7fzeEasZV5pXV8nWVSmsl2RncN+LUq3uiyrWdT3LMsZthoWGaugI6xm0mjKTkpJ/prJ5oTq5OcIKABiMgzcFh9K1fKFikpptShvNQb369tBc1veHNWeO29XDxqqUqtXUyQxNXQvtOUthyyZjBfN7TvezKb/JlPJMVT1JQTVb2f2bgqMNttGrq8mBTHVVi+eZNy9KXxb6XpTOpr6h0Ir/acxRWfLEZWlqS+msR6+ITcEAgAE5IqyySzPo/IgqFN1d7X5yphvWMBqMtqeR6fuaFc2g0ilmQ//eqpncyVOU4ycy3Ts0rPnuc0bzrJrO73tR0Tzbv9ej/0iQX0LzHwthfI2wAgAG5MiwVqM0FTqDQ31ZN8myhFVPrcqh+aUZBOZ8EJawZkvyBJV6sViLh8DNghnI1vRj5FwN8WSHhFU/Rk8byKbfaOJiz2XPizJjWj1gLlbN7w1l9st2Xl4YRhuPCSsAYECODGsjalXYHRwG9oaZy5YcCtQwhw4VRWgNa00ODi6VysV4ViWlarJVNjCPKWTjzcyHh9VMW6wcHlbzsvV/FBSL0cvTZZVJ2i+vErYnI6wAgIE47qbgXO+m4IPDKsfbKpXPNjs7O21hle2vZqtteyYFGboWpcj9kx0W1v55HhDWghyuZA6Rih9QKcqeVdX+yE5FfiOsAICBOTKsOXNske5g45Cw5uOS5bPxPUHn7IOWsMr217wpmkxaibbFNtvPZObQOCKsreg5jwxrWc8p2s9q9rHKTQ2Vy7Z368ZbpQkrAGBQjgyrHu/pHoW16PMw1rA2zUG8MnmxbGJW1yPF9pDVEtZAl06XsSyTFrOhPLjeuUnkVanQbmO52Tn1fjSrhml2Qz7Yc2RYzcHCObkwB0wFZfPIvJ4uPshK/9YMCSsAYGD2h7VVqKlyvSLbTOtSn0JJBWUlNWs1VSNs6cbKZdA53lbKVSuVlAmWOe2DCZaqNYKabHqthZ2THMlu1GpJNStSY1VTJT0TPVgNSmbbrJ5PqRE0i7IFV9UCM8e86o59q2ZWuvRBkM3LmSjKQSN6UXJWC7lsdF+U7ISNXraeRUleXyhPLyejMP8kqlnWLy+6Jv9rEVYAwABYThARHXUURscRybCvGARV2YpaMMf7FDuXnQ+yhtVcPpvTt8qRvuWiaVShHJQLlWwYHcLUmTKnYxifXCko1vVs6i09SdUcq6vno+80Q8l6MahW9PO1eva8xkdDZetluWwVG+ZV1eXW6L5s74vSLyV+2dlKuVyUmVXy8vKikbR+HeW6eR36WiFfLOb6lwJhBQAkYv+i8xFS6J7zwSXCCgBIZNTDWti3kdYNwgoASGTUw9ooDqWrhBUAkMyoh3VYCCsAIBHCakdYAQCJEFY7wgoASISw2hFWAEAihNWOsAIAEiGsdoQVAJAIYbUjrACARJKFtdJ3nsLREZpvaD3eqzt8KsIKAEgkWVhbuaD7PTJGI2ifbLdY7D89cCtXLAfFQuLzPITRDI81h0rRfId6rrbn1Vn/GQrBIVMRVgBAIkk3BRf7oxRG32kjCmWl5PT77QlLpUC+ZiZ8nrnvjWUpaCqlGpWjp46+8i44Rlj3/TMQVgDAyQ0orOWSUu3vlQl7K1pR5vtUW88R1n21C8y3peZU9zvhCCsAYEQNKKylXK2Tvb6wFuOvUw2OHdaCsoc121Slo7cGE1YAwFAdHtZKGJpvKdc/dNPaX1jeyhXr5b4oFVRLDyhblrCW93w7TUvPKsz3XJcrefMs8ex1GsP+bb5xWOud+Rba82/Vi4X2CwwPCGsr/mfIR/8M7ecuFOuEFQAwcIeGNVQlpaQ+9ZIqB9HVbLaqVBD0Hx7UaGQrqv3FqX1h1TVs5nvDWtQ35CR3OtuNWskMc/NNVc3VzKNasjN1T/DisDZUycS+ql9UrRBVO544kBdaq9jCGv0z6GFz2NQvW1818yqWVDOoEVYAwKAdHtaylLFkSpULdZlkUFpUtXDPZtSWNLUZJWtPWFs1Oeqo3jPTptk4nFOS22a0nVjmWS2XokepAzYFh/E+Vnl8vibPWNYzboXyQhp5XWmVs4Y1MA+tyJOUw7Ch5IkLqlRnUzAA4BQcGtZKy4QujHtVKclnWUyZ+qOUk52fBVOvvWHNthoyqmx2bymY44dNXisq3w6rnlulcmBYa8Vio6YCmTqvoidr6GvmCav6odErCmxhNf8MTYmueZKWGaaWzFSEFQAwcEcfvFTrhNVchlH4+qLULJtha3xTuOezNWbbbfcmU2YdRT0QzrU/otM7N1tYjUYU8Xj4Guhrtd6pcvawxnMotp9ELitRkgkrAGDgDg9r1eyV7AtrUTX3prCiYjVrWM0oteejMg09WK02SqqebXZOKnFEWAPZs1uqRJPGzHxiYSOoqQPCmguCkuoPa93yHweEFQAwCIeGNacaYT7YG9Zgb5SqJTkoN8zFQe2EtZXvmVOpc1322pYKZVXOq/bRv8cIa6vUfuKgc3M7rK2aqod1e1j12DYMg71hLRFWAMCpOCyslZIMEoMjNwXX4tFoKRqWdsJa16WLz3QY9m621dOVWnk9iG22bzlGWGWYmcu2t/hGD2o/vioPD61hbcVbstkUDABw4rCw5lSttS+s2X0HL+Xb51wqRwPBTliLEtZaPKtqd75ls2G4FoUy25O4+GAp88HXns/odD9uk5dnax/xVOh8wMfMyR7WUEX/cdAXVv3cdcIKADgNh4VVPuCSz+05eEnyWczme04QUW4PRutR6dphrTQDs71Wzv1QUj2hzJvTH+aiYWNZahklLl+Sk0mUVSPb0tXs7pSNw9oqmSFqoEr1ljmEWNJcyVbyclNYL9tHrPI52kJtT1gL+p+hlS8TVgDAoB26j1WOXGoGqtHSYWwW5ITAch58OS1DqdY+70M9KJUCM2SVU0jUgrDRbB9eJG00Z3Moqf4zGtYkxRUTwlZTR1aHr1YOZddnJfrka5CtdrbzhkFJlYKiGfaqZlH32hwnVcjG13TM63LYsQ5+PWzoF1qt6BdaK1c6w2NVa6igEjZVrZqtRi+8IA8Mej8FRFgBAINw+FHB+TCU0xpWovMQhvHJASv1QqvSPjFhpX2ruTueNmZuzuc65zBsq5sQRycmbNXN05iJ6/lojrItONc+E2I0w3z8DPIzLOTiaoaFYk7m0pKHd568FV12/xla+pa8eZJse16VMCe3ElYAwGAlPQl/2hFWAEAihNWOsAIAEiGsdoQVAJAIYbUjrACARAirHWEFACRCWO0IKwAgEcJqR1gBAIkQVjvCCgBIhLDaEVYAQCKE1Y6wAgAScRPWQhAEhZ7r/fdW990yfIQVAJDIwMIaNmoqPlm+RatpvkmmIF9lU+n5xtV8SXqbj24plw+aebmhemULtXz2dBFWAEAigwprUZVyYVgtHTT0jL7ILTBfy9oT1kL0JTbmluh71a1KBVUuhGFTNevFYlllm71f70pYAQCjY1BhrUVRrB4e1lauk9FY9CU20S15Mwwt7J9FQbXMt59HX8xaUdlWIXvKCCsAIJEBhTWMY1k/aCQZ9HypeG9Y999S2x/WRiMbZDthzbrYIUtYAQCJDCiseaVy3d9ahXIQlPWoslAsVhthJ6zFYjE0Ga2Xg6pc0/cX2mGt6Hsrsk25Vizmi2bSMHpASxXadY6aGt2c09PXy2V9rZJrxF/fGpajpyOsAIDhGNimYKUa7T2kraZSQUMiGNSKgTJZNGENo3GrUrVG09ycr0aplLC26jUVZgtNVQoCnVeVq+hgqmrFbAnuD2s0n1ZNlfT/qWbNXMrtTVXVzzuIA5sIKwAgkUGFta7bpprRyNIcWtSSTbqNlgxBG+2w6uvFOKPZutIZzYbdsMo0nVtaJTMCjpLaaGT7wxrPx0xfVipvLitSd31zVZWP+ZoJKwBg4Ab2cZtKWT4II6PFvEldNh9vv62bGu4Lqw5g9eCw6lLKEDSQRna2BFvD2qp1LvUTt7q7ewkrAGAIBniCiEpRtgfLMLPWvbEV5g4Iq/mkzYFhNXWuyA3dLcHWsPZchqoWhmGdsAIAhmewZ14yW2Sjbb9GTqla84CwmpHlgWHVv5SzOVPooDO7I8Kak92zwWBO40RYAQCJDCisreiAoVZNFXT12mVrlUqtuJT7w1qXge3BYS2oUqsm+1krnS3BR49YBzFWJawAgBMY1OdYS9HPph6x5jp9K5tDgQ/cxxocFtZsSVXNNuBcqfMshBUAMOoGdoIIM6ysy37TilLlVjeEB4S1VZKH2MIa76Gtqujw3mb3IN8jwpqtDeSAYMIKAEhuYGGtVeuVXKlUN9lTtWJYrEobG2XbPtYwrAfRJ0/3hVUPehvmNBIV83kc/aPefpJKUzVbh4VVP3GQC4uDON8hYQUAJDKgsFaqgXzaJh6pFpryS2g+gtMMde3+L/OlNP+3ucxnczq2qiTTyodfVdF8dU2jKJclORd/Mz5Zkxm6drcEt7/aRo4YlvnIwxr56EM+8tB69MS1ckhYAQDDclrfx1o54v7W0bMwhy5lK895HqWjnviYCCsAIBE3X3SeRKiOEd9TQ1gBAImMZljDciusnfZXrh6KsAIAEhnRsKqacvHlcAcjrACAREYzrJViMRzmhmDCCgBIaDTDOnyEFQCQCGG1I6wAgEQIqx1hBQAkQljtCCsAIBHCakdYAQCJDCmsYficJ1RyjbACABIZSljzTTXkj6keibACABIZSliDUjlsDDudhyOsAIBEhhHWvAxXh3v+hyMRVgBAIsMIazjq24GzhBUAkNAphrXV/Qa3niOVWq2esPZ9J1yr78cR8w4tsyasAIChO52w1ksqaChVNmltFWsqCOUry1WxUi39P43o682z2aJcCfQ0VaXCsKzCkmrmmqpZaBXKpehL06vylenVVjZfU816uRZ/k3rRfJF6Ts4pHM2asAIARsQpjViLKsjVy0oVZMOvqodN1ZAbS7WS+n/DnGqGYUXntFTIB6qkW6kvdSv1pKVGUQc5utSPzQa5UKfWzKVUlBvly8/LqlmtN3Sau7MmrACA0XBqYS1GeZVoVvWoVamK/lVfK+TjTcEVZb7JvCxTBmYAG9/RNMc2Rb0smLk02vtlA9XUt+kE6wlKxc6sT+FAKMIKAEjkVMOalQQqFeprNX0Z3xhHMieR7MS32L2j91IU5Fr7RiUbjs09lUo865K5JKwAgFFwumGVnCrVDIKgtC+sxaiPppUHhrVVLxabe8LaNNuDo24H8awJKwBgNJxuWANV0PUrF0VlX1jLR4c1UNVieU9YlapHT1LpzpqwAgBGw2lvCg7j7bU9N/aPWAuqdnBY652m9oQ1njib7Zk1YQUAjIZTDas5PqnW2XLbH9a6KkU3Ng4Oayk6ILg/rA1Vi49WKnVmTVgBAKPhVMNalq29RaXytrBGxQ1lN+yBYQ2kobk9YdUXzVY8w9JpfUkOYQUAJHJ6n2MtFgMTwFagVC0IStl8oIJ6RQ9Vy6pW1EGU80GUlbQ3lNM8tORA4Vq9la+2L2WvrKrJ/1Vki3G9VanKp3bkfBKqGdQK8pkcmbUirACAUXF6Ya0Gjfggo1w5qNZb2YIcZxTq+4R8QLVSbARFmSY+AilvfhS6l61sWC7m9N256K4wujEbFoMgyPXMmrACAEbE6R68dHYRVgBAIoTVjrACABIhrHaEFQCQyOmENVdTtUY47DieBGEFACRyOmHNh6F8f80ZRlgBAImc4hedn2mEFQCQCGG1I6wAgEQIqx1hBQAkQljtCCsAIBHCakdYAQCJEFY7wgoASISw2hFWAEAihNWOsAIAEiGsdoQVAJAIYbV7Y2zsN8P+2wAAzqBXxsb+x7AjNor+x9jYK8P+2wAAzqDfjo2N/c9hV2z0/E+9WH477L8NAOAsuqyHrP9r2B0bNf9LD1gvD/svAwA4k2TIOvbGn/8/dPz5jTEGrACApM6PweL8sP8uAICz6pXxYUds9Ixz5BIAILGLv3rp8rBLNkouv/Sri8P+mwAAAAAAAAAAAAAAAAAAAAAAAAAAAAAAAAAAAAAAAAAAAAAAAAAAAAAAAAAAAAAAAAAAAAAAAAAAAAAAAAAAAAAAAAAAAAAAAAAAAAAAAAAAAAAAAAAAAAAAAAAAAAAAAAAAAAAAAAAAAOBo/z9JKcKctUQZLQAAACV0RVh0ZGF0ZTpjcmVhdGUAMjAyMC0xMi0xOFQwNDo0NDo0MyswMDowMCXTokAAAAAldEVYdGRhdGU6bW9kaWZ5ADIwMjAtMTItMThUMDQ6NDQ6NDMrMDA6MDBUjhr8AAAAAElFTkSuQmCC)"
   ]
  },
  {
   "cell_type": "code",
   "execution_count": 20,
   "metadata": {
    "id": "fi5q3IcqQ7uZ"
   },
   "outputs": [],
   "source": [
    "def base_recommend(spark, \n",
    "                   base_model, \n",
    "                   cold_start_model, \n",
    "                   user_ids, \n",
    "                   movies, \n",
    "                   n,\n",
    "                   extra_features,\n",
    "                   user_id, \n",
    "                   item_id):\n",
    "    \n",
    "    userset = list(set(user_ids))\n",
    "    users = spark.createDataFrame(pd.DataFrame({base_model.userCol: userset}))\n",
    "    base_recommend = base_model.recommend(users, n).toPandas()\n",
    "    base_recommend = base_recommend.merge(movies, how='left')\n",
    "    base_recommend = base_recommend[[user_id, item_id] + extra_features]\n",
    "    base_recommend = base_recommend.astype({user_id: np.int64,\n",
    "                                            item_id: np.int64})\n",
    "    cold_start_users = set(user_ids) - set(base_recommend[user_id].tolist())\n",
    "    for user in cold_start_users:\n",
    "        cold_recommend = cold_start_model.recommend().toPandas().values.reshape(-1,)\n",
    "        user_lst = [user for _ in range(n)]\n",
    "        cold_recommendation = pd.DataFrame({user_id: user_lst, item_id: cold_recommend})\n",
    "        cold_recommendation = cold_recommendation.astype({user_id: np.int64,\n",
    "                                                        item_id: np.int64})\n",
    "        cold_recommendation = cold_recommendation.merge(movies, how='left')\n",
    "        cold_recommendation = cold_recommendation[[user_id, item_id] + extra_features]\n",
    "        base_recommend = base_recommend.append(cold_recommendation, ignore_index=True)\n",
    "    return base_recommend\n",
    "def advanced_recommend(advanced_recommender,\n",
    "                       base_recommend, \n",
    "                       k, \n",
    "                       user_id, \n",
    "                       item_id):\n",
    "    df = base_recommend.copy()\n",
    "    prediction = advanced_model.predict(df)\n",
    "    df['prediction'] = prediction\n",
    "    df = df.set_index(item_id).groupby(user_id).prediction\\\n",
    "        .apply(lambda x: x.sort_values(ascending=False)[:k]).reset_index()\n",
    "    return df\n",
    "\n",
    "def final_recommender(spark, \n",
    "                base_model, \n",
    "                cold_start_model, \n",
    "                advanced_recommender,\n",
    "                users,\n",
    "                movies,\n",
    "                n = 50,\n",
    "                k = 5,\n",
    "                user_id = 'userId',\n",
    "                item_id = 'movieId',\n",
    "                extra_features = ['genres']\n",
    "               ):\n",
    "    base_recommend_items  = base_recommend(spark, base_model, cold_start_model, users, movies, n, extra_features, user_id, item_id)\n",
    "    return advanced_recommend(advanced_recommender, base_recommend_items, k, user_id, item_id)"
   ]
  },
  {
   "cell_type": "markdown",
   "metadata": {
    "id": "uVfRGlivsjVp"
   },
   "source": [
    "## Base Algorithms\n",
    "\n",
    "We will choose a base algorithm from user based, item based, and model based (ALS) CF for our pipeline with consideration of the performance of their Recall and Inference Time (time to recommend). "
   ]
  },
  {
   "cell_type": "markdown",
   "metadata": {
    "id": "uHoV_1hsx1K9"
   },
   "source": [
    "### Memory Based Collaborative Filtering\n",
    "\n",
    "**implementation details**\n",
    "\n",
    "The data first transformed into sparse matrix representation, (user by item) if user based and (item by user) if item based.\n",
    "\n",
    "The the prediction matrix $R$ is trained with following formula:\n",
    "\n",
    "$R$ is defined as $R_{i, j} = \\mu_i + \\frac{\\sum_{v\\in P_i(j)}S(i, v)\\cdot (r_{vj} - \\mu_v)}{\\sum_{v\\in P_i(j)}|S(i, v)|}$\n",
    "\n",
    "where $S$ is the Pearson Similarity Matrix\n",
    "\n",
    "$S$ is defined as $S_{u,v} = \\frac{\\sum_{k\\in I_u \\cap I_v}(r_{uk} - \\mu_u)(r_{vk} - \\mu_v)}{\\sqrt{\\sum_{k\\in I_u \\cap I_v}(r_{uk} - \\mu_u)^2}\\sqrt{\\sum_{k \\in I_u \\cap I_v}(r_{vk} - \\mu_v)^2}}$\n",
    "\n",
    "The algorithm is implemented with numpy array (for prediction) and scipy csr sparse matrix (for training). \n",
    "\n",
    "Every operation uses numpy matrix operations (aka. dot product, norm, etc) which optimizes the computational speed by trading off extra memories (for loop takes $\\approx 10$ minutes to train and matrix operations takes $\\approx 1$ minutes to train for our experimental sample in user based CF).\n",
    "\n",
    "**user based collabrative filtering**\n",
    "\n",
    "When R is (user by item) and S is (user by user), it is User Based Collabrative Filtering\n",
    "\n",
    "**item based collabrative filtering**\n",
    "\n",
    "When R is (item by user) and S is (item by item), it is Item Based Collabrative Filtering"
   ]
  },
  {
   "cell_type": "code",
   "execution_count": 21,
   "metadata": {
    "id": "aJQ5sCu7b-vQ"
   },
   "outputs": [],
   "source": [
    "class Memory_based_CF():\n",
    "    def __init__(self, spark, base, usercol='userId', itemcol='movieId', ratingcol='rating'):\n",
    "        \"\"\"[the memory based collabritive filtering model]\n",
    "        Args:\n",
    "            spark (Spark Session): [the current spark session]\n",
    "            base (str): [user base or item base]\n",
    "            usercol (str, optional): [user column name]. Defaults to 'userId'.\n",
    "            itemcol (str, optional): [item column name]. Defaults to 'movieId'.\n",
    "            ratingcol (str, optional): [rating/target column name]. Defaults to 'rating'.\n",
    "        \"\"\"        \n",
    "        self.base = base\n",
    "        self.usercol = usercol\n",
    "        self.itemcol = itemcol\n",
    "        self.ratingcol = ratingcol\n",
    "        self.spark = spark\n",
    "        self.X = None\n",
    "        self.idxer = None\n",
    "        self.similarity_matrix = None\n",
    "        self.prediction_matrix = None\n",
    "    def fit(self, _X):\n",
    "        \"\"\"[to train the model]\n",
    "        Args:\n",
    "            _X (Pyspark DataFrame): [the training set]\n",
    "        \"\"\"\n",
    "        X = self._preprocess(_X, True)\n",
    "        self.X = X\n",
    "        self.similarity_matrix = self._pearson_corr(X)\n",
    "        self.prediction_matrix = self._get_predict()\n",
    "        \n",
    "    def predict(self, _X):\n",
    "        \"\"\"[to predict based on trained model]\n",
    "        Args:\n",
    "            _X (Pyspark DataFrame): [the DataFrame needed to make prediction]\n",
    "        Returns:\n",
    "            [Pyspark DataFrame]: [the DataFrame with prediction column]\n",
    "        \"\"\"        \n",
    "        rows, cols = self._preprocess(_X, False)\n",
    "        preds = []\n",
    "        for i,j in zip(rows,cols):   \n",
    "            preds.append(self.prediction_matrix[i, j])\n",
    "        df = self.idxer.transform(_X).select(self.usercol, self.itemcol, self.ratingcol).toPandas()\n",
    "        df['prediction'] = preds\n",
    "        return self.spark.createDataFrame(df)\n",
    "\n",
    "    def recommend(self, X, numItem):\n",
    "        idices = self.idxer.u_indxer.transform(X).toPandas()['userId_idx'].values.astype(int)\n",
    "        items = np.asarray(np.argsort(self.prediction_matrix.T[idices, :])[:, -numItem:])\n",
    "        result = np.zeros((1, 3))\n",
    "        inverse_imat = pd.Series(self.idxer.i_indxer.labels)\n",
    "        inverse_umat = pd.Series(self.idxer.u_indxer.labels)\n",
    "        for u, i in zip(idices, items):\n",
    "            result = np.vstack((result, np.hstack((inverse_umat.iloc[np.array([u for _ in range(len(i))])].values.reshape(-1, 1),\n",
    "                                inverse_imat.iloc[i.reshape(-numItem,)].values.reshape(-1, 1), \n",
    "                                np.asarray(self.prediction_matrix.T[np.array([u for _ in range(len(i))]), i]).reshape(-1, 1)))))\n",
    "        df = pd.DataFrame(result[1:], columns = ['userId', 'movieId', 'prediction'])\n",
    "        return self.spark.createDataFrame(df)\n",
    "\n",
    "\n",
    "    def _preprocess(self, X, fit):\n",
    "        \"\"\"[preprocessing function before training and predicting]\n",
    "        Args:\n",
    "            X (Pyspark DataFrame): [training/predicting set]\n",
    "            fit (bool): [if it is on training stage or not]\n",
    "        Raises:\n",
    "            NotImplementedError: [if not User base or Item base]\n",
    "        Returns:\n",
    "            sparse.csr_matrix: [if on training stage],\n",
    "            numpy.array: [row and columns in np.array if on prediction stage]\n",
    "        \"\"\"        \n",
    "        if fit:\n",
    "            self.idxer = indexTransformer(self.usercol, self.itemcol)\n",
    "            self.idxer.fit(X)\n",
    "            _X = self.idxer.transform(X)\\\n",
    "                            .select(F.col(self.usercol+'_idx').alias(self.usercol), \n",
    "                                    F.col(self.itemcol+'_idx').alias(self.itemcol), \n",
    "                                    F.col(self.ratingcol))\n",
    "            _X = _X.toPandas().values\n",
    "            if self.base == 'user':\n",
    "                row = _X[:, 0].astype(int)\n",
    "                col = _X[:, 1].astype(int)\n",
    "                data = _X[:, 2].astype(float)\n",
    "            elif self.base == 'item':\n",
    "                row = _X[:, 1].astype(int)\n",
    "                col = _X[:, 0].astype(int)\n",
    "                data = _X[:, 2].astype(float)\n",
    "            else:\n",
    "                raise NotImplementedError\n",
    "            return sparse.csr_matrix((data, (row, col)))\n",
    "        else:\n",
    "            _X = self.idxer.transform(X).select(self.usercol+'_idx', self.itemcol+'_idx').toPandas().values\n",
    "            if self.base == 'user':\n",
    "                row = _X[:, 0].astype(int)\n",
    "                col = _X[:, 1].astype(int)\n",
    "            elif self.base == 'item':\n",
    "                row = _X[:, 1].astype(int)\n",
    "                col = _X[:, 0].astype(int)\n",
    "            else:\n",
    "                raise NotImplementedError\n",
    "            return row, col\n",
    "\n",
    "    def _pearson_corr(self, A):\n",
    "        \"\"\"[generating pearson corretion matrix for the model when training]\n",
    "        Args:\n",
    "            A (sparse.csr_matrix): [the training set in sparse matrix form with entries of ratings]\n",
    "        Returns:\n",
    "            sparse.csr_matrix: [the pearson correlation matrix in sparse form]\n",
    "        \"\"\"        \n",
    "        n = A.shape[1]\n",
    "        \n",
    "        rowsum = A.sum(1)\n",
    "        centering = rowsum.dot(rowsum.T) / n\n",
    "        C = (A.dot(A.T) - centering) / (n - 1)\n",
    "        \n",
    "        d = np.diag(C)\n",
    "        coeffs = C / np.sqrt(np.outer(d, d))\n",
    "        return np.array(np.nan_to_num(coeffs)) - np.eye(A.shape[0])\n",
    "    def _get_predict(self):\n",
    "        \"\"\"[generating prediction matrix]\n",
    "        Returns:\n",
    "            sparse.csr_matrix: [the prediction matrix in sparse form]\n",
    "        \"\"\"        \n",
    "        mu_iarray = np.array(np.nan_to_num(self.X.sum(1) / (self.X != 0).sum(1))).reshape(-1)\n",
    "        mu_imat = np.vstack([mu_iarray for _ in range(self.X.shape[1])]).T\n",
    "        x = self.X.copy()\n",
    "        x[x==0] = np.NaN\n",
    "        diff = np.nan_to_num(x-mu_imat)\n",
    "        sim_norm_mat = abs(self.similarity_matrix).dot((diff!=0).astype(int))\n",
    "        w = self.similarity_matrix.dot(diff) / sim_norm_mat\n",
    "        w = np.nan_to_num(w)\n",
    "        return mu_imat + w\n",
    "class indexTransformer():\n",
    "    \"\"\"[helper class for memory based model]\n",
    "    \"\"\"    \n",
    "    def __init__(self, usercol='userId', itemcol='movieId', ratingcol='rating'):\n",
    "        \"\"\"[the index transformer for matrix purpose]\n",
    "        Args:\n",
    "            usercol (str, optional): [user column name]. Defaults to 'userId'.\n",
    "            itemcol (str, optional): [item column name]. Defaults to 'movieId'.\n",
    "        \"\"\"        \n",
    "        self.usercol = usercol\n",
    "        self.itemcol = itemcol\n",
    "        self.ratingcol = ratingcol\n",
    "        self.u_indxer =  M.feature.StringIndexer(inputCol=usercol, \n",
    "                                                outputCol=usercol+'_idx', \n",
    "                                                handleInvalid = 'skip')\n",
    "        self.i_indxer = M.feature.StringIndexer(inputCol=itemcol, \n",
    "                                                outputCol=itemcol+'_idx', \n",
    "                                                handleInvalid = 'skip')\n",
    "        self.X = None\n",
    "    def fit(self, X):\n",
    "        \"\"\"[to train the transformer]\n",
    "        Args:\n",
    "            X (Pyspark DataFrame): [the DataFrame for training]\n",
    "        \"\"\"        \n",
    "        self.X = X\n",
    "        self.u_indxer = self.u_indxer.fit(self.X)\n",
    "        self.i_indxer = self.i_indxer.fit(self.X)\n",
    "        return\n",
    "    def transform(self, X):\n",
    "        \"\"\"[to transform the DataFrame]\n",
    "        Args:\n",
    "            X (Pyspark DataFrame): [the DataFrame needs to be transformed]\n",
    "        Returns:\n",
    "            Pyspark DataFrame: [the transformed DataFrame with index]\n",
    "        \"\"\"        \n",
    "        X_ = self.u_indxer.transform(X)\n",
    "        X_ = self.i_indxer.transform(X_)\n",
    "        return X_.orderBy([self.usercol+'_idx', self.itemcol+'_idx'])\n",
    "    \n",
    "    def fit_transform(self, X):\n",
    "        \"\"\"[combining fit and transform]\n",
    "        Args:\n",
    "            X (Pyspark DataFrame): [the DataFrame needs to be trained and transformed]\n",
    "        Returns:\n",
    "            Pyspark DataFrame: [the transformed DataFrame with index]\n",
    "        \"\"\"        \n",
    "        self.fit(X)\n",
    "        return self.transform(X)"
   ]
  },
  {
   "cell_type": "markdown",
   "metadata": {
    "id": "e7gR1eXJyD6D"
   },
   "source": [
    "### Model Based Collaborative Filtering\n",
    "\n",
    "\n",
    "**implementation details**\n",
    "\n",
    "The data first casted userId and movieId into integers and then fit into `pyspark.ml.recommendation.ALS`.\n",
    "\n",
    "Our implementation takes advantages of model based collaborative filtering algorithm implemented in `spark.ml`, in which users and products are described by a small set of latent factors that can be used to predict missing entries `spark.ml` uses the alternating least squares (ALS) algorithm to learn these latent factors.\n",
    "\n",
    "Since there are many parameters in ALS of `spark.ml`, we will fix `nonnegative = True` in order to increase interpertability, and we will only select `regParam`(scale of regulization term) and `rank`(number of hidden factors) to be tuned. (We also tried to tune `maxIter` parameter, but when `maxIter > 20` will blow up memory in our machine with large `rank`, and it takes much longer with nearly the same results, so we will keep `maxIter` with default `=10`.)"
   ]
  },
  {
   "cell_type": "code",
   "execution_count": 22,
   "metadata": {
    "id": "_kPnocHEf3Uh"
   },
   "outputs": [],
   "source": [
    "class Als():\n",
    "    \"\"\"[the predictor for Pyspark ALS]\n",
    "    \"\"\"\n",
    "    def __init__(self, userCol, itemCol, ratingCol, regParam, seed, rank):\n",
    "        self.userCol = userCol\n",
    "        self.itemCol = itemCol\n",
    "        self.ratingCol = ratingCol\n",
    "        self.model =None\n",
    "        self.als = ALS(userCol=userCol,\n",
    "                itemCol=itemCol,\n",
    "                ratingCol=ratingCol,\n",
    "                coldStartStrategy=\"drop\",\n",
    "                nonnegative=True,\n",
    "                regParam=regParam,\n",
    "                seed=seed,\n",
    "                rank=rank)\n",
    "    def fit(self, _X):\n",
    "        \"\"\"[function to train parameter of predictor]\n",
    "        Args:\n",
    "            _X (Pyspark DataFrame): [training set]\n",
    "        \"\"\"\n",
    "        X = self._preprocess(_X)\n",
    "        self.model = self.als.fit(X)\n",
    "\n",
    "    def predict(self, _X):\n",
    "        \"\"\"[function to make predict over test set]\n",
    "        Args:\n",
    "            _X (Pyspark DataFrame): [test set]\n",
    "        Returns:\n",
    "            Pyspark DataFrame: [DataFrame with 'prediction' column which has the predicting value]\n",
    "        \"\"\"        \n",
    "        X = self._preprocess(_X)\n",
    "        return self.model.transform(X)\n",
    "\n",
    "    def recommend(self, X, numItems):\n",
    "        return self.model.recommendForUserSubset(X, numItems)\\\n",
    "                .select(self.userCol, F.explode('recommendations').alias('recommendations'))\\\n",
    "                .select(self.userCol, 'recommendations.*')\\\n",
    "                .select(self.userCol, self.itemCol, F.col(self.ratingCol).alias('prediction'))\n",
    "    def _preprocess(self, _X):\n",
    "        \"\"\"[preprocess the input dataset]\n",
    "        Args:\n",
    "            _X (Pyspark DataFrame): [the training or test set]\n",
    "        Returns:\n",
    "            Pyspark DataFrame: [the preprocessed DataFrame]\n",
    "        \"\"\"\n",
    "        cast_int = lambda df: df.select([F.col(c).cast('int') for c in [self.userCol, self.itemCol]] + \\\n",
    "                                [F.col(self.ratingCol).cast('float')])\n",
    "        return cast_int(_X)"
   ]
  },
  {
   "cell_type": "markdown",
   "metadata": {
    "id": "bppIhb2qQ7ua"
   },
   "source": [
    "### Cold Start Model\n",
    "\n",
    "If a new user comes to the system, we will generate 50 popular movies based on movie genre"
   ]
  },
  {
   "cell_type": "code",
   "execution_count": 23,
   "metadata": {
    "id": "y8qXx6PLQ7ua"
   },
   "outputs": [],
   "source": [
    "class code_start():\n",
    "    def __init__(self, movie):\n",
    "        movie_copy = movie.withColumn(\"year\",F.regexp_extract(movie.title,r\"(\\d{4})\",0).cast(T.IntegerType()))\n",
    "        movie_copy = movie_copy.withColumn(\"genre\",F.explode(F.split(movie.genres,pattern=\"\\|\")))\n",
    "        movie_copy = movie_copy.select(\"movieId\",\"title\",\"genre\",\"year\")\n",
    "        genres = movie_copy.select(\"genre\").distinct().toPandas()['genre'].tolist()\n",
    "\n",
    "        sample_copy = sample.select(\"userId\",\"movieId\")\n",
    "\n",
    "        total = sample_copy.join(movie_copy,[\"movieId\"],'left')\n",
    "        popular = total.groupby(\"movieId\").count().sort(\"count\",ascending=False)\n",
    "        \n",
    "        self.movie = movie\n",
    "        self.popular = popular\n",
    "        \n",
    "    def recommend(self):\n",
    "        return self.popular.select(\"movieId\").limit(50).select('movieId')"
   ]
  },
  {
   "cell_type": "markdown",
   "metadata": {
    "id": "a042EivvzocO"
   },
   "source": [
    "## Advanced Algorithms\n",
    "\n",
    "Our advanced algorithm is wide and deep algorithm"
   ]
  },
  {
   "cell_type": "markdown",
   "metadata": {
    "id": "Arsp_CaDz1Dc"
   },
   "source": [
    "### Wide and Deep\n",
    "\n",
    "Wide and Deep requires different kinds of feature engineering. We have tried out different kinds of features including `timestamp`, `genres` of movie, and `tags` of movie. By transforming `timestamp` to `year`, `month`, `day`, transforming `tags` into TF-IDF vectors, and transforming `genres` into one-hot vectors. But, the results were not very well. We end up with only using `genres` as wide feature, `user` and `movie` embedding as deep feature to create our wide and deep neural networks. "
   ]
  },
  {
   "cell_type": "markdown",
   "metadata": {
    "id": "qltdk3BFQ7ub"
   },
   "source": [
    "The architechture of wide and deep is shown below"
   ]
  },
  {
   "cell_type": "markdown",
   "metadata": {
    "id": "GasLxqfiQ7ub"
   },
   "source": [
    "![wide_deep.png](data:image/png;base64,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)"
   ]
  },
  {
   "cell_type": "code",
   "execution_count": 24,
   "metadata": {
    "id": "HXE8nv9p0FmW"
   },
   "outputs": [],
   "source": [
    "class wide_deep():\n",
    "    def __init__(self,wide_cols='genres',\n",
    "                    deep_cols=['userId', 'movieId'],\n",
    "                    target_col = 'rating',\n",
    "                    deep_embs=[64, 64],\n",
    "                    deep_hidden=[64,32,16],\n",
    "                    deep_dropout=[0.1, 0.1, .1],\n",
    "                    deep_bachnorm=True):\n",
    "        self.wide = None\n",
    "        self.deep = None\n",
    "        self.deep_hidden = deep_hidden\n",
    "        self.deep_dropout = deep_dropout\n",
    "        self.deep_bachnorm = deep_bachnorm\n",
    "        self.model = None\n",
    "        self.wide_cols = wide_cols\n",
    "        self.deep_cols = deep_cols\n",
    "        self.embs = [(col, dim) for col, dim in zip(deep_cols, deep_embs)]\n",
    "        self.wide_preprocessor = self._genre_preprocessor(wide_cols)\n",
    "        self.deep_preprocessor = DensePreprocessor(embed_cols=self.embs)\n",
    "        self.target_col = target_col\n",
    "\n",
    "\n",
    "    def fit(self, train, n_epochs=10, batch_size=128, val_split=.1, verbose = True):\n",
    "        X, y = train.drop(self.target_col, axis = 1), train[self.target_col].values\n",
    "        wide_feature = self.wide_preprocessor.fit_transform(X)\n",
    "        deep_feature = self.deep_preprocessor.fit_transform(X)\n",
    "        self.wide = Wide(wide_dim=np.unique(wide_feature).shape[0], pred_dim=1)\n",
    "        self.deep = DeepDense(hidden_layers=self.deep_hidden, dropout=self.deep_dropout,\n",
    "                      batchnorm=self.deep_bachnorm,\n",
    "                      deep_column_idx=self.deep_preprocessor.deep_column_idx,\n",
    "                      embed_input=self.deep_preprocessor.embeddings_input)\n",
    "        self.model =  WideDeep(wide=self.wide, deepdense=self.deep)\n",
    "        wide_opt = torch.optim.Adam(self.model.wide.parameters(), lr=0.01)\n",
    "        deep_opt = RAdam(self.model.deepdense.parameters())\n",
    "        wide_sch = torch.optim.lr_scheduler.StepLR(wide_opt, step_size=3)\n",
    "        deep_sch = torch.optim.lr_scheduler.StepLR(deep_opt, step_size=5)\n",
    "        callbacks = [\n",
    "                        LRHistory(n_epochs=n_epochs),\n",
    "                        EarlyStopping(patience=5),\n",
    "                        ModelCheckpoint(filepath=\"model_weights/wd_out\"),\n",
    "                    ]\n",
    "        optimizers = {\"wide\": wide_opt, \"deepdense\": deep_opt}\n",
    "        schedulers = {\"wide\": wide_sch, \"deepdense\": deep_sch}\n",
    "        initializers = {\"wide\": KaimingNormal, \"deepdense\": XavierNormal}\n",
    "        self.model.compile(method='regression',\n",
    "                            optimizers=optimizers,\n",
    "                        lr_schedulers=schedulers,\n",
    "                        initializers=initializers,\n",
    "                        callbacks=callbacks,\n",
    "                        verbose=verbose)\n",
    "        self.model.fit(X_wide=wide_feature, \n",
    "                  X_deep=deep_feature, \n",
    "                  target=y, \n",
    "                  n_epochs=n_epochs, \n",
    "                  batch_size=batch_size, \n",
    "                  val_split=val_split,)\n",
    "    def load_pretrained(self, train, fp, device):\n",
    "        X = train.copy()\n",
    "        if type(self.wide_cols) == str:\n",
    "            wide_feature = self.wide_preprocessor.fit_transform(X[[self.wide_cols]])\n",
    "        else:\n",
    "            wide_feature = self.wide_preprocessor.fit_transform(X[self.wide_cols])\n",
    "        deep_feature = self.deep_preprocessor.fit_transform(X[self.deep_cols])\n",
    "        self.wide = Wide(wide_dim=np.unique(wide_feature).shape[0], pred_dim=1)\n",
    "        self.deep = DeepDense(hidden_layers=self.deep_hidden, dropout=self.deep_dropout,\n",
    "                      batchnorm=self.deep_bachnorm,\n",
    "                      deep_column_idx=self.deep_preprocessor.deep_column_idx,\n",
    "                      embed_input=self.deep_preprocessor.embeddings_input)\n",
    "        self.model =  torch.load(fp,  map_location=torch.device(device))\n",
    "        \n",
    "    def predict(self, test):\n",
    "        X = test.copy()\n",
    "        wide_feature = self.wide_preprocessor.transform(X)\n",
    "        deep_feature = self.deep_preprocessor.transform(X)\n",
    "        return self.model.predict(X_wide=wide_feature, X_deep=deep_feature)\n",
    "\n",
    "    def _genre_preprocessor(self, genre_feat):\n",
    "        dense_layer = lambda X: X.toarray()\n",
    "        genre_transformer = Pipeline(steps=[\n",
    "                ('tokenizer', CountVectorizer()),\n",
    "                ('dense', FunctionTransformer(dense_layer, validate=False))   \n",
    "        ])\n",
    "        preproc = ColumnTransformer(transformers=[('genre', genre_transformer, genre_feat),])\n",
    "        return preproc\n",
    "\n",
    "\n",
    "    def _deep_preprocessor(self,embs):\n",
    "        return DensePreprocessor(embed_cols=embs)"
   ]
  },
  {
   "cell_type": "markdown",
   "metadata": {
    "id": "mD5pOe4e1iSE"
   },
   "source": [
    "# The Experiment"
   ]
  },
  {
   "cell_type": "markdown",
   "metadata": {},
   "source": [
    "we used our train test split strategy mentioned above to evaluate our models and the system. We noticed that the recommenders might provide movies that are not existed in our test set. For most of the metrics, we will only consider those movies that are included in the test set (through inner join the recommendation list and the test set on movieId and userId)."
   ]
  },
  {
   "cell_type": "code",
   "execution_count": 25,
   "metadata": {
    "colab": {
     "base_uri": "https://localhost:8080/"
    },
    "id": "q-2imuKNQ7ub",
    "outputId": "30dc21a9-f6bd-414d-c39b-5340f40f889a"
   },
   "outputs": [
    {
     "name": "stdout",
     "output_type": "stream",
     "text": [
      "x model_results/\n",
      "x model_results/final_recommendations.csv\n",
      "x model_results/item_based_recom_50.csv\n",
      "x model_results/item_based_recom_5.csv\n",
      "x model_results/als_recom_50.csv\n",
      "x model_results/model_test_results.csv\n",
      "x model_results/als_recom_5.csv\n",
      "x model_results/base_model_selection.csv\n",
      "\u001b[34mmodel_results\u001b[m\u001b[m movies.csv    \u001b[34msamples\u001b[m\u001b[m\n"
     ]
    }
   ],
   "source": [
    "compressed_sample_path = '../data/model_results.tar.gz'\n",
    "!tar -xzvf $compressed_sample_path -C $data_path\n",
    "!ls $data_path"
   ]
  },
  {
   "cell_type": "markdown",
   "metadata": {
    "id": "HRZdIu-_15_J"
   },
   "source": [
    "## Choice of Base Model"
   ]
  },
  {
   "cell_type": "markdown",
   "metadata": {
    "id": "QHsBSmXVIqBS"
   },
   "source": [
    "Since `user based` CF allocates the memories over 16GB the colab assigned (Session Crashed), we will abandon choice of `user based` CF since we expect it will allocate more memory when more users feed into our system.\n",
    "\n",
    "Thus, we will choose our base model based on the `Recall` and `recommendation time` (model inference time) between `item based` CF and `ALS` of Matrix Factorization (Model Based CF) for our sample data. (We will use the tuned parameter for ALS from Homework 2, which is ragParam = .15, rank = 10)\n",
    "\n",
    "We will test a benchmark on recommendation with constraint on test dataset to see how the recall is, and how the time cost of each base model."
   ]
  },
  {
   "cell_type": "markdown",
   "metadata": {
    "id": "DzCrdrP_Q7uc"
   },
   "source": [
    "### Recall and Recommendation Time in Test Set"
   ]
  },
  {
   "cell_type": "markdown",
   "metadata": {
    "id": "qSEZm4DmQ7uc"
   },
   "source": [
    "how we train and generate our base model selection results\n",
    "``` python\n",
    "## live training and inference for base model\n",
    "# this cell takes over minutes to execute\n",
    "\n",
    "models = {'item_based': Memory_based_CF(spark, base='item', usercol='userId', itemcol='movieId', ratingcol='rating'),\n",
    "  'als': Als(userCol='userId', itemCol='movieId', ratingCol='rating', regParam=.15, seed=0, rank=10)}\n",
    "# this cell takes over minutes to execute\n",
    "def recommend(prediction, k, userCol = 'userId', itemCol = 'movieId',ratingCol = 'rating', predCol = 'prediction'):\n",
    "    window = W.Window.partitionBy(prediction[userCol]).orderBy(prediction['prediction'].desc())\n",
    "    ranked = prediction.select('*', F.rank().over(window).alias('rank'))\n",
    "    recommended = ranked.where(ranked.rank <= k).select(F.col(userCol).cast('string'), \n",
    "                                                        F.col(itemCol).cast('string'),\n",
    "                                                        F.col(ratingCol).cast('double'),\n",
    "                                                        F.col(predCol).cast('double'))\n",
    "    return recommended\n",
    "recalls = []\n",
    "times = []\n",
    "predictions = []\n",
    "for model in models.keys():\n",
    "    #training based model\n",
    "    models[model].fit(sample_train)\n",
    "    start = time.time()\n",
    "    prediction = models[model].predict(sample_test)\n",
    "    recommendation = recommend(prediction, 50)\n",
    "    recalls.append(recall(recommendation))\n",
    "    end = time.time()\n",
    "    times.append(end - start)\n",
    "    predictions.append(prediction)\n",
    "base_model_selection = pd.DataFrame({'recall': recalls, 'recommend time': times}, index=['item_based', 'als'])\n",
    "base_model_selection.to_csv('../model_results/base_model_selection.csv')\n",
    "\n",
    "```"
   ]
  },
  {
   "cell_type": "code",
   "execution_count": 26,
   "metadata": {
    "colab": {
     "base_uri": "https://localhost:8080/",
     "height": 111
    },
    "id": "XZuFmDtfQ7uc",
    "outputId": "4a00e95a-4f31-42b7-c274-7a1404354e06",
    "scrolled": true
   },
   "outputs": [
    {
     "data": {
      "text/html": [
       "<div>\n",
       "<style scoped>\n",
       "    .dataframe tbody tr th:only-of-type {\n",
       "        vertical-align: middle;\n",
       "    }\n",
       "\n",
       "    .dataframe tbody tr th {\n",
       "        vertical-align: top;\n",
       "    }\n",
       "\n",
       "    .dataframe thead th {\n",
       "        text-align: right;\n",
       "    }\n",
       "</style>\n",
       "<table border=\"1\" class=\"dataframe\">\n",
       "  <thead>\n",
       "    <tr style=\"text-align: right;\">\n",
       "      <th></th>\n",
       "      <th>recall</th>\n",
       "      <th>recommend time</th>\n",
       "    </tr>\n",
       "  </thead>\n",
       "  <tbody>\n",
       "    <tr>\n",
       "      <th>item_based</th>\n",
       "      <td>0.917752</td>\n",
       "      <td>64.714004</td>\n",
       "    </tr>\n",
       "    <tr>\n",
       "      <th>als</th>\n",
       "      <td>0.842358</td>\n",
       "      <td>11.985038</td>\n",
       "    </tr>\n",
       "  </tbody>\n",
       "</table>\n",
       "</div>"
      ],
      "text/plain": [
       "              recall  recommend time\n",
       "item_based  0.917752       64.714004\n",
       "als         0.842358       11.985038"
      ]
     },
     "metadata": {},
     "output_type": "display_data"
    }
   ],
   "source": [
    "base_model_selection = pd.read_csv(os.path.join(data_path,'model_results/base_model_selection.csv'), index_col=0)\n",
    "display(base_model_selection)"
   ]
  },
  {
   "cell_type": "markdown",
   "metadata": {
    "id": "UCoPSUv8Q7uc"
   },
   "source": [
    "### Recall for top 50 recommendation\n",
    "\n",
    "Recall for the recommenders recommend 50 items"
   ]
  },
  {
   "cell_type": "code",
   "execution_count": 27,
   "metadata": {
    "colab": {
     "base_uri": "https://localhost:8080/"
    },
    "id": "rzdl45AdQ7uc",
    "outputId": "b9a367b0-b9c4-485a-c8eb-7804940cef5c"
   },
   "outputs": [
    {
     "name": "stdout",
     "output_type": "stream",
     "text": [
      "recall@50 for item based CF 1.0\n",
      "recall@50 for ALS 1.0\n"
     ]
    }
   ],
   "source": [
    "item_based_50 = pd.read_csv('../downloads/model_results/item_based_recom_50.csv')\n",
    "als_50 = pd.read_csv('../downloads/model_results/als_recom_50.csv')\n",
    "\n",
    "item_based_50 = item_based_50.merge(sample_df)\n",
    "als_50 = als_50.merge(sample_df)\n",
    "\n",
    "item_based_50['pred_binary'] = item_based_50.prediction >= 3\n",
    "als_50['pred_binary'] = als_50.prediction >= 3\n",
    "\n",
    "item_based_50['true_binary'] = item_based_50.prediction >= 3\n",
    "als_50['true_binary'] = als_50.prediction >= 3\n",
    "\n",
    "print('recall@50 for item based CF {}'.format(recall_score(item_based_50.pred_binary, item_based_50.true_binary)))\n",
    "\n",
    "print('recall@50 for ALS {}'.format(recall_score(als_50.pred_binary, als_50.true_binary)))"
   ]
  },
  {
   "cell_type": "markdown",
   "metadata": {
    "id": "0JzrLISTJPmn"
   },
   "source": [
    "For our sample dataset, from th table above, we observe that item-based CF outperforms als CF, but the running time of making recommendation by item_based dataset is much worser than by the als model. Considering real time scenario that users need instant recommedations, we will choose `ALS` as our base model."
   ]
  },
  {
   "cell_type": "markdown",
   "metadata": {
    "id": "dQl7ewpg2JSt"
   },
   "source": [
    "## Other Measures for Models on Test Set"
   ]
  },
  {
   "cell_type": "markdown",
   "metadata": {
    "id": "yk-2seoDQ7ud"
   },
   "source": [
    "how we train wide and deep\n",
    "\n",
    "``` python\n",
    "\n",
    "wd = wide_deep()\n",
    "wd.fit(sample_train_df)\n",
    "test_pred = wd.predict(sample_test_df)\n",
    "\n",
    "```"
   ]
  },
  {
   "cell_type": "markdown",
   "metadata": {
    "id": "4f-eOfyZQ7ud"
   },
   "source": [
    "how we generate the results\n",
    "\n",
    "```python\n",
    "\n",
    "#getting prediction of base models\n",
    "base_predictions = [pred.toPandas() for pred in predictions]\n",
    "base_predictions = [pred.astype({'userId': np.int64, 'movieId': np.int64, 'rating': np.float64, 'prediction': np.float64}) \\\n",
    " for pred in base_predictions]\n",
    "for pred, model in zip(base_predictions, models.keys()):\n",
    "    pred.columns = ['userId', 'movieId','rating', model+'_prediction']\n",
    "results = sample_test_df[['userId', 'movieId','rating']].merge(base_predictions[0])\n",
    "results = results.merge(base_predictions[1])\n",
    "\n",
    "results['deep_wide_prediction'] = test_pred\n",
    "\n",
    "results[['rating', 'item_based_prediction', \n",
    "        'als_prediction', 'deep_wide_prediction']].to_csv('../model_results/model_test_results.csv', index=False)\n",
    "\n",
    "```"
   ]
  },
  {
   "cell_type": "code",
   "execution_count": 28,
   "metadata": {
    "id": "VuUle22QQ7ud"
   },
   "outputs": [],
   "source": [
    "all_preds_test = pd.read_csv(os.path.join(data_path,'model_results/model_test_results.csv'))"
   ]
  },
  {
   "cell_type": "code",
   "execution_count": 29,
   "metadata": {
    "colab": {
     "base_uri": "https://localhost:8080/",
     "height": 204
    },
    "id": "e9QSJmxYQ7ud",
    "outputId": "e84b41b6-cee6-452c-f9eb-a8f77243218e"
   },
   "outputs": [
    {
     "data": {
      "text/html": [
       "<div>\n",
       "<style scoped>\n",
       "    .dataframe tbody tr th:only-of-type {\n",
       "        vertical-align: middle;\n",
       "    }\n",
       "\n",
       "    .dataframe tbody tr th {\n",
       "        vertical-align: top;\n",
       "    }\n",
       "\n",
       "    .dataframe thead th {\n",
       "        text-align: right;\n",
       "    }\n",
       "</style>\n",
       "<table border=\"1\" class=\"dataframe\">\n",
       "  <thead>\n",
       "    <tr style=\"text-align: right;\">\n",
       "      <th></th>\n",
       "      <th>rating</th>\n",
       "      <th>item_based_prediction</th>\n",
       "      <th>als_prediction</th>\n",
       "      <th>deep_wide_prediction</th>\n",
       "    </tr>\n",
       "  </thead>\n",
       "  <tbody>\n",
       "    <tr>\n",
       "      <th>0</th>\n",
       "      <td>2.0</td>\n",
       "      <td>3.134529</td>\n",
       "      <td>2.980006</td>\n",
       "      <td>2.637283</td>\n",
       "    </tr>\n",
       "    <tr>\n",
       "      <th>1</th>\n",
       "      <td>2.0</td>\n",
       "      <td>3.326562</td>\n",
       "      <td>3.043437</td>\n",
       "      <td>3.394947</td>\n",
       "    </tr>\n",
       "    <tr>\n",
       "      <th>2</th>\n",
       "      <td>3.0</td>\n",
       "      <td>2.848008</td>\n",
       "      <td>2.719941</td>\n",
       "      <td>3.399959</td>\n",
       "    </tr>\n",
       "    <tr>\n",
       "      <th>3</th>\n",
       "      <td>2.0</td>\n",
       "      <td>3.003214</td>\n",
       "      <td>2.716263</td>\n",
       "      <td>2.923458</td>\n",
       "    </tr>\n",
       "    <tr>\n",
       "      <th>4</th>\n",
       "      <td>3.5</td>\n",
       "      <td>3.473010</td>\n",
       "      <td>3.243872</td>\n",
       "      <td>3.199457</td>\n",
       "    </tr>\n",
       "  </tbody>\n",
       "</table>\n",
       "</div>"
      ],
      "text/plain": [
       "   rating  item_based_prediction  als_prediction  deep_wide_prediction\n",
       "0     2.0               3.134529        2.980006              2.637283\n",
       "1     2.0               3.326562        3.043437              3.394947\n",
       "2     3.0               2.848008        2.719941              3.399959\n",
       "3     2.0               3.003214        2.716263              2.923458\n",
       "4     3.5               3.473010        3.243872              3.199457"
      ]
     },
     "execution_count": 29,
     "metadata": {},
     "output_type": "execute_result"
    }
   ],
   "source": [
    "all_preds_test.head()"
   ]
  },
  {
   "cell_type": "code",
   "execution_count": 30,
   "metadata": {
    "colab": {
     "base_uri": "https://localhost:8080/",
     "height": 111
    },
    "id": "U6lUH7TEQ7ud",
    "outputId": "9b0a682c-e78b-4a51-fe60-a496b2e5d3ae"
   },
   "outputs": [
    {
     "data": {
      "text/html": [
       "<div>\n",
       "<style scoped>\n",
       "    .dataframe tbody tr th:only-of-type {\n",
       "        vertical-align: middle;\n",
       "    }\n",
       "\n",
       "    .dataframe tbody tr th {\n",
       "        vertical-align: top;\n",
       "    }\n",
       "\n",
       "    .dataframe thead th {\n",
       "        text-align: right;\n",
       "    }\n",
       "</style>\n",
       "<table border=\"1\" class=\"dataframe\">\n",
       "  <thead>\n",
       "    <tr style=\"text-align: right;\">\n",
       "      <th></th>\n",
       "      <th>Item based</th>\n",
       "      <th>ALS</th>\n",
       "      <th>Wide and deep learning</th>\n",
       "    </tr>\n",
       "  </thead>\n",
       "  <tbody>\n",
       "    <tr>\n",
       "      <th>Accuracy</th>\n",
       "      <td>0.80607</td>\n",
       "      <td>0.762328</td>\n",
       "      <td>0.799716</td>\n",
       "    </tr>\n",
       "    <tr>\n",
       "      <th>RMSE</th>\n",
       "      <td>0.82471</td>\n",
       "      <td>0.831761</td>\n",
       "      <td>0.822391</td>\n",
       "    </tr>\n",
       "  </tbody>\n",
       "</table>\n",
       "</div>"
      ],
      "text/plain": [
       "          Item based       ALS  Wide and deep learning\n",
       "Accuracy     0.80607  0.762328                0.799716\n",
       "RMSE         0.82471  0.831761                0.822391"
      ]
     },
     "execution_count": 30,
     "metadata": {},
     "output_type": "execute_result"
    }
   ],
   "source": [
    "# Compute accuracy of each model\n",
    "acc_item = acc_numpy(all_preds_test[\"rating\"], all_preds_test[\"item_based_prediction\"])\n",
    "acc_als = acc_numpy(all_preds_test[\"rating\"], all_preds_test[\"als_prediction\"])\n",
    "acc_deep = acc_numpy(all_preds_test[\"rating\"], all_preds_test[\"deep_wide_prediction\"])\n",
    "accs = pd.DataFrame({\"Item based\": [acc_item], \"ALS\": [acc_als], \n",
    "                      \"Wide and deep learning\": [acc_deep]}, index=[\"Accuracy\"])\n",
    "\n",
    "# Compute RMSE of each model\n",
    "rmse_item = rmse_numpy(all_preds_test[\"rating\"], all_preds_test[\"item_based_prediction\"])\n",
    "rmse_als = rmse_numpy(all_preds_test[\"rating\"], all_preds_test[\"als_prediction\"])\n",
    "rmse_deep = rmse_numpy(all_preds_test[\"rating\"], all_preds_test[\"deep_wide_prediction\"])\n",
    "rmses = pd.DataFrame({\"Item based\": [rmse_item], \"ALS\": [rmse_als], \n",
    "                      \"Wide and deep learning\": [rmse_deep]}, index=[\"RMSE\"])\n",
    "\n",
    "pd.concat([accs, rmses])"
   ]
  },
  {
   "cell_type": "code",
   "execution_count": 31,
   "metadata": {
    "colab": {
     "base_uri": "https://localhost:8080/",
     "height": 729
    },
    "id": "IEHYhIlTQ7ue",
    "outputId": "972f354e-3a3c-4a67-d5ea-bce029359b84"
   },
   "outputs": [
    {
     "data": {
      "image/png": "[encoded data removed]",
      "text/plain": [
       "<Figure size 864x720 with 1 Axes>"
      ]
     },
     "metadata": {
      "needs_background": "light"
     },
     "output_type": "display_data"
    }
   ],
   "source": [
    "plot_ROC_numpy(all_preds_test.rating.values, list(all_preds_test[['item_based_prediction', 'als_prediction', 'deep_wide_prediction']].values.T),\\\n",
    "               ['item_based_prediction', 'als_prediction', 'deep_wide_prediction'])"
   ]
  },
  {
   "cell_type": "markdown",
   "metadata": {
    "id": "HfsMKrjcQ7ue"
   },
   "source": [
    "### Observation\n",
    "\n",
    "**Performance-wise**\n",
    "\n",
    "According to the table above, from the perspective of accuracy, item based model has is the most robust one for our sample. While, wide and deep model has the lowest RMSE, which tells us wide and deep model can learn embedding and genre from the data. For AUC/ROC, they are nearly the same. We conclude that wide and deep has an improvement in accuracy/RMSE perspective.\n",
    "\n",
    "\n",
    "**Memory-wise**\n",
    "\n",
    "When training item based model, it will generate a 2000 by 2000 sparse matrix and a 2000 by 20000 user-item prediction matrix, our implementation will store the prediction matrix in memory to allocate more time when inference. Then, item based model will have worry about memory when larger user item set in the system, which will cause a memory issue during deployment in real business scenario.\n",
    "\n",
    "For ALS, by taking advantage of feature of SparkML's distributed memory feature, we will not have a memory issue during deployment in real business scenatio.\n",
    "\n",
    "For wide and deep model, by taking advantage of minibatch of deep learning, we do not have concern with memory issue during deployment.\n",
    "\n",
    "**Time-wise**\n",
    "\n",
    "For base model, we will prioritize inference time to make recommendation as fast as possible. Item based model takes 64 seconds to make recommendation while ALS model only costs 11 seconds in our single node machine. If we use distributed cluster for our model, ALS model will be faster due to block parallel features. So, time wise of inference time, ALS will beat our memory based implementation. \n",
    "\n",
    "On the other hand, the wide and deep model inference time for 10M users, the inference time (with batch size 128) will be 20 seconds for sorting recommendations. "
   ]
  },
  {
   "cell_type": "markdown",
   "metadata": {
    "id": "20fFrrNUQ7ue"
   },
   "source": [
    "## Experiment of Pipeline"
   ]
  },
  {
   "cell_type": "markdown",
   "metadata": {
    "id": "9fOwNpE_Q7ue"
   },
   "source": [
    "How we run our pipeline\n",
    "\n",
    "```python\n",
    "train = sample_train_df.copy()\n",
    "test = sample_test_df.copy()\n",
    "use_cuda = torch.cuda.is_available()\n",
    "device = torch.device(\"cuda\" if use_cuda else \"cpu\")\n",
    "\n",
    "#users to generate recommendation\n",
    "users = test.userId.unique().tolist()\n",
    "\n",
    "#base model has already trained in previous cells\n",
    "## train base model\n",
    "base_model = Als(userCol='userId', itemCol='movieId', ratingCol='rating', regParam=.15, seed=0, rank=10)\n",
    "base_model.fit(sample_train)\n",
    "## load cold start model\n",
    "cold_start_model = code_start(movies)\n",
    "## train wide and deep model\n",
    "advanced_model = wide_deep()\n",
    "### if we want to live train the wide and deep model\n",
    "advanced_model.fit(sample_train_df)\n",
    "### if we want to load pretrained model\n",
    "advanced_model.load_pretrained(train, '../trained_model/wide_deep_sample.t', device)\n",
    "\n",
    "#generate recommendation for users n = how many base model recommends, k = how many advanced model recommends\n",
    "final_recommend_items = final_recommender(spark, \n",
    "                                          base_model, \n",
    "                                          cold_start_model, \n",
    "                                          advanced_model,\n",
    "                                          users, \n",
    "                                          movies_df, n=50, k=5)\n",
    "#save results\n",
    "final_recommend_items.to_csv('../model_results/final_recommendations.csv', index=False)\n",
    "```"
   ]
  },
  {
   "cell_type": "code",
   "execution_count": 32,
   "metadata": {
    "id": "dhiaNr27Q7ue"
   },
   "outputs": [],
   "source": [
    "memory_based_recommend_items = pd.read_csv(os.path.join(data_path,'model_results/item_based_recom_5.csv'))\n",
    "als_recommend_items = pd.read_csv(os.path.join(data_path,'model_results/als_recom_5.csv'))\n",
    "final_recommend_items = pd.read_csv(os.path.join(data_path,'model_results/final_recommendations.csv'))"
   ]
  },
  {
   "cell_type": "markdown",
   "metadata": {
    "id": "IbuZKJvsQ7ue"
   },
   "source": [
    "### Percentage of data existed in the test set from various recommenders (proportion of ground truth)\n"
   ]
  },
  {
   "cell_type": "code",
   "execution_count": 33,
   "metadata": {},
   "outputs": [
    {
     "data": {
      "text/plain": [
       "item_based                    0.010950\n",
       "als (base model)              0.014448\n",
       "final model (hybrid model)    0.012809\n",
       "dtype: float64"
      ]
     },
     "metadata": {},
     "output_type": "display_data"
    }
   ],
   "source": [
    "ground_trution_proportion = pd.Series({'item_based': memory_based_recommend_items.merge(sample_df).shape[0]/sample_df.shape[0],\n",
    " 'als (base model)': als_recommend_items.merge(sample_df).shape[0]/sample_df.shape[0],\n",
    " 'final model (hybrid model)': final_recommend_items.merge(sample_df).shape[0]/sample_df.shape[0]})\n",
    "\n",
    "display(ground_trution_proportion)"
   ]
  },
  {
   "cell_type": "markdown",
   "metadata": {},
   "source": [
    "As mentioned above, we find out lots of movies are not existed in our test set. Although the percentages are really low, but we still have about 6000 data points (ground truth) left for us to analyze our models' performance. "
   ]
  },
  {
   "cell_type": "markdown",
   "metadata": {
    "id": "O9Z6CSTjQ7uf"
   },
   "source": [
    "### Metrics related\n",
    "\n"
   ]
  },
  {
   "cell_type": "code",
   "execution_count": 34,
   "metadata": {},
   "outputs": [],
   "source": [
    "test_known_pred_item = sample_test_df[['userId', 'movieId', 'rating']].merge(memory_based_recommend_items)\n",
    "test_known_pred_als = sample_test_df[['userId', 'movieId', 'rating']].merge(als_recommend_items)\n",
    "test_known_pred_final = sample_test_df[['userId', 'movieId', 'rating']].merge(final_recommend_items)"
   ]
  },
  {
   "cell_type": "markdown",
   "metadata": {
    "id": "XOfNZ3nEQ7uf"
   },
   "source": [
    "**RMSE for each recommender**"
   ]
  },
  {
   "cell_type": "code",
   "execution_count": 35,
   "metadata": {},
   "outputs": [
    {
     "data": {
      "text/plain": [
       "item_based              0.696992\n",
       "als (base model)        0.797518\n",
       "final (hybrid model)    0.759480\n",
       "dtype: float64"
      ]
     },
     "metadata": {},
     "output_type": "display_data"
    }
   ],
   "source": [
    "rmse_recom = pd.Series({'item_based': rmse_numpy(test_known_pred_item.rating, test_known_pred_item.prediction),\n",
    "'als (base model)': rmse_numpy(test_known_pred_als.rating, test_known_pred_als.prediction),\n",
    "'final (hybrid model)': rmse_numpy(test_known_pred_final.rating, test_known_pred_final.prediction)})\n",
    "\n",
    "display(rmse_recom)"
   ]
  },
  {
   "cell_type": "markdown",
   "metadata": {},
   "source": [
    "**ACC for each recommender**"
   ]
  },
  {
   "cell_type": "code",
   "execution_count": 36,
   "metadata": {},
   "outputs": [
    {
     "data": {
      "text/plain": [
       "item_based              0.971968\n",
       "als (base model)        0.949190\n",
       "final (hybrid model)    0.960201\n",
       "dtype: float64"
      ]
     },
     "metadata": {},
     "output_type": "display_data"
    }
   ],
   "source": [
    "acc_recom = pd.Series({'item_based': acc_numpy(test_known_pred_item.rating, test_known_pred_item.prediction),\n",
    "'als (base model)': acc_numpy(test_known_pred_als.rating, test_known_pred_als.prediction),\n",
    "'final (hybrid model)': acc_numpy(test_known_pred_final.rating, test_known_pred_final.prediction)})\n",
    "\n",
    "display(acc_recom)"
   ]
  },
  {
   "cell_type": "markdown",
   "metadata": {},
   "source": [
    "**Precision for each recommendation**"
   ]
  },
  {
   "cell_type": "code",
   "execution_count": 37,
   "metadata": {},
   "outputs": [
    {
     "data": {
      "text/plain": [
       "item_based              0.971968\n",
       "als (base model)        0.964372\n",
       "final (hybrid model)    0.961689\n",
       "dtype: float64"
      ]
     },
     "metadata": {},
     "output_type": "display_data"
    }
   ],
   "source": [
    "precision_recom = pd.Series({'item_based': precision_score(test_known_pred_item.rating>=3, test_known_pred_item.prediction>=3),\n",
    "                'als (base model)': precision_score(test_known_pred_als.rating>=3, test_known_pred_als.prediction>=3),\n",
    "                    'final (hybrid model)': precision_score(test_known_pred_final.rating>=3, test_known_pred_final.prediction>=3)})\n",
    "\n",
    "display(precision_recom)"
   ]
  },
  {
   "cell_type": "markdown",
   "metadata": {
    "id": "bYV5UADjQ7uf"
   },
   "source": [
    "**Recall for each recommender**"
   ]
  },
  {
   "cell_type": "code",
   "execution_count": 38,
   "metadata": {},
   "outputs": [
    {
     "data": {
      "text/plain": [
       "item_based              1.000000\n",
       "als (base model)        0.983443\n",
       "final (hybrid model)    0.998308\n",
       "dtype: float64"
      ]
     },
     "metadata": {},
     "output_type": "display_data"
    }
   ],
   "source": [
    "recall_recom = pd.Series({'item_based': recall_score(test_known_pred_item.rating>=3, test_known_pred_item.prediction>=3),\n",
    "                'als (base model)': recall_score(test_known_pred_als.rating>=3, test_known_pred_als.prediction>=3),\n",
    "                    'final (hybrid model)': recall_score(test_known_pred_final.rating>=3, test_known_pred_final.prediction>=3)})\n",
    "\n",
    "display(recall_recom)"
   ]
  },
  {
   "cell_type": "markdown",
   "metadata": {},
   "source": [
    "**NDCG for each recommendation**"
   ]
  },
  {
   "cell_type": "code",
   "execution_count": 39,
   "metadata": {},
   "outputs": [
    {
     "data": {
      "text/plain": [
       "item_based              0.180226\n",
       "als (base model)        0.185551\n",
       "final (hybrid model)    0.174098\n",
       "dtype: float64"
      ]
     },
     "metadata": {},
     "output_type": "display_data"
    }
   ],
   "source": [
    "ndcg_recom = pd.Series({'item_based': NDCG(memory_based_recommend_items, sample_test_df),\n",
    "                'als (base model)': NDCG(als_recommend_items, sample_test_df),\n",
    "                    'final (hybrid model)':  NDCG(final_recommend_items, sample_test_df)})\n",
    "\n",
    "display(ndcg_recom)"
   ]
  },
  {
   "cell_type": "markdown",
   "metadata": {},
   "source": [
    "**AUC for each recommendation**"
   ]
  },
  {
   "cell_type": "code",
   "execution_count": 40,
   "metadata": {},
   "outputs": [
    {
     "data": {
      "image/png": "[encoded data removed]",
      "text/plain": [
       "<Figure size 864x720 with 1 Axes>"
      ]
     },
     "metadata": {},
     "output_type": "display_data"
    }
   ],
   "source": [
    "true_binary_item = test_known_pred_item.rating >= 3\n",
    "true_binary_als = test_known_pred_als.rating >= 3\n",
    "true_binary_final = test_known_pred_final.rating >= 3\n",
    "_plot_ROC({\"item_based\": ROC(test_known_pred_item.prediction, true_binary_item)})\n",
    "_plot_ROC({\"als\": ROC(test_known_pred_als.prediction, true_binary_als)})\n",
    "_plot_ROC({\"final\": ROC(test_known_pred_final.prediction, true_binary_final)})\n",
    "plt.show()"
   ]
  },
  {
   "cell_type": "markdown",
   "metadata": {},
   "source": [
    "**Coverage for each recommendation**"
   ]
  },
  {
   "cell_type": "code",
   "execution_count": 41,
   "metadata": {
    "colab": {
     "base_uri": "https://localhost:8080/",
     "height": 638
    },
    "id": "35KJ-TIyQ7uf",
    "outputId": "608d2df9-565b-40e4-b861-f3813a08df4b"
   },
   "outputs": [
    {
     "name": "stderr",
     "output_type": "stream",
     "text": [
      "100%|██████████| 393/393 [00:03<00:00, 105.37it/s]\n"
     ]
    },
    {
     "data": {
      "image/png": "[encoded data removed]",
      "text/plain": [
       "<Figure size 864x720 with 1 Axes>"
      ]
     },
     "metadata": {},
     "output_type": "display_data"
    }
   ],
   "source": [
    "num_users = []\n",
    "memory_res = []\n",
    "als_res = []\n",
    "final_res = []\n",
    "for i in tqdm(range(400, final_recommend_items.userId.nunique()+1, 50)):\n",
    "    memory_res.append(memory_based_recommend_items[memory_based_recommend_items.userId.isin(memory_based_recommend_items.userId.unique()[:i])].movieId.nunique()/2000)\n",
    "    als_res.append(als_recommend_items[als_recommend_items.userId.isin(als_recommend_items.userId.unique()[:i])].movieId.nunique()/2000)\n",
    "    final_res.append(final_recommend_items[final_recommend_items.userId.isin(final_recommend_items.userId.unique()[:i])].movieId.nunique()/2000)\n",
    "    num_users.append(i)\n",
    "pd.DataFrame({'num_users': num_users, \n",
    "              'item_based_CF': memory_res,\n",
    "              'als': als_res,\n",
    "              'final model': final_res}).set_index('num_users').plot()\n",
    "plt.xlabel('number of user recommended')\n",
    "plt.ylabel('coverage@5')\n",
    "plt.title('Coverage@5 for each model as number of user been recommended')\n",
    "plt.show()"
   ]
  },
  {
   "cell_type": "markdown",
   "metadata": {},
   "source": [
    "Since all we have only a little proprotion of recommendations are ground truth, the metrics above may not the real benchmark. \n",
    "\n",
    "We can see in the small set of ground truth of recommendation, ALS model has a higher performance in traditional metrics than performance of final model. But our final model has a much robust performance on coverage of item as number of users recommended increase, which mean final model will cover more items than ALS model when the decision of recommendation comes (ALS will likely have more weights on popular items)\n",
    "\n",
    "In summary, we find out final model trades off some accuracy/RMSE/NDCG/AUC with some more items coverage from base model (ALS)."
   ]
  },
  {
   "cell_type": "markdown",
   "metadata": {
    "id": "gKNPedQPQ7ug"
   },
   "source": [
    "### Genre related\n",
    "\n",
    "how many genre covered for each user, the proportion of a user's genre covered in top 5 recommendation among all user's movie."
   ]
  },
  {
   "cell_type": "code",
   "execution_count": 42,
   "metadata": {},
   "outputs": [
    {
     "data": {
      "text/plain": [
       "item_based              0.883861\n",
       "als (base model)        0.799063\n",
       "final (hybrid model)    0.926465\n",
       "dtype: float64"
      ]
     },
     "metadata": {},
     "output_type": "display_data"
    }
   ],
   "source": [
    "memory_based_recommend_items_genre = memory_based_recommend_items.merge(movies_df)[[\"userId\", \"movieId\", \"prediction\", \"genres\"]]\n",
    "als_recommend_items_genre = als_recommend_items.merge(movies_df)[[\"userId\", \"movieId\", \"prediction\", \"genres\"]]\n",
    "final_recommend_items_genre = final_recommend_items.merge(movies_df)[[\"userId\", \"movieId\", \"prediction\", \"genres\"]]\n",
    "memory_based_recommend_items_genre.genres = memory_based_recommend_items_genre.genres.str.split(\"|\")\n",
    "als_recommend_items_genre.genres = als_recommend_items_genre.genres.str.split(\"|\")\n",
    "final_recommend_items_genre.genres = final_recommend_items_genre.genres.str.split(\"|\")\n",
    "memory_based_genre_counts = memory_based_recommend_items_genre.groupby(\"userId\").genres.apply(lambda x: len(np.unique(np.array(x).flatten()[0])))\n",
    "als_genre_counts = als_recommend_items_genre.groupby(\"userId\").genres.apply(lambda x: len(np.unique(np.array(x).flatten()[0])))\n",
    "final_genre_counts = final_recommend_items_genre.groupby(\"userId\").genres.apply(lambda x: len(np.unique(np.array(x).flatten()[0])))\n",
    "sample_df_genres = sample_train_df.copy()\n",
    "sample_df_genres.genres = sample_df_genres.genres.str.split(\"|\")\n",
    "all_user_genre_counts = sample_df_genres.groupby(\"userId\").genres.apply(lambda x: len(np.unique(np.array(x).flatten()[0])))\n",
    "genre_recom = pd.Series({\"item_based\": (memory_based_genre_counts/all_user_genre_counts).mean(),\n",
    " \"als (base model)\": (als_genre_counts/all_user_genre_counts).mean(),\n",
    " \"final (hybrid model)\": (final_genre_counts/all_user_genre_counts).mean()})\n",
    "display(genre_recom)"
   ]
  },
  {
   "cell_type": "markdown",
   "metadata": {},
   "source": [
    "From the stats made above, we see that our hybrid pipeline from ALS has a big improvement on Content based perspective: by bringing more movies with different genres to users. Also, its movie coverage has been increased, which means bringing `genre` in sorting movies in wide and deep model will make the recommender system generates movies with more variation."
   ]
  },
  {
   "cell_type": "markdown",
   "metadata": {},
   "source": [
    "### Frequent Users vs. Non-Frequent Users"
   ]
  },
  {
   "cell_type": "code",
   "execution_count": 43,
   "metadata": {},
   "outputs": [
    {
     "data": {
      "image/png": "[encoded data removed]",
      "text/plain": [
       "<Figure size 864x720 with 1 Axes>"
      ]
     },
     "metadata": {},
     "output_type": "display_data"
    }
   ],
   "source": [
    "user_rating_cnt = sample_df.userId.value_counts().to_frame(\"cnt\")\n",
    "user_rating_cnt['userId'] = user_rating_cnt.index.astype(str)\n",
    "user_rating_cnt.plot(x=\"userId\",y=\"cnt\")\n",
    "plt.ylabel(\"# of ratings\")\n",
    "plt.title(\"# of ratings for users\")\n",
    "plt.show()"
   ]
  },
  {
   "cell_type": "markdown",
   "metadata": {},
   "source": [
    "From the above graph we could see our whole dataset(sampled from movielens) contains a few power users and most of the users have rated about 400 or less. We will set number of ratings greater than 400 as power users and less than 400 ratings as non frequent users. We will compare how the system performs on two groups."
   ]
  },
  {
   "cell_type": "code",
   "execution_count": 44,
   "metadata": {},
   "outputs": [],
   "source": [
    "def frequent_user(sample_df):\n",
    "    \"\"\"\n",
    "    return list of userId that has rated more than 400 movies\n",
    "    \"\"\"\n",
    "    user_rating_cnt = sample_df.userId.value_counts().to_frame(\"cnt\")\n",
    "    return list(user_rating_cnt[user_rating_cnt.cnt > 400].index)\n",
    "\n",
    "def non_frequent_user(sample_df):\n",
    "    \"\"\"\n",
    "    return list of userId that has rated less or equal to 400 movies\n",
    "    \"\"\"\n",
    "    user_rating_cnt = sample_df.userId.value_counts().to_frame(\"cnt\")\n",
    "    return list(user_rating_cnt[user_rating_cnt.cnt <= 400].index)"
   ]
  },
  {
   "cell_type": "code",
   "execution_count": 45,
   "metadata": {},
   "outputs": [],
   "source": [
    "freq_userId = frequent_user(sample_df)\n",
    "non_freq_userId = non_frequent_user(sample_df)"
   ]
  },
  {
   "cell_type": "code",
   "execution_count": 46,
   "metadata": {},
   "outputs": [],
   "source": [
    "test_freq = test_known_pred_final[test_known_pred_final.userId.isin(freq_userId)]\n",
    "test_non_freq = test_known_pred_final[test_known_pred_final.userId.isin(non_freq_userId)]"
   ]
  },
  {
   "cell_type": "code",
   "execution_count": 47,
   "metadata": {},
   "outputs": [
    {
     "data": {
      "text/plain": [
       "Text(0.5, 1.0, 'RMSE between frequent users and non frequent users')"
      ]
     },
     "execution_count": 47,
     "metadata": {},
     "output_type": "execute_result"
    },
    {
     "data": {
      "image/png": "[encoded data removed]",
      "text/plain": [
       "<Figure size 864x720 with 1 Axes>"
      ]
     },
     "metadata": {},
     "output_type": "display_data"
    }
   ],
   "source": [
    "freq_rmse = rmse_numpy(test_freq.rating,test_freq.prediction)\n",
    "non_freq_rmse = rmse_numpy(test_non_freq.rating,test_non_freq.prediction)\n",
    "plt.bar(x=['freq_user','non_freq_user'],height=[freq_rmse,non_freq_rmse],color=['orange','red'])\n",
    "plt.title(\"RMSE between frequent users and non frequent users\")"
   ]
  },
  {
   "cell_type": "markdown",
   "metadata": {},
   "source": [
    "For frequent user, the RMSE is smaller than non frequent user. That indicates the system could give better recommendations to users who often visit our website and give inputs. The system might need to improve on those users who give less about their feedback but the gap between the two groups is minor (about 0.1 unit of rating). "
   ]
  },
  {
   "cell_type": "markdown",
   "metadata": {},
   "source": [
    "### Popular Movies vs. Niche Movies"
   ]
  },
  {
   "cell_type": "code",
   "execution_count": 48,
   "metadata": {},
   "outputs": [
    {
     "data": {
      "text/plain": [
       "Text(0.5, 1.0, '# of ratings received by movie')"
      ]
     },
     "execution_count": 48,
     "metadata": {},
     "output_type": "execute_result"
    },
    {
     "data": {
      "image/png": "[encoded data removed]",
      "text/plain": [
       "<Figure size 864x720 with 1 Axes>"
      ]
     },
     "metadata": {},
     "output_type": "display_data"
    }
   ],
   "source": [
    "movie_rating_cnt = sample_df.movieId.value_counts().to_frame(\"cnt\")\n",
    "movie_rating_cnt['movieId'] = movie_rating_cnt.index.astype(str)\n",
    "movie_rating_cnt.plot(x=\"movieId\",y=\"cnt\")\n",
    "plt.ylabel(\"# of ratings\")\n",
    "plt.title(\"# of ratings received by movie\")"
   ]
  },
  {
   "cell_type": "markdown",
   "metadata": {},
   "source": [
    "We then investigate from movie's perspective. From above graph, we could see that we could set the cutoff between popular movies and niche movies at about 5000 ratings."
   ]
  },
  {
   "cell_type": "code",
   "execution_count": 49,
   "metadata": {},
   "outputs": [],
   "source": [
    "def popular_movie(sample_df):\n",
    "    \"\"\"\n",
    "    return list of movieId that has been rated more than 5000 times\n",
    "    \"\"\"\n",
    "    movie_rating_cnt = sample_df.movieId.value_counts().to_frame(\"cnt\")\n",
    "    return list(movie_rating_cnt[movie_rating_cnt.cnt > 5000].index)\n",
    "\n",
    "def niche_movie(sample_df):\n",
    "    \"\"\"\n",
    "    return list of movieId that has been rated less or equal to 5000 times\n",
    "    \"\"\"\n",
    "    movie_rating_cnt = sample_df.movieId.value_counts().to_frame(\"cnt\")\n",
    "    return list(movie_rating_cnt[movie_rating_cnt.cnt <= 5000].index)"
   ]
  },
  {
   "cell_type": "code",
   "execution_count": 50,
   "metadata": {},
   "outputs": [],
   "source": [
    "pop_movieId = popular_movie(sample_df)\n",
    "niche_movieId = niche_movie(sample_df)"
   ]
  },
  {
   "cell_type": "code",
   "execution_count": 51,
   "metadata": {},
   "outputs": [],
   "source": [
    "test_pop = test_known_pred_final[test_known_pred_final.movieId.isin(pop_movieId)]\n",
    "test_niche = test_known_pred_final[test_known_pred_final.movieId.isin(niche_movieId)]"
   ]
  },
  {
   "cell_type": "code",
   "execution_count": 52,
   "metadata": {},
   "outputs": [
    {
     "data": {
      "text/plain": [
       "Text(0.5, 1.0, '# of niche movies recommeded compare to popular movies')"
      ]
     },
     "execution_count": 52,
     "metadata": {},
     "output_type": "execute_result"
    },
    {
     "data": {
      "image/png": "[encoded data removed]",
      "text/plain": [
       "<Figure size 864x720 with 1 Axes>"
      ]
     },
     "metadata": {},
     "output_type": "display_data"
    }
   ],
   "source": [
    "plt.bar(x=['pop_movie','niche_movie'],height=[len(test_pop),len(test_niche)],color=['orange','red'])\n",
    "plt.title(\"# of niche movies recommeded compare to popular movies\")"
   ]
  },
  {
   "cell_type": "markdown",
   "metadata": {},
   "source": [
    "Among the existed movies in our test set, we see lots of the movies are considered \"popular\" movies. That might make sense, because, as mentioned in the lecture, popularity based models are somehow robust. Conformity might exist among people and that might cause these movies becoming popular. Later on, we should find strategies to better the exploration experience on niche movies so that this popular to niche ratio could be shrinked. This improvement would further serve our business goal which is to provide movies that fit for people regardless of the popularity."
   ]
  },
  {
   "cell_type": "markdown",
   "metadata": {
    "id": "x71ERwTi2ajW"
   },
   "source": [
    "# Conclusion"
   ]
  },
  {
   "cell_type": "markdown",
   "metadata": {
    "id": "NMd-Z6xP2hjZ"
   },
   "source": [
    "Overall this project has produced a sequential model of recommendation algorithms that could serve users with personalized movies. The system first goes through a simple but fast algorithm to select a collection of movies. Then these movies would be feeded alongside with the user identity into our wide and deep model to produce a well treated list of k(right now 5) movies that best fit the user's taste. Through the experiment process, we find out different models (baselines or our full pipeline model) have their own advantage on different metrics. We finally choose our full pipeline model because although the metrics are not the best but the ability to generalize cannot be replaced by baseline models which only perform memorization of the data. The ability to generalize aligns with our business rule and make users explore new topics (genres in this case) better. "
   ]
  }
 ],
 "metadata": {
  "accelerator": "GPU",
  "colab": {
   "collapsed_sections": [],
   "machine_shape": "hm",
   "name": "“final_report_dec15”的副本",
   "provenance": [],
   "toc_visible": true
  },
  "kernelspec": {
   "display_name": "personalization",
   "language": "python",
   "name": "personalization"
  },
  "language_info": {
   "codemirror_mode": {
    "name": "ipython",
    "version": 3
   },
   "file_extension": ".py",
   "mimetype": "text/x-python",
   "name": "python",
   "nbconvert_exporter": "python",
   "pygments_lexer": "ipython3",
   "version": "3.8.5"
  },
  "latex_envs": {
   "LaTeX_envs_menu_present": true,
   "autoclose": false,
   "autocomplete": true,
   "bibliofile": "biblio.bib",
   "cite_by": "apalike",
   "current_citInitial": 1,
   "eqLabelWithNumbers": true,
   "eqNumInitial": 1,
   "hotkeys": {
    "equation": "Ctrl-E",
    "itemize": "Ctrl-I"
   },
   "labels_anchors": false,
   "latex_user_defs": false,
   "report_style_numbering": false,
   "user_envs_cfg": false
  },
  "toc": {
   "base_numbering": 1,
   "nav_menu": {
    "height": "557px",
    "width": "243px"
   },
   "number_sections": true,
   "sideBar": true,
   "skip_h1_title": false,
   "title_cell": "Table of Contents",
   "title_sidebar": "Contents",
   "toc_cell": false,
   "toc_position": {},
   "toc_section_display": true,
   "toc_window_display": false
  },
  "varInspector": {
   "cols": {
    "lenName": 16,
    "lenType": 16,
    "lenVar": 40
   },
   "kernels_config": {
    "python": {
     "delete_cmd_postfix": "",
     "delete_cmd_prefix": "del ",
     "library": "var_list.py",
     "varRefreshCmd": "print(var_dic_list())"
    },
    "r": {
     "delete_cmd_postfix": ") ",
     "delete_cmd_prefix": "rm(",
     "library": "var_list.r",
     "varRefreshCmd": "cat(var_dic_list()) "
    }
   },
   "types_to_exclude": [
    "module",
    "function",
    "builtin_function_or_method",
    "instance",
    "_Feature"
   ],
   "window_display": false
  }
 },
 "nbformat": 4,
 "nbformat_minor": 1
}
