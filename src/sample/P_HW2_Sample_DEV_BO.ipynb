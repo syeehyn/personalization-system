{
 "cells": [
  {
   "cell_type": "code",
   "execution_count": 1,
   "metadata": {},
   "outputs": [
    {
     "name": "stdout",
     "output_type": "stream",
     "text": [
      "Spark UI address http://127.0.0.1:4040\n"
     ]
    }
   ],
   "source": [
    "from pyspark.sql import SparkSession\n",
    "from pyspark import SparkContext, SparkConf\n",
    "import psutil\n",
    "NUM_WORKER = psutil.cpu_count(logical = False)\n",
    "\n",
    "def Spark():\n",
    "    \"\"\"[summary]\n",
    "    Returns:\n",
    "        [type]: [description]\n",
    "    \"\"\"    \n",
    "    conf_spark = SparkConf().set(\"spark.driver.host\", \"127.0.0.1\")\n",
    "    sc = SparkContext(conf = conf_spark)\n",
    "    spark = SparkSession(sc)\n",
    "    spark.conf.set(\"spark.sql.shuffle.partitions\", NUM_WORKER)\n",
    "    print('Spark UI address {}'.format(spark.sparkContext.uiWebUrl))\n",
    "    return spark\n",
    "\n",
    "sess = Spark()"
   ]
  },
  {
   "cell_type": "code",
   "execution_count": 2,
   "metadata": {},
   "outputs": [],
   "source": [
    "import pyspark.sql.functions as F\n",
    "import pyspark.sql.types as T"
   ]
  },
  {
   "cell_type": "code",
   "execution_count": 3,
   "metadata": {},
   "outputs": [],
   "source": [
    "# read in ratings and movies\n",
    "ratings_fp = \"./ml-latest/ratings.csv\"\n",
    "movies_fp = \"./ml-latest/movies.csv\"\n",
    "ratings = sess.read.csv(ratings_fp,header=True)\n",
    "movies = sess.read.csv(movies_fp,header=True)"
   ]
  },
  {
   "cell_type": "code",
   "execution_count": 4,
   "metadata": {},
   "outputs": [
    {
     "name": "stdout",
     "output_type": "stream",
     "text": [
      "there are 4778 users rated at least 5 movies with frac=0.005\n",
      "there are 41603 users rated at least 5 movies with frac=0.025\n"
     ]
    }
   ],
   "source": [
    "# 1. randomly sample the ratings  (frac=0.001 would get approx. 2w+ unique user and 5,000+ unique movies)\n",
    "frac = 0.001 # fraction of data to sample\n",
    "frac_incr = 5 # if not enough data, frac multiply this multiplier to resample\n",
    "random_seed = 0 \n",
    "sample = ratings.sample(fraction=frac, seed = random_seed)\n",
    "min_user = 20000 # minimum required number of users\n",
    "# 2. keep users by user's num of rating >= 5\n",
    "cnt_user = 0\n",
    "while cnt_user < min_user:\n",
    "    frac *= frac_incr\n",
    "    sample = ratings.sample(fraction=frac, seed = random_seed)\n",
    "    id_with_cnt = sample.groupBy(\"userId\").agg(F.count(\"movieId\").alias(\"cnt\"))\n",
    "    filtered = id_with_cnt.filter(id_with_cnt.cnt >=5)\n",
    "    cnt_user = filtered.select(F.count(\"userId\")).collect()[0][0]\n",
    "    print(f'there are {cnt_user} users rated at least 5 movies with frac={frac}')\n",
    "sample = sample.join(filtered,sample.userId == filtered.userId).drop(filtered.userId).drop(filtered.cnt)\n",
    "# 3. check movies by genre\n",
    "movies = movies.withColumn(\"genre_lst\",F.split(\"genres\",\"\\|\").alias(\"genre_lst\")) # add a new col of genres.split(\"|\")\n",
    "with_genre = movies.join(sample,movies.movieId == sample.movieId).drop(sample.movieId)\n",
    "movie_genre = with_genre.select(\"movieId\",F.explode(\"genre_lst\").alias(\"genre\"))\n",
    "gp_movie_genre = movie_genre.groupBy(\"genre\").agg(F.countDistinct(\"movieId\").alias(\"cnt\"))"
   ]
  },
  {
   "cell_type": "code",
   "execution_count": 5,
   "metadata": {},
   "outputs": [
    {
     "name": "stdout",
     "output_type": "stream",
     "text": [
      "After sampling there are 41603 unique userId\n",
      "After sampling there are 18641 unique movieId\n",
      "# of movies in each genre: \n"
     ]
    },
    {
     "data": {
      "text/html": [
       "<div>\n",
       "<style scoped>\n",
       "    .dataframe tbody tr th:only-of-type {\n",
       "        vertical-align: middle;\n",
       "    }\n",
       "\n",
       "    .dataframe tbody tr th {\n",
       "        vertical-align: top;\n",
       "    }\n",
       "\n",
       "    .dataframe thead th {\n",
       "        text-align: right;\n",
       "    }\n",
       "</style>\n",
       "<table border=\"1\" class=\"dataframe\">\n",
       "  <thead>\n",
       "    <tr style=\"text-align: right;\">\n",
       "      <th></th>\n",
       "      <th>genre</th>\n",
       "      <th>cnt</th>\n",
       "    </tr>\n",
       "  </thead>\n",
       "  <tbody>\n",
       "    <tr>\n",
       "      <th>0</th>\n",
       "      <td>Children</td>\n",
       "      <td>1042</td>\n",
       "    </tr>\n",
       "    <tr>\n",
       "      <th>1</th>\n",
       "      <td>Crime</td>\n",
       "      <td>2073</td>\n",
       "    </tr>\n",
       "    <tr>\n",
       "      <th>2</th>\n",
       "      <td>Fantasy</td>\n",
       "      <td>1161</td>\n",
       "    </tr>\n",
       "    <tr>\n",
       "      <th>3</th>\n",
       "      <td>Horror</td>\n",
       "      <td>2006</td>\n",
       "    </tr>\n",
       "    <tr>\n",
       "      <th>4</th>\n",
       "      <td>Sci-Fi</td>\n",
       "      <td>1511</td>\n",
       "    </tr>\n",
       "    <tr>\n",
       "      <th>5</th>\n",
       "      <td>Adventure</td>\n",
       "      <td>1806</td>\n",
       "    </tr>\n",
       "    <tr>\n",
       "      <th>6</th>\n",
       "      <td>Drama</td>\n",
       "      <td>8653</td>\n",
       "    </tr>\n",
       "    <tr>\n",
       "      <th>7</th>\n",
       "      <td>IMAX</td>\n",
       "      <td>175</td>\n",
       "    </tr>\n",
       "    <tr>\n",
       "      <th>8</th>\n",
       "      <td>Musical</td>\n",
       "      <td>594</td>\n",
       "    </tr>\n",
       "    <tr>\n",
       "      <th>9</th>\n",
       "      <td>Western</td>\n",
       "      <td>368</td>\n",
       "    </tr>\n",
       "    <tr>\n",
       "      <th>10</th>\n",
       "      <td>Comedy</td>\n",
       "      <td>6084</td>\n",
       "    </tr>\n",
       "    <tr>\n",
       "      <th>11</th>\n",
       "      <td>Thriller</td>\n",
       "      <td>3399</td>\n",
       "    </tr>\n",
       "    <tr>\n",
       "      <th>12</th>\n",
       "      <td>Animation</td>\n",
       "      <td>1063</td>\n",
       "    </tr>\n",
       "    <tr>\n",
       "      <th>13</th>\n",
       "      <td>Romance</td>\n",
       "      <td>2811</td>\n",
       "    </tr>\n",
       "    <tr>\n",
       "      <th>14</th>\n",
       "      <td>Mystery</td>\n",
       "      <td>1081</td>\n",
       "    </tr>\n",
       "    <tr>\n",
       "      <th>15</th>\n",
       "      <td>War</td>\n",
       "      <td>735</td>\n",
       "    </tr>\n",
       "    <tr>\n",
       "      <th>16</th>\n",
       "      <td>(no genres listed)</td>\n",
       "      <td>259</td>\n",
       "    </tr>\n",
       "    <tr>\n",
       "      <th>17</th>\n",
       "      <td>Action</td>\n",
       "      <td>2842</td>\n",
       "    </tr>\n",
       "    <tr>\n",
       "      <th>18</th>\n",
       "      <td>Film-Noir</td>\n",
       "      <td>177</td>\n",
       "    </tr>\n",
       "    <tr>\n",
       "      <th>19</th>\n",
       "      <td>Documentary</td>\n",
       "      <td>1203</td>\n",
       "    </tr>\n",
       "  </tbody>\n",
       "</table>\n",
       "</div>"
      ],
      "text/plain": [
       "                 genre   cnt\n",
       "0             Children  1042\n",
       "1                Crime  2073\n",
       "2              Fantasy  1161\n",
       "3               Horror  2006\n",
       "4               Sci-Fi  1511\n",
       "5            Adventure  1806\n",
       "6                Drama  8653\n",
       "7                 IMAX   175\n",
       "8              Musical   594\n",
       "9              Western   368\n",
       "10              Comedy  6084\n",
       "11            Thriller  3399\n",
       "12           Animation  1063\n",
       "13             Romance  2811\n",
       "14             Mystery  1081\n",
       "15                 War   735\n",
       "16  (no genres listed)   259\n",
       "17              Action  2842\n",
       "18           Film-Noir   177\n",
       "19         Documentary  1203"
      ]
     },
     "metadata": {},
     "output_type": "display_data"
    }
   ],
   "source": [
    "print(f\"After sampling there are {sample.select(F.countDistinct(sample.userId)).collect()[0][0]} unique userId\")\n",
    "print(f\"After sampling there are {sample.select(F.countDistinct(sample.movieId)).collect()[0][0]} unique movieId\")\n",
    "print(\"# of movies in each genre: \")\n",
    "display(gp_movie_genre.toPandas())"
   ]
  },
  {
   "cell_type": "code",
   "execution_count": null,
   "metadata": {},
   "outputs": [],
   "source": []
  }
 ],
 "metadata": {
  "kernelspec": {
   "display_name": "p_hw2",
   "language": "python",
   "name": "p_hw2"
  },
  "language_info": {
   "codemirror_mode": {
    "name": "ipython",
    "version": 3
   },
   "file_extension": ".py",
   "mimetype": "text/x-python",
   "name": "python",
   "nbconvert_exporter": "python",
   "pygments_lexer": "ipython3",
   "version": "3.8.5"
  }
 },
 "nbformat": 4,
 "nbformat_minor": 2
}
