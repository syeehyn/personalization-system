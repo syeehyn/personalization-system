{
 "cells": [
  {
   "cell_type": "code",
   "execution_count": 1,
   "metadata": {},
   "outputs": [],
   "source": [
    "%load_ext autoreload\n",
    "%autoreload 2"
   ]
  },
  {
   "cell_type": "code",
   "execution_count": 2,
   "metadata": {},
   "outputs": [],
   "source": [
    "import sys\n",
    "sys.path.append('../')"
   ]
  },
  {
   "cell_type": "code",
   "execution_count": 3,
   "metadata": {},
   "outputs": [
    {
     "data": {
      "text/plain": [
       "['/Users/syeehyn/Desktop/fall2020/ieor4571/personalization/eggs',\n",
       " '/Users/syeehyn/opt/anaconda3/envs/personalization/lib/python38.zip',\n",
       " '/Users/syeehyn/opt/anaconda3/envs/personalization/lib/python3.8',\n",
       " '/Users/syeehyn/opt/anaconda3/envs/personalization/lib/python3.8/lib-dynload',\n",
       " '',\n",
       " '/Users/syeehyn/opt/anaconda3/envs/personalization/lib/python3.8/site-packages',\n",
       " '/Users/syeehyn/opt/anaconda3/envs/personalization/lib/python3.8/site-packages/IPython/extensions',\n",
       " '/Users/syeehyn/.ipython',\n",
       " '../']"
      ]
     },
     "execution_count": 3,
     "metadata": {},
     "output_type": "execute_result"
    }
   ],
   "source": [
    "sys.path"
   ]
  },
  {
   "cell_type": "code",
   "execution_count": 4,
   "metadata": {},
   "outputs": [],
   "source": [
    "from src.utils import loading, Spark\n",
    "import pyspark.ml as M\n",
    "import pyspark.sql.functions as F\n",
    "import pyspark.sql.types as T"
   ]
  },
  {
   "cell_type": "code",
   "execution_count": 5,
   "metadata": {},
   "outputs": [
    {
     "name": "stdout",
     "output_type": "stream",
     "text": [
      "Spark UI address http://127.0.0.1:4040\n"
     ]
    }
   ],
   "source": [
    "spark = Spark()"
   ]
  },
  {
   "cell_type": "code",
   "execution_count": 10,
   "metadata": {},
   "outputs": [
    {
     "data": {
      "text/html": [
       "\n",
       "        <div>\n",
       "            <p><b>SparkContext</b></p>\n",
       "\n",
       "            <p><a href=\"http://127.0.0.1:4040\">Spark UI</a></p>\n",
       "\n",
       "            <dl>\n",
       "              <dt>Version</dt>\n",
       "                <dd><code>v3.0.1</code></dd>\n",
       "              <dt>Master</dt>\n",
       "                <dd><code>local[*]</code></dd>\n",
       "              <dt>AppName</dt>\n",
       "                <dd><code>pyspark-shell</code></dd>\n",
       "            </dl>\n",
       "        </div>\n",
       "        "
      ],
      "text/plain": [
       "<SparkContext master=local[*] appName=pyspark-shell>"
      ]
     },
     "execution_count": 10,
     "metadata": {},
     "output_type": "execute_result"
    }
   ],
   "source": [
    "spark.sparkContext"
   ]
  },
  {
   "cell_type": "code",
   "execution_count": 6,
   "metadata": {},
   "outputs": [],
   "source": [
    "datas = loading(spark, '../downloads')"
   ]
  },
  {
   "cell_type": "code",
   "execution_count": 7,
   "metadata": {},
   "outputs": [
    {
     "data": {
      "text/plain": [
       "{'links': DataFrame[movieId: string, imdbId: string, tmdbId: string],\n",
       " 'tags': DataFrame[userId: string, movieId: string, tag: string, timestamp: string],\n",
       " 'genome-tags': DataFrame[tagId: string, tag: string],\n",
       " 'ratings': DataFrame[userId: string, movieId: string, rating: string, timestamp: string],\n",
       " 'genome-scores': DataFrame[movieId: string, tagId: string, relevance: string],\n",
       " 'movies': DataFrame[movieId: string, title: string, genres: string]}"
      ]
     },
     "execution_count": 7,
     "metadata": {},
     "output_type": "execute_result"
    }
   ],
   "source": [
    "datas"
   ]
  },
  {
   "cell_type": "code",
   "execution_count": 8,
   "metadata": {},
   "outputs": [],
   "source": [
    "ratings = datas['ratings']\n"
   ]
  },
  {
   "cell_type": "code",
   "execution_count": 9,
   "metadata": {
    "scrolled": false
   },
   "outputs": [
    {
     "name": "stdout",
     "output_type": "stream",
     "text": [
      "links\n",
      "+-------+-------+------+\n",
      "|movieId| imdbId|tmdbId|\n",
      "+-------+-------+------+\n",
      "|      1|0114709|   862|\n",
      "|      2|0113497|  8844|\n",
      "|      3|0113228| 15602|\n",
      "|      4|0114885| 31357|\n",
      "|      5|0113041| 11862|\n",
      "|      6|0113277|   949|\n",
      "|      7|0114319| 11860|\n",
      "|      8|0112302| 45325|\n",
      "|      9|0114576|  9091|\n",
      "|     10|0113189|   710|\n",
      "+-------+-------+------+\n",
      "only showing top 10 rows\n",
      "\n",
      "tags\n",
      "+------+-------+--------------+----------+\n",
      "|userId|movieId|           tag| timestamp|\n",
      "+------+-------+--------------+----------+\n",
      "|    14|    110|          epic|1443148538|\n",
      "|    14|    110|      Medieval|1443148532|\n",
      "|    14|    260|        sci-fi|1442169410|\n",
      "|    14|    260|  space action|1442169421|\n",
      "|    14|    318|  imdb top 250|1442615195|\n",
      "|    14|    318|       justice|1442615192|\n",
      "|    14|    480|     Dinosaurs|1443148563|\n",
      "|    14|    593|psychothriller|1444014286|\n",
      "|    14|   1682|    philosophy|1442615158|\n",
      "|    14|   1682|  surveillance|1442615167|\n",
      "+------+-------+--------------+----------+\n",
      "only showing top 10 rows\n",
      "\n",
      "genome-tags\n",
      "+-----+------------+\n",
      "|tagId|         tag|\n",
      "+-----+------------+\n",
      "|    1|         007|\n",
      "|    2|007 (series)|\n",
      "|    3|18th century|\n",
      "|    4|       1920s|\n",
      "|    5|       1930s|\n",
      "|    6|       1950s|\n",
      "|    7|       1960s|\n",
      "|    8|       1970s|\n",
      "|    9|       1980s|\n",
      "|   10|19th century|\n",
      "+-----+------------+\n",
      "only showing top 10 rows\n",
      "\n",
      "ratings\n",
      "+------+-------+------+----------+\n",
      "|userId|movieId|rating| timestamp|\n",
      "+------+-------+------+----------+\n",
      "|     1|    307|   3.5|1256677221|\n",
      "|     1|    481|   3.5|1256677456|\n",
      "|     1|   1091|   1.5|1256677471|\n",
      "|     1|   1257|   4.5|1256677460|\n",
      "|     1|   1449|   4.5|1256677264|\n",
      "|     1|   1590|   2.5|1256677236|\n",
      "|     1|   1591|   1.5|1256677475|\n",
      "|     1|   2134|   4.5|1256677464|\n",
      "|     1|   2478|   4.0|1256677239|\n",
      "|     1|   2840|   3.0|1256677500|\n",
      "+------+-------+------+----------+\n",
      "only showing top 10 rows\n",
      "\n",
      "genome-scores\n",
      "+-------+-----+--------------------+\n",
      "|movieId|tagId|           relevance|\n",
      "+-------+-----+--------------------+\n",
      "|      1|    1|0.029000000000000026|\n",
      "|      1|    2|0.023749999999999993|\n",
      "|      1|    3| 0.05425000000000002|\n",
      "|      1|    4| 0.06874999999999998|\n",
      "|      1|    5| 0.15999999999999998|\n",
      "|      1|    6| 0.19524999999999998|\n",
      "|      1|    7| 0.07600000000000001|\n",
      "|      1|    8|               0.252|\n",
      "|      1|    9| 0.22749999999999998|\n",
      "|      1|   10| 0.02400000000000002|\n",
      "+-------+-----+--------------------+\n",
      "only showing top 10 rows\n",
      "\n",
      "movies\n",
      "+-------+--------------------+--------------------+\n",
      "|movieId|               title|              genres|\n",
      "+-------+--------------------+--------------------+\n",
      "|      1|    Toy Story (1995)|Adventure|Animati...|\n",
      "|      2|      Jumanji (1995)|Adventure|Childre...|\n",
      "|      3|Grumpier Old Men ...|      Comedy|Romance|\n",
      "|      4|Waiting to Exhale...|Comedy|Drama|Romance|\n",
      "|      5|Father of the Bri...|              Comedy|\n",
      "|      6|         Heat (1995)|Action|Crime|Thri...|\n",
      "|      7|      Sabrina (1995)|      Comedy|Romance|\n",
      "|      8| Tom and Huck (1995)|  Adventure|Children|\n",
      "|      9| Sudden Death (1995)|              Action|\n",
      "|     10|    GoldenEye (1995)|Action|Adventure|...|\n",
      "+-------+--------------------+--------------------+\n",
      "only showing top 10 rows\n",
      "\n"
     ]
    }
   ],
   "source": [
    "for key in datas.keys():\n",
    "    print(key)\n",
    "    datas[key].show(10)"
   ]
  },
  {
   "cell_type": "code",
   "execution_count": 10,
   "metadata": {},
   "outputs": [],
   "source": [
    "movies = datas['movies']"
   ]
  },
  {
   "cell_type": "code",
   "execution_count": 11,
   "metadata": {},
   "outputs": [
    {
     "name": "stdout",
     "output_type": "stream",
     "text": [
      "+-------+--------------------+--------------------+\n",
      "|movieId|               title|              genres|\n",
      "+-------+--------------------+--------------------+\n",
      "|      1|    Toy Story (1995)|Adventure|Animati...|\n",
      "|      2|      Jumanji (1995)|Adventure|Childre...|\n",
      "|      3|Grumpier Old Men ...|      Comedy|Romance|\n",
      "|      4|Waiting to Exhale...|Comedy|Drama|Romance|\n",
      "|      5|Father of the Bri...|              Comedy|\n",
      "|      6|         Heat (1995)|Action|Crime|Thri...|\n",
      "|      7|      Sabrina (1995)|      Comedy|Romance|\n",
      "|      8| Tom and Huck (1995)|  Adventure|Children|\n",
      "|      9| Sudden Death (1995)|              Action|\n",
      "|     10|    GoldenEye (1995)|Action|Adventure|...|\n",
      "|     11|American Presiden...|Comedy|Drama|Romance|\n",
      "|     12|Dracula: Dead and...|       Comedy|Horror|\n",
      "|     13|        Balto (1995)|Adventure|Animati...|\n",
      "|     14|        Nixon (1995)|               Drama|\n",
      "|     15|Cutthroat Island ...|Action|Adventure|...|\n",
      "|     16|       Casino (1995)|         Crime|Drama|\n",
      "|     17|Sense and Sensibi...|       Drama|Romance|\n",
      "|     18|   Four Rooms (1995)|              Comedy|\n",
      "|     19|Ace Ventura: When...|              Comedy|\n",
      "|     20|  Money Train (1995)|Action|Comedy|Cri...|\n",
      "+-------+--------------------+--------------------+\n",
      "only showing top 20 rows\n",
      "\n"
     ]
    }
   ],
   "source": [
    "movies.show()"
   ]
  },
  {
   "cell_type": "code",
   "execution_count": 12,
   "metadata": {},
   "outputs": [
    {
     "data": {
      "text/plain": [
       "DataFrame[genres: string]"
      ]
     },
     "execution_count": 12,
     "metadata": {},
     "output_type": "execute_result"
    }
   ],
   "source": [
    "movies.select('genres')"
   ]
  },
  {
   "cell_type": "code",
   "execution_count": 13,
   "metadata": {},
   "outputs": [
    {
     "data": {
      "text/plain": [
       "20.0"
      ]
     },
     "execution_count": 13,
     "metadata": {},
     "output_type": "execute_result"
    }
   ],
   "source": [
    "20000/1000"
   ]
  },
  {
   "cell_type": "code",
   "execution_count": 19,
   "metadata": {},
   "outputs": [],
   "source": [
    "userid_filter = ratings.groupby('userId')\\\n",
    "        .agg(F.count(F.col('movieId'))\\\n",
    "                    .alias('count'))\\\n",
    "        .where(F.col('count') >= 5)\n",
    "movieid_filter = ratings.groupby('movieId')\\\n",
    "        .agg(F.count(F.col('userId'))\\\n",
    "                    .alias('count'))\\\n",
    "        .where(F.col('count') >= 100)\n",
    "subset = ratings.join(userid_filter,\n",
    "                        ratings.userId == userid_filter.userId)\\\n",
    "                    .select(ratings.userId, ratings.movieId, ratings.rating)\\\n",
    "                    .join(movieid_filter,\n",
    "                        ratings.movieId == movieid_filter.movieId)\\\n",
    "                    .select(ratings.userId, ratings.movieId, ratings.rating).persist()"
   ]
  },
  {
   "cell_type": "code",
   "execution_count": null,
   "metadata": {},
   "outputs": [],
   "source": []
  },
  {
   "cell_type": "code",
   "execution_count": 20,
   "metadata": {},
   "outputs": [
    {
     "data": {
      "text/plain": [
       "266971"
      ]
     },
     "execution_count": 20,
     "metadata": {},
     "output_type": "execute_result"
    }
   ],
   "source": [
    "subset.select('userId').distinct().count()"
   ]
  },
  {
   "cell_type": "code",
   "execution_count": 21,
   "metadata": {},
   "outputs": [
    {
     "data": {
      "text/plain": [
       "10500"
      ]
     },
     "execution_count": 21,
     "metadata": {},
     "output_type": "execute_result"
    }
   ],
   "source": [
    "subset.select('movieId').distinct().count()"
   ]
  },
  {
   "cell_type": "code",
   "execution_count": 26,
   "metadata": {},
   "outputs": [
    {
     "name": "stdout",
     "output_type": "stream",
     "text": [
      "\n",
      "            with frac = 0.002,\n",
      "            75 users rated at least 5 movies,\n",
      "            31 movies are rated by at least 100 users.\n",
      "            \n",
      "\n",
      "            with frac = 0.004,\n",
      "            1685 users rated at least 5 movies,\n",
      "            168 movies are rated by at least 100 users.\n",
      "            \n",
      "\n",
      "            with frac = 0.008,\n",
      "            9520 users rated at least 5 movies,\n",
      "            520 movies are rated by at least 100 users.\n",
      "            \n",
      "\n",
      "            with frac = 0.016,\n",
      "            25472 users rated at least 5 movies,\n",
      "            1106 movies are rated by at least 100 users.\n",
      "            \n"
     ]
    }
   ],
   "source": [
    "frac = .001\n",
    "frac_incr = 2\n",
    "min_user = 20000\n",
    "min_movie = 1000\n",
    "random_seed = 0\n",
    "cnt_user = 0\n",
    "cnt_movie = 0\n",
    "while cnt_user < min_user or cnt_movie < min_movie:\n",
    "    frac *= frac_incr\n",
    "    sample = subset.sample(fraction=frac, seed = random_seed)\n",
    "    userid_filter = sample.groupby('userId')\\\n",
    "            .agg(F.count(F.col('movieId'))\\\n",
    "                        .alias('count'))\\\n",
    "            .where(F.col('count') >= 5)\n",
    "    movieid_filter = sample.groupby('movieId')\\\n",
    "            .agg(F.count(F.col('userId'))\\\n",
    "                        .alias('count'))\\\n",
    "        .where(F.col('count') >= 100)\n",
    "    sample = sample.join(userid_filter,\n",
    "                        sample.userId == userid_filter.userId)\\\n",
    "                    .select(sample.userId, sample.movieId, sample.rating)\\\n",
    "                    .join(movieid_filter,\n",
    "                        sample.movieId == movieid_filter.movieId)\\\n",
    "                    .select(sample.userId, sample.movieId, sample.rating)\n",
    "    cnt_user = sample.select('userId').distinct().count()\n",
    "    cnt_movie = sample.select('movieId').distinct().count()\n",
    "    print(f'''\n",
    "            with frac = {frac},\n",
    "            {cnt_user} users rated at least {5} movies,\n",
    "            {cnt_movie} movies are rated by at least {100} users.\n",
    "            ''')"
   ]
  },
  {
   "cell_type": "code",
   "execution_count": 28,
   "metadata": {},
   "outputs": [
    {
     "data": {
      "text/html": [
       "<div>\n",
       "<style scoped>\n",
       "    .dataframe tbody tr th:only-of-type {\n",
       "        vertical-align: middle;\n",
       "    }\n",
       "\n",
       "    .dataframe tbody tr th {\n",
       "        vertical-align: top;\n",
       "    }\n",
       "\n",
       "    .dataframe thead th {\n",
       "        text-align: right;\n",
       "    }\n",
       "</style>\n",
       "<table border=\"1\" class=\"dataframe\">\n",
       "  <thead>\n",
       "    <tr style=\"text-align: right;\">\n",
       "      <th></th>\n",
       "      <th>userId</th>\n",
       "      <th>movieId</th>\n",
       "      <th>rating</th>\n",
       "    </tr>\n",
       "  </thead>\n",
       "  <tbody>\n",
       "    <tr>\n",
       "      <th>0</th>\n",
       "      <td>101626</td>\n",
       "      <td>1</td>\n",
       "      <td>4.0</td>\n",
       "    </tr>\n",
       "    <tr>\n",
       "      <th>1</th>\n",
       "      <td>102241</td>\n",
       "      <td>1</td>\n",
       "      <td>4.0</td>\n",
       "    </tr>\n",
       "    <tr>\n",
       "      <th>2</th>\n",
       "      <td>104728</td>\n",
       "      <td>1</td>\n",
       "      <td>4.0</td>\n",
       "    </tr>\n",
       "    <tr>\n",
       "      <th>3</th>\n",
       "      <td>226331</td>\n",
       "      <td>1</td>\n",
       "      <td>2.0</td>\n",
       "    </tr>\n",
       "    <tr>\n",
       "      <th>4</th>\n",
       "      <td>226621</td>\n",
       "      <td>1</td>\n",
       "      <td>3.5</td>\n",
       "    </tr>\n",
       "    <tr>\n",
       "      <th>...</th>\n",
       "      <td>...</td>\n",
       "      <td>...</td>\n",
       "      <td>...</td>\n",
       "    </tr>\n",
       "    <tr>\n",
       "      <th>140097</th>\n",
       "      <td>79346</td>\n",
       "      <td>96610</td>\n",
       "      <td>4.5</td>\n",
       "    </tr>\n",
       "    <tr>\n",
       "      <th>140098</th>\n",
       "      <td>88187</td>\n",
       "      <td>96610</td>\n",
       "      <td>2.0</td>\n",
       "    </tr>\n",
       "    <tr>\n",
       "      <th>140099</th>\n",
       "      <td>101223</td>\n",
       "      <td>96610</td>\n",
       "      <td>3.0</td>\n",
       "    </tr>\n",
       "    <tr>\n",
       "      <th>140100</th>\n",
       "      <td>102122</td>\n",
       "      <td>96610</td>\n",
       "      <td>4.0</td>\n",
       "    </tr>\n",
       "    <tr>\n",
       "      <th>140101</th>\n",
       "      <td>104372</td>\n",
       "      <td>96610</td>\n",
       "      <td>1.5</td>\n",
       "    </tr>\n",
       "  </tbody>\n",
       "</table>\n",
       "<p>140102 rows × 3 columns</p>\n",
       "</div>"
      ],
      "text/plain": [
       "        userId movieId rating\n",
       "0       101626       1    4.0\n",
       "1       102241       1    4.0\n",
       "2       104728       1    4.0\n",
       "3       226331       1    2.0\n",
       "4       226621       1    3.5\n",
       "...        ...     ...    ...\n",
       "140097   79346   96610    4.5\n",
       "140098   88187   96610    2.0\n",
       "140099  101223   96610    3.0\n",
       "140100  102122   96610    4.0\n",
       "140101  104372   96610    1.5\n",
       "\n",
       "[140102 rows x 3 columns]"
      ]
     },
     "execution_count": 28,
     "metadata": {},
     "output_type": "execute_result"
    }
   ],
   "source": [
    "sample.toPandas()"
   ]
  },
  {
   "cell_type": "code",
   "execution_count": null,
   "metadata": {},
   "outputs": [],
   "source": []
  }
 ],
 "metadata": {
  "kernelspec": {
   "display_name": "personalization",
   "language": "python",
   "name": "personalization"
  },
  "language_info": {
   "codemirror_mode": {
    "name": "ipython",
    "version": 3
   },
   "file_extension": ".py",
   "mimetype": "text/x-python",
   "name": "python",
   "nbconvert_exporter": "python",
   "pygments_lexer": "ipython3",
   "version": "3.8.5"
  },
  "latex_envs": {
   "LaTeX_envs_menu_present": true,
   "autoclose": false,
   "autocomplete": true,
   "bibliofile": "biblio.bib",
   "cite_by": "apalike",
   "current_citInitial": 1,
   "eqLabelWithNumbers": true,
   "eqNumInitial": 1,
   "hotkeys": {
    "equation": "Ctrl-E",
    "itemize": "Ctrl-I"
   },
   "labels_anchors": false,
   "latex_user_defs": false,
   "report_style_numbering": false,
   "user_envs_cfg": false
  },
  "toc": {
   "base_numbering": 1,
   "nav_menu": {},
   "number_sections": true,
   "sideBar": true,
   "skip_h1_title": false,
   "title_cell": "Table of Contents",
   "title_sidebar": "Contents",
   "toc_cell": false,
   "toc_position": {},
   "toc_section_display": true,
   "toc_window_display": false
  },
  "varInspector": {
   "cols": {
    "lenName": 16,
    "lenType": 16,
    "lenVar": 40
   },
   "kernels_config": {
    "python": {
     "delete_cmd_postfix": "",
     "delete_cmd_prefix": "del ",
     "library": "var_list.py",
     "varRefreshCmd": "print(var_dic_list())"
    },
    "r": {
     "delete_cmd_postfix": ") ",
     "delete_cmd_prefix": "rm(",
     "library": "var_list.r",
     "varRefreshCmd": "cat(var_dic_list()) "
    }
   },
   "types_to_exclude": [
    "module",
    "function",
    "builtin_function_or_method",
    "instance",
    "_Feature"
   ],
   "window_display": false
  }
 },
 "nbformat": 4,
 "nbformat_minor": 4
}
