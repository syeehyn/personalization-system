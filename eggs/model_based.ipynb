{
 "cells": [
  {
   "cell_type": "code",
   "execution_count": 1,
   "metadata": {},
   "outputs": [],
   "source": [
    "%load_ext autoreload\n",
    "%autoreload 2"
   ]
  },
  {
   "cell_type": "code",
   "execution_count": 2,
   "metadata": {},
   "outputs": [],
   "source": [
    "import sys\n",
    "sys.path.append('../')"
   ]
  },
  {
   "cell_type": "code",
   "execution_count": 3,
   "metadata": {},
   "outputs": [
    {
     "data": {
      "text/plain": [
       "['/Users/syeehyn/Desktop/fall2020/ieor4571/personalization/eggs',\n",
       " '/Users/syeehyn/opt/anaconda3/envs/personalization/lib/python38.zip',\n",
       " '/Users/syeehyn/opt/anaconda3/envs/personalization/lib/python3.8',\n",
       " '/Users/syeehyn/opt/anaconda3/envs/personalization/lib/python3.8/lib-dynload',\n",
       " '',\n",
       " '/Users/syeehyn/opt/anaconda3/envs/personalization/lib/python3.8/site-packages',\n",
       " '/Users/syeehyn/opt/anaconda3/envs/personalization/lib/python3.8/site-packages/IPython/extensions',\n",
       " '/Users/syeehyn/.ipython',\n",
       " '../']"
      ]
     },
     "execution_count": 3,
     "metadata": {},
     "output_type": "execute_result"
    }
   ],
   "source": [
    "sys.path"
   ]
  },
  {
   "cell_type": "code",
   "execution_count": 4,
   "metadata": {},
   "outputs": [],
   "source": [
    "from src.utils import loading, Spark\n",
    "import pyspark.ml as M\n",
    "import pyspark.sql.functions as F\n",
    "import pyspark.sql.types as T\n",
    "from pyspark.ml.recommendation import ALS, ALSModel\n",
    "from pyspark.ml.evaluation import RegressionEvaluator\n",
    "from pyspark.ml.tuning import ParamGridBuilder, TrainValidationSplit\n",
    "from tqdm.notebook import tqdm"
   ]
  },
  {
   "cell_type": "code",
   "execution_count": 5,
   "metadata": {},
   "outputs": [],
   "source": [
    "from src import indexTransformer\n",
    "from scipy import sparse\n",
    "from sklearn import metrics\n",
    "from sklearn.preprocessing import MinMaxScaler"
   ]
  },
  {
   "cell_type": "code",
   "execution_count": 6,
   "metadata": {},
   "outputs": [
    {
     "name": "stdout",
     "output_type": "stream",
     "text": [
      "Spark UI address http://127.0.0.1:4041\n"
     ]
    }
   ],
   "source": [
    "spark = Spark()"
   ]
  },
  {
   "cell_type": "code",
   "execution_count": 7,
   "metadata": {},
   "outputs": [],
   "source": [
    "datas = loading(spark, '../data/interim')"
   ]
  },
  {
   "cell_type": "code",
   "execution_count": 8,
   "metadata": {},
   "outputs": [
    {
     "data": {
      "text/plain": [
       "{'train_0.5_0.5': DataFrame[userId: string, movieId: string, rating: string],\n",
       " 'train_0.25_0.75': DataFrame[userId: string, movieId: string, rating: string],\n",
       " 'test_0.5_0.5': DataFrame[userId: string, movieId: string, rating: string],\n",
       " 'test_0.25_0.75': DataFrame[userId: string, movieId: string, rating: string],\n",
       " 'train_0.75_0.25': DataFrame[userId: string, movieId: string, rating: string],\n",
       " 'test_0.75_0.25': DataFrame[userId: string, movieId: string, rating: string]}"
      ]
     },
     "execution_count": 8,
     "metadata": {},
     "output_type": "execute_result"
    }
   ],
   "source": [
    "datas"
   ]
  },
  {
   "cell_type": "code",
   "execution_count": 9,
   "metadata": {},
   "outputs": [],
   "source": [
    "\n",
    "training, test = cast_int(datas['train_0.75_0.25']), cast_int(datas['test_0.75_0.25'])"
   ]
  },
  {
   "cell_type": "code",
   "execution_count": 10,
   "metadata": {},
   "outputs": [
    {
     "name": "stdout",
     "output_type": "stream",
     "text": [
      "\n",
      "        training set num of rows 89977,\n",
      "        test set num of rows 30342,\n",
      "        training set num of users 23503,\n",
      "        training set num of movies 1102,\n",
      "        test set num of users 16470,\n",
      "        test set num of movies 1102,\n",
      "        \n"
     ]
    }
   ],
   "source": [
    "print(f'''\n",
    "        training set num of rows {training.count()},\n",
    "        test set num of rows {test.count()},\n",
    "        training set num of users {training.select('userId').distinct().count()},\n",
    "        training set num of movies {training.select('movieId').distinct().count()},\n",
    "        test set num of users {test.select('userId').distinct().count()},\n",
    "        test set num of movies {test.select('movieId').distinct().count()},\n",
    "        ''')"
   ]
  },
  {
   "cell_type": "code",
   "execution_count": 14,
   "metadata": {},
   "outputs": [
    {
     "data": {
      "text/plain": [
       "Param(parent='ALS_083d9a6c97d6', name='userCol', doc='column name for user ids. Ids must be within the integer value range.')"
      ]
     },
     "execution_count": 14,
     "metadata": {},
     "output_type": "execute_result"
    }
   ],
   "source": [
    "ALS(userCol=\"userId\", \n",
    "                itemCol=\"movieId\", \n",
    "                ratingCol=\"rating\").userCol"
   ]
  },
  {
   "cell_type": "code",
   "execution_count": 15,
   "metadata": {},
   "outputs": [],
   "source": [
    "class als():\n",
    "    def __init__(self, userCol, itemCol, ratingCol, regParam, seed, rank):\n",
    "        self.userCol = userCol\n",
    "        self.itemCol = itemCol\n",
    "        self.ratingCol = ratingCol\n",
    "        self.als = ALS(userCol=userCol, \n",
    "                itemCol=itemCol, \n",
    "                ratingCol=ratingCol,\n",
    "                coldStartStrategy=\"drop\", \n",
    "                nonnegative=True,\n",
    "                regParam=regParam,\n",
    "                seed=seed,\n",
    "                rank=rank)\n",
    "    def fit(self, _X):\n",
    "        X = self._preprocess(_X)\n",
    "        self.model = self.als.fit(X)\n",
    "    \n",
    "    def predict(self, _X):\n",
    "        X = self._preprocess(_X)\n",
    "        return self.model.transform(X)\n",
    "    \n",
    "    def _preprocess(self, _X):\n",
    "        cast_int = lambda df: df.select([F.col(c).cast('int') for c in [self.userCol, self.itemCol]] + \\\n",
    "                                [F.col(self.ratingCol).cast('float')])\n",
    "        return cast_int(_X)"
   ]
  },
  {
   "cell_type": "code",
   "execution_count": 16,
   "metadata": {},
   "outputs": [],
   "source": [
    "als = als('userId', 'movieId', 'rating', .1, 0, 20)"
   ]
  },
  {
   "cell_type": "code",
   "execution_count": 17,
   "metadata": {},
   "outputs": [],
   "source": [
    "als.fit(training)"
   ]
  },
  {
   "cell_type": "code",
   "execution_count": 20,
   "metadata": {},
   "outputs": [
    {
     "name": "stdout",
     "output_type": "stream",
     "text": [
      "+------+-------+------+----------+\n",
      "|userId|movieId|rating|prediction|\n",
      "+------+-------+------+----------+\n",
      "| 67782|     70|   1.0| 1.0252424|\n",
      "| 67919|     70|   3.0| 2.9810653|\n",
      "| 68516|     70|   2.0| 1.9541498|\n",
      "|124453|     70|   4.0| 3.6075344|\n",
      "|163552|     70|   3.0| 2.7944746|\n",
      "|195408|     70|   4.5| 3.9437785|\n",
      "|201203|     70|   3.5| 3.2584264|\n",
      "|208365|     70|   3.0| 2.7693505|\n",
      "|252652|     70|   3.0| 2.8266904|\n",
      "| 28231|     70|   5.0| 4.6779532|\n",
      "| 99611|     70|   3.0| 2.9031727|\n",
      "|180165|     70|   3.0| 2.8295388|\n",
      "|266925|     70|   3.0| 2.9129915|\n",
      "|139514|     70|   3.0|  2.971377|\n",
      "|190139|     70|   4.0| 3.8798056|\n",
      "|253391|     70|   1.0| 1.2994075|\n",
      "|261219|     70|   3.0| 3.1057842|\n",
      "|267586|     70|   4.0| 3.8791454|\n",
      "|281820|     70|   4.5|  4.216389|\n",
      "| 79848|     70|   2.0| 2.1279404|\n",
      "+------+-------+------+----------+\n",
      "only showing top 20 rows\n",
      "\n"
     ]
    }
   ],
   "source": [
    "als.predict(training).show()"
   ]
  },
  {
   "cell_type": "code",
   "execution_count": null,
   "metadata": {},
   "outputs": [],
   "source": []
  },
  {
   "cell_type": "code",
   "execution_count": null,
   "metadata": {},
   "outputs": [],
   "source": []
  },
  {
   "cell_type": "code",
   "execution_count": null,
   "metadata": {},
   "outputs": [],
   "source": []
  }
 ],
 "metadata": {
  "kernelspec": {
   "display_name": "personalization",
   "language": "python",
   "name": "personalization"
  },
  "language_info": {
   "codemirror_mode": {
    "name": "ipython",
    "version": 3
   },
   "file_extension": ".py",
   "mimetype": "text/x-python",
   "name": "python",
   "nbconvert_exporter": "python",
   "pygments_lexer": "ipython3",
   "version": "3.8.5"
  },
  "latex_envs": {
   "LaTeX_envs_menu_present": true,
   "autoclose": false,
   "autocomplete": true,
   "bibliofile": "biblio.bib",
   "cite_by": "apalike",
   "current_citInitial": 1,
   "eqLabelWithNumbers": true,
   "eqNumInitial": 1,
   "hotkeys": {
    "equation": "Ctrl-E",
    "itemize": "Ctrl-I"
   },
   "labels_anchors": false,
   "latex_user_defs": false,
   "report_style_numbering": false,
   "user_envs_cfg": false
  },
  "toc": {
   "base_numbering": 1,
   "nav_menu": {},
   "number_sections": true,
   "sideBar": true,
   "skip_h1_title": false,
   "title_cell": "Table of Contents",
   "title_sidebar": "Contents",
   "toc_cell": false,
   "toc_position": {},
   "toc_section_display": true,
   "toc_window_display": false
  },
  "varInspector": {
   "cols": {
    "lenName": 16,
    "lenType": 16,
    "lenVar": 40
   },
   "kernels_config": {
    "python": {
     "delete_cmd_postfix": "",
     "delete_cmd_prefix": "del ",
     "library": "var_list.py",
     "varRefreshCmd": "print(var_dic_list())"
    },
    "r": {
     "delete_cmd_postfix": ") ",
     "delete_cmd_prefix": "rm(",
     "library": "var_list.r",
     "varRefreshCmd": "cat(var_dic_list()) "
    }
   },
   "types_to_exclude": [
    "module",
    "function",
    "builtin_function_or_method",
    "instance",
    "_Feature"
   ],
   "window_display": false
  }
 },
 "nbformat": 4,
 "nbformat_minor": 4
}
