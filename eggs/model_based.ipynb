{
 "cells": [
  {
   "cell_type": "code",
   "execution_count": 1,
   "metadata": {},
   "outputs": [],
   "source": [
    "%load_ext autoreload\n",
    "%autoreload 2"
   ]
  },
  {
   "cell_type": "code",
   "execution_count": 2,
   "metadata": {},
   "outputs": [],
   "source": [
    "import sys\n",
    "sys.path.append('../')"
   ]
  },
  {
   "cell_type": "code",
   "execution_count": 3,
   "metadata": {},
   "outputs": [
    {
     "data": {
      "text/plain": [
       "['/Users/syeehyn/Desktop/fall2020/ieor4571/personalization/eggs',\n",
       " '/Users/syeehyn/opt/anaconda3/envs/personalization/lib/python38.zip',\n",
       " '/Users/syeehyn/opt/anaconda3/envs/personalization/lib/python3.8',\n",
       " '/Users/syeehyn/opt/anaconda3/envs/personalization/lib/python3.8/lib-dynload',\n",
       " '',\n",
       " '/Users/syeehyn/opt/anaconda3/envs/personalization/lib/python3.8/site-packages',\n",
       " '/Users/syeehyn/opt/anaconda3/envs/personalization/lib/python3.8/site-packages/IPython/extensions',\n",
       " '/Users/syeehyn/.ipython',\n",
       " '../']"
      ]
     },
     "execution_count": 3,
     "metadata": {},
     "output_type": "execute_result"
    }
   ],
   "source": [
    "sys.path"
   ]
  },
  {
   "cell_type": "code",
   "execution_count": 24,
   "metadata": {},
   "outputs": [],
   "source": [
    "from src.utils import loading, Spark\n",
    "import pyspark.ml as M\n",
    "import pyspark.sql.functions as F\n",
    "import pyspark.sql.types as T\n",
    "from pyspark.ml.recommendation import ALS, ALSModel\n",
    "from pyspark.ml.evaluation import RegressionEvaluator\n",
    "from pyspark.ml.tuning import ParamGridBuilder, TrainValidationSplit\n",
    "from tqdm import tqdm"
   ]
  },
  {
   "cell_type": "code",
   "execution_count": 5,
   "metadata": {},
   "outputs": [
    {
     "name": "stdout",
     "output_type": "stream",
     "text": [
      "Spark UI address http://127.0.0.1:4040\n"
     ]
    }
   ],
   "source": [
    "spark = Spark()"
   ]
  },
  {
   "cell_type": "code",
   "execution_count": 6,
   "metadata": {},
   "outputs": [],
   "source": [
    "datas = loading(spark, '../data/interim')"
   ]
  },
  {
   "cell_type": "code",
   "execution_count": 7,
   "metadata": {},
   "outputs": [
    {
     "data": {
      "text/plain": [
       "{'train_0.5_0.5': DataFrame[userId: string, movieId: string, rating: string],\n",
       " 'train_0.25_0.75': DataFrame[userId: string, movieId: string, rating: string],\n",
       " 'test_0.5_0.5': DataFrame[userId: string, movieId: string, rating: string],\n",
       " 'test_0.25_0.75': DataFrame[userId: string, movieId: string, rating: string],\n",
       " 'train_0.75_0.25': DataFrame[userId: string, movieId: string, rating: string],\n",
       " 'test_0.75_0.25': DataFrame[userId: string, movieId: string, rating: string]}"
      ]
     },
     "execution_count": 7,
     "metadata": {},
     "output_type": "execute_result"
    }
   ],
   "source": [
    "datas"
   ]
  },
  {
   "cell_type": "code",
   "execution_count": 8,
   "metadata": {},
   "outputs": [],
   "source": [
    "cast_int = lambda df: df.select([F.col(c).cast('int') for c in df.columns])\n",
    "training, test = cast_int(datas['train_0.75_0.25']), cast_int(datas['test_0.75_0.25'])"
   ]
  },
  {
   "cell_type": "code",
   "execution_count": 9,
   "metadata": {},
   "outputs": [],
   "source": [
    "training = training.sample(fraction = .01)\n",
    "test = test.sample(fraction = .01)"
   ]
  },
  {
   "cell_type": "code",
   "execution_count": 10,
   "metadata": {},
   "outputs": [
    {
     "name": "stdout",
     "output_type": "stream",
     "text": [
      "\n",
      "        training set num of rows 923,\n",
      "        test set num of rows 290,\n",
      "        training set num of users 895,\n",
      "        training set num of movies 586,\n",
      "        test set num of users 290,\n",
      "        test set num of movies 249,\n",
      "        \n"
     ]
    }
   ],
   "source": [
    "print(f'''\n",
    "        training set num of rows {training.count()},\n",
    "        test set num of rows {test.count()},\n",
    "        training set num of users {training.select('userId').distinct().count()},\n",
    "        training set num of movies {training.select('movieId').distinct().count()},\n",
    "        test set num of users {test.select('userId').distinct().count()},\n",
    "        test set num of movies {test.select('movieId').distinct().count()},\n",
    "        ''')"
   ]
  },
  {
   "cell_type": "code",
   "execution_count": 14,
   "metadata": {},
   "outputs": [],
   "source": []
  },
  {
   "cell_type": "code",
   "execution_count": 11,
   "metadata": {},
   "outputs": [],
   "source": [
    "maxIter = [2, 4, 6, 8, 10]\n",
    "regParam = [1e-2, 1e-1, 1e0, 1e1, 1e2]\n",
    "rank = [10, 50, 100, 150, 200]"
   ]
  },
  {
   "cell_type": "code",
   "execution_count": 17,
   "metadata": {},
   "outputs": [],
   "source": [
    "param_list = [(i, j, k) for i in maxIter for j in regParam for k in rank]"
   ]
  },
  {
   "cell_type": "code",
   "execution_count": 26,
   "metadata": {},
   "outputs": [],
   "source": [
    "ALS?"
   ]
  },
  {
   "cell_type": "code",
   "execution_count": 27,
   "metadata": {},
   "outputs": [
    {
     "name": "stderr",
     "output_type": "stream",
     "text": [
      "  1%|          | 1/125 [00:02<04:50,  2.34s/it]Exception ignored in: <function tqdm.__del__ at 0x7fae70bff820>\n",
      "Traceback (most recent call last):\n",
      "  File \"/Users/syeehyn/opt/anaconda3/envs/personalization/lib/python3.8/site-packages/tqdm/std.py\", line 1128, in __del__\n",
      "    self.close()\n",
      "  File \"/Users/syeehyn/opt/anaconda3/envs/personalization/lib/python3.8/site-packages/tqdm/notebook.py\", line 261, in close\n",
      "    self.sp(bar_style='danger')\n",
      "AttributeError: 'tqdm_notebook' object has no attribute 'sp'\n",
      "Exception ignored in: <function JavaWrapper.__del__ at 0x7fae70f13430>\n",
      "Traceback (most recent call last):\n",
      "  File \"/Users/syeehyn/opt/anaconda3/envs/personalization/lib/python3.8/site-packages/pyspark/ml/wrapper.py\", line 42, in __del__\n",
      "    if SparkContext._active_spark_context and self._java_obj is not None:\n",
      "AttributeError: 'ALS' object has no attribute '_java_obj'\n",
      "100%|██████████| 125/125 [05:27<00:00,  2.62s/it]\n"
     ]
    }
   ],
   "source": [
    "_training, _validation = training.randomSplit([.9, .1], seed = 0)\n",
    "evaluator=RegressionEvaluator(metricName=\"rmse\", labelCol=\"rating\",\n",
    "                                predictionCol=\"prediction\")\n",
    "rmses = []\n",
    "for i,j,k in tqdm(param_list):\n",
    "    als = ALS(userCol=\"userId\", \n",
    "              itemCol=\"movieId\", \n",
    "              ratingCol=\"rating\",\n",
    "              coldStartStrategy=\"drop\", \n",
    "              nonnegative=True,\n",
    "              maxIter=i,\n",
    "              regParam=j,\n",
    "              rank=k)\n",
    "    model = als.fit(_training)\n",
    "    rmses.append(evaluator.evaluate(model.transform(_validation)))"
   ]
  },
  {
   "cell_type": "code",
   "execution_count": 31,
   "metadata": {},
   "outputs": [],
   "source": [
    "res = dict(zip(param_list, rmses))"
   ]
  },
  {
   "cell_type": "code",
   "execution_count": 33,
   "metadata": {},
   "outputs": [],
   "source": [
    "import pandas as pd"
   ]
  },
  {
   "cell_type": "code",
   "execution_count": 45,
   "metadata": {},
   "outputs": [],
   "source": [
    "out = pd.Series(res, name='rmse').to_frame().reset_index()\n",
    "out.columns = ['maxIter', 'regParam', 'rank', 'rmse']"
   ]
  },
  {
   "cell_type": "code",
   "execution_count": 46,
   "metadata": {},
   "outputs": [
    {
     "data": {
      "text/html": [
       "<div>\n",
       "<style scoped>\n",
       "    .dataframe tbody tr th:only-of-type {\n",
       "        vertical-align: middle;\n",
       "    }\n",
       "\n",
       "    .dataframe tbody tr th {\n",
       "        vertical-align: top;\n",
       "    }\n",
       "\n",
       "    .dataframe thead th {\n",
       "        text-align: right;\n",
       "    }\n",
       "</style>\n",
       "<table border=\"1\" class=\"dataframe\">\n",
       "  <thead>\n",
       "    <tr style=\"text-align: right;\">\n",
       "      <th></th>\n",
       "      <th>maxIter</th>\n",
       "      <th>regParam</th>\n",
       "      <th>rank</th>\n",
       "      <th>rmse</th>\n",
       "    </tr>\n",
       "  </thead>\n",
       "  <tbody>\n",
       "    <tr>\n",
       "      <th>0</th>\n",
       "      <td>2</td>\n",
       "      <td>0.01</td>\n",
       "      <td>10</td>\n",
       "      <td>4.374109</td>\n",
       "    </tr>\n",
       "    <tr>\n",
       "      <th>1</th>\n",
       "      <td>2</td>\n",
       "      <td>0.01</td>\n",
       "      <td>50</td>\n",
       "      <td>4.587460</td>\n",
       "    </tr>\n",
       "    <tr>\n",
       "      <th>2</th>\n",
       "      <td>2</td>\n",
       "      <td>0.01</td>\n",
       "      <td>100</td>\n",
       "      <td>4.669366</td>\n",
       "    </tr>\n",
       "    <tr>\n",
       "      <th>3</th>\n",
       "      <td>2</td>\n",
       "      <td>0.01</td>\n",
       "      <td>150</td>\n",
       "      <td>4.756296</td>\n",
       "    </tr>\n",
       "    <tr>\n",
       "      <th>4</th>\n",
       "      <td>2</td>\n",
       "      <td>0.01</td>\n",
       "      <td>200</td>\n",
       "      <td>4.572058</td>\n",
       "    </tr>\n",
       "    <tr>\n",
       "      <th>...</th>\n",
       "      <td>...</td>\n",
       "      <td>...</td>\n",
       "      <td>...</td>\n",
       "      <td>...</td>\n",
       "    </tr>\n",
       "    <tr>\n",
       "      <th>120</th>\n",
       "      <td>10</td>\n",
       "      <td>100.00</td>\n",
       "      <td>10</td>\n",
       "      <td>5.000000</td>\n",
       "    </tr>\n",
       "    <tr>\n",
       "      <th>121</th>\n",
       "      <td>10</td>\n",
       "      <td>100.00</td>\n",
       "      <td>50</td>\n",
       "      <td>5.000000</td>\n",
       "    </tr>\n",
       "    <tr>\n",
       "      <th>122</th>\n",
       "      <td>10</td>\n",
       "      <td>100.00</td>\n",
       "      <td>100</td>\n",
       "      <td>5.000000</td>\n",
       "    </tr>\n",
       "    <tr>\n",
       "      <th>123</th>\n",
       "      <td>10</td>\n",
       "      <td>100.00</td>\n",
       "      <td>150</td>\n",
       "      <td>5.000000</td>\n",
       "    </tr>\n",
       "    <tr>\n",
       "      <th>124</th>\n",
       "      <td>10</td>\n",
       "      <td>100.00</td>\n",
       "      <td>200</td>\n",
       "      <td>5.000000</td>\n",
       "    </tr>\n",
       "  </tbody>\n",
       "</table>\n",
       "<p>125 rows × 4 columns</p>\n",
       "</div>"
      ],
      "text/plain": [
       "     maxIter  regParam  rank      rmse\n",
       "0          2      0.01    10  4.374109\n",
       "1          2      0.01    50  4.587460\n",
       "2          2      0.01   100  4.669366\n",
       "3          2      0.01   150  4.756296\n",
       "4          2      0.01   200  4.572058\n",
       "..       ...       ...   ...       ...\n",
       "120       10    100.00    10  5.000000\n",
       "121       10    100.00    50  5.000000\n",
       "122       10    100.00   100  5.000000\n",
       "123       10    100.00   150  5.000000\n",
       "124       10    100.00   200  5.000000\n",
       "\n",
       "[125 rows x 4 columns]"
      ]
     },
     "execution_count": 46,
     "metadata": {},
     "output_type": "execute_result"
    }
   ],
   "source": [
    "out"
   ]
  },
  {
   "cell_type": "code",
   "execution_count": null,
   "metadata": {},
   "outputs": [],
   "source": []
  }
 ],
 "metadata": {
  "kernelspec": {
   "display_name": "personalization",
   "language": "python",
   "name": "personalization"
  },
  "language_info": {
   "codemirror_mode": {
    "name": "ipython",
    "version": 3
   },
   "file_extension": ".py",
   "mimetype": "text/x-python",
   "name": "python",
   "nbconvert_exporter": "python",
   "pygments_lexer": "ipython3",
   "version": "3.8.5"
  },
  "latex_envs": {
   "LaTeX_envs_menu_present": true,
   "autoclose": false,
   "autocomplete": true,
   "bibliofile": "biblio.bib",
   "cite_by": "apalike",
   "current_citInitial": 1,
   "eqLabelWithNumbers": true,
   "eqNumInitial": 1,
   "hotkeys": {
    "equation": "Ctrl-E",
    "itemize": "Ctrl-I"
   },
   "labels_anchors": false,
   "latex_user_defs": false,
   "report_style_numbering": false,
   "user_envs_cfg": false
  },
  "toc": {
   "base_numbering": 1,
   "nav_menu": {},
   "number_sections": true,
   "sideBar": true,
   "skip_h1_title": false,
   "title_cell": "Table of Contents",
   "title_sidebar": "Contents",
   "toc_cell": false,
   "toc_position": {},
   "toc_section_display": true,
   "toc_window_display": false
  },
  "varInspector": {
   "cols": {
    "lenName": 16,
    "lenType": 16,
    "lenVar": 40
   },
   "kernels_config": {
    "python": {
     "delete_cmd_postfix": "",
     "delete_cmd_prefix": "del ",
     "library": "var_list.py",
     "varRefreshCmd": "print(var_dic_list())"
    },
    "r": {
     "delete_cmd_postfix": ") ",
     "delete_cmd_prefix": "rm(",
     "library": "var_list.r",
     "varRefreshCmd": "cat(var_dic_list()) "
    }
   },
   "types_to_exclude": [
    "module",
    "function",
    "builtin_function_or_method",
    "instance",
    "_Feature"
   ],
   "window_display": false
  }
 },
 "nbformat": 4,
 "nbformat_minor": 4
}
