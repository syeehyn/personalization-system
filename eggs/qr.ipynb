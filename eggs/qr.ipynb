{
 "cells": [
  {
   "cell_type": "code",
   "execution_count": 1,
   "metadata": {},
   "outputs": [],
   "source": [
    "%load_ext autoreload\n",
    "%autoreload 2 "
   ]
  },
  {
   "cell_type": "code",
   "execution_count": 2,
   "metadata": {},
   "outputs": [],
   "source": [
    "import sys\n",
    "sys.path.append('../')"
   ]
  },
  {
   "cell_type": "code",
   "execution_count": 118,
   "metadata": {},
   "outputs": [],
   "source": [
    "from src.utils import loading, Spark\n",
    "import pyspark.ml as M\n",
    "import pyspark.sql.functions as F\n",
    "import pyspark.sql.types as T\n",
    "import numpy as np\n",
    "import math"
   ]
  },
  {
   "cell_type": "code",
   "execution_count": 4,
   "metadata": {},
   "outputs": [
    {
     "name": "stdout",
     "output_type": "stream",
     "text": [
      "Spark UI address http://127.0.0.1:4040\n"
     ]
    }
   ],
   "source": [
    "spark = Spark()"
   ]
  },
  {
   "cell_type": "code",
   "execution_count": 5,
   "metadata": {},
   "outputs": [],
   "source": [
    "datas = loading(spark, '../data/raw')"
   ]
  },
  {
   "cell_type": "code",
   "execution_count": 6,
   "metadata": {},
   "outputs": [],
   "source": [
    "data = datas['sample']"
   ]
  },
  {
   "cell_type": "code",
   "execution_count": 41,
   "metadata": {},
   "outputs": [
    {
     "name": "stdout",
     "output_type": "stream",
     "text": [
      "+------+-------+------+\n",
      "|userId|movieId|rating|\n",
      "+------+-------+------+\n",
      "|120380|   1020|   3.0|\n",
      "|121430|   1020|   3.0|\n",
      "|141478|   1020|   4.0|\n",
      "|178042|   1020|   4.0|\n",
      "|179023|   1020|   2.0|\n",
      "|181736|   1020|   3.5|\n",
      "|195602|   1020|   3.5|\n",
      "|  2160|   1020|   4.5|\n",
      "| 57551|   1020|   3.0|\n",
      "|153188|   1020|   4.0|\n",
      "|246356|   1020|   1.5|\n",
      "|274232|   1020|   3.0|\n",
      "| 54291|   1020|   2.5|\n",
      "| 90252|   1020|   2.5|\n",
      "|242983|   1020|   3.0|\n",
      "|280429|   1020|   3.0|\n",
      "| 83288|   1020|   2.0|\n",
      "|155987|   1020|   3.0|\n",
      "|168976|   1020|   3.5|\n",
      "|227402|   1020|   1.5|\n",
      "+------+-------+------+\n",
      "only showing top 20 rows\n",
      "\n"
     ]
    }
   ],
   "source": [
    "data.show()"
   ]
  },
  {
   "cell_type": "code",
   "execution_count": 217,
   "metadata": {},
   "outputs": [],
   "source": [
    "def create_rating_matrix(data):\n",
    "    df = data.withColumn(\"rating\", data.rating.cast('float'))\n",
    "    return df.groupby(\"userId\").pivot(\"movieId\").sum(\"rating\")\n",
    "\n",
    "def compute_r(df, u, filmId, k):\n",
    "    sims = []\n",
    "    svs = []\n",
    "    \n",
    "    users_unique = []\n",
    "    users = df.select(\"userId\", filmId).collect()\n",
    "    for i in users:\n",
    "        if i[1] != None:\n",
    "            users_unique.append(i[0])\n",
    "    \n",
    "    row_u = np.array(list(df.filter(df.userId == u).collect()[0][1:]))\n",
    "    u_num = row_u[row_u != None]\n",
    "    muu = u_num.mean()\n",
    "        \n",
    "    for v in users_unique:\n",
    "        row_v = np.array(list(df.filter(df.userId == v).collect()[0][1:]))\n",
    "        v_num = row_v[row_v != None]\n",
    "        muv = v_num.mean()\n",
    "        \n",
    "        svs.append(df.filter(df.userId == v).collect()[0][filmId] - muv)\n",
    "    \n",
    "        intersection = []\n",
    "        for i in range(len(row_u)):\n",
    "            if row_u[i] != None and row_v[i] != None:\n",
    "                intersection.append(i)\n",
    "                \n",
    "        if len(intersection) == 0:\n",
    "            break\n",
    "    \n",
    "        u_inter = np.array(row_u[intersection])\n",
    "        v_inter = np.array(row_v[intersection])\n",
    "    \n",
    "        numerator = (u_inter - muu).dot(v_inter - muv)\n",
    "        denumerator = math.sqrt(np.sum((u_inter - muu)**2)) * math.sqrt(np.sum((v_inter - muv)**2))\n",
    "        sims.append(numerator/denumerator)\n",
    "        \n",
    "    svs = np.array(svs)\n",
    "    sims = np.array(sims)\n",
    "    \n",
    "    idx = (-sims).argsort()[:k]\n",
    "    \n",
    "    svs = svs[idx]\n",
    "    sims = sims[idx]\n",
    "    \n",
    "    if len(sims) == 0:\n",
    "        return muu\n",
    "    \n",
    "    numerator = sims.dot(svs)\n",
    "    denumerator = np.sum(abs(sims))\n",
    "    \n",
    "    return muu + numerator/denumerator\n",
    "    "
   ]
  }
 ],
 "metadata": {
  "kernelspec": {
   "display_name": "personalization",
   "language": "python",
   "name": "personalization"
  },
  "language_info": {
   "codemirror_mode": {
    "name": "ipython",
    "version": 3
   },
   "file_extension": ".py",
   "mimetype": "text/x-python",
   "name": "python",
   "nbconvert_exporter": "python",
   "pygments_lexer": "ipython3",
   "version": "3.8.5"
  }
 },
 "nbformat": 4,
 "nbformat_minor": 2
}
