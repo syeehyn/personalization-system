{
  "nbformat": 4,
  "nbformat_minor": 0,
  "metadata": {
    "colab": {
      "name": "final_report_dec15",
      "provenance": [],
      "collapsed_sections": [],
      "toc_visible": true,
      "machine_shape": "hm",
      "authorship_tag": "ABX9TyOzSOn9mfqJ75wSXydl16ve",
      "include_colab_link": true
    },
    "kernelspec": {
      "name": "python3",
      "display_name": "Python 3"
    },
    "accelerator": "GPU"
  },
  "cells": [
    {
      "cell_type": "markdown",
      "metadata": {
        "id": "view-in-github",
        "colab_type": "text"
      },
      "source": [
        "<a href=\"https://colab.research.google.com/github/ds-personalization/final-project-qrdecomposition_final/blob/main/eggs/final_report_dec15.ipynb\" target=\"_parent\"><img src=\"https://colab.research.google.com/assets/colab-badge.svg\" alt=\"Open In Colab\"/></a>"
      ]
    },
    {
      "cell_type": "markdown",
      "metadata": {
        "id": "o5Dr14gaiaOp"
      },
      "source": [
        "# IEOR 4157 Fall 2020 Final Report\n",
        "- Hu, Bo (uni: bh2569)\n",
        "- Qin, Rui (uni: rq217)\n",
        "- Yuan, Shuibenyang (uni: sy2938)"
      ]
    },
    {
      "cell_type": "markdown",
      "metadata": {
        "id": "PmfR3rJJjDLf"
      },
      "source": [
        "## The Environments\n",
        "\n",
        "Enviroment setup"
      ]
    },
    {
      "cell_type": "markdown",
      "metadata": {
        "id": "P6OgTzEn2pt3"
      },
      "source": [
        "### Allocate a file system on Google Drive"
      ]
    },
    {
      "cell_type": "code",
      "metadata": {
        "colab": {
          "base_uri": "https://localhost:8080/"
        },
        "id": "2k-RS4U2TDML",
        "outputId": "ab9ff1cb-8f10-4bce-9fb9-160ce38da32a"
      },
      "source": [
        "from google.colab import drive\n",
        "import os\n",
        "import shutil\n",
        "from glob import glob\n",
        "drive.mount('/content/drive')\n",
        "os.chdir('/content/drive/MyDrive/')\n",
        "repo_name = 'final-project-qrdecomposition_final'\n",
        "data_path = 'data'\n",
        "if repo_name not in glob('*'):\n",
        "    os.mkdir(repo_name)\n",
        "os.chdir('/content/drive/MyDrive/{}'.format(repo_name))\n",
        "if data_path not in glob('*'):\n",
        "    os.mkdir(data_path)"
      ],
      "execution_count": 1,
      "outputs": [
        {
          "output_type": "stream",
          "text": [
            "Mounted at /content/drive\n"
          ],
          "name": "stdout"
        }
      ]
    },
    {
      "cell_type": "code",
      "metadata": {
        "colab": {
          "base_uri": "https://localhost:8080/"
        },
        "id": "SOKTrnmn4uAn",
        "outputId": "f6257a1c-dde4-4a90-ce6b-9b54d3b90b1e"
      },
      "source": [
        "#sanity check for file system\n",
        "!pwd\n",
        "!ls"
      ],
      "execution_count": 2,
      "outputs": [
        {
          "output_type": "stream",
          "text": [
            "/content/drive/MyDrive/final-project-qrdecomposition_final\n",
            "data  model_weights\n"
          ],
          "name": "stdout"
        }
      ]
    },
    {
      "cell_type": "markdown",
      "metadata": {
        "id": "m02s_bqX3Ai6"
      },
      "source": [
        "### Install Required Libaraies"
      ]
    },
    {
      "cell_type": "code",
      "metadata": {
        "colab": {
          "base_uri": "https://localhost:8080/"
        },
        "id": "SYNP77MWgDGC",
        "outputId": "eaba7a6d-6a5d-4e74-f8b1-fd0ee23cc636"
      },
      "source": [
        "!apt-get install openjdk-8-jdk-headless -qq > /dev/null\n",
        "os.environ[\"JAVA_HOME\"] = \"/usr/lib/jvm/java-8-openjdk-amd64\"\n",
        "!pip install pytorch_widedeep pyspark --quiet"
      ],
      "execution_count": 5,
      "outputs": [
        {
          "output_type": "stream",
          "text": [
            "\u001b[K     |████████████████████████████████| 92kB 7.6MB/s \n",
            "\u001b[K     |████████████████████████████████| 204.2MB 25kB/s \n",
            "\u001b[K     |████████████████████████████████| 204kB 63.4MB/s \n",
            "\u001b[?25h  Building wheel for pyspark (setup.py) ... \u001b[?25l\u001b[?25hdone\n",
            "\u001b[K     |████████████████████████████████| 708.0MB 24kB/s \n",
            "\u001b[K     |████████████████████████████████| 5.9MB 83.0MB/s \n",
            "\u001b[?25h"
          ],
          "name": "stdout"
        }
      ]
    },
    {
      "cell_type": "code",
      "metadata": {
        "colab": {
          "base_uri": "https://localhost:8080/"
        },
        "id": "J1bOv93r38ve",
        "outputId": "3e9f464a-a1be-485d-c7b7-28ebe0d2bc9f"
      },
      "source": [
        "#sanity check for cuda\n",
        "import torch\n",
        "from torch import nn\n",
        "use_cuda = torch.cuda.is_available()\n",
        "device = torch.device(\"cuda\" if use_cuda else \"cpu\")\n",
        "print(device, torch.__version__)"
      ],
      "execution_count": 7,
      "outputs": [
        {
          "output_type": "stream",
          "text": [
            "cuda 1.7.0+cu101\n"
          ],
          "name": "stdout"
        }
      ]
    },
    {
      "cell_type": "markdown",
      "metadata": {
        "id": "kY2BaAjx45ot"
      },
      "source": [
        "## Download Movielens-latest"
      ]
    },
    {
      "cell_type": "code",
      "metadata": {
        "id": "S9zxt9I94YHy"
      },
      "source": [
        "import requests, zipfile, io\n",
        "url = \"http://files.grouplens.org/datasets/movielens/ml-latest.zip\"\n",
        "r = requests.get(url)\n",
        "with zipfile.ZipFile(io.BytesIO(r.content)) as zip:\n",
        "    for zip_info in zip.infolist():\n",
        "        if zip_info.filename[-1] == '/':\n",
        "            continue\n",
        "        zip_info.filename = os.path.basename(zip_info.filename)\n",
        "        zip.extract(zip_info, data_path)"
      ],
      "execution_count": 8,
      "outputs": []
    },
    {
      "cell_type": "code",
      "metadata": {
        "colab": {
          "base_uri": "https://localhost:8080/"
        },
        "id": "5wUZE7TP5lo6",
        "outputId": "0ce64539-fa96-4538-8dcc-86d9e117ebb0"
      },
      "source": [
        "#sanity check for downloaded files\n",
        "!ls $data_path"
      ],
      "execution_count": 7,
      "outputs": [
        {
          "output_type": "stream",
          "text": [
            "genome-scores.csv  links.csv   ratings.csv  tags.csv\n",
            "genome-tags.csv    movies.csv  README.txt\n"
          ],
          "name": "stdout"
        }
      ]
    },
    {
      "cell_type": "markdown",
      "metadata": {
        "id": "cMy27vgN3Lub"
      },
      "source": [
        "### Import Libararies"
      ]
    },
    {
      "cell_type": "code",
      "metadata": {
        "id": "BmpezFnrTGxg"
      },
      "source": [
        "###utilities\n",
        "from tqdm import tqdm\n",
        "import time\n",
        "import warnings\n",
        "warnings.filterwarnings(\"ignore\")\n",
        "\n",
        "###pyspark dependencies\n",
        "from pyspark.sql import SparkSession\n",
        "import pyspark.ml as M\n",
        "import pyspark.sql.functions as F\n",
        "import pyspark.sql.window as W\n",
        "from pyspark.ml.recommendation import ALS\n",
        "\n",
        "###numpy,scipy,pandas,sklearn stacks\n",
        "from scipy import sparse\n",
        "import pandas as pd\n",
        "import numpy as np\n",
        "from sklearn.feature_extraction.text import CountVectorizer\n",
        "from sklearn.compose import ColumnTransformer\n",
        "from sklearn.preprocessing import FunctionTransformer\n",
        "from sklearn.pipeline import Pipeline\n",
        "\n",
        "###torch stacks\n",
        "import torch\n",
        "from torch import nn\n",
        "from pytorch_widedeep.preprocessing import DensePreprocessor\n",
        "from pytorch_widedeep.callbacks import (\n",
        "    LRHistory,\n",
        "    EarlyStopping,\n",
        "    ModelCheckpoint,\n",
        ")\n",
        "from pytorch_widedeep.optim import RAdam\n",
        "from pytorch_widedeep.initializers import XavierNormal, KaimingNormal\n",
        "from pytorch_widedeep.models import Wide, DeepDense, WideDeep"
      ],
      "execution_count": 65,
      "outputs": []
    },
    {
      "cell_type": "markdown",
      "metadata": {
        "id": "wwIdrFTI3PtE"
      },
      "source": [
        "### Initiate Spark Session"
      ]
    },
    {
      "cell_type": "code",
      "metadata": {
        "id": "Yp9DPFjCqHd8"
      },
      "source": [
        "spark =  SparkSession.builder.master(\"local[*]\").getOrCreate()"
      ],
      "execution_count": 6,
      "outputs": []
    },
    {
      "cell_type": "markdown",
      "metadata": {
        "id": "yIfnVDADoxWj"
      },
      "source": [
        "## The Objective (TODO)"
      ]
    },
    {
      "cell_type": "markdown",
      "metadata": {
        "id": "twB3Ovyd1KlU"
      },
      "source": [
        "### Objective function\n",
        "\n",
        "We imagine ourselves as owners of a movie catalog website like IMDb or MovieLens. We would want to serve users with movies they like based on their query in the history. The goal is to create lists of movies that users might be interested in and tend to watch them on our website. We design the system hoping users spend more time on our website and willing to pay for movies every month."
      ]
    },
    {
      "cell_type": "markdown",
      "metadata": {
        "id": "z7EAItWk1L3x"
      },
      "source": [
        "### Intended users\n",
        "The recommendation system is created for the general audience so that everyone who enjoys movies benefits from the system."
      ]
    },
    {
      "cell_type": "markdown",
      "metadata": {
        "id": "fc65s6TD1OlN"
      },
      "source": [
        "### Business rules\n",
        "In order to keep the user entertained rather than only focusing on what they already know, one business rule we came up with is to include at least two different genres when recommending k movies even though the predicted rating might be low. Since our goal is to benefit all movie lovers, we believe letting them expose to as many genres as possible is fundamental."
      ]
    },
    {
      "cell_type": "markdown",
      "metadata": {
        "id": "m1urqXVZ1UAm"
      },
      "source": [
        "### Performance requirements\n",
        "For performance, we would like to serve the online queries in real time. For model based algorithms, it’s fine to train it offline and then serve the model online. However, for memory based models, it is hard to meet the performance requirements unless implementing more sophisticated algorithms like approximate nearest neighbor. For this homework, we did not expand our scope on serving in real time. Everything we done was in an offline setting."
      ]
    },
    {
      "cell_type": "markdown",
      "metadata": {
        "id": "Uqvg-vcX1V35"
      },
      "source": [
        "### Interpretability\n",
        "In order to interpret models better, we decide to make the matrix factorization algorithm to only produce non-negative matrices. In that case, we would be able to identify some elements that are important for the algorithm to learn users’ behaviours (higher value in the matrices would produce higher ratings)."
      ]
    },
    {
      "cell_type": "markdown",
      "metadata": {
        "id": "Fk_4OlS-pMTC"
      },
      "source": [
        "## The Data\n"
      ]
    },
    {
      "cell_type": "markdown",
      "metadata": {
        "id": "KB-fqhU0re-Q"
      },
      "source": [
        "### Sample\n",
        "\n",
        "We will first test our model on the sample of Movielens-ml-latest in homework2.\n",
        "\n",
        "**sampling methodology**\n",
        "\n",
        "We perform sampling w.r.t Conditional Matrix Sampling, in which, we will sample the matrix of $M$ user indices and $N$ movie indices filtering out users who do not have at least $i$ ratings and movies which do not have at least $j$ ratings. If numbers of users and movies do not meet the minimal requirements $M$ and $N$, we will keep sampling process with increased matrix indices number of user and movie until users and movies meet minimal requirements $M$ and $N$.\n",
        "\n",
        "In our case, we choose M = 20000, N = 2000, i = 100, j = 1000. 20000 users, 2000 movies, a user should at least rate 100 movies and a movie should be at least rated 1000 times. We choose a more dense matrix than homework 2 because of we need a ground truth of recommendation when we evaluate our model. That is, the base model selects 50 items to recommend, then in our test set, on average each user should have 50 items or more rated then we can evaluate our model based on the test set. "
      ]
    },
    {
      "cell_type": "code",
      "metadata": {
        "id": "q75WRyZSdpRg"
      },
      "source": [
        "#running this cell takes over minutes\n",
        "def sampling(ratings,\n",
        "            num_user, \n",
        "            num_item, \n",
        "            user_threshold, \n",
        "            item_threshold, \n",
        "            random_seed,\n",
        "            userCol='userId', \n",
        "            itemCol='movieId',\n",
        "            timeCol = 'timestamp',\n",
        "            targetCol='rating'):\n",
        "    \"\"\"[method to generating sample from BIG dataset]\n",
        "\n",
        "    Args:\n",
        "        ratings (Pyspark DataFrame): [the BIG dataset]\n",
        "        num_user (int): [the number of users needs to have in the sample]\n",
        "        num_item (int): [the number of items needs to have in the sample]\n",
        "        user_threshold (int): [the number of ratings a user needs to have]\n",
        "        item_threshold (int): [the number of ratings a movie needs to have]\n",
        "        random_seed (int): [random seed of random sample]\n",
        "        userCol (str, optional): [user column name]. Defaults to 'userId'.\n",
        "        itemCol (str, optional): [item column name]. Defaults to 'movieId'.\n",
        "        timeCol (str, optional): [timesampe column name]. Defaults to 'timestamp'.\n",
        "        targetCol (str, optional): [rating/target column name]. Defaults to 'rating'.\n",
        "\n",
        "    Returns:\n",
        "        Pyspark DataFrame: [the sample]\n",
        "    \"\"\"    \n",
        "    n_users, n_items = 0, 0\n",
        "    M, N = num_item, num_user\n",
        "    while n_users < num_user and n_items < num_item:\n",
        "        movieid_filter = ratings.groupby(itemCol)\\\n",
        "            .agg(F.count(userCol)\\\n",
        "            .alias('cnt'))\\\n",
        "            .where(F.col('cnt') >= item_threshold)\\\n",
        "            .select(itemCol)\\\n",
        "            .orderBy(F.rand(seed=random_seed))\\\n",
        "            .limit(M)\n",
        "        sample = ratings.join(movieid_filter,\n",
        "                                ratings[itemCol] == movieid_filter[itemCol])\\\n",
        "                            .select(ratings[userCol], ratings[itemCol], ratings[timeCol], ratings[targetCol])\n",
        "        userid_filter = sample.groupby(userCol)\\\n",
        "                        .agg(F.count(itemCol)\\\n",
        "                        .alias('cnt'))\\\n",
        "                        .where(F.col('cnt') >= user_threshold)\\\n",
        "                        .select(userCol)\\\n",
        "                        .orderBy(F.rand(seed=random_seed))\\\n",
        "                        .limit(N)\n",
        "        sample = sample.join(userid_filter,\n",
        "                                ratings[userCol] == userid_filter[userCol])\\\n",
        "                            .select(ratings[userCol], ratings[itemCol], ratings[timeCol], ratings[targetCol]).persist()\n",
        "        n_users, n_items = sample.select(userCol).distinct().count(), sample.select(itemCol).distinct().count()\n",
        "        print(f'sample has {n_users} users and {n_items} items')\n",
        "        M += 100\n",
        "        N += 100\n",
        "    return sample\n"
      ],
      "execution_count": 8,
      "outputs": []
    },
    {
      "cell_type": "code",
      "metadata": {
        "colab": {
          "base_uri": "https://localhost:8080/"
        },
        "id": "PXo3o2E8CJaO",
        "outputId": "6a4063bb-625c-485d-a27d-a4dcc6dd3abe"
      },
      "source": [
        "num_user = 20000\n",
        "num_movie = 2000\n",
        "user_threshold = 100\n",
        "item_threshold = 1000\n",
        "random_seed = 0\n",
        "ratings = spark.read.csv('./data/ratings.csv', header=True)\n",
        "sample = sampling(ratings,num_user, num_movie, user_threshold, item_threshold, random_seed)"
      ],
      "execution_count": 9,
      "outputs": [
        {
          "output_type": "stream",
          "text": [
            "sample has 20000 users and 2000 items\n"
          ],
          "name": "stdout"
        }
      ]
    },
    {
      "cell_type": "code",
      "metadata": {
        "id": "X72p-AB4DUtW"
      },
      "source": [
        "# save sample data to '/data/sample.csv'\n",
        "sample = sample.persist()\n",
        "sample.toPandas().to_csv(os.path.join(data_path, 'sample.csv'), index = False)"
      ],
      "execution_count": 10,
      "outputs": []
    },
    {
      "cell_type": "markdown",
      "metadata": {
        "id": "1FtoZYiJraho"
      },
      "source": [
        "#### sample overview\n",
        "\n"
      ]
    },
    {
      "cell_type": "code",
      "metadata": {
        "colab": {
          "base_uri": "https://localhost:8080/"
        },
        "id": "j-24Vb_rq3X7",
        "outputId": "8d91de43-c282-4ab1-8bda-91f1c8623f31"
      },
      "source": [
        "print(f'''\n",
        "number of data points in the sample: {sample.count()},\n",
        "number of unique users in the sample: {sample.select('userId').distinct().count()},\n",
        "number of unique movies in the sample: {sample.select('movieId').distinct().count()},\n",
        "average number of movies a user rated:{sample.groupby('userId').agg(F.count('movieId').alias('cnt')).select(F.mean('cnt')).collect()[0][0]:.2f},\n",
        "average number of ratings a movie received: {sample.groupby('movieId').agg(F.count('userId').alias('cnt')).select(F.mean('cnt')).collect()[0][0]:.2f},\n",
        "average rating: {sample.select(F.mean('rating')).collect()[0][0]:.2f},\n",
        "standard deviation of rating: {sample.select(F.stddev('rating')).collect()[0][0]:.2f},\n",
        "average rating by user: {sample.groupby('userId').agg(F.mean('rating').alias('rating')).select(F.mean('rating')).collect()[0][0]:.2f},\n",
        "standard deviation of rating by user mean: {sample.groupby('userId').agg(F.mean('rating').alias('rating')).select(F.stddev('rating')).collect()[0][0]:.2f},\n",
        "average rating by movie: {sample.groupby('movieId').agg(F.mean('rating').alias('rating')).select(F.mean('rating')).collect()[0][0]:.2f},\n",
        "standard deviation of rating by movie mean: {sample.groupby('movieId').agg(F.mean('rating').alias('rating')).select(F.stddev('rating')).collect()[0][0]:.2f}\n",
        "        ''')"
      ],
      "execution_count": 11,
      "outputs": [
        {
          "output_type": "stream",
          "text": [
            "\n",
            "number of data points in the sample: 4360400,\n",
            "number of unique users in the sample: 20000,\n",
            "number of unique movies in the sample: 2000,\n",
            "average number of movies a user rated:218.02,\n",
            "average number of ratings a movie received: 2180.20,\n",
            "average rating: 3.45,\n",
            "standard deviation of rating: 1.03,\n",
            "average rating by user: 3.51,\n",
            "standard deviation of rating by user mean: 0.44,\n",
            "average rating by movie: 3.33,\n",
            "standard deviation of rating by movie mean: 0.48\n",
            "        \n"
          ],
          "name": "stdout"
        }
      ]
    },
    {
      "cell_type": "markdown",
      "metadata": {
        "id": "L8UBpsFnjQq4"
      },
      "source": [
        "## The Evaluation"
      ]
    },
    {
      "cell_type": "markdown",
      "metadata": {
        "id": "7Rm4PyxhlEsn"
      },
      "source": [
        "### Metrics\n"
      ]
    },
    {
      "cell_type": "markdown",
      "metadata": {
        "id": "W2eD8HHPm4wN"
      },
      "source": [
        "#### Root Mean Square Error (RMSE)\n",
        "$RMSE = \\sqrt{\\frac{(\\hat{y}-y)^2}{n}}$."
      ]
    },
    {
      "cell_type": "code",
      "metadata": {
        "id": "XKdCE47JnVV4"
      },
      "source": [
        "def rmse(with_pred_df, rating_col_name = \"rating\", pred_col_name = \"prediction\"):\n",
        "    \"\"\"[calculate rmse of the prediction]\n",
        "    Args:\n",
        "        with_pred_df (Pyspark DataFrame): [Pyspark DataFrame with target and prediction columns]\n",
        "        rating_col_name (str, optional): [column of true values]. Defaults to \"rating\".\n",
        "        pred_col_name (str, optional): [column of prediction values]. Defaults to \"prediction\".\n",
        "    Returns:\n",
        "        flaot: [rmse]\n",
        "    \"\"\"\n",
        "    return with_pred_df.select(F.sqrt(F.sum((F.col(rating_col_name) - \\\n",
        "                        F.col(pred_col_name))**2)/F.count(rating_col_name))).collect()[0][0]\n",
        "\n",
        "from sklearn.metrics import mean_squared_error\n",
        "def rmse_numpy(true, pred):\n",
        "    return np.sqrt(mean_squared_error(true, pred))"
      ],
      "execution_count": 85,
      "outputs": []
    },
    {
      "cell_type": "markdown",
      "metadata": {
        "id": "8VenF4GrnBf4"
      },
      "source": [
        "#### Accuracy \n",
        "We define user rates a movie with scoring larger or equal to 3 as good and smaller to 3 as bad. Ratio of ratings such that both predicted value and actual value larger or equal to 3 or both predicted value and actual value less than 3."
      ]
    },
    {
      "cell_type": "code",
      "metadata": {
        "id": "ftFnkjfSnWUG"
      },
      "source": [
        "def acc(with_pred_df, rating_col_name = \"rating\", pred_col_name = \"prediction\"):\n",
        "    \"\"\"[calculate rmse of the prediction]\n",
        "    Args:\n",
        "        with_pred_df (Pyspark DataFrame): [Pyspark DataFrame with target and prediction columns]\n",
        "        rating_col_name (str, optional): [column of true values]. Defaults to \"rating\".\n",
        "        pred_col_name (str, optional): [column of prediction values]. Defaults to \"prediction\".\n",
        "    Returns:\n",
        "        float: [accuracy]\n",
        "    \"\"\"\n",
        "    TP = ((F.col(rating_col_name) >= 3) & (F.col(pred_col_name) >= 3))\n",
        "    TN = ((F.col(rating_col_name) < 3) & (F.col(pred_col_name) < 3))\n",
        "    correct = with_pred_df.filter(TP | TN)\n",
        "    return correct.count() / with_pred_df.count()\n",
        "\n",
        "from sklearn.metrics import accuracy_score\n",
        "\n",
        "def acc_numpy(true, pred):\n",
        "    return accuracy_score((true >=3), (pred >= 3))\n"
      ],
      "execution_count": 15,
      "outputs": []
    },
    {
      "cell_type": "markdown",
      "metadata": {
        "id": "BlL2PgC23ocb"
      },
      "source": [
        "#### Recall\n",
        "\n",
        "We will user `Recall` as a metric when we choose our base model.\n",
        "\n",
        "The recall is the ratio `tp / (tp + fn)` where `tp` is the number of true positives and `fn` the number of false negatives. The recall is intuitively the ability of the classifier to find all the positive samples. In ourcase, we set the ratings larger or equal to 3 as positive instances and ratings smaller than 3 as negative instances. "
      ]
    },
    {
      "cell_type": "code",
      "metadata": {
        "id": "q0Wt5WbL4JdP"
      },
      "source": [
        "def recall(with_pred_df, rating_col_name = \"rating\", pred_col_name = \"prediction\"):\n",
        "    TP = with_pred_df.filter((F.col(rating_col_name) >= 3) & (F.col(pred_col_name) >= 3)).count()\n",
        "    FN = with_pred_df.filter((F.col(rating_col_name) >= 3) & (F.col(pred_col_name) < 3)).count()\n",
        "    return TP / (TP + FN)\n",
        "\n",
        "from sklearn.metrics import recall_score\n",
        "\n",
        "def recall_numpy(true, pred):\n",
        "    return recall_score((true >=3), (pred >= 3))"
      ],
      "execution_count": 16,
      "outputs": []
    },
    {
      "cell_type": "markdown",
      "metadata": {
        "id": "J8PeVhNrnF7P"
      },
      "source": [
        "#### Coverage\n",
        "We folloed how Prof. Vintch talked about this metric on piazza. In offline setting, we define coverage as how many movies are recommended over the total number of distinct movies we have in our dataset."
      ]
    },
    {
      "cell_type": "code",
      "metadata": {
        "id": "yASMIy9ZnZMd"
      },
      "source": [
        "#todo"
      ],
      "execution_count": 17,
      "outputs": []
    },
    {
      "cell_type": "markdown",
      "metadata": {
        "id": "rCtwRTT4nMGL"
      },
      "source": [
        "#### AUC and ROC curve\n",
        "\n",
        "todo"
      ]
    },
    {
      "cell_type": "code",
      "metadata": {
        "id": "vn6o8FWenafu"
      },
      "source": [
        "import matplotlib.pyplot as plt\n",
        "from sklearn.metrics import roc_curve, auc\n",
        "from seaborn import set_style,set_palette\n",
        "\n",
        "def ROC(pred,truth):\n",
        "    \"\"\"\n",
        "    given prediction and groundtruth labels, computes false positive\n",
        "    rate and true positive rate\n",
        "    \"\"\"\n",
        "    print(pred.shape,truth.shape)\n",
        "    fpr, tpr, threshold = roc_curve(truth, pred)\n",
        "    if auc(fpr,tpr)<0.5:\n",
        "        fpr, tpr, threshold = roc_curve(truth, pred)\n",
        "\n",
        "    return fpr,tpr\n",
        "\n",
        "def _plot_ROC(auc_dict:dict):\n",
        "    \"\"\"\n",
        "    plot ROC curves for the models in the provided dictionary\n",
        "    @param auc_dict: a dictionary containing names of the models and their\n",
        "    corresponding false positive rates and true positive rates\n",
        "    @param display: whether to display the image or to save file, default to False and save to file\n",
        "    @param fn: if display is False, fn will be used as the name to save the plot\n",
        "    \"\"\"\n",
        "    plt.figure()\n",
        "    \n",
        "    # style setup to match with the rest of the report\n",
        "    set_style(\"darkgrid\")\n",
        "    set_palette(\"deep\")\n",
        "\n",
        "    for k in auc_dict.keys():\n",
        "        fpr,tpr=auc_dict[k]\n",
        "        plt.plot(fpr,tpr,lw=2.5,label=\"{}, AUC= {:.1f}%\".format(k,auc(fpr,tpr)*100))\n",
        "    plt.ylim(0,1)\n",
        "    plt.xlim(0,1)\n",
        "    plt.grid(True)\n",
        "    plt.legend(loc='upper left')\n",
        "    plt.plot([0,1],[0.001,1],'r--')\n",
        "    plt.tight_layout()\n",
        "\n",
        "    plt.show()\n",
        "\n",
        "def plot_ROC_numpy(true, preds, model_names):\n",
        "\n",
        "    true_binary = true >= 3\n",
        "    for pred, model_name in zip(preds, model_names):\n",
        "        _plot_ROC({model_name: ROC(pred, true_binary)})\n"
      ],
      "execution_count": 18,
      "outputs": []
    },
    {
      "cell_type": "markdown",
      "metadata": {
        "id": "BpK2J6uInPld"
      },
      "source": [
        "#### NDCG\n",
        "\n",
        "Normalized Discounted Cumulative Gain can be calculated as following: $NDCG = \\frac{DCG}{IDCG}$, where $DCG = \\frac{1}{m}\\sum{u=1}^{m} \\sum_{j \\in Iu}^{} \\frac{2^{rel{uj}} - 1}{log_2(v_j+1)}$ and $IDCG$ is the ideal DCG."
      ]
    },
    {
      "cell_type": "code",
      "metadata": {
        "id": "SfGhCuI8nbmf"
      },
      "source": [
        "from sklearn.metrics import ndcg_score\n"
      ],
      "execution_count": 20,
      "outputs": []
    },
    {
      "cell_type": "markdown",
      "metadata": {
        "id": "82wOrRgqoBoX"
      },
      "source": [
        "### Train Test Split\n",
        "\n",
        "We perform train test split following splits based on every user's activities:\n",
        "- train, test : $75\\%, 25\\%$\n",
        "\n",
        "\n",
        "We only choose 75, 25 splits since scalibility of base models has already shown in hw2. "
      ]
    },
    {
      "cell_type": "code",
      "metadata": {
        "id": "GqHSeADIf02_"
      },
      "source": [
        "def train_test_split(ratings, split, usercol='userId', itemcol='movieId', timecol='timestamp', targetcol='rating'):\n",
        "    \"\"\"[function to make train test split with respect to user activities]\n",
        "    Args:\n",
        "        ratings (Pyspark DataFrame): [the rating DataFrame to be splitted]\n",
        "        split (float): [proportion of training set]\n",
        "        usercol (str, optional): [user column name]. Defaults to 'userId'.\n",
        "        itemcol (str, optional): [item column name]. Defaults to 'movieId'.\n",
        "        timecol (str, optional): [timestamp column name]. Defaults to 'timestamp'.\n",
        "        targetcol (str, optional): [rating/target column name]. Defaults to 'rating'.\n",
        "    Returns:\n",
        "        [Pyspark DataFrame, PysparkDataFrame]: [description]\n",
        "    \"\"\"    \n",
        "    window = W.Window.partitionBy(ratings[usercol]).orderBy(ratings[timecol].desc())\n",
        "    ranked = ratings.select('*', F.rank().over(window).alias('rank'))\n",
        "    rating_count = ratings.groupby(usercol).agg(F.count(itemcol).alias('cnt'))\n",
        "    ranked = ranked.join(rating_count, ranked.userId == rating_count.userId)\\\n",
        "        .select(ranked[usercol], ranked[itemcol], ranked[targetcol], ranked.rank, rating_count.cnt)\n",
        "    ranked = ranked.withColumn('position', 1 - F.col('rank')/F.col('cnt'))\\\n",
        "        .select(usercol, itemcol,targetcol, 'position')\n",
        "    train = ranked.where(ranked.position < split).select(usercol, itemcol, targetcol)\n",
        "    test = ranked.where(ranked.position >= split).select(usercol, itemcol, targetcol)\n",
        "    return train, test\n"
      ],
      "execution_count": 21,
      "outputs": []
    },
    {
      "cell_type": "code",
      "metadata": {
        "id": "OKXVbPXYySE1"
      },
      "source": [
        "sample_train, sample_test = train_test_split(sample, .75)\n",
        "sample_train, sample_test = sample_train.persist(), sample_test.persist()\n",
        "#save to 'data/'\n",
        "sample_train.toPandas().to_csv(os.path.join(data_path, 'sample_train.csv'), index = False)\n",
        "sample_test.toPandas().to_csv(os.path.join(data_path, 'sample_test.csv'), index = False)"
      ],
      "execution_count": 22,
      "outputs": []
    },
    {
      "cell_type": "code",
      "metadata": {
        "colab": {
          "base_uri": "https://localhost:8080/"
        },
        "id": "w9yRMzjaFRw3",
        "outputId": "792d685b-03a6-4d03-e149-0ea8d09ed28b"
      },
      "source": [
        "print(sample.count(), sample_train.count(), sample_test.count())"
      ],
      "execution_count": 23,
      "outputs": [
        {
          "output_type": "stream",
          "text": [
            "4360400 3271202 1089198\n"
          ],
          "name": "stdout"
        }
      ]
    },
    {
      "cell_type": "markdown",
      "metadata": {
        "id": "_iGjEqpPsaHV"
      },
      "source": [
        "## The Model\n",
        "\n",
        "In our project, we choose Architechture A. The folloing image indicates our detailed pipeline of Model."
      ]
    },
    {
      "cell_type": "markdown",
      "metadata": {
        "id": "jEPdF6obxuKj"
      },
      "source": [
        "![pipeline.png](data:image/png;base64,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)"
      ]
    },
    {
      "cell_type": "markdown",
      "metadata": {
        "id": "uVfRGlivsjVp"
      },
      "source": [
        "### Base Recommender\n",
        "\n",
        "TODO"
      ]
    },
    {
      "cell_type": "markdown",
      "metadata": {
        "id": "uHoV_1hsx1K9"
      },
      "source": [
        "#### Memory Based Collaborative Filtering\n",
        "\n",
        "**implementation details**\n",
        "\n",
        "The data first transformed into sparse matrix representation, (user by item) if user based and (item by user) if item based.\n",
        "\n",
        "The the prediction matrix $R$ is trained with following formula:\n",
        "\n",
        "$R$ is defined as $R_{i, j} = \\mu_i + \\frac{\\sum_{v\\in P_i(j)}S(i, v)\\cdot (r_{vj} - \\mu_v)}{\\sum_{v\\in P_i(j)}|S(i, v)|}$\n",
        "\n",
        "where $S$ is the Pearson Similarity Matrix\n",
        "\n",
        "$S$ is defined as $S_{u,v} = \\frac{\\sum_{k\\in I_u \\cap I_v}(r_{uk} - \\mu_u)(r_{vk} - \\mu_v)}{\\sqrt{\\sum_{k\\in I_u \\cap I_v}(r_{uk} - \\mu_u)^2}\\sqrt{\\sum_{k \\in I_u \\cap I_v}(r_{vk} - \\mu_v)^2}}$\n",
        "\n",
        "The algorithm is implemented with numpy array (for prediction) and scipy csr sparse matrix (for training). \n",
        "\n",
        "Every operation uses numpy matrix operations (aka. dot product, norm, etc) which optimizes the computational speed by trading off extra memories (for loop takes $\\approx 10$ minutes to train and matrix operations takes $\\approx 1$ minutes to train for our experimental sample in user based CF).\n",
        "\n",
        "**user based collabrative filtering** (todo, edit R)\n",
        "\n",
        "When R is (user by item) and S is (user by user), it is User Based Collabrative Filtering\n",
        "\n",
        "**item based collabrative filtering** (todo, edit R)\n",
        "\n",
        "When R is (item by user) and S is (item by item), it is Item Based Collabrative Filtering"
      ]
    },
    {
      "cell_type": "code",
      "metadata": {
        "id": "aJQ5sCu7b-vQ"
      },
      "source": [
        "class Memory_based_CF():\n",
        "    def __init__(self, spark, base, usercol='userId', itemcol='movieId', ratingcol='rating'):\n",
        "        \"\"\"[the memory based collabritive filtering model]\n",
        "        Args:\n",
        "            spark (Spark Session): [the current spark session]\n",
        "            base (str): [user base or item base]\n",
        "            usercol (str, optional): [user column name]. Defaults to 'userId'.\n",
        "            itemcol (str, optional): [item column name]. Defaults to 'movieId'.\n",
        "            ratingcol (str, optional): [rating/target column name]. Defaults to 'rating'.\n",
        "        \"\"\"        \n",
        "        self.base = base\n",
        "        self.usercol = usercol\n",
        "        self.itemcol = itemcol\n",
        "        self.ratingcol = ratingcol\n",
        "        self.spark = spark\n",
        "        self.X = None\n",
        "        self.idxer = None\n",
        "        self.similarity_matrix = None\n",
        "        self.prediction_matrix = None\n",
        "    def fit(self, _X):\n",
        "        \"\"\"[to train the model]\n",
        "        Args:\n",
        "            _X (Pyspark DataFrame): [the training set]\n",
        "        \"\"\"\n",
        "        X = self._preprocess(_X, True)\n",
        "        self.X = X\n",
        "        self.similarity_matrix = self._pearson_corr(X)\n",
        "        self.prediction_matrix = self._get_predict()\n",
        "        \n",
        "    def predict(self, _X):\n",
        "        \"\"\"[to predict based on trained model]\n",
        "        Args:\n",
        "            _X (Pyspark DataFrame): [the DataFrame needed to make prediction]\n",
        "        Returns:\n",
        "            [Pyspark DataFrame]: [the DataFrame with prediction column]\n",
        "        \"\"\"        \n",
        "        rows, cols = self._preprocess(_X, False)\n",
        "        preds = []\n",
        "        for i,j in zip(rows,cols):   \n",
        "            preds.append(self.prediction_matrix[i, j])\n",
        "        df = self.idxer.transform(_X).select(self.usercol, self.itemcol, self.ratingcol).toPandas()\n",
        "        df['prediction'] = preds\n",
        "        return self.spark.createDataFrame(df)\n",
        "\n",
        "    def recommend(self, X, numItem):\n",
        "        idices = self.idxer.u_indxer.transform(X).toPandas()['userId_idx'].values.astype(int)\n",
        "        items = np.asarray(np.argsort(self.prediction_matrix.T[idices, :])[:, -numItem:])\n",
        "        result = np.zeros((1, 3))\n",
        "        inverse_imat = pd.Series(self.idxer.i_indxer.labels)\n",
        "        inverse_umat = pd.Series(self.idxer.u_indxer.labels)\n",
        "        for u, i in zip(idices, items):\n",
        "            result = np.vstack((result, np.hstack((inverse_umat.iloc[np.array([u for _ in range(len(i))])].values.reshape(-1, 1),\n",
        "                                inverse_imat.iloc[i.reshape(-k,)].values.reshape(-1, 1), \n",
        "                                np.asarray(self.prediction_matrix.T[np.array([u for _ in range(len(i))]), i]).reshape(-1, 1)))))\n",
        "        df = pd.DataFrame(result[1:], columns = ['userId', 'movieId', 'prediction'])\n",
        "        return self.spark.createDataFrame(df)\n",
        "\n",
        "\n",
        "    def _preprocess(self, X, fit):\n",
        "        \"\"\"[preprocessing function before training and predicting]\n",
        "        Args:\n",
        "            X (Pyspark DataFrame): [training/predicting set]\n",
        "            fit (bool): [if it is on training stage or not]\n",
        "        Raises:\n",
        "            NotImplementedError: [if not User base or Item base]\n",
        "        Returns:\n",
        "            sparse.csr_matrix: [if on training stage],\n",
        "            numpy.array: [row and columns in np.array if on prediction stage]\n",
        "        \"\"\"        \n",
        "        if fit:\n",
        "            self.idxer = indexTransformer(self.usercol, self.itemcol)\n",
        "            self.idxer.fit(X)\n",
        "            _X = self.idxer.transform(X)\\\n",
        "                            .select(F.col(self.usercol+'_idx').alias(self.usercol), \n",
        "                                    F.col(self.itemcol+'_idx').alias(self.itemcol), \n",
        "                                    F.col(self.ratingcol))\n",
        "            _X = _X.toPandas().values\n",
        "            if self.base == 'user':\n",
        "                row = _X[:, 0].astype(int)\n",
        "                col = _X[:, 1].astype(int)\n",
        "                data = _X[:, 2].astype(float)\n",
        "            elif self.base == 'item':\n",
        "                row = _X[:, 1].astype(int)\n",
        "                col = _X[:, 0].astype(int)\n",
        "                data = _X[:, 2].astype(float)\n",
        "            else:\n",
        "                raise NotImplementedError\n",
        "            return sparse.csr_matrix((data, (row, col)))\n",
        "        else:\n",
        "            _X = self.idxer.transform(X).select(self.usercol+'_idx', self.itemcol+'_idx').toPandas().values\n",
        "            if self.base == 'user':\n",
        "                row = _X[:, 0].astype(int)\n",
        "                col = _X[:, 1].astype(int)\n",
        "            elif self.base == 'item':\n",
        "                row = _X[:, 1].astype(int)\n",
        "                col = _X[:, 0].astype(int)\n",
        "            else:\n",
        "                raise NotImplementedError\n",
        "            return row, col\n",
        "\n",
        "    def _pearson_corr(self, A):\n",
        "        \"\"\"[generating pearson corretion matrix for the model when training]\n",
        "        Args:\n",
        "            A (sparse.csr_matrix): [the training set in sparse matrix form with entries of ratings]\n",
        "        Returns:\n",
        "            sparse.csr_matrix: [the pearson correlation matrix in sparse form]\n",
        "        \"\"\"        \n",
        "        n = A.shape[1]\n",
        "        \n",
        "        rowsum = A.sum(1)\n",
        "        centering = rowsum.dot(rowsum.T) / n\n",
        "        C = (A.dot(A.T) - centering) / (n - 1)\n",
        "        \n",
        "        d = np.diag(C)\n",
        "        coeffs = C / np.sqrt(np.outer(d, d))\n",
        "        return np.array(np.nan_to_num(coeffs)) - np.eye(A.shape[0])\n",
        "    def _get_predict(self):\n",
        "        \"\"\"[generating prediction matrix]\n",
        "        Returns:\n",
        "            sparse.csr_matrix: [the prediction matrix in sparse form]\n",
        "        \"\"\"        \n",
        "        mu_iarray = np.array(np.nan_to_num(self.X.sum(1) / (self.X != 0).sum(1))).reshape(-1)\n",
        "        mu_imat = np.vstack([mu_iarray for _ in range(self.X.shape[1])]).T\n",
        "        x = self.X.copy()\n",
        "        x[x==0] = np.NaN\n",
        "        diff = np.nan_to_num(x-mu_imat)\n",
        "        sim_norm_mat = abs(self.similarity_matrix).dot((diff!=0).astype(int))\n",
        "        w = self.similarity_matrix.dot(diff) / sim_norm_mat\n",
        "        w = np.nan_to_num(w)\n",
        "        return mu_imat + w\n",
        "class indexTransformer():\n",
        "    \"\"\"[helper class for memory based model]\n",
        "    \"\"\"    \n",
        "    def __init__(self, usercol='userId', itemcol='movieId', ratingcol='rating'):\n",
        "        \"\"\"[the index transformer for matrix purpose]\n",
        "        Args:\n",
        "            usercol (str, optional): [user column name]. Defaults to 'userId'.\n",
        "            itemcol (str, optional): [item column name]. Defaults to 'movieId'.\n",
        "        \"\"\"        \n",
        "        self.usercol = usercol\n",
        "        self.itemcol = itemcol\n",
        "        self.ratingcol = ratingcol\n",
        "        self.u_indxer =  M.feature.StringIndexer(inputCol=usercol, \n",
        "                                                outputCol=usercol+'_idx', \n",
        "                                                handleInvalid = 'skip')\n",
        "        self.i_indxer = M.feature.StringIndexer(inputCol=itemcol, \n",
        "                                                outputCol=itemcol+'_idx', \n",
        "                                                handleInvalid = 'skip')\n",
        "        self.X = None\n",
        "    def fit(self, X):\n",
        "        \"\"\"[to train the transformer]\n",
        "        Args:\n",
        "            X (Pyspark DataFrame): [the DataFrame for training]\n",
        "        \"\"\"        \n",
        "        self.X = X\n",
        "        self.u_indxer = self.u_indxer.fit(self.X)\n",
        "        self.i_indxer = self.i_indxer.fit(self.X)\n",
        "        return\n",
        "    def transform(self, X):\n",
        "        \"\"\"[to transform the DataFrame]\n",
        "        Args:\n",
        "            X (Pyspark DataFrame): [the DataFrame needs to be transformed]\n",
        "        Returns:\n",
        "            Pyspark DataFrame: [the transformed DataFrame with index]\n",
        "        \"\"\"        \n",
        "        X_ = self.u_indxer.transform(X)\n",
        "        X_ = self.i_indxer.transform(X_)\n",
        "        return X_.orderBy([self.usercol+'_idx', self.itemcol+'_idx'])\n",
        "    \n",
        "    def fit_transform(self, X):\n",
        "        \"\"\"[combining fit and transform]\n",
        "        Args:\n",
        "            X (Pyspark DataFrame): [the DataFrame needs to be trained and transformed]\n",
        "        Returns:\n",
        "            Pyspark DataFrame: [the transformed DataFrame with index]\n",
        "        \"\"\"        \n",
        "        self.fit(X)\n",
        "        return self.transform(X)"
      ],
      "execution_count": 273,
      "outputs": []
    },
    {
      "cell_type": "markdown",
      "metadata": {
        "id": "e7gR1eXJyD6D"
      },
      "source": [
        "#### Model Based Collaborative Filtering\n",
        "\n",
        "\n",
        "**implementation details**\n",
        "\n",
        "The data first casted userId and movieId into integers and then fit into `pyspark.ml.recommendation.ALS`.\n",
        "\n",
        "Our implementation takes advantages of model based collaborative filtering algorithm implemented in `spark.ml`, in which users and products are described by a small set of latent factors that can be used to predict missing entries `spark.ml` uses the alternating least squares (ALS) algorithm to learn these latent factors.\n",
        "\n",
        "Since there are many parameters in ALS of `spark.ml`, we will fix `nonnegative = True` in order to increase interpertability, and we will only select `regParam`(scale of regulization term) and `rank`(number of hidden factors) to be tuned. (We also tried to tune `maxIter` parameter, but when `maxIter > 20` will blow up memory in our machine with large `rank`, and it takes much longer with nearly the same results, so we will keep `maxIter` with default `=10`.)"
      ]
    },
    {
      "cell_type": "code",
      "metadata": {
        "id": "_kPnocHEf3Uh"
      },
      "source": [
        "class Als():\n",
        "    \"\"\"[the predictor for Pyspark ALS]\n",
        "    \"\"\"\n",
        "    def __init__(self, userCol, itemCol, ratingCol, regParam, seed, rank):\n",
        "        self.userCol = userCol\n",
        "        self.itemCol = itemCol\n",
        "        self.ratingCol = ratingCol\n",
        "        self.model =None\n",
        "        self.als = ALS(userCol=userCol,\n",
        "                itemCol=itemCol,\n",
        "                ratingCol=ratingCol,\n",
        "                coldStartStrategy=\"drop\",\n",
        "                nonnegative=True,\n",
        "                regParam=regParam,\n",
        "                seed=seed,\n",
        "                rank=rank)\n",
        "    def fit(self, _X):\n",
        "        \"\"\"[function to train parameter of predictor]\n",
        "        Args:\n",
        "            _X (Pyspark DataFrame): [training set]\n",
        "        \"\"\"\n",
        "        X = self._preprocess(_X)\n",
        "        self.model = self.als.fit(X)\n",
        "\n",
        "    def predict(self, _X):\n",
        "        \"\"\"[function to make predict over test set]\n",
        "        Args:\n",
        "            _X (Pyspark DataFrame): [test set]\n",
        "        Returns:\n",
        "            Pyspark DataFrame: [DataFrame with 'prediction' column which has the predicting value]\n",
        "        \"\"\"        \n",
        "        X = self._preprocess(_X)\n",
        "        return self.model.transform(X)\n",
        "\n",
        "    def recommend(self, X, numItems):\n",
        "        return self.model.recommendForUserSubset(X, numItems)\\\n",
        "                .select(self.userCol, F.explode('recommendations').alias('recommendations'))\\\n",
        "                .select(self.userCol, 'recommendations.*')\\\n",
        "                .select(self.userCol, self.itemCol, F.col(self.ratingCol).alias('prediction'))\n",
        "    def _preprocess(self, _X):\n",
        "        \"\"\"[preprocess the input dataset]\n",
        "        Args:\n",
        "            _X (Pyspark DataFrame): [the training or test set]\n",
        "        Returns:\n",
        "            Pyspark DataFrame: [the preprocessed DataFrame]\n",
        "        \"\"\"\n",
        "        cast_int = lambda df: df.select([F.col(c).cast('int') for c in [self.userCol, self.itemCol]] + \\\n",
        "                                [F.col(self.ratingCol).cast('float')])\n",
        "        return cast_int(_X)"
      ],
      "execution_count": 142,
      "outputs": []
    },
    {
      "cell_type": "markdown",
      "metadata": {
        "id": "UUuw3S_jR2WJ"
      },
      "source": [
        "#### Recommend\n",
        "\n",
        "With we can make recomendation based on the prediction of each users by ranking them up."
      ]
    },
    {
      "cell_type": "code",
      "metadata": {
        "id": "kIQUii__Rw3a"
      },
      "source": [
        ""
      ],
      "execution_count": 26,
      "outputs": []
    },
    {
      "cell_type": "markdown",
      "metadata": {
        "id": "a042EivvzocO"
      },
      "source": [
        "### Advanced Recommender\n",
        "\n",
        "TODO"
      ]
    },
    {
      "cell_type": "markdown",
      "metadata": {
        "id": "Arsp_CaDz1Dc"
      },
      "source": [
        "#### Wide and Deep\n",
        "\n",
        "TODO"
      ]
    },
    {
      "cell_type": "code",
      "metadata": {
        "id": "HXE8nv9p0FmW"
      },
      "source": [
        "class wide_deep():\n",
        "    def __init__(self,wide_cols='genres',\n",
        "                    deep_cols=['userId', 'movieId'],\n",
        "                    target_col = 'rating',\n",
        "                    deep_embs=[64, 64],\n",
        "                    deep_hidden=[64,32,16],\n",
        "                    deep_dropout=[0.1, 0.1, .1],\n",
        "                    deep_bachnorm=True):\n",
        "        self.wide = None\n",
        "        self.deep = None\n",
        "        self.deep_hidden = deep_hidden\n",
        "        self.deep_dropout = deep_dropout\n",
        "        self.deep_bachnorm = deep_bachnorm\n",
        "        self.model = None\n",
        "\n",
        "        self.embs = [(col, dim) for col, dim in zip(deep_cols, deep_embs)]\n",
        "        self.wide_preprocessor = self._genre_preprocessor(wide_cols)\n",
        "        self.deep_preprocessor = DensePreprocessor(embed_cols=self.embs)\n",
        "        self.target_col = target_col\n",
        "\n",
        "\n",
        "    def fit(self, train, n_epochs=10, batch_size=128, val_split=.1, verbose = True):\n",
        "        X, y = train.drop(self.target_col, axis = 1), train[self.target_col].values\n",
        "        wide_feature = self.wide_preprocessor.fit_transform(X)\n",
        "        deep_feature = self.deep_preprocessor.fit_transform(X)\n",
        "        self.wide = Wide(wide_dim=np.unique(wide_feature).shape[0], pred_dim=1)\n",
        "        self.deep = DeepDense(hidden_layers=self.deep_hidden, dropout=self.deep_dropout,\n",
        "                      batchnorm=self.deep_bachnorm,\n",
        "                      deep_column_idx=self.deep_preprocessor.deep_column_idx,\n",
        "                      embed_input=self.deep_preprocessor.embeddings_input)\n",
        "        self.model =  WideDeep(wide=self.wide, deepdense=self.deep)\n",
        "        wide_opt = torch.optim.Adam(self.model.wide.parameters(), lr=0.01)\n",
        "        deep_opt = RAdam(self.model.deepdense.parameters())\n",
        "        wide_sch = torch.optim.lr_scheduler.StepLR(wide_opt, step_size=3)\n",
        "        deep_sch = torch.optim.lr_scheduler.StepLR(deep_opt, step_size=5)\n",
        "        callbacks = [\n",
        "                        LRHistory(n_epochs=n_epochs),\n",
        "                        EarlyStopping(patience=5),\n",
        "                        ModelCheckpoint(filepath=\"model_weights/wd_out\"),\n",
        "                    ]\n",
        "        optimizers = {\"wide\": wide_opt, \"deepdense\": deep_opt}\n",
        "        schedulers = {\"wide\": wide_sch, \"deepdense\": deep_sch}\n",
        "        initializers = {\"wide\": KaimingNormal, \"deepdense\": XavierNormal}\n",
        "        self.model.compile(method='regression',\n",
        "                            optimizers=optimizers,\n",
        "                        lr_schedulers=schedulers,\n",
        "                        initializers=initializers,\n",
        "                        callbacks=callbacks,\n",
        "                        verbose=verbose)\n",
        "        self.model.fit(X_wide=wide_feature, \n",
        "                  X_deep=deep_feature, \n",
        "                  target=y, \n",
        "                  n_epochs=n_epochs, \n",
        "                  batch_size=batch_size, \n",
        "                  val_split=val_split,)\n",
        "        \n",
        "    def predict(self, test):\n",
        "        X, y = test.drop(self.target_col, axis = 1), test[self.target_col].values\n",
        "        wide_feature = self.wide_preprocessor.transform(X)\n",
        "        deep_feature = self.deep_preprocessor.transform(X)\n",
        "        return self.model.predict(X_wide=wide_feature, X_deep=deep_feature)\n",
        "\n",
        "    def _genre_preprocessor(self, genre_feat):\n",
        "        dense_layer = lambda X: X.toarray()\n",
        "        genre_transformer = Pipeline(steps=[\n",
        "                ('tokenizer', CountVectorizer()),\n",
        "                ('dense', FunctionTransformer(dense_layer, validate=False))   \n",
        "        ])\n",
        "        preproc = ColumnTransformer(transformers=[('genre', genre_transformer, genre_feat),])\n",
        "        return preproc\n",
        "\n",
        "\n",
        "    def _deep_preprocessor(self,embs):\n",
        "        return DensePreprocessor(embed_cols=embs)"
      ],
      "execution_count": 296,
      "outputs": []
    },
    {
      "cell_type": "code",
      "metadata": {
        "id": "4-mDdJLYOdTU"
      },
      "source": [
        "wd = wide_deep()"
      ],
      "execution_count": 102,
      "outputs": []
    },
    {
      "cell_type": "code",
      "metadata": {
        "id": "YZlgre-JOs15"
      },
      "source": [
        "sample_train_df, sample_test_df = pd.read_csv('data/sample_train.csv'), pd.read_csv('data/sample_test.csv')\n",
        "movies = pd.read_csv('data/movies.csv')\n",
        "sample_train_df, sample_test_df = sample_train_df.merge(movies), sample_test_df.merge(movies)"
      ],
      "execution_count": 103,
      "outputs": []
    },
    {
      "cell_type": "code",
      "metadata": {
        "id": "2ThvOJieO6HN"
      },
      "source": [
        "base_model =  Memory_based_CF(spark, base='item', usercol='userId', itemcol='movieId', ratingcol='rating')\n",
        "base_model.fit(sample_train)"
      ],
      "execution_count": 274,
      "outputs": []
    },
    {
      "cell_type": "code",
      "metadata": {
        "id": "yGuniYBvhsUt"
      },
      "source": [
        ""
      ],
      "execution_count": 280,
      "outputs": []
    },
    {
      "cell_type": "code",
      "metadata": {
        "colab": {
          "base_uri": "https://localhost:8080/",
          "height": 314
        },
        "id": "loFNeEF_fFek",
        "outputId": "c68e4ba4-5f02-4c81-fa1a-e65728fd5792"
      },
      "source": [
        "plot_ROC_numpy(sample_test_df.rating.values, [test_pred], ['wide_n_deep'])"
      ],
      "execution_count": 83,
      "outputs": [
        {
          "output_type": "stream",
          "text": [
            "(1089198,) (1089198,)\n"
          ],
          "name": "stdout"
        },
        {
          "output_type": "display_data",
          "data": {
            "image/png": "[encoded data removed]",
            "text/plain": [
              "<Figure size 432x288 with 1 Axes>"
            ]
          },
          "metadata": {
            "tags": []
          }
        }
      ]
    },
    {
      "cell_type": "markdown",
      "metadata": {
        "id": "QeGO88eX0HUO"
      },
      "source": [
        "#### Graph Neural Nets Embedding\n",
        "\n",
        "TODO if we have time"
      ]
    },
    {
      "cell_type": "code",
      "metadata": {
        "id": "tIEIsioGhc72"
      },
      "source": [
        "#todo"
      ],
      "execution_count": 28,
      "outputs": []
    },
    {
      "cell_type": "markdown",
      "metadata": {
        "id": "XyjT2GQ_S4QU"
      },
      "source": [
        "### Model Pipeline\n",
        "\n",
        "The model pipeline combines the models w.r.t graph above."
      ]
    },
    {
      "cell_type": "code",
      "metadata": {
        "id": "jLFXuoeWS2xq"
      },
      "source": [
        "class final_recommender():\n",
        "    def __init__(self, \n",
        "                 base_model, \n",
        "                 advanced_model, \n",
        "                 cold_start_model,\n",
        "                 movies,\n",
        "                 user_id='userId',\n",
        "                 item_id='itemId',\n",
        "                 extra_features=['genre'],\n",
        "                 spark=spark):\n",
        "        self.base_model = base_model\n",
        "        self.advanced_model = advanced_model\n",
        "        self.cold_start_model = cold_start_model\n",
        "        self.movies = movies\n",
        "        self.spark = spark\n",
        "        self.user_id = user_id\n",
        "        self.item_id = item_id\n",
        "        self.extra_features = extra_features\n",
        "\n",
        "    def base_recommend(self, user_id, k, n=50):\n",
        "        users = self.spark.createDataFrame(pd.DataFrame({self.base_model.userCol: user_id}))\n",
        "        base_recommend = self.base_model.recommend(users, n).toPandas()\n",
        "        base_recommend.merge(self.movies, how='left')\n",
        "        base_recommend = base_recommend[[self.user_id, self.item_id] + self.extra_features]\n",
        "        # cold_start_users = np.isin(user_id, )\n",
        "\n",
        "        return base_recommend\n",
        "\n",
        "    def advanced_recommend(self, base_recommend):\n",
        "        df = base_recommend.toPandas()\n",
        "        prediction = self.advanced_model.predict(df)\n",
        "        df['prediction'] = prediction\n",
        "        df.groupby(self.user_id).\n",
        "\n"
      ],
      "execution_count": 281,
      "outputs": []
    },
    {
      "cell_type": "markdown",
      "metadata": {
        "id": "mD5pOe4e1iSE"
      },
      "source": [
        "## The Experiment"
      ]
    },
    {
      "cell_type": "markdown",
      "metadata": {
        "id": "Mmw2uOjhKajD"
      },
      "source": [
        "### Sample Data"
      ]
    },
    {
      "cell_type": "markdown",
      "metadata": {
        "id": "HRZdIu-_15_J"
      },
      "source": [
        "#### Choice of Base Model"
      ]
    },
    {
      "cell_type": "markdown",
      "metadata": {
        "id": "QHsBSmXVIqBS"
      },
      "source": [
        "\n",
        "\n",
        "Since `user based` CF allocates the memories over 16GB the colab assigned (Session Crashed), we will abandon choice of `user based` CF.\n",
        "\n",
        "Thus, we will choose our base model based on the Recall and Time performance between `item based` CF and `ALS` of Matrix Factorization (Model Based CF) for our sample data. (We will use the tuned parameter for ALS from Homework 2, which is ragParam = .15, rank = 10)\n"
      ]
    },
    {
      "cell_type": "code",
      "metadata": {
        "id": "Uw-Jn7F65aY-"
      },
      "source": [
        "models = {'item_based': Memory_based_CF(spark, base='item', usercol='userId', itemcol='movieId', ratingcol='rating'),\n",
        "  'als': Als(userCol='userId', itemCol='movieId', ratingCol='rating', regParam=.15, seed=0, rank=10)}"
      ],
      "execution_count": 293,
      "outputs": []
    },
    {
      "cell_type": "code",
      "metadata": {
        "id": "x3iK-qFs7eWe",
        "colab": {
          "base_uri": "https://localhost:8080/",
          "height": 111
        },
        "outputId": "2793c97f-838e-4f41-d2a2-76bb4e6e0bb2"
      },
      "source": [
        "# this cell takes over minutes to execute\n",
        "def recommend(prediction, k, userCol = 'userId', itemCol = 'movieId',ratingCol = 'rating', predCol = 'prediction'):\n",
        "    window = W.Window.partitionBy(prediction[userCol]).orderBy(prediction['prediction'].desc())\n",
        "    ranked = prediction.select('*', F.rank().over(window).alias('rank'))\n",
        "    recommended = ranked.where(ranked.rank <= k).select(F.col(userCol).cast('string'), \n",
        "                                                        F.col(itemCol).cast('string'),\n",
        "                                                        F.col(ratingCol).cast('double'),\n",
        "                                                        F.col(predCol).cast('double'))\n",
        "    return recommended\n",
        "recalls = []\n",
        "times = []\n",
        "for model in models.keys():\n",
        "    models[model].fit(sample_train)\n",
        "    start = time.time()\n",
        "    prediction = models[model].predict(sample_test)\n",
        "    recommendation = recommend(prediction, 50)\n",
        "    recalls.append(recall(recommendation))\n",
        "    end = time.time()\n",
        "    times.append(end - start)\n",
        "results = pd.DataFrame({'recall': recalls, 'recommend time': times}, index=['item_based', 'als'])\n",
        "display(results)"
      ],
      "execution_count": 295,
      "outputs": [
        {
          "output_type": "display_data",
          "data": {
            "text/html": [
              "<div>\n",
              "<style scoped>\n",
              "    .dataframe tbody tr th:only-of-type {\n",
              "        vertical-align: middle;\n",
              "    }\n",
              "\n",
              "    .dataframe tbody tr th {\n",
              "        vertical-align: top;\n",
              "    }\n",
              "\n",
              "    .dataframe thead th {\n",
              "        text-align: right;\n",
              "    }\n",
              "</style>\n",
              "<table border=\"1\" class=\"dataframe\">\n",
              "  <thead>\n",
              "    <tr style=\"text-align: right;\">\n",
              "      <th></th>\n",
              "      <th>recall</th>\n",
              "      <th>recommend time</th>\n",
              "    </tr>\n",
              "  </thead>\n",
              "  <tbody>\n",
              "    <tr>\n",
              "      <th>item_based</th>\n",
              "      <td>0.918739</td>\n",
              "      <td>74.580758</td>\n",
              "    </tr>\n",
              "    <tr>\n",
              "      <th>als</th>\n",
              "      <td>0.840243</td>\n",
              "      <td>48.635664</td>\n",
              "    </tr>\n",
              "  </tbody>\n",
              "</table>\n",
              "</div>"
            ],
            "text/plain": [
              "              recall  recommend time\n",
              "item_based  0.918739       74.580758\n",
              "als         0.840243       48.635664"
            ]
          },
          "metadata": {
            "tags": []
          }
        }
      ]
    },
    {
      "cell_type": "code",
      "metadata": {
        "colab": {
          "base_uri": "https://localhost:8080/"
        },
        "id": "u8-JZTSH5Wre",
        "outputId": "517a3441-fcb8-43b5-a991-55e00c0b9e6a"
      },
      "source": [
        "recommendation = models['item_based'].recommend(sample_test, 50)"
      ],
      "execution_count": null,
      "outputs": [
        {
          "output_type": "stream",
          "text": [
            "----------------------------------------\n",
            "Exception happened during processing of request from ('127.0.0.1', 41660)\n",
            "Traceback (most recent call last):\n",
            "  File \"/usr/lib/python3.6/socketserver.py\", line 320, in _handle_request_noblock\n",
            "    self.process_request(request, client_address)\n",
            "  File \"/usr/lib/python3.6/socketserver.py\", line 351, in process_request\n",
            "    self.finish_request(request, client_address)\n",
            "  File \"/usr/lib/python3.6/socketserver.py\", line 364, in finish_request\n",
            "    self.RequestHandlerClass(request, client_address, self)\n",
            "  File \"/usr/lib/python3.6/socketserver.py\", line 724, in __init__\n",
            "    self.handle()\n",
            "  File \"/usr/local/lib/python3.6/dist-packages/pyspark/accumulators.py\", line 268, in handle\n",
            "    poll(accum_updates)\n",
            "  File \"/usr/local/lib/python3.6/dist-packages/pyspark/accumulators.py\", line 241, in poll\n",
            "    if func():\n",
            "  File \"/usr/local/lib/python3.6/dist-packages/pyspark/accumulators.py\", line 245, in accum_updates\n",
            "    num_updates = read_int(self.rfile)\n",
            "  File \"/usr/local/lib/python3.6/dist-packages/pyspark/serializers.py\", line 595, in read_int\n",
            "    raise EOFError\n",
            "EOFError\n",
            "----------------------------------------\n"
          ],
          "name": "stderr"
        }
      ]
    },
    {
      "cell_type": "markdown",
      "metadata": {
        "id": "0JzrLISTJPmn"
      },
      "source": [
        "For our sample dataset, from th table above, we observe that item-based CF outperforms als CF, but the running time of making recommendation by item_based dataset is much worser than by the als model. Considering real time scenario that users need instant recommedations, we will choose `ALS` as our base model"
      ]
    },
    {
      "cell_type": "code",
      "metadata": {
        "id": "5IaXDn7tH2ga"
      },
      "source": [
        ""
      ],
      "execution_count": 104,
      "outputs": []
    },
    {
      "cell_type": "markdown",
      "metadata": {
        "id": "dQl7ewpg2JSt"
      },
      "source": [
        "#### Performance of Each Advanced Model\n",
        "\n",
        "TODO"
      ]
    },
    {
      "cell_type": "markdown",
      "metadata": {
        "id": "9I4g2vM12VOh"
      },
      "source": [
        "#### The Loss User\n",
        "\n",
        "TODO"
      ]
    },
    {
      "cell_type": "markdown",
      "metadata": {
        "id": "x71ERwTi2ajW"
      },
      "source": [
        "### Conclusion\n",
        "\n",
        "TODO"
      ]
    },
    {
      "cell_type": "code",
      "metadata": {
        "id": "NMd-Z6xP2hjZ"
      },
      "source": [
        ""
      ],
      "execution_count": null,
      "outputs": []
    }
  ]
}