{
 "cells": [
  {
   "cell_type": "code",
   "execution_count": 1,
   "metadata": {},
   "outputs": [
    {
     "name": "stdout",
     "output_type": "stream",
     "text": [
      "Spark UI address http://127.0.0.1:4042\n"
     ]
    }
   ],
   "source": [
    "%load_ext autoreload\n",
    "%autoreload 2 \n",
    "import sys\n",
    "sys.path.append('../')\n",
    "\n",
    "import pyspark.sql.functions as F\n",
    "import pyspark.sql.types as T\n",
    "import pyspark.sql.window as W\n",
    "import pandas as pd\n",
    "import numpy as np\n",
    "import time\n",
    "from src.utils import loading, Spark\n",
    "from src.evaluation import Evaluator, Cross_validate_als\n",
    "from src.model_based import Als\n",
    "from src.baseline import Baseline\n",
    "from src.memory_based import Memory_based_CF\n",
    "from src.model_based import Als\n",
    "\n",
    "# create spark session\n",
    "spark = Spark()"
   ]
  },
  {
   "cell_type": "code",
   "execution_count": 2,
   "metadata": {},
   "outputs": [],
   "source": [
    "from scipy import sparse\n",
    "import numpy as np\n",
    "import pandas as pd"
   ]
  },
  {
   "cell_type": "code",
   "execution_count": 3,
   "metadata": {},
   "outputs": [],
   "source": [
    "datas = loading(spark, '../data/raw')"
   ]
  },
  {
   "cell_type": "code",
   "execution_count": 4,
   "metadata": {},
   "outputs": [],
   "source": [
    "train = datas['sample']"
   ]
  },
  {
   "cell_type": "code",
   "execution_count": 5,
   "metadata": {},
   "outputs": [],
   "source": [
    "baseline = Baseline(usercol='userId', itemcol='movieId', ratingcol='rating')\n",
    "userbased = Memory_based_CF(spark, base='user', usercol='userId', itemcol='movieId', ratingcol='rating')\n",
    "itembased = Memory_based_CF(spark, base='item', usercol='userId', itemcol='movieId', ratingcol='rating')\n",
    "modelbased = Als(userCol='userId', itemCol='movieId', ratingCol='rating', regParam=.15, seed=0, rank=10)"
   ]
  },
  {
   "cell_type": "code",
   "execution_count": 6,
   "metadata": {},
   "outputs": [],
   "source": [
    "modelbased.fit(train)"
   ]
  },
  {
   "cell_type": "code",
   "execution_count": 7,
   "metadata": {},
   "outputs": [
    {
     "name": "stdout",
     "output_type": "stream",
     "text": [
      "+------+--------------------+\n",
      "|userId|      recommendation|\n",
      "+------+--------------------+\n",
      "|100568|[590, 539, 105, 3...|\n",
      "|100702|[79132, 58559, 17...|\n",
      "|100837|[8368, 106642, 60...|\n",
      "|101028|[1148, 608, 1233,...|\n",
      "|101030|[750, 912, 111, 6...|\n",
      "|101336|[5478, 5784, 3785...|\n",
      "|101561|[111, 21, 165, 30...|\n",
      "|101562|[750, 912, 3307, ...|\n",
      "|101645|[79132, 58559, 68...|\n",
      "|102120|[912, 3307, 1207,...|\n",
      "|102279|[1270, 1066, 539,...|\n",
      "|102553|[111, 300, 590, 1...|\n",
      "|102706|[21, 377, 300, 16...|\n",
      "|102888|[912, 908, 590, 2...|\n",
      "|102963|[750, 3307, 912, ...|\n",
      "|  1030|[58559, 59315, 33...|\n",
      "| 10341|[912, 908, 6016, ...|\n",
      "|103629|[1270, 1036, 377,...|\n",
      "|103899|[3897, 1729, 3893...|\n",
      "|103983|[1036, 1233, 1204...|\n",
      "+------+--------------------+\n",
      "only showing top 20 rows\n",
      "\n"
     ]
    }
   ],
   "source": [
    "modelbased.recommend(10).show()"
   ]
  },
  {
   "cell_type": "code",
   "execution_count": 8,
   "metadata": {},
   "outputs": [
    {
     "name": "stdout",
     "output_type": "stream",
     "text": [
      "+------+--------------------+\n",
      "|userId|      recommendation|\n",
      "+------+--------------------+\n",
      "|100568|[590, 300, 21, 53...|\n",
      "|100702|[6016, 750, 58559...|\n",
      "|100837|[6016, 58559, 791...|\n",
      "|101028|[1233, 608, 1148,...|\n",
      "|101030|[750, 912, 58559,...|\n",
      "|101336|[1517, 4270, 3785...|\n",
      "|101561|[111, 308, 590, 2...|\n",
      "|101562|[6016, 750, 912, ...|\n",
      "|101645|[58559, 79132, 68...|\n",
      "|102120|[750, 912, 908, 3...|\n",
      "|102279|[608, 910, 1270, ...|\n",
      "|102553|[111, 590, 300, 1...|\n",
      "|102706|[590, 235, 300, 2...|\n",
      "|102888|[912, 908, 590, 2...|\n",
      "|102963|[750, 912, 908, 5...|\n",
      "|  1030|[58559, 79132, 68...|\n",
      "| 10341|[6016, 912, 908, ...|\n",
      "|103629|[912, 1207, 1270,...|\n",
      "|103899|[58559, 3897, 172...|\n",
      "|103983|[1204, 1233, 608,...|\n",
      "+------+--------------------+\n",
      "only showing top 20 rows\n",
      "\n"
     ]
    }
   ],
   "source": [
    "baseline.fit(train)\n",
    "baseline.recommend(10).show()"
   ]
  },
  {
   "cell_type": "code",
   "execution_count": 9,
   "metadata": {},
   "outputs": [
    {
     "name": "stdout",
     "output_type": "stream",
     "text": [
      "+------+--------------------+\n",
      "|userId|      recommendation|\n",
      "+------+--------------------+\n",
      "|100568|[21, 590, 539, 30...|\n",
      "|100702|[79132, 177593, 5...|\n",
      "|100837|[58559, 79132, 60...|\n",
      "|101028|[1233, 608, 1148,...|\n",
      "|101030|[912, 58559, 6006...|\n",
      "|101336|[4270, 1517, 5478...|\n",
      "|101561|[308, 590, 111, 1...|\n",
      "|101562|[3307, 912, 908, ...|\n",
      "|101645|[1270, 58559, 791...|\n",
      "|102120|[750, 608, 912, 3...|\n",
      "|102279|[608, 910, 1270, ...|\n",
      "|102553|[111, 590, 300, 1...|\n",
      "|102706|[590, 235, 165, 3...|\n",
      "|102888|[912, 908, 590, 2...|\n",
      "|102963|[912, 908, 750, 3...|\n",
      "|  1030|[58559, 79132, 68...|\n",
      "| 10341|[6016, 908, 912, ...|\n",
      "|103629|[912, 1270, 1036,...|\n",
      "|103899|[58559, 3897, 172...|\n",
      "|103983|[608, 1036, 1204,...|\n",
      "+------+--------------------+\n",
      "only showing top 20 rows\n",
      "\n"
     ]
    }
   ],
   "source": [
    "itembased.fit(train)\n",
    "itembased.recommend(10).show()"
   ]
  },
  {
   "cell_type": "code",
   "execution_count": null,
   "metadata": {},
   "outputs": [],
   "source": []
  },
  {
   "cell_type": "code",
   "execution_count": null,
   "metadata": {},
   "outputs": [],
   "source": []
  }
 ],
 "metadata": {
  "kernelspec": {
   "display_name": "personalization",
   "language": "python",
   "name": "personalization"
  },
  "language_info": {
   "codemirror_mode": {
    "name": "ipython",
    "version": 3
   },
   "file_extension": ".py",
   "mimetype": "text/x-python",
   "name": "python",
   "nbconvert_exporter": "python",
   "pygments_lexer": "ipython3",
   "version": "3.8.5"
  },
  "latex_envs": {
   "LaTeX_envs_menu_present": true,
   "autoclose": false,
   "autocomplete": true,
   "bibliofile": "biblio.bib",
   "cite_by": "apalike",
   "current_citInitial": 1,
   "eqLabelWithNumbers": true,
   "eqNumInitial": 1,
   "hotkeys": {
    "equation": "Ctrl-E",
    "itemize": "Ctrl-I"
   },
   "labels_anchors": false,
   "latex_user_defs": false,
   "report_style_numbering": false,
   "user_envs_cfg": false
  },
  "toc": {
   "base_numbering": 1,
   "nav_menu": {},
   "number_sections": true,
   "sideBar": true,
   "skip_h1_title": false,
   "title_cell": "Table of Contents",
   "title_sidebar": "Contents",
   "toc_cell": false,
   "toc_position": {},
   "toc_section_display": true,
   "toc_window_display": false
  },
  "varInspector": {
   "cols": {
    "lenName": 16,
    "lenType": 16,
    "lenVar": 40
   },
   "kernels_config": {
    "python": {
     "delete_cmd_postfix": "",
     "delete_cmd_prefix": "del ",
     "library": "var_list.py",
     "varRefreshCmd": "print(var_dic_list())"
    },
    "r": {
     "delete_cmd_postfix": ") ",
     "delete_cmd_prefix": "rm(",
     "library": "var_list.r",
     "varRefreshCmd": "cat(var_dic_list()) "
    }
   },
   "types_to_exclude": [
    "module",
    "function",
    "builtin_function_or_method",
    "instance",
    "_Feature"
   ],
   "window_display": false
  }
 },
 "nbformat": 4,
 "nbformat_minor": 4
}
