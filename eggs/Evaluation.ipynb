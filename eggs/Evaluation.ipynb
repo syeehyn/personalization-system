{
 "cells": [
  {
   "cell_type": "code",
   "execution_count": 1,
   "metadata": {},
   "outputs": [],
   "source": [
    "import pandas as pd\n",
    "import numpy as np\n",
    "from pyspark.sql import SparkSession\n",
    "from pyspark import SparkContext, SparkConf\n",
    "import pyspark.ml as M\n",
    "import pyspark.sql.functions as F\n",
    "import pyspark.sql.types as T\n",
    "import pyspark.sql.window as W"
   ]
  },
  {
   "cell_type": "code",
   "execution_count": 2,
   "metadata": {},
   "outputs": [],
   "source": [
    "import psutil\n",
    "NUM_WORKER = psutil.cpu_count(logical = False)"
   ]
  },
  {
   "cell_type": "code",
   "execution_count": 3,
   "metadata": {},
   "outputs": [
    {
     "data": {
      "text/html": [
       "\n",
       "            <div>\n",
       "                <p><b>SparkSession - in-memory</b></p>\n",
       "                \n",
       "        <div>\n",
       "            <p><b>SparkContext</b></p>\n",
       "\n",
       "            <p><a href=\"http://127.0.0.1:4040\">Spark UI</a></p>\n",
       "\n",
       "            <dl>\n",
       "              <dt>Version</dt>\n",
       "                <dd><code>v3.0.0</code></dd>\n",
       "              <dt>Master</dt>\n",
       "                <dd><code>local[*]</code></dd>\n",
       "              <dt>AppName</dt>\n",
       "                <dd><code>pyspark-shell</code></dd>\n",
       "            </dl>\n",
       "        </div>\n",
       "        \n",
       "            </div>\n",
       "        "
      ],
      "text/plain": [
       "<pyspark.sql.session.SparkSession at 0x11b6eec40>"
      ]
     },
     "execution_count": 3,
     "metadata": {},
     "output_type": "execute_result"
    }
   ],
   "source": [
    "conf_spark = SparkConf().set(\"spark.driver.host\", \"127.0.0.1\")\n",
    "sc = SparkContext(conf = conf_spark)\n",
    "sc.setLogLevel(\"ERROR\")\n",
    "spark = SparkSession(sc)\n",
    "spark.conf.set(\"spark.sql.shuffle.partitions\", NUM_WORKER)\n",
    "spark"
   ]
  },
  {
   "cell_type": "code",
   "execution_count": 4,
   "metadata": {},
   "outputs": [
    {
     "data": {
      "text/plain": [
       "[Row(userId='1', movieId='307', rating='3.5', timestamp='1256677221'),\n",
       " Row(userId='1', movieId='481', rating='3.5', timestamp='1256677456'),\n",
       " Row(userId='1', movieId='1091', rating='1.5', timestamp='1256677471')]"
      ]
     },
     "execution_count": 4,
     "metadata": {},
     "output_type": "execute_result"
    }
   ],
   "source": [
    "ratings = spark.read.csv(\"./ml-latest/ratings.csv\",header=True)\n",
    "ratings.head(3)"
   ]
  },
  {
   "cell_type": "code",
   "execution_count": 5,
   "metadata": {},
   "outputs": [
    {
     "name": "stdout",
     "output_type": "stream",
     "text": [
      "+------+-------+------+----------+------------------+\n",
      "|userId|movieId|rating| timestamp|              pred|\n",
      "+------+-------+------+----------+------------------+\n",
      "|     1|    307|   3.5|1256677221| 4.822186159036702|\n",
      "|     1|    481|   3.5|1256677456|2.7970743309415975|\n",
      "|     1|   1091|   1.5|1256677471|2.3067363534948515|\n",
      "|     1|   1257|   4.5|1256677460|1.6325673188131002|\n",
      "|     1|   1449|   4.5|1256677264|1.5790215341001845|\n",
      "+------+-------+------+----------+------------------+\n",
      "only showing top 5 rows\n",
      "\n"
     ]
    }
   ],
   "source": [
    "# mock some random predictions\n",
    "with_pred = ratings.withColumn(\"pred\",F.rand()*5)\n",
    "with_pred.show(5)"
   ]
  },
  {
   "cell_type": "code",
   "execution_count": null,
   "metadata": {},
   "outputs": [],
   "source": []
  },
  {
   "cell_type": "code",
   "execution_count": 6,
   "metadata": {},
   "outputs": [],
   "source": [
    "def Rmse(with_pred_df, rating_col_name = \"rating\", pred_col_name = \"pred\"):\n",
    "    return with_pred_df.select(F.sqrt(F.sum((F.col(rating_col_name) - F.col(pred_col_name))**2)/F.count(rating_col_name))).collect()[0][0]"
   ]
  },
  {
   "cell_type": "code",
   "execution_count": 7,
   "metadata": {},
   "outputs": [
    {
     "data": {
      "text/plain": [
       "2.0694806918559077"
      ]
     },
     "execution_count": 7,
     "metadata": {},
     "output_type": "execute_result"
    }
   ],
   "source": [
    "Rmse(with_pred)"
   ]
  },
  {
   "cell_type": "code",
   "execution_count": null,
   "metadata": {},
   "outputs": [],
   "source": []
  },
  {
   "cell_type": "code",
   "execution_count": 21,
   "metadata": {},
   "outputs": [],
   "source": [
    "def Acc(with_pred_df, rating_col_name = \"rating\", pred_col_name = \"pred\"):\n",
    "    TP = ((F.col(rating_col_name) >= 3.5) & (F.col(pred_col_name) >= 3.5))\n",
    "    TN = ((F.col(rating_col_name) < 3.5) & (F.col(pred_col_name) < 3.5))\n",
    "    correct = with_pred_df.filter(TP | TN)\n",
    "    return correct.count() / with_pred_df.count()"
   ]
  },
  {
   "cell_type": "code",
   "execution_count": 22,
   "metadata": {},
   "outputs": [
    {
     "data": {
      "text/plain": [
       "0.4514466024468891"
      ]
     },
     "execution_count": 22,
     "metadata": {},
     "output_type": "execute_result"
    }
   ],
   "source": [
    "Acc(with_pred)"
   ]
  },
  {
   "cell_type": "code",
   "execution_count": null,
   "metadata": {},
   "outputs": [],
   "source": []
  },
  {
   "cell_type": "code",
   "execution_count": 34,
   "metadata": {},
   "outputs": [],
   "source": [
    "def Coverage_k(with_pred_df, id_col_name, rating_col_name = \"rating\", pred_col_name = \"pred\", k=2):\n",
    "    TP = ((F.col(rating_col_name) >= 3.5) & (F.col(pred_col_name) >= 3.5))\n",
    "    num_covered = with_pred_df.select(id_col_name, rating_col_name, pred_col_name).filter(TP).groupBy(id_col_name).count()\n",
    "    num_covered_bigger_than_k = num_covered.filter(f\"count >= {k}\")\n",
    "    return num_covered_bigger_than_k.count() / num_covered.count()"
   ]
  },
  {
   "cell_type": "code",
   "execution_count": 41,
   "metadata": {},
   "outputs": [
    {
     "data": {
      "text/plain": [
       "0.7237929946355317"
      ]
     },
     "execution_count": 41,
     "metadata": {},
     "output_type": "execute_result"
    }
   ],
   "source": [
    "Coverage_k(with_pred, id_col_name=\"movieId\")"
   ]
  },
  {
   "cell_type": "code",
   "execution_count": 36,
   "metadata": {},
   "outputs": [
    {
     "data": {
      "text/plain": [
       "0.8885445922212164"
      ]
     },
     "execution_count": 36,
     "metadata": {},
     "output_type": "execute_result"
    }
   ],
   "source": [
    "Coverage_k(with_pred, id_col_name=\"userId\")"
   ]
  },
  {
   "cell_type": "code",
   "execution_count": 47,
   "metadata": {},
   "outputs": [
    {
     "data": {
      "text/plain": [
       "0.49643420637425056"
      ]
     },
     "execution_count": 47,
     "metadata": {},
     "output_type": "execute_result"
    }
   ],
   "source": [
    "Coverage_k(with_pred, id_col_name=\"movieId\", k = 5)"
   ]
  },
  {
   "cell_type": "code",
   "execution_count": null,
   "metadata": {},
   "outputs": [],
   "source": []
  }
 ],
 "metadata": {
  "kernelspec": {
   "display_name": "p_hw2",
   "language": "python",
   "name": "p_hw2"
  },
  "language_info": {
   "codemirror_mode": {
    "name": "ipython",
    "version": 3
   },
   "file_extension": ".py",
   "mimetype": "text/x-python",
   "name": "python",
   "nbconvert_exporter": "python",
   "pygments_lexer": "ipython3",
   "version": "3.8.5"
  }
 },
 "nbformat": 4,
 "nbformat_minor": 2
}
