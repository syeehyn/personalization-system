{
 "cells": [
  {
   "cell_type": "code",
   "execution_count": 11,
   "metadata": {},
   "outputs": [],
   "source": [
    "import pandas as pd\n",
    "import numpy as np\n",
    "from pyspark.sql import SparkSession\n",
    "from pyspark import SparkContext, SparkConf\n",
    "import pyspark.ml as M\n",
    "import pyspark.sql.functions as F\n",
    "import pyspark.sql.types as T\n",
    "import pyspark.sql.window as W"
   ]
  },
  {
   "cell_type": "code",
   "execution_count": 2,
   "metadata": {},
   "outputs": [],
   "source": [
    "import psutil\n",
    "NUM_WORKER = psutil.cpu_count(logical = False)"
   ]
  },
  {
   "cell_type": "code",
   "execution_count": 3,
   "metadata": {},
   "outputs": [
    {
     "data": {
      "text/html": [
       "\n",
       "            <div>\n",
       "                <p><b>SparkSession - in-memory</b></p>\n",
       "                \n",
       "        <div>\n",
       "            <p><b>SparkContext</b></p>\n",
       "\n",
       "            <p><a href=\"http://127.0.0.1:4040\">Spark UI</a></p>\n",
       "\n",
       "            <dl>\n",
       "              <dt>Version</dt>\n",
       "                <dd><code>v3.0.0</code></dd>\n",
       "              <dt>Master</dt>\n",
       "                <dd><code>local[*]</code></dd>\n",
       "              <dt>AppName</dt>\n",
       "                <dd><code>pyspark-shell</code></dd>\n",
       "            </dl>\n",
       "        </div>\n",
       "        \n",
       "            </div>\n",
       "        "
      ],
      "text/plain": [
       "<pyspark.sql.session.SparkSession at 0x115cf2a00>"
      ]
     },
     "execution_count": 3,
     "metadata": {},
     "output_type": "execute_result"
    }
   ],
   "source": [
    "conf_spark = SparkConf().set(\"spark.driver.host\", \"127.0.0.1\")\n",
    "sc = SparkContext(conf = conf_spark)\n",
    "sc.setLogLevel(\"ERROR\")\n",
    "spark = SparkSession(sc)\n",
    "spark.conf.set(\"spark.sql.shuffle.partitions\", NUM_WORKER)\n",
    "spark"
   ]
  },
  {
   "cell_type": "code",
   "execution_count": 6,
   "metadata": {},
   "outputs": [
    {
     "data": {
      "text/plain": [
       "[Row(userId='1', movieId='307', rating='3.5', timestamp='1256677221'),\n",
       " Row(userId='1', movieId='481', rating='3.5', timestamp='1256677456'),\n",
       " Row(userId='1', movieId='1091', rating='1.5', timestamp='1256677471')]"
      ]
     },
     "execution_count": 6,
     "metadata": {},
     "output_type": "execute_result"
    }
   ],
   "source": [
    "ratings = spark.read.csv(\"./ml-latest/ratings.csv\",header=True)\n",
    "ratings.head(3)"
   ]
  },
  {
   "cell_type": "markdown",
   "metadata": {},
   "source": [
    "# function"
   ]
  },
  {
   "cell_type": "code",
   "execution_count": 1,
   "metadata": {},
   "outputs": [],
   "source": [
    "# return the ratings df by spliting the latest n movies each user in the df watched\n",
    "import pyspark.sql.functions as F\n",
    "import pyspark.sql.window as W\n",
    "def train_test_split_by_time(ratings,n=2):\n",
    "    window = W.Window.partitionBy(ratings['userId']).orderBy(ratings['timestamp'].desc())\n",
    "    ranked = ratings.select('*', F.rank().over(window).alias('rank'))\n",
    "    train = ranked.select([\"userId\",\"movieId\",\"rating\",\"timestamp\"]).where(ranked.rank > n)\n",
    "    test = ranked.select([\"userId\",\"movieId\",\"rating\",\"timestamp\"]).where(ranked.rank <= n)\n",
    "    # test may contain more than n records for each user because the timestamp is the same\n",
    "    return train,test"
   ]
  },
  {
   "cell_type": "markdown",
   "metadata": {},
   "source": []
  },
  {
   "cell_type": "markdown",
   "metadata": {},
   "source": []
  },
  {
   "cell_type": "code",
   "execution_count": 17,
   "metadata": {},
   "outputs": [],
   "source": [
    "\n",
    "window = W.Window.partitionBy(ratings['userId']).orderBy(ratings['timestamp'].desc())\n",
    "\n",
    "ranked = ratings.select('*', F.rank().over(window).alias('rank'))\n",
    "\n",
    "train = ranked.select([\"userId\",\"movieId\",\"rating\",\"timestamp\"]).where(ranked.rank > 2)#n=2\n",
    "test = ranked.select([\"userId\",\"movieId\",\"rating\",\"timestamp\"]).where(ranked.rank <= 2)#n=2\n",
    "# test may contain more than n records for each user because the timestamp is the same"
   ]
  },
  {
   "cell_type": "code",
   "execution_count": 21,
   "metadata": {},
   "outputs": [
    {
     "name": "stdout",
     "output_type": "stream",
     "text": [
      "+------+-------+------+----------+----+\n",
      "|userId|movieId|rating| timestamp|rank|\n",
      "+------+-------+------+----------+----+\n",
      "|     1|   2840|   3.0|1256677500|   1|\n",
      "|     1|   2986|   2.5|1256677496|   2|\n",
      "|     1|   3893|   3.5|1256677486|   3|\n",
      "|     1|   1591|   1.5|1256677475|   4|\n",
      "|     1|   1091|   1.5|1256677471|   5|\n",
      "|     1|   2134|   4.5|1256677464|   6|\n",
      "|     1|   1257|   4.5|1256677460|   7|\n",
      "|     1|    481|   3.5|1256677456|   8|\n",
      "|     1|   3424|   4.5|1256677444|   9|\n",
      "|     1|   1449|   4.5|1256677264|  10|\n",
      "|     1|   3020|   4.0|1256677260|  11|\n",
      "|     1|   3698|   3.5|1256677243|  12|\n",
      "|     1|   2478|   4.0|1256677239|  13|\n",
      "|     1|   1590|   2.5|1256677236|  14|\n",
      "|     1|    307|   3.5|1256677221|  15|\n",
      "|     1|   3826|   2.0|1256677210|  16|\n",
      "|100002|   1639|   5.0| 895853114|   1|\n",
      "|100002|    329|   5.0| 869227428|   2|\n",
      "|100002|    151|   5.0| 869227384|   3|\n",
      "|100002|    338|   3.0| 869227384|   3|\n",
      "+------+-------+------+----------+----+\n",
      "only showing top 20 rows\n",
      "\n"
     ]
    }
   ],
   "source": [
    "ranked.show()"
   ]
  },
  {
   "cell_type": "code",
   "execution_count": 18,
   "metadata": {},
   "outputs": [
    {
     "name": "stdout",
     "output_type": "stream",
     "text": [
      "+------+-------+------+----------+\n",
      "|userId|movieId|rating| timestamp|\n",
      "+------+-------+------+----------+\n",
      "|     1|   3893|   3.5|1256677486|\n",
      "|     1|   1591|   1.5|1256677475|\n",
      "|     1|   1091|   1.5|1256677471|\n",
      "|     1|   2134|   4.5|1256677464|\n",
      "|     1|   1257|   4.5|1256677460|\n",
      "+------+-------+------+----------+\n",
      "only showing top 5 rows\n",
      "\n"
     ]
    }
   ],
   "source": [
    "train.show()"
   ]
  },
  {
   "cell_type": "code",
   "execution_count": 19,
   "metadata": {},
   "outputs": [
    {
     "name": "stdout",
     "output_type": "stream",
     "text": [
      "+------+-------+------+----------+\n",
      "|userId|movieId|rating| timestamp|\n",
      "+------+-------+------+----------+\n",
      "|     1|   2840|   3.0|1256677500|\n",
      "|     1|   2986|   2.5|1256677496|\n",
      "|100002|   1639|   5.0| 895853114|\n",
      "|100002|    329|   5.0| 869227428|\n",
      "| 10001|  46578|   4.5|1300426052|\n",
      "+------+-------+------+----------+\n",
      "only showing top 5 rows\n",
      "\n"
     ]
    }
   ],
   "source": [
    "test.show(5)"
   ]
  },
  {
   "cell_type": "code",
   "execution_count": 22,
   "metadata": {},
   "outputs": [
    {
     "name": "stdout",
     "output_type": "stream",
     "text": [
      "+------+-------------+\n",
      "|userId|count(userId)|\n",
      "+------+-------------+\n",
      "|     1|            2|\n",
      "|100002|            2|\n",
      "| 10001|            2|\n",
      "|100010|            3|\n",
      "|100015|            2|\n",
      "|100018|            2|\n",
      "|100023|            2|\n",
      "|100028|            7|\n",
      "|100039|            5|\n",
      "|100042|            2|\n",
      "|100056|            3|\n",
      "|100063|            4|\n",
      "|100065|            2|\n",
      "|100066|            2|\n",
      "|100073|            2|\n",
      "|100077|            2|\n",
      "| 10008|            2|\n",
      "|100085|            2|\n",
      "|100088|            2|\n",
      "|100096|            2|\n",
      "+------+-------------+\n",
      "only showing top 20 rows\n",
      "\n"
     ]
    }
   ],
   "source": [
    "test.groupBy(\"userId\").agg(F.count(\"userId\")).show(20)"
   ]
  },
  {
   "cell_type": "code",
   "execution_count": 23,
   "metadata": {},
   "outputs": [
    {
     "name": "stdout",
     "output_type": "stream",
     "text": [
      "+------+-------------+\n",
      "|userId|count(userId)|\n",
      "+------+-------------+\n",
      "|     1|           14|\n",
      "|100002|          110|\n",
      "| 10001|           16|\n",
      "|100010|            3|\n",
      "|100015|           11|\n",
      "|100018|           14|\n",
      "|100023|           70|\n",
      "|100028|           26|\n",
      "|100042|            3|\n",
      "|100056|           60|\n",
      "|100063|           17|\n",
      "|100065|          254|\n",
      "|100066|           73|\n",
      "|100073|           13|\n",
      "| 10008|           19|\n",
      "|100085|            3|\n",
      "|100088|           15|\n",
      "|100096|            8|\n",
      "|100100|           19|\n",
      "|100103|           24|\n",
      "+------+-------------+\n",
      "only showing top 20 rows\n",
      "\n"
     ]
    }
   ],
   "source": [
    "train.groupBy(\"userId\").agg(F.count(\"userId\")).show(20)"
   ]
  },
  {
   "cell_type": "code",
   "execution_count": null,
   "metadata": {},
   "outputs": [],
   "source": []
  }
 ],
 "metadata": {
  "kernelspec": {
   "display_name": "personalization",
   "language": "python",
   "name": "personalization"
  },
  "language_info": {
   "codemirror_mode": {
    "name": "ipython",
    "version": 3
   },
   "file_extension": ".py",
   "mimetype": "text/x-python",
   "name": "python",
   "nbconvert_exporter": "python",
   "pygments_lexer": "ipython3",
   "version": "3.8.5"
  },
  "latex_envs": {
   "LaTeX_envs_menu_present": true,
   "autoclose": false,
   "autocomplete": true,
   "bibliofile": "biblio.bib",
   "cite_by": "apalike",
   "current_citInitial": 1,
   "eqLabelWithNumbers": true,
   "eqNumInitial": 1,
   "hotkeys": {
    "equation": "Ctrl-E",
    "itemize": "Ctrl-I"
   },
   "labels_anchors": false,
   "latex_user_defs": false,
   "report_style_numbering": false,
   "user_envs_cfg": false
  },
  "toc": {
   "base_numbering": 1,
   "nav_menu": {},
   "number_sections": true,
   "sideBar": true,
   "skip_h1_title": false,
   "title_cell": "Table of Contents",
   "title_sidebar": "Contents",
   "toc_cell": false,
   "toc_position": {},
   "toc_section_display": true,
   "toc_window_display": false
  },
  "varInspector": {
   "cols": {
    "lenName": 16,
    "lenType": 16,
    "lenVar": 40
   },
   "kernels_config": {
    "python": {
     "delete_cmd_postfix": "",
     "delete_cmd_prefix": "del ",
     "library": "var_list.py",
     "varRefreshCmd": "print(var_dic_list())"
    },
    "r": {
     "delete_cmd_postfix": ") ",
     "delete_cmd_prefix": "rm(",
     "library": "var_list.r",
     "varRefreshCmd": "cat(var_dic_list()) "
    }
   },
   "types_to_exclude": [
    "module",
    "function",
    "builtin_function_or_method",
    "instance",
    "_Feature"
   ],
   "window_display": false
  }
 },
 "nbformat": 4,
 "nbformat_minor": 2
}
