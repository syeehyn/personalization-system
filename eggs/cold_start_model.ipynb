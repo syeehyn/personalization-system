{
 "cells": [
  {
   "cell_type": "code",
   "execution_count": 1,
   "metadata": {},
   "outputs": [
    {
     "name": "stdout",
     "output_type": "stream",
     "text": [
      "Spark UI address http://127.0.0.1:4040\n"
     ]
    }
   ],
   "source": [
    "import pandas as pd\n",
    "from pyspark.sql import SparkSession\n",
    "from pyspark import SparkContext, SparkConf\n",
    "import psutil\n",
    "NUM_WORKER = psutil.cpu_count(logical = False)\n",
    "\n",
    "def Spark():\n",
    "    \"\"\"[summary]\n",
    "    Returns:\n",
    "        [type]: [description]\n",
    "    \"\"\"    \n",
    "    conf_spark = SparkConf().set(\"spark.driver.host\", \"127.0.0.1\")\n",
    "    sc = SparkContext(conf = conf_spark)\n",
    "    spark = SparkSession(sc)\n",
    "    spark.conf.set(\"spark.sql.shuffle.partitions\", NUM_WORKER)\n",
    "    print('Spark UI address {}'.format(spark.sparkContext.uiWebUrl))\n",
    "    return spark\n",
    "\n",
    "sess = Spark()"
   ]
  },
  {
   "cell_type": "code",
   "execution_count": 2,
   "metadata": {},
   "outputs": [],
   "source": [
    "import pyspark.sql.functions as F\n",
    "import pyspark.sql.types as T"
   ]
  },
  {
   "cell_type": "code",
   "execution_count": 3,
   "metadata": {},
   "outputs": [],
   "source": [
    "sample = sess.read.csv(\"sample.csv\",header=True)"
   ]
  },
  {
   "cell_type": "code",
   "execution_count": 4,
   "metadata": {},
   "outputs": [],
   "source": [
    "movie = sess.read.csv(\"./ml-latest/movies.csv\",header=True)"
   ]
  },
  {
   "cell_type": "code",
   "execution_count": 25,
   "metadata": {},
   "outputs": [],
   "source": [
    "movie_copy = movie.withColumn(\"year\",F.regexp_extract(movie.title,r\"(\\d{4})\",0).cast(T.IntegerType()))\n",
    "movie_copy = movie_copy.withColumn(\"genre\",F.explode(F.split(movie.genres,pattern=\"\\|\")))\n",
    "movie_copy = movie_copy.select(\"movieId\",\"title\",\"genre\",\"year\")\n",
    "genres = movie_copy.select(\"genre\").distinct().toPandas()['genre'].tolist()"
   ]
  },
  {
   "cell_type": "code",
   "execution_count": 6,
   "metadata": {},
   "outputs": [],
   "source": [
    "sample_copy = sample.select(\"userId\",\"movieId\")"
   ]
  },
  {
   "cell_type": "code",
   "execution_count": 44,
   "metadata": {},
   "outputs": [],
   "source": [
    "total = sample_copy.join(movie_copy,[\"movieId\"],'left')\n"
   ]
  },
  {
   "cell_type": "code",
   "execution_count": 70,
   "metadata": {},
   "outputs": [],
   "source": [
    "idx = []\n",
    "for g in genres:\n",
    "    movie_genre = total.where(\"genre == '\"+g+\"'\")\n",
    "    ids = movie_genre.groupby(\"movieId\").count().sort(\"count\",ascending=False)\n",
    "    idx += list(ids.select(\"movieId\").toPandas()['movieId'][:2])"
   ]
  },
  {
   "cell_type": "code",
   "execution_count": 93,
   "metadata": {
    "scrolled": true
   },
   "outputs": [
    {
     "name": "stdout",
     "output_type": "stream",
     "text": [
      "+-------+--------------------+--------------------+\n",
      "|movieId|               title|              genres|\n",
      "+-------+--------------------+--------------------+\n",
      "|   4306|        Shrek (2001)|Adventure|Animati...|\n",
      "|      1|    Toy Story (1995)|Adventure|Animati...|\n",
      "|    356| Forrest Gump (1994)|Comedy|Drama|Roma...|\n",
      "|    480|Jurassic Park (1993)|Action|Adventure|...|\n",
      "|   1197|Princess Bride, T...|Action|Adventure|...|\n",
      "+-------+--------------------+--------------------+\n",
      "\n"
     ]
    }
   ],
   "source": [
    "popular = total.groupby(\"movieId\").count().sort(\"count\",ascending=False)\n",
    "popular.select(\"movieId\").limit(20).join(movie,[\"movieId\"],'left').sample(False,.5).limit(5).show()"
   ]
  },
  {
   "cell_type": "markdown",
   "metadata": {},
   "source": [
    "# cold start recommend()"
   ]
  },
  {
   "cell_type": "code",
   "execution_count": 94,
   "metadata": {},
   "outputs": [],
   "source": [
    "def cold_start_recommend():\n",
    "    movie_copy = movie.withColumn(\"year\",F.regexp_extract(movie.title,r\"(\\d{4})\",0).cast(T.IntegerType()))\n",
    "    movie_copy = movie_copy.withColumn(\"genre\",F.explode(F.split(movie.genres,pattern=\"\\|\")))\n",
    "    movie_copy = movie_copy.select(\"movieId\",\"title\",\"genre\",\"year\")\n",
    "    genres = movie_copy.select(\"genre\").distinct().toPandas()['genre'].tolist()\n",
    "    \n",
    "    sample_copy = sample.select(\"userId\",\"movieId\")\n",
    "    \n",
    "    total = sample_copy.join(movie_copy,[\"movieId\"],'left')\n",
    "    popular = total.groupby(\"movieId\").count().sort(\"count\",ascending=False)\n",
    "    return popular.select(\"movieId\").limit(20).join(movie,[\"movieId\"],'left').sample(False,.5).limit(5)"
   ]
  },
  {
   "cell_type": "code",
   "execution_count": 107,
   "metadata": {},
   "outputs": [
    {
     "name": "stdout",
     "output_type": "stream",
     "text": [
      "+-------+--------------------+--------------------+\n",
      "|movieId|               title|              genres|\n",
      "+-------+--------------------+--------------------+\n",
      "|    356| Forrest Gump (1994)|Comedy|Drama|Roma...|\n",
      "|    480|Jurassic Park (1993)|Action|Adventure|...|\n",
      "|   1197|Princess Bride, T...|Action|Adventure|...|\n",
      "|    780|Independence Day ...|Action|Adventure|...|\n",
      "|  79132|    Inception (2010)|Action|Crime|Dram...|\n",
      "+-------+--------------------+--------------------+\n",
      "\n",
      "2.322582960128784\n"
     ]
    }
   ],
   "source": [
    "import time\n",
    "start = time.time()\n",
    "\n",
    "cold_start_recommend().show()\n",
    "\n",
    "end = time.time()\n",
    "print(end-start)"
   ]
  },
  {
   "cell_type": "code",
   "execution_count": null,
   "metadata": {},
   "outputs": [],
   "source": []
  }
 ],
 "metadata": {
  "kernelspec": {
   "display_name": "Python 3",
   "language": "python",
   "name": "python3"
  },
  "language_info": {
   "codemirror_mode": {
    "name": "ipython",
    "version": 3
   },
   "file_extension": ".py",
   "mimetype": "text/x-python",
   "name": "python",
   "nbconvert_exporter": "python",
   "pygments_lexer": "ipython3",
   "version": "3.7.6"
  }
 },
 "nbformat": 4,
 "nbformat_minor": 2
}
