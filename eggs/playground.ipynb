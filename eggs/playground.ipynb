{
 "cells": [
  {
   "cell_type": "code",
   "execution_count": 1,
   "metadata": {},
   "outputs": [],
   "source": [
    "import pandas as pd\n",
    "import numpy as np\n",
    "import pytorch_widedeep as wd\n",
    "from pytorch_widedeep.preprocessing import WidePreprocessor\n",
    "from pytorch_widedeep.models import Wide, DeepDense, WideDeep"
   ]
  },
  {
   "cell_type": "code",
   "execution_count": 2,
   "metadata": {},
   "outputs": [],
   "source": [
    "train_path = '../data/interim/train_0.75_0.25.csv'\n",
    "test_path = '../data/interim/test_0.75_0.25.csv'\n",
    "genre_path = '../data/raw/movies.csv'\n",
    "tag_path = '../data/raw/tags.csv'"
   ]
  },
  {
   "cell_type": "code",
   "execution_count": 3,
   "metadata": {},
   "outputs": [],
   "source": [
    "train, test, genre, tags = pd.read_csv(train_path), pd.read_csv(test_path), pd.read_csv(genre_path), pd.read_csv(tag_path)\n",
    "train = train.merge(genre).merge(tags.drop('timestamp', axis=1))\n",
    "test = test.merge(genre).merge(tags.drop('timestamp', axis=1))"
   ]
  },
  {
   "cell_type": "code",
   "execution_count": 4,
   "metadata": {},
   "outputs": [],
   "source": [
    "from pytorch_widedeep.preprocessing import WidePreprocessor, TextPreprocessor, DensePreprocessor"
   ]
  },
  {
   "cell_type": "code",
   "execution_count": 29,
   "metadata": {},
   "outputs": [],
   "source": [
    "wide_cols = ['genres', 'tag']\n",
    "crossed_cols = [('genres', 'tag')]\n",
    "embs = [('userId', 16), ('movieId', 16)]\n",
    "target_cols = 'rating'\n",
    "train_target = train[target_cols].values"
   ]
  },
  {
   "cell_type": "code",
   "execution_count": 30,
   "metadata": {},
   "outputs": [],
   "source": [
    "preprocess_wide = WidePreprocessor(wide_cols=wide_cols, crossed_cols=crossed_cols)\n",
    "train_wide = preprocess_wide.fit_transform(train)\n",
    "test_wide = preprocess_wide.transform(train)"
   ]
  },
  {
   "cell_type": "code",
   "execution_count": 31,
   "metadata": {},
   "outputs": [
    {
     "data": {
      "text/plain": [
       "array([[   1,  214, 3166],\n",
       "       [   1,  215, 3167],\n",
       "       [   1,  216, 3168],\n",
       "       ...,\n",
       "       [ 213, 3163, 8083],\n",
       "       [  58, 3164, 8084],\n",
       "       [  58, 3165, 8085]])"
      ]
     },
     "execution_count": 31,
     "metadata": {},
     "output_type": "execute_result"
    }
   ],
   "source": [
    "train_wide"
   ]
  },
  {
   "cell_type": "code",
   "execution_count": 54,
   "metadata": {},
   "outputs": [],
   "source": [
    "# DEEP\n",
    "preprocess_deep = DensePreprocessor(embed_cols=embs)\n",
    "train_id = preprocess_deep.fit_transform(train)\n",
    "test_id = preprocess_deep.transform(test)"
   ]
  },
  {
   "cell_type": "code",
   "execution_count": 41,
   "metadata": {},
   "outputs": [],
   "source": [
    "from sklearn.feature_extraction.text import CountVectorizer\n",
    "from sklearn.feature_extraction.text import TfidfVectorizer\n",
    "from sklearn.decomposition import TruncatedSVD"
   ]
  },
  {
   "cell_type": "code",
   "execution_count": 50,
   "metadata": {},
   "outputs": [],
   "source": [
    "cv = CountVectorizer()\n",
    "tfidfv = TfidfVectorizer()\n",
    "svd = TruncatedSVD(n_components=5)"
   ]
  },
  {
   "cell_type": "code",
   "execution_count": 52,
   "metadata": {},
   "outputs": [],
   "source": [
    "train_genre = svd.fit_transform(cv.fit_transform(train['genres']))\n",
    "test_genre = svd.fit_transform(cv.transform(test['genres']))"
   ]
  },
  {
   "cell_type": "code",
   "execution_count": 53,
   "metadata": {},
   "outputs": [],
   "source": [
    "train_tag = svd.fit_transform(tfidfv.fit_transform(train['tag']))\n",
    "test_tag = svd.fit_transform(tfidfv.transform(test['tag']))"
   ]
  },
  {
   "cell_type": "code",
   "execution_count": 56,
   "metadata": {},
   "outputs": [],
   "source": [
    "train_deep = np.hstack((train_id, train_genre, train_tag))\n",
    "test_deep = np.hstack((test_id, test_genre, test_tag))"
   ]
  },
  {
   "cell_type": "code",
   "execution_count": null,
   "metadata": {},
   "outputs": [],
   "source": []
  },
  {
   "cell_type": "code",
   "execution_count": 57,
   "metadata": {},
   "outputs": [],
   "source": [
    "wide = Wide(wide_dim=np.unique(train_wide).shape[0], pred_dim=1)\n",
    "\n",
    "deepdense = DeepDense(hidden_layers=[64,32], \n",
    "                      deep_column_idx=preprocess_deep.deep_column_idx,\n",
    "                      embed_input=preprocess_deep.embeddings_input)\n",
    "\n",
    "model = WideDeep(wide=wide, deepdense=deepdense)"
   ]
  },
  {
   "cell_type": "code",
   "execution_count": 78,
   "metadata": {},
   "outputs": [],
   "source": [
    "model.compile(method='regression')"
   ]
  },
  {
   "cell_type": "code",
   "execution_count": 80,
   "metadata": {},
   "outputs": [
    {
     "name": "stderr",
     "output_type": "stream",
     "text": [
      "\r",
      "  0%|          | 0/28 [00:00<?, ?it/s]"
     ]
    },
    {
     "name": "stdout",
     "output_type": "stream",
     "text": [
      "Warming up wide for 5 epochs\n"
     ]
    },
    {
     "name": "stderr",
     "output_type": "stream",
     "text": [
      "epoch 1: 100%|██████████| 28/28 [00:16<00:00,  1.75it/s, loss=18.8]\n",
      "epoch 2: 100%|██████████| 28/28 [00:17<00:00,  1.64it/s, loss=14.3]\n",
      "epoch 3: 100%|██████████| 28/28 [00:19<00:00,  1.43it/s, loss=11.3]\n",
      "epoch 4: 100%|██████████| 28/28 [00:18<00:00,  1.49it/s, loss=9.56]\n",
      "epoch 5: 100%|██████████| 28/28 [00:17<00:00,  1.64it/s, loss=8.6]\n",
      "  0%|          | 0/28 [00:00<?, ?it/s]"
     ]
    },
    {
     "name": "stdout",
     "output_type": "stream",
     "text": [
      "Warming up deepdense for 5 epochs\n"
     ]
    },
    {
     "name": "stderr",
     "output_type": "stream",
     "text": [
      "epoch 1: 100%|██████████| 28/28 [00:17<00:00,  1.60it/s, loss=6.11]\n",
      "epoch 2: 100%|██████████| 28/28 [00:17<00:00,  1.57it/s, loss=0.991]\n",
      "epoch 3: 100%|██████████| 28/28 [00:17<00:00,  1.56it/s, loss=0.624]\n",
      "epoch 4: 100%|██████████| 28/28 [00:18<00:00,  1.54it/s, loss=0.513]\n",
      "epoch 5: 100%|██████████| 28/28 [00:17<00:00,  1.56it/s, loss=0.461]\n",
      "  0%|          | 0/28 [00:00<?, ?it/s]"
     ]
    },
    {
     "name": "stdout",
     "output_type": "stream",
     "text": [
      "Training\n"
     ]
    },
    {
     "name": "stderr",
     "output_type": "stream",
     "text": [
      "epoch 1: 100%|██████████| 28/28 [00:18<00:00,  1.48it/s, loss=1.84]\n",
      "valid: 100%|██████████| 7/7 [00:02<00:00,  2.56it/s, loss=1.74]\n",
      "epoch 2: 100%|██████████| 28/28 [00:17<00:00,  1.57it/s, loss=1.35]\n",
      "valid: 100%|██████████| 7/7 [00:02<00:00,  2.77it/s, loss=1.58]\n",
      "epoch 3: 100%|██████████| 28/28 [00:18<00:00,  1.49it/s, loss=1.24]\n",
      "valid: 100%|██████████| 7/7 [00:02<00:00,  2.94it/s, loss=1.52]\n",
      "epoch 4: 100%|██████████| 28/28 [00:19<00:00,  1.42it/s, loss=1.17]\n",
      "valid: 100%|██████████| 7/7 [00:02<00:00,  2.68it/s, loss=1.46]\n",
      "epoch 5: 100%|██████████| 28/28 [00:16<00:00,  1.71it/s, loss=1.11]\n",
      "valid: 100%|██████████| 7/7 [00:02<00:00,  2.89it/s, loss=1.41]\n"
     ]
    }
   ],
   "source": [
    "model.fit(X_wide=train_wide, X_deep=train_deep, target=target, n_epochs=5, batch_size=256, val_split=0.2, \n",
    "          warm_up=True, warm_epochs=5, warm_max_lr=0.01)"
   ]
  },
  {
   "cell_type": "code",
   "execution_count": null,
   "metadata": {},
   "outputs": [],
   "source": []
  },
  {
   "cell_type": "code",
   "execution_count": null,
   "metadata": {},
   "outputs": [],
   "source": []
  },
  {
   "cell_type": "code",
   "execution_count": null,
   "metadata": {},
   "outputs": [],
   "source": []
  },
  {
   "cell_type": "code",
   "execution_count": null,
   "metadata": {},
   "outputs": [],
   "source": []
  },
  {
   "cell_type": "code",
   "execution_count": null,
   "metadata": {},
   "outputs": [],
   "source": []
  },
  {
   "cell_type": "code",
   "execution_count": null,
   "metadata": {},
   "outputs": [],
   "source": []
  },
  {
   "cell_type": "code",
   "execution_count": null,
   "metadata": {},
   "outputs": [],
   "source": []
  }
 ],
 "metadata": {
  "kernelspec": {
   "display_name": "personalization",
   "language": "python",
   "name": "personalization"
  },
  "language_info": {
   "codemirror_mode": {
    "name": "ipython",
    "version": 3
   },
   "file_extension": ".py",
   "mimetype": "text/x-python",
   "name": "python",
   "nbconvert_exporter": "python",
   "pygments_lexer": "ipython3",
   "version": "3.8.5"
  },
  "latex_envs": {
   "LaTeX_envs_menu_present": true,
   "autoclose": false,
   "autocomplete": true,
   "bibliofile": "biblio.bib",
   "cite_by": "apalike",
   "current_citInitial": 1,
   "eqLabelWithNumbers": true,
   "eqNumInitial": 1,
   "hotkeys": {
    "equation": "Ctrl-E",
    "itemize": "Ctrl-I"
   },
   "labels_anchors": false,
   "latex_user_defs": false,
   "report_style_numbering": false,
   "user_envs_cfg": false
  },
  "toc": {
   "base_numbering": 1,
   "nav_menu": {},
   "number_sections": true,
   "sideBar": true,
   "skip_h1_title": false,
   "title_cell": "Table of Contents",
   "title_sidebar": "Contents",
   "toc_cell": false,
   "toc_position": {},
   "toc_section_display": true,
   "toc_window_display": false
  },
  "varInspector": {
   "cols": {
    "lenName": 16,
    "lenType": 16,
    "lenVar": 40
   },
   "kernels_config": {
    "python": {
     "delete_cmd_postfix": "",
     "delete_cmd_prefix": "del ",
     "library": "var_list.py",
     "varRefreshCmd": "print(var_dic_list())"
    },
    "r": {
     "delete_cmd_postfix": ") ",
     "delete_cmd_prefix": "rm(",
     "library": "var_list.r",
     "varRefreshCmd": "cat(var_dic_list()) "
    }
   },
   "types_to_exclude": [
    "module",
    "function",
    "builtin_function_or_method",
    "instance",
    "_Feature"
   ],
   "window_display": false
  }
 },
 "nbformat": 4,
 "nbformat_minor": 4
}
