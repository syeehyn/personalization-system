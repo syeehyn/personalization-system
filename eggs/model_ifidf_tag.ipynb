{
  "nbformat": 4,
  "nbformat_minor": 0,
  "metadata": {
    "kernelspec": {
      "name": "python3",
      "display_name": "Python 3"
    },
    "latex_envs": {
      "LaTeX_envs_menu_present": true,
      "autoclose": false,
      "autocomplete": true,
      "bibliofile": "biblio.bib",
      "cite_by": "apalike",
      "current_citInitial": 1,
      "eqLabelWithNumbers": true,
      "eqNumInitial": 1,
      "hotkeys": {
        "equation": "Ctrl-E",
        "itemize": "Ctrl-I"
      },
      "labels_anchors": false,
      "latex_user_defs": false,
      "report_style_numbering": false,
      "user_envs_cfg": false
    },
    "toc": {
      "base_numbering": 1,
      "nav_menu": {},
      "number_sections": true,
      "sideBar": true,
      "skip_h1_title": false,
      "title_cell": "Table of Contents",
      "title_sidebar": "Contents",
      "toc_cell": false,
      "toc_position": {},
      "toc_section_display": true,
      "toc_window_display": false
    },
    "varInspector": {
      "cols": {
        "lenName": 16,
        "lenType": 16,
        "lenVar": 40
      },
      "kernels_config": {
        "python": {
          "delete_cmd_postfix": "",
          "delete_cmd_prefix": "del ",
          "library": "var_list.py",
          "varRefreshCmd": "print(var_dic_list())"
        },
        "r": {
          "delete_cmd_postfix": ") ",
          "delete_cmd_prefix": "rm(",
          "library": "var_list.r",
          "varRefreshCmd": "cat(var_dic_list()) "
        }
      },
      "types_to_exclude": [
        "module",
        "function",
        "builtin_function_or_method",
        "instance",
        "_Feature"
      ],
      "window_display": false
    },
    "colab": {
      "name": "model_ifidf_tag",
      "provenance": [],
      "collapsed_sections": [],
      "include_colab_link": true
    },
    "accelerator": "GPU"
  },
  "cells": [
    {
      "cell_type": "markdown",
      "metadata": {
        "id": "view-in-github",
        "colab_type": "text"
      },
      "source": [
        "<a href=\"https://colab.research.google.com/github/ds-personalization/final-project-qrdecomposition_final/blob/dev/eggs/model_ifidf_tag.ipynb\" target=\"_parent\"><img src=\"https://colab.research.google.com/assets/colab-badge.svg\" alt=\"Open In Colab\"/></a>"
      ]
    },
    {
      "cell_type": "code",
      "metadata": {
        "colab": {
          "base_uri": "https://localhost:8080/"
        },
        "id": "AXwEPoIO_L37",
        "outputId": "4e64ad9a-8186-4f4f-86a3-4a4ec754d15f"
      },
      "source": [
        "from google.colab import drive\n",
        "drive.mount('/content/drive')\n",
        "import os\n",
        "\n",
        "os.chdir('/content/drive/MyDrive/personalization/data')"
      ],
      "execution_count": 3,
      "outputs": [
        {
          "output_type": "stream",
          "text": [
            "Drive already mounted at /content/drive; to attempt to forcibly remount, call drive.mount(\"/content/drive\", force_remount=True).\n"
          ],
          "name": "stdout"
        }
      ]
    },
    {
      "cell_type": "code",
      "metadata": {
        "colab": {
          "base_uri": "https://localhost:8080/"
        },
        "id": "JeGF8GY__4dC",
        "outputId": "a15e976e-d48b-499f-d360-06d42f34b17e"
      },
      "source": [
        "!pip install pytorch_widedeep"
      ],
      "execution_count": 4,
      "outputs": [
        {
          "output_type": "stream",
          "text": [
            "Collecting pytorch_widedeep\n",
            "\u001b[?25l  Downloading https://files.pythonhosted.org/packages/79/0a/c17329d5e74307b062aa46a5629a00ea2fe3536f03017da1a4ff6eebfae7/pytorch_widedeep-0.4.7-py3-none-any.whl (83kB)\n",
            "\r\u001b[K     |████                            | 10kB 21.7MB/s eta 0:00:01\r\u001b[K     |███████▉                        | 20kB 13.3MB/s eta 0:00:01\r\u001b[K     |███████████▉                    | 30kB 9.7MB/s eta 0:00:01\r\u001b[K     |███████████████▊                | 40kB 8.2MB/s eta 0:00:01\r\u001b[K     |███████████████████▊            | 51kB 5.3MB/s eta 0:00:01\r\u001b[K     |███████████████████████▋        | 61kB 5.7MB/s eta 0:00:01\r\u001b[K     |███████████████████████████▋    | 71kB 6.3MB/s eta 0:00:01\r\u001b[K     |███████████████████████████████▌| 81kB 6.5MB/s eta 0:00:01\r\u001b[K     |████████████████████████████████| 92kB 5.1MB/s \n",
            "\u001b[?25hRequirement already satisfied: torchvision in /usr/local/lib/python3.6/dist-packages (from pytorch_widedeep) (0.8.1+cu101)\n",
            "Requirement already satisfied: torch in /usr/local/lib/python3.6/dist-packages (from pytorch_widedeep) (1.7.0+cu101)\n",
            "Requirement already satisfied: opencv-contrib-python in /usr/local/lib/python3.6/dist-packages (from pytorch_widedeep) (4.1.2.30)\n",
            "Requirement already satisfied: spacy in /usr/local/lib/python3.6/dist-packages (from pytorch_widedeep) (2.2.4)\n",
            "Requirement already satisfied: imutils in /usr/local/lib/python3.6/dist-packages (from pytorch_widedeep) (0.5.3)\n",
            "Requirement already satisfied: scipy in /usr/local/lib/python3.6/dist-packages (from pytorch_widedeep) (1.4.1)\n",
            "Requirement already satisfied: numpy in /usr/local/lib/python3.6/dist-packages (from pytorch_widedeep) (1.18.5)\n",
            "Requirement already satisfied: scikit-learn in /usr/local/lib/python3.6/dist-packages (from pytorch_widedeep) (0.22.2.post1)\n",
            "Requirement already satisfied: pandas in /usr/local/lib/python3.6/dist-packages (from pytorch_widedeep) (1.1.5)\n",
            "Requirement already satisfied: tqdm in /usr/local/lib/python3.6/dist-packages (from pytorch_widedeep) (4.41.1)\n",
            "Requirement already satisfied: gensim in /usr/local/lib/python3.6/dist-packages (from pytorch_widedeep) (3.6.0)\n",
            "Requirement already satisfied: pillow>=4.1.1 in /usr/local/lib/python3.6/dist-packages (from torchvision->pytorch_widedeep) (7.0.0)\n",
            "Requirement already satisfied: future in /usr/local/lib/python3.6/dist-packages (from torch->pytorch_widedeep) (0.16.0)\n",
            "Requirement already satisfied: dataclasses in /usr/local/lib/python3.6/dist-packages (from torch->pytorch_widedeep) (0.8)\n",
            "Requirement already satisfied: typing-extensions in /usr/local/lib/python3.6/dist-packages (from torch->pytorch_widedeep) (3.7.4.3)\n",
            "Requirement already satisfied: blis<0.5.0,>=0.4.0 in /usr/local/lib/python3.6/dist-packages (from spacy->pytorch_widedeep) (0.4.1)\n",
            "Requirement already satisfied: catalogue<1.1.0,>=0.0.7 in /usr/local/lib/python3.6/dist-packages (from spacy->pytorch_widedeep) (1.0.0)\n",
            "Requirement already satisfied: wasabi<1.1.0,>=0.4.0 in /usr/local/lib/python3.6/dist-packages (from spacy->pytorch_widedeep) (0.8.0)\n",
            "Requirement already satisfied: murmurhash<1.1.0,>=0.28.0 in /usr/local/lib/python3.6/dist-packages (from spacy->pytorch_widedeep) (1.0.5)\n",
            "Requirement already satisfied: preshed<3.1.0,>=3.0.2 in /usr/local/lib/python3.6/dist-packages (from spacy->pytorch_widedeep) (3.0.5)\n",
            "Requirement already satisfied: requests<3.0.0,>=2.13.0 in /usr/local/lib/python3.6/dist-packages (from spacy->pytorch_widedeep) (2.23.0)\n",
            "Requirement already satisfied: setuptools in /usr/local/lib/python3.6/dist-packages (from spacy->pytorch_widedeep) (50.3.2)\n",
            "Requirement already satisfied: cymem<2.1.0,>=2.0.2 in /usr/local/lib/python3.6/dist-packages (from spacy->pytorch_widedeep) (2.0.5)\n",
            "Requirement already satisfied: plac<1.2.0,>=0.9.6 in /usr/local/lib/python3.6/dist-packages (from spacy->pytorch_widedeep) (1.1.3)\n",
            "Requirement already satisfied: srsly<1.1.0,>=1.0.2 in /usr/local/lib/python3.6/dist-packages (from spacy->pytorch_widedeep) (1.0.5)\n",
            "Requirement already satisfied: thinc==7.4.0 in /usr/local/lib/python3.6/dist-packages (from spacy->pytorch_widedeep) (7.4.0)\n",
            "Requirement already satisfied: joblib>=0.11 in /usr/local/lib/python3.6/dist-packages (from scikit-learn->pytorch_widedeep) (0.17.0)\n",
            "Requirement already satisfied: python-dateutil>=2.7.3 in /usr/local/lib/python3.6/dist-packages (from pandas->pytorch_widedeep) (2.8.1)\n",
            "Requirement already satisfied: pytz>=2017.2 in /usr/local/lib/python3.6/dist-packages (from pandas->pytorch_widedeep) (2018.9)\n",
            "Requirement already satisfied: smart-open>=1.2.1 in /usr/local/lib/python3.6/dist-packages (from gensim->pytorch_widedeep) (4.0.1)\n",
            "Requirement already satisfied: six>=1.5.0 in /usr/local/lib/python3.6/dist-packages (from gensim->pytorch_widedeep) (1.15.0)\n",
            "Requirement already satisfied: importlib-metadata>=0.20; python_version < \"3.8\" in /usr/local/lib/python3.6/dist-packages (from catalogue<1.1.0,>=0.0.7->spacy->pytorch_widedeep) (3.1.1)\n",
            "Requirement already satisfied: chardet<4,>=3.0.2 in /usr/local/lib/python3.6/dist-packages (from requests<3.0.0,>=2.13.0->spacy->pytorch_widedeep) (3.0.4)\n",
            "Requirement already satisfied: urllib3!=1.25.0,!=1.25.1,<1.26,>=1.21.1 in /usr/local/lib/python3.6/dist-packages (from requests<3.0.0,>=2.13.0->spacy->pytorch_widedeep) (1.24.3)\n",
            "Requirement already satisfied: certifi>=2017.4.17 in /usr/local/lib/python3.6/dist-packages (from requests<3.0.0,>=2.13.0->spacy->pytorch_widedeep) (2020.12.5)\n",
            "Requirement already satisfied: idna<3,>=2.5 in /usr/local/lib/python3.6/dist-packages (from requests<3.0.0,>=2.13.0->spacy->pytorch_widedeep) (2.10)\n",
            "Requirement already satisfied: zipp>=0.5 in /usr/local/lib/python3.6/dist-packages (from importlib-metadata>=0.20; python_version < \"3.8\"->catalogue<1.1.0,>=0.0.7->spacy->pytorch_widedeep) (3.4.0)\n",
            "Installing collected packages: pytorch-widedeep\n",
            "Successfully installed pytorch-widedeep-0.4.7\n"
          ],
          "name": "stdout"
        }
      ]
    },
    {
      "cell_type": "code",
      "metadata": {
        "id": "079wdmeD_F1K"
      },
      "source": [
        "import pandas as pd\n",
        "import numpy as np\n",
        "import pytorch_widedeep as wd\n",
        "from pytorch_widedeep.preprocessing import WidePreprocessor\n",
        "from pytorch_widedeep.models import Wide, DeepDense, WideDeep"
      ],
      "execution_count": 5,
      "outputs": []
    },
    {
      "cell_type": "code",
      "metadata": {
        "id": "IQS1Tt8X_F1Y"
      },
      "source": [
        "train_path = '../data/interim/train_0.75_0.25.csv'\n",
        "test_path = '../data/interim/test_0.75_0.25.csv'\n",
        "genre_path = '../data/raw/movies.csv'\n",
        "tag_path = '../data/raw/tags.csv'"
      ],
      "execution_count": 6,
      "outputs": []
    },
    {
      "cell_type": "code",
      "metadata": {
        "id": "9LYWPVYJ_F1Y"
      },
      "source": [
        "train, test, genre, tags = pd.read_csv(train_path), pd.read_csv(test_path), pd.read_csv(genre_path), pd.read_csv(tag_path)\n",
        "train = train.merge(genre).merge(tags.drop('timestamp', axis=1))\n",
        "test = test.merge(genre).merge(tags.drop('timestamp', axis=1))"
      ],
      "execution_count": 7,
      "outputs": []
    },
    {
      "cell_type": "code",
      "metadata": {
        "id": "xD_Y83qd_F1Y"
      },
      "source": [
        "from pytorch_widedeep.preprocessing import WidePreprocessor, TextPreprocessor, DensePreprocessor"
      ],
      "execution_count": 8,
      "outputs": []
    },
    {
      "cell_type": "code",
      "metadata": {
        "id": "Z2436lGJ_F1Z"
      },
      "source": [
        "wide_cols = ['genres', 'tag']\n",
        "crossed_cols = [('genres', 'tag')]\n",
        "embs = [('userId', 32), ('movieId', 32)]\n",
        "target_cols = 'rating'\n",
        "train_target = train[target_cols].values"
      ],
      "execution_count": 153,
      "outputs": []
    },
    {
      "cell_type": "code",
      "metadata": {
        "id": "k7K5dOTF_F1Z"
      },
      "source": [
        "preprocess_wide = WidePreprocessor(wide_cols=wide_cols, crossed_cols=crossed_cols)\n",
        "train_wide = preprocess_wide.fit_transform(train)\n",
        "test_wide = preprocess_wide.transform(test)"
      ],
      "execution_count": 154,
      "outputs": []
    },
    {
      "cell_type": "code",
      "metadata": {
        "id": "WsJ1xZ28_F1a"
      },
      "source": [
        "# DEEP\n",
        "preprocess_deep = DensePreprocessor(embed_cols=embs)\n",
        "train_id = preprocess_deep.fit_transform(train)\n",
        "test_id = preprocess_deep.transform(test)"
      ],
      "execution_count": 155,
      "outputs": []
    },
    {
      "cell_type": "code",
      "metadata": {
        "id": "AH2lXtjl_F1b"
      },
      "source": [
        "from sklearn.feature_extraction.text import CountVectorizer\n",
        "from sklearn.feature_extraction.text import TfidfVectorizer\n",
        "from sklearn.decomposition import TruncatedSVD"
      ],
      "execution_count": 156,
      "outputs": []
    },
    {
      "cell_type": "code",
      "metadata": {
        "id": "tgO-OGhf_F1b"
      },
      "source": [
        "cv = CountVectorizer()\n",
        "tfidfv = TfidfVectorizer()"
      ],
      "execution_count": 157,
      "outputs": []
    },
    {
      "cell_type": "code",
      "metadata": {
        "id": "cYW-SZl1_F1b"
      },
      "source": [
        "svd = TruncatedSVD(n_components=5)\n",
        "train_genre = svd.fit_transform(cv.fit_transform(train['genres']))\n",
        "test_genre = svd.fit_transform(cv.transform(test['genres']))"
      ],
      "execution_count": 158,
      "outputs": []
    },
    {
      "cell_type": "code",
      "metadata": {
        "id": "-Z7BN2BO_F1b"
      },
      "source": [
        "svd = TruncatedSVD(n_components=5)\n",
        "train_tag = svd.fit_transform(tfidfv.fit_transform(train['tag']))\n",
        "test_tag = svd.fit_transform(tfidfv.transform(test['tag']))"
      ],
      "execution_count": 159,
      "outputs": []
    },
    {
      "cell_type": "code",
      "metadata": {
        "id": "7wBEUuud_F1b"
      },
      "source": [
        "train_deep = np.hstack((train_id, train_genre, train_tag))\n",
        "test_deep = np.hstack((test_id, test_genre, test_tag))"
      ],
      "execution_count": 160,
      "outputs": []
    },
    {
      "cell_type": "code",
      "metadata": {
        "id": "jquUCTHq_F1c"
      },
      "source": [
        "wide = Wide(wide_dim=np.unique(train_wide).shape[0], pred_dim=1)\n",
        "\n",
        "deepdense = DeepDense(hidden_layers=[128,64, 32], \n",
        "                      deep_column_idx=preprocess_deep.deep_column_idx,\n",
        "                      embed_input=preprocess_deep.embeddings_input)\n",
        "\n",
        "model = WideDeep(wide=wide, deepdense=deepdense)"
      ],
      "execution_count": 174,
      "outputs": []
    },
    {
      "cell_type": "code",
      "metadata": {
        "id": "vXlMWt1l_F1c"
      },
      "source": [
        "model.compile(method='regression')"
      ],
      "execution_count": 175,
      "outputs": []
    },
    {
      "cell_type": "code",
      "metadata": {
        "id": "X7lAoZVL_F1c",
        "colab": {
          "base_uri": "https://localhost:8080/"
        },
        "outputId": "b20a8360-ea39-4314-8e28-801182949606"
      },
      "source": [
        "model.fit(X_wide=train_wide, X_deep=train_deep, target=train_target, n_epochs=30, batch_size=256, val_split=0.1)"
      ],
      "execution_count": 176,
      "outputs": [
        {
          "output_type": "stream",
          "text": [
            "\r  0%|          | 0/32 [00:00<?, ?it/s]"
          ],
          "name": "stderr"
        },
        {
          "output_type": "stream",
          "text": [
            "Training\n"
          ],
          "name": "stdout"
        },
        {
          "output_type": "stream",
          "text": [
            "epoch 1: 100%|██████████| 32/32 [00:00<00:00, 72.12it/s, loss=13.6]\n",
            "valid: 100%|██████████| 4/4 [00:00<00:00, 37.09it/s, loss=3.23]\n",
            "epoch 2: 100%|██████████| 32/32 [00:00<00:00, 60.96it/s, loss=2.4]\n",
            "valid: 100%|██████████| 4/4 [00:00<00:00, 36.11it/s, loss=1.64]\n",
            "epoch 3: 100%|██████████| 32/32 [00:00<00:00, 60.26it/s, loss=1.62]\n",
            "valid: 100%|██████████| 4/4 [00:00<00:00, 33.03it/s, loss=1.49]\n",
            "epoch 4: 100%|██████████| 32/32 [00:00<00:00, 70.41it/s, loss=1.42]\n",
            "valid: 100%|██████████| 4/4 [00:00<00:00, 37.84it/s, loss=1.38]\n",
            "epoch 5: 100%|██████████| 32/32 [00:00<00:00, 63.61it/s, loss=1.28]\n",
            "valid: 100%|██████████| 4/4 [00:00<00:00, 37.38it/s, loss=1.3]\n",
            "epoch 6: 100%|██████████| 32/32 [00:00<00:00, 71.00it/s, loss=1.17]\n",
            "valid: 100%|██████████| 4/4 [00:00<00:00, 38.20it/s, loss=1.24]\n",
            "epoch 7: 100%|██████████| 32/32 [00:00<00:00, 58.77it/s, loss=1.08]\n",
            "valid: 100%|██████████| 4/4 [00:00<00:00, 33.49it/s, loss=1.18]\n",
            "epoch 8: 100%|██████████| 32/32 [00:00<00:00, 61.82it/s, loss=1]\n",
            "valid: 100%|██████████| 4/4 [00:00<00:00, 40.69it/s, loss=1.14]\n",
            "epoch 9: 100%|██████████| 32/32 [00:00<00:00, 67.08it/s, loss=0.936]\n",
            "valid: 100%|██████████| 4/4 [00:00<00:00, 39.76it/s, loss=1.1]\n",
            "epoch 10: 100%|██████████| 32/32 [00:00<00:00, 68.73it/s, loss=0.877]\n",
            "valid: 100%|██████████| 4/4 [00:00<00:00, 33.70it/s, loss=1.06]\n",
            "epoch 11: 100%|██████████| 32/32 [00:00<00:00, 60.76it/s, loss=0.825]\n",
            "valid: 100%|██████████| 4/4 [00:00<00:00, 38.32it/s, loss=1.03]\n",
            "epoch 12: 100%|██████████| 32/32 [00:00<00:00, 69.84it/s, loss=0.778]\n",
            "valid: 100%|██████████| 4/4 [00:00<00:00, 40.79it/s, loss=1]\n",
            "epoch 13: 100%|██████████| 32/32 [00:00<00:00, 67.92it/s, loss=0.735]\n",
            "valid: 100%|██████████| 4/4 [00:00<00:00, 34.92it/s, loss=0.974]\n",
            "epoch 14: 100%|██████████| 32/32 [00:00<00:00, 60.57it/s, loss=0.696]\n",
            "valid: 100%|██████████| 4/4 [00:00<00:00, 36.56it/s, loss=0.95]\n",
            "epoch 15: 100%|██████████| 32/32 [00:00<00:00, 66.34it/s, loss=0.661]\n",
            "valid: 100%|██████████| 4/4 [00:00<00:00, 40.32it/s, loss=0.927]\n",
            "epoch 16: 100%|██████████| 32/32 [00:00<00:00, 69.72it/s, loss=0.628]\n",
            "valid: 100%|██████████| 4/4 [00:00<00:00, 36.98it/s, loss=0.908]\n",
            "epoch 17: 100%|██████████| 32/32 [00:00<00:00, 61.68it/s, loss=0.598]\n",
            "valid: 100%|██████████| 4/4 [00:00<00:00, 36.07it/s, loss=0.889]\n",
            "epoch 18: 100%|██████████| 32/32 [00:00<00:00, 63.00it/s, loss=0.57]\n",
            "valid: 100%|██████████| 4/4 [00:00<00:00, 37.72it/s, loss=0.872]\n",
            "epoch 19: 100%|██████████| 32/32 [00:00<00:00, 69.82it/s, loss=0.544]\n",
            "valid: 100%|██████████| 4/4 [00:00<00:00, 37.88it/s, loss=0.855]\n",
            "epoch 20: 100%|██████████| 32/32 [00:00<00:00, 67.48it/s, loss=0.519]\n",
            "valid: 100%|██████████| 4/4 [00:00<00:00, 37.52it/s, loss=0.839]\n",
            "epoch 21: 100%|██████████| 32/32 [00:00<00:00, 66.35it/s, loss=0.496]\n",
            "valid: 100%|██████████| 4/4 [00:00<00:00, 38.38it/s, loss=0.825]\n",
            "epoch 22: 100%|██████████| 32/32 [00:00<00:00, 66.92it/s, loss=0.475]\n",
            "valid: 100%|██████████| 4/4 [00:00<00:00, 37.28it/s, loss=0.812]\n",
            "epoch 23: 100%|██████████| 32/32 [00:00<00:00, 66.95it/s, loss=0.455]\n",
            "valid: 100%|██████████| 4/4 [00:00<00:00, 41.08it/s, loss=0.8]\n",
            "epoch 24: 100%|██████████| 32/32 [00:00<00:00, 59.59it/s, loss=0.435]\n",
            "valid: 100%|██████████| 4/4 [00:00<00:00, 38.49it/s, loss=0.787]\n",
            "epoch 25: 100%|██████████| 32/32 [00:00<00:00, 65.75it/s, loss=0.417]\n",
            "valid: 100%|██████████| 4/4 [00:00<00:00, 33.41it/s, loss=0.776]\n",
            "epoch 26: 100%|██████████| 32/32 [00:00<00:00, 58.60it/s, loss=0.4]\n",
            "valid: 100%|██████████| 4/4 [00:00<00:00, 35.26it/s, loss=0.764]\n",
            "epoch 27: 100%|██████████| 32/32 [00:00<00:00, 66.22it/s, loss=0.383]\n",
            "valid: 100%|██████████| 4/4 [00:00<00:00, 38.88it/s, loss=0.752]\n",
            "epoch 28: 100%|██████████| 32/32 [00:00<00:00, 64.45it/s, loss=0.368]\n",
            "valid: 100%|██████████| 4/4 [00:00<00:00, 34.22it/s, loss=0.742]\n",
            "epoch 29: 100%|██████████| 32/32 [00:00<00:00, 70.67it/s, loss=0.353]\n",
            "valid: 100%|██████████| 4/4 [00:00<00:00, 35.75it/s, loss=0.731]\n",
            "epoch 30: 100%|██████████| 32/32 [00:00<00:00, 63.34it/s, loss=0.339]\n",
            "valid: 100%|██████████| 4/4 [00:00<00:00, 33.66it/s, loss=0.722]\n"
          ],
          "name": "stderr"
        }
      ]
    },
    {
      "cell_type": "code",
      "metadata": {
        "id": "CocLIV7H_F1c",
        "colab": {
          "base_uri": "https://localhost:8080/"
        },
        "outputId": "245509d0-a058-4e02-ac76-b4e748e335d9"
      },
      "source": [
        "pred = model.predict(X_wide=test_wide, X_deep=test_deep)"
      ],
      "execution_count": 177,
      "outputs": [
        {
          "output_type": "stream",
          "text": [
            "predict: 100%|██████████| 17/17 [00:00<00:00, 100.68it/s]\n"
          ],
          "name": "stderr"
        }
      ]
    },
    {
      "cell_type": "code",
      "metadata": {
        "id": "urx3P0dO_F1d"
      },
      "source": [
        "from sklearn.metrics import mean_squared_error"
      ],
      "execution_count": 178,
      "outputs": []
    },
    {
      "cell_type": "code",
      "metadata": {
        "id": "DWzQIqW8_F1d",
        "colab": {
          "base_uri": "https://localhost:8080/"
        },
        "outputId": "5af26867-e6c5-44aa-e8a6-ebb0a86de15d"
      },
      "source": [
        "np.sqrt(mean_squared_error(pred, test.rating))"
      ],
      "execution_count": 179,
      "outputs": [
        {
          "output_type": "execute_result",
          "data": {
            "text/plain": [
              "1.5148405141363184"
            ]
          },
          "metadata": {
            "tags": []
          },
          "execution_count": 179
        }
      ]
    },
    {
      "cell_type": "code",
      "metadata": {
        "id": "_xGq5KUR_F1d"
      },
      "source": [
        ""
      ],
      "execution_count": null,
      "outputs": []
    },
    {
      "cell_type": "code",
      "metadata": {
        "id": "mDsZNd4f_F1d"
      },
      "source": [
        ""
      ],
      "execution_count": null,
      "outputs": []
    },
    {
      "cell_type": "code",
      "metadata": {
        "id": "0YaagPEA_F1d"
      },
      "source": [
        ""
      ],
      "execution_count": null,
      "outputs": []
    },
    {
      "cell_type": "code",
      "metadata": {
        "id": "urAqgL-l_F1d"
      },
      "source": [
        ""
      ],
      "execution_count": null,
      "outputs": []
    }
  ]
}